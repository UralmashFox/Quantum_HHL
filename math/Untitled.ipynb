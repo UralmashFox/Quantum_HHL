{
 "cells": [
  {
   "cell_type": "code",
   "execution_count": 2,
   "id": "ea803959-77b0-4cef-ab9e-515f7fdc96bf",
   "metadata": {},
   "outputs": [],
   "source": [
    "import numpy as np"
   ]
  },
  {
   "cell_type": "code",
   "execution_count": 4,
   "id": "7f82cc8d-6013-4979-987c-e04b2faab178",
   "metadata": {},
   "outputs": [],
   "source": [
    "# !pip install simpy"
   ]
  },
  {
   "cell_type": "code",
   "execution_count": 20,
   "id": "5c6471cc-49f0-4cdc-babe-3655fbf1c474",
   "metadata": {},
   "outputs": [
    {
     "data": {
      "text/latex": [
       "$\\displaystyle \\frac{u \\Gamma\\left(\\frac{1}{4}\\right) {{}_{2}F_{1}\\left(\\begin{matrix} \\frac{1}{4}, \\frac{1}{2} \\\\ \\frac{5}{4} \\end{matrix}\\middle| {u^{4} e^{2 i \\pi}} \\right)}}{4 \\Gamma\\left(\\frac{5}{4}\\right)}$"
      ],
      "text/plain": [
       "               _                         \n",
       "              |_  /1/4, 1/2 |  4  2*I*pi\\\n",
       "u*Gamma(1/4)* |   |         | u *e      |\n",
       "             2  1 \\  5/4    |           /\n",
       "-----------------------------------------\n",
       "               4*Gamma(5/4)              "
      ]
     },
     "execution_count": 20,
     "metadata": {},
     "output_type": "execute_result"
    }
   ],
   "source": [
    "from sympy import *\n",
    "init_printing(use_unicode=False, wrap_line=False)\n",
    "u = Symbol('u')\n",
    "integrate(1/(sqrt(1-u**4)), u)"
   ]
  },
  {
   "cell_type": "code",
   "execution_count": null,
   "id": "08694582-4b35-4bb5-94e7-6ce771e154e9",
   "metadata": {},
   "outputs": [],
   "source": []
  }
 ],
 "metadata": {
  "kernelspec": {
   "display_name": "quantum",
   "language": "python",
   "name": "quantum"
  },
  "language_info": {
   "codemirror_mode": {
    "name": "ipython",
    "version": 3
   },
   "file_extension": ".py",
   "mimetype": "text/x-python",
   "name": "python",
   "nbconvert_exporter": "python",
   "pygments_lexer": "ipython3",
   "version": "3.10.9"
  }
 },
 "nbformat": 4,
 "nbformat_minor": 5
}
