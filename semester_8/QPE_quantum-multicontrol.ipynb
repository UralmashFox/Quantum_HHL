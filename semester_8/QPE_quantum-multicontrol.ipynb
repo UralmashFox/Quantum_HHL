{
 "cells": [
  {
   "cell_type": "code",
   "execution_count": 1,
   "id": "d6584dbf-d452-4f42-b130-f28ad508166a",
   "metadata": {
    "ExecuteTime": {
     "end_time": "2025-02-08T13:37:57.919900400Z",
     "start_time": "2025-02-08T13:37:56.543793100Z"
    }
   },
   "outputs": [],
   "source": [
    "#initialization\n",
    "import matplotlib.pyplot as plt\n",
    "import math\n",
    "import numpy as np\n",
    "import scipy.linalg as la\n",
    "# importing Qiskit\n",
    "from qiskit import transpile, assemble, BasicAer, execute\n",
    "\n",
    "# from qiskit_aer import Aer\n",
    "# from qiskit_aer import AerSimulator\n",
    "from qiskit import QuantumCircuit#, execute\n",
    "\n",
    "# import basic plot tools\n",
    "from qiskit.visualization import plot_histogram\n",
    "\n",
    "# importing Qiskit\n",
    "from qiskit.quantum_info import DensityMatrix\n",
    "from qiskit.extensions import UnitaryGate"
   ]
  },
  {
   "cell_type": "code",
   "execution_count": 21,
   "id": "020f6754-9d84-4cec-9015-e2167fbb6fcd",
   "metadata": {
    "ExecuteTime": {
     "end_time": "2025-02-08T13:46:13.152839600Z",
     "start_time": "2025-02-08T13:46:13.140773400Z"
    }
   },
   "outputs": [
    {
     "name": "stdout",
     "output_type": "stream",
     "text": [
      "[0.0, 1.5707963267948966, 3.141592653589793, 4.71238898038469]\n"
     ]
    }
   ],
   "source": [
    "# hermitian_eigs = [0,\n",
    "#                   0.25,\n",
    "#                   0.75,\n",
    "#                   0.5]\n",
    "# A = np.diag(hermitian_eigs).astype('complex')\n",
    "# eigs_h, vecs_h = np.linalg.eig(A)\n",
    "# RESULTS = []\n",
    "\n",
    "qubit_num = 2 #число кубитов для вычисления собственного значения\n",
    "# real_unitary_eigs = np.repeat(\n",
    "#     a=[la.expm(1j*2*np.pi*(1)/(2**qubit_num)) for _ in range(2**qubit_num)],\n",
    "#     repeats=1)\n",
    "real_unitary_eigs = [\n",
    "    1*2*np.pi*(0)/(2**qubit_num),\n",
    "    1*2*np.pi*(1)/(2**qubit_num),\n",
    "    1*2*np.pi*(2)/(2**qubit_num),\n",
    "    1*2*np.pi*(3)/(2**qubit_num)\n",
    "]\n",
    "print(real_unitary_eigs)\n",
    "# print(real_unitary_eigs)\n",
    "A = np.diag(real_unitary_eigs).astype('complex')\n",
    "# print(eigs_h)"
   ]
  },
  {
   "cell_type": "code",
   "execution_count": 22,
   "id": "7bdb80a0-7dbb-465e-96b9-064d9a67c4fb",
   "metadata": {
    "ExecuteTime": {
     "end_time": "2025-02-08T13:46:21.210779900Z",
     "start_time": "2025-02-08T13:46:21.207779900Z"
    }
   },
   "outputs": [],
   "source": [
    "\n",
    "ERROR = 0.0\n",
    "def add_noise_to_gate(U):\n",
    "    noise = np.random.uniform(-ERROR,ERROR,U.shape)\n",
    "    noise = noise + noise.conj().T\n",
    "    U_noise = la.expm(1j*(noise.T))\n",
    "    U = np.dot(U_noise, U)\n",
    "    return U"
   ]
  },
  {
   "cell_type": "code",
   "execution_count": 87,
   "id": "bf25a576-6f66-4689-bcb8-13f4880ab943",
   "metadata": {
    "ExecuteTime": {
     "end_time": "2025-02-12T18:33:19.680014700Z",
     "start_time": "2025-02-12T18:33:19.668133400Z"
    }
   },
   "outputs": [],
   "source": [
    "U = la.expm(1j*A)\n",
    "# U = np.load('matrix.npy')\n",
    "# check on unitarnyness\n",
    "UnitaryGate(U)\n",
    "eigs_u, vecs_u = np.linalg.eig(U)"
   ]
  },
  {
   "cell_type": "code",
   "execution_count": 70,
   "id": "3ab8cdd5-8358-4252-8a50-eb3721b4aa11",
   "metadata": {
    "ExecuteTime": {
     "end_time": "2025-02-08T13:57:43.168402Z",
     "start_time": "2025-02-08T13:57:43.151191200Z"
    }
   },
   "outputs": [
    {
     "data": {
      "text/plain": "<qiskit.circuit.instructionset.InstructionSet at 0x1eff55d3790>"
     },
     "execution_count": 70,
     "metadata": {},
     "output_type": "execute_result"
    }
   ],
   "source": [
    "# n_of_qubs = 3\n",
    "# qpe = QuantumCircuit(n_of_qubs+2, n_of_qubs)\n",
    "# qpe.initialize(vecs_u[1], [-2, -1])\n",
    "# vecs_u[1]\n",
    "n_of_qubs = qubit_num #3\n",
    "qubs_for_vec = np.arange(-np.log2(U.shape[0]), 0).astype(int)\n",
    "qpe = QuantumCircuit(n_of_qubs+len(qubs_for_vec), n_of_qubs)\n",
    "# print(vecs_u[0])\n",
    "qpe.initialize(vecs_u[3], [*qubs_for_vec])\n",
    "# qpe.draw()"
   ]
  },
  {
   "cell_type": "code",
   "execution_count": 71,
   "outputs": [],
   "source": [
    "qpe_clear = QuantumCircuit(n_of_qubs+len(qubs_for_vec))\n",
    "for qubit in range(n_of_qubs):\n",
    "    qpe_clear.h(qubit)\n",
    "\n",
    "# print(qpe_clear)"
   ],
   "metadata": {
    "collapsed": false,
    "ExecuteTime": {
     "end_time": "2025-02-08T13:57:43.529802600Z",
     "start_time": "2025-02-08T13:57:43.512340500Z"
    }
   },
   "id": "44f93fd9f8858b0c"
  },
  {
   "cell_type": "code",
   "execution_count": 72,
   "id": "542650bd-5fca-4608-8654-042d97f0a899",
   "metadata": {
    "ExecuteTime": {
     "end_time": "2025-02-08T13:57:43.715189100Z",
     "start_time": "2025-02-08T13:57:43.691302800Z"
    }
   },
   "outputs": [
    {
     "data": {
      "text/plain": "(16, 16)"
     },
     "execution_count": 72,
     "metadata": {},
     "output_type": "execute_result"
    }
   ],
   "source": [
    "backend = BasicAer.get_backend('unitary_simulator')\n",
    "job = backend.run(qpe_clear, shots=2048)\n",
    "# job = execute(qpe_clear, backend)\n",
    "result = job.result()\n",
    "op = result.get_unitary(qpe_clear).data\n",
    "# op = add_noise_to_gate(op)\n",
    "U_h = UnitaryGate(op)\n",
    "np.shape(U_h)"
   ]
  },
  {
   "cell_type": "code",
   "execution_count": 73,
   "outputs": [
    {
     "data": {
      "text/plain": "<qiskit.circuit.instructionset.InstructionSet at 0x1eff5617d60>"
     },
     "execution_count": 73,
     "metadata": {},
     "output_type": "execute_result"
    }
   ],
   "source": [
    "qpe.append(U_h, range(n_of_qubs+len(qubs_for_vec)))    \n",
    "# qpe.draw()"
   ],
   "metadata": {
    "collapsed": false,
    "ExecuteTime": {
     "end_time": "2025-02-08T13:57:44.099345300Z",
     "start_time": "2025-02-08T13:57:44.071229800Z"
    }
   },
   "id": "81972f10d522c1b2"
  },
  {
   "cell_type": "code",
   "execution_count": 74,
   "id": "7da4ab9e-0f53-468b-bba3-5371c3308db6",
   "metadata": {
    "tags": [],
    "ExecuteTime": {
     "end_time": "2025-02-08T13:57:44.433688500Z",
     "start_time": "2025-02-08T13:57:44.404531900Z"
    }
   },
   "outputs": [],
   "source": [
    "from qiskit.circuit.library import UnitaryGate\n",
    "repetitions = 1\n",
    "for i in range(n_of_qubs):\n",
    "    for rep in range(repetitions):\n",
    "        qpe.append(UnitaryGate(U).control(1), [i, *qubs_for_vec])\n",
    "    repetitions *= 2\n",
    "\n",
    "# qpe.draw()"
   ]
  },
  {
   "cell_type": "code",
   "execution_count": 75,
   "outputs": [
    {
     "data": {
      "text/plain": "                             ┌──────────┐                                    \nq_0: ────────────────────────┤0         ├─────■──────────────────────────────\n                             │          │     │                              \nq_1: ────────────────────────┤1         ├─────┼───────────■───────────■──────\n     ┌──────────────────────┐│  Unitary │┌────┴─────┐┌────┴─────┐┌────┴─────┐\nq_2: ┤0                     ├┤2         ├┤0         ├┤0         ├┤0         ├\n     │  Initialize(0,0,0,1) ││          ││  Unitary ││  Unitary ││  Unitary │\nq_3: ┤1                     ├┤3         ├┤1         ├┤1         ├┤1         ├\n     └──────────────────────┘└──────────┘└──────────┘└──────────┘└──────────┘\nc: 2/════════════════════════════════════════════════════════════════════════\n                                                                             ",
      "text/html": "<pre style=\"word-wrap: normal;white-space: pre;background: #fff0;line-height: 1.1;font-family: &quot;Courier New&quot;,Courier,monospace\">                             ┌──────────┐                                    \nq_0: ────────────────────────┤0         ├─────■──────────────────────────────\n                             │          │     │                              \nq_1: ────────────────────────┤1         ├─────┼───────────■───────────■──────\n     ┌──────────────────────┐│  Unitary │┌────┴─────┐┌────┴─────┐┌────┴─────┐\nq_2: ┤0                     ├┤2         ├┤0         ├┤0         ├┤0         ├\n     │  Initialize(0,0,0,1) ││          ││  Unitary ││  Unitary ││  Unitary │\nq_3: ┤1                     ├┤3         ├┤1         ├┤1         ├┤1         ├\n     └──────────────────────┘└──────────┘└──────────┘└──────────┘└──────────┘\nc: 2/════════════════════════════════════════════════════════════════════════\n                                                                             </pre>"
     },
     "execution_count": 75,
     "metadata": {},
     "output_type": "execute_result"
    }
   ],
   "source": [
    "qpe.draw()"
   ],
   "metadata": {
    "collapsed": false,
    "ExecuteTime": {
     "end_time": "2025-02-08T13:57:44.711234Z",
     "start_time": "2025-02-08T13:57:44.702040Z"
    }
   },
   "id": "594ae9778d7c2c38"
  },
  {
   "cell_type": "code",
   "execution_count": 76,
   "outputs": [],
   "source": [
    "# circ = QuantumCircuit(n_of_qubs+1, n_of_qubs)\n",
    "# from qiskit.circuit.library import UnitaryGate\n",
    "# repetitions = 1\n",
    "# for i in range(n_of_qubs):\n",
    "#     for rep in range(repetitions):\n",
    "#         circ.append(UnitaryGate(U).control(1), [i, -2, -1])\n",
    "#     repetitions *= 2\n",
    "# backend = Aer.get_backend('unitary_simulator')\n",
    "# job = execute(circ, backend)\n",
    "# result = job.result()\n",
    "# op = result.get_unitary(circ).data\n",
    "# op = add_noise_to_gate(op)\n",
    "# U_h = UnitaryGate(op)\n",
    "# np.set_printoptions(threshold=np.inf)\n",
    "# np.shape(op)\n",
    "# np.round(op,3)\n",
    "# qpe.draw()"
   ],
   "metadata": {
    "collapsed": false,
    "ExecuteTime": {
     "end_time": "2025-02-08T13:57:45.166717700Z",
     "start_time": "2025-02-08T13:57:45.154493600Z"
    }
   },
   "id": "e99d8497359ce70b"
  },
  {
   "cell_type": "code",
   "execution_count": 77,
   "id": "b1a787ed-2da0-4050-8940-2c8ad6a69a1e",
   "metadata": {
    "ExecuteTime": {
     "end_time": "2025-02-08T13:57:45.589618900Z",
     "start_time": "2025-02-08T13:57:45.577070300Z"
    }
   },
   "outputs": [],
   "source": [
    "def qft_dagger(qc, n):\n",
    "    \"\"\"n-qubit QFTdagger the first n qubits in circ\"\"\"\n",
    "    # Don't forget the Swaps!\n",
    "    for qubit in range(n//2): #n//2\n",
    "        qc.swap(qubit, n-qubit-1)\n",
    "    for j in range(n): #n\n",
    "        # print(f\"j{j}\")\n",
    "        for m in range(j):\n",
    "            # print(f\"m{m}\")\n",
    "            qc.cp(-math.pi/float(2**(j-m)), m, j)\n",
    "        qc.h(j)\n",
    "    "
   ]
  },
  {
   "cell_type": "code",
   "execution_count": 78,
   "outputs": [],
   "source": [
    "# del\n",
    "# qpe_clear = QuantumCircuit(3)\n",
    "# qft_dagger(qpe_clear, 3)\n",
    "# backend = Aer.get_backend('unitary_simulator')\n",
    "# job = execute(qpe_clear, backend)\n",
    "# result = job.result()\n",
    "# op = result.get_unitary(qpe_clear).data\n",
    "# # print(op.shape)\n",
    "# # np.round(op, 2)\n",
    "# # \n",
    "# U_h = UnitaryGate(op)\n",
    "# qpe_clear = QuantumCircuit(3+2) #(n_of_qubs+1)\n",
    "# qpe_clear.append(U_h, range(3)) #(U_h, range(n_of_qubs))\n",
    "# backend = Aer.get_backend('unitary_simulator')\n",
    "# job = execute(qpe_clear, backend)\n",
    "# result = job.result()\n",
    "# op = result.get_unitary(qpe_clear).data\n",
    "# np.round(op, 2)\n",
    "# op.shape"
   ],
   "metadata": {
    "collapsed": false,
    "ExecuteTime": {
     "end_time": "2025-02-08T13:57:45.888618800Z",
     "start_time": "2025-02-08T13:57:45.873549100Z"
    }
   },
   "id": "fca747794a58be98"
  },
  {
   "cell_type": "code",
   "execution_count": 79,
   "id": "c5a1dab3-182e-4bea-8982-25bf4e8841c5",
   "metadata": {
    "tags": [],
    "ExecuteTime": {
     "end_time": "2025-02-08T13:57:46.235452400Z",
     "start_time": "2025-02-08T13:57:46.213322900Z"
    }
   },
   "outputs": [],
   "source": [
    "# # Apply inverse QFT\n",
    "qpe_clear = QuantumCircuit(n_of_qubs)\n",
    "qft_dagger(qpe_clear, n_of_qubs)\n",
    "backend = BasicAer.get_backend('unitary_simulator')\n",
    "job = execute(qpe_clear, backend)\n",
    "result = job.result()\n",
    "op = result.get_unitary(qpe_clear).data\n",
    "# print(qpe_clear)"
   ]
  },
  {
   "cell_type": "code",
   "execution_count": 80,
   "outputs": [
    {
     "data": {
      "text/plain": "        ┌───┐               \nq_0: ─X─┤ H ├─■─────────────\n      │ └───┘ │P(-π/2) ┌───┐\nq_1: ─X───────■────────┤ H ├\n                       └───┘",
      "text/html": "<pre style=\"word-wrap: normal;white-space: pre;background: #fff0;line-height: 1.1;font-family: &quot;Courier New&quot;,Courier,monospace\">        ┌───┐               \nq_0: ─X─┤ H ├─■─────────────\n      │ └───┘ │P(-π/2) ┌───┐\nq_1: ─X───────■────────┤ H ├\n                       └───┘</pre>"
     },
     "execution_count": 80,
     "metadata": {},
     "output_type": "execute_result"
    }
   ],
   "source": [
    "# print(qpe_clear)\n",
    "qpe_clear.draw()"
   ],
   "metadata": {
    "collapsed": false,
    "ExecuteTime": {
     "end_time": "2025-02-08T13:57:46.661646900Z",
     "start_time": "2025-02-08T13:57:46.639468400Z"
    }
   },
   "id": "7a4bbf51b8c89354"
  },
  {
   "cell_type": "code",
   "execution_count": 81,
   "outputs": [
    {
     "data": {
      "text/plain": "<qiskit.circuit.instructionset.InstructionSet at 0x1eff565bc10>"
     },
     "execution_count": 81,
     "metadata": {},
     "output_type": "execute_result"
    }
   ],
   "source": [
    "U_h = UnitaryGate(op)\n",
    "qpe.append(U_h, range(n_of_qubs))"
   ],
   "metadata": {
    "collapsed": false,
    "ExecuteTime": {
     "end_time": "2025-02-08T13:57:47.030512600Z",
     "start_time": "2025-02-08T13:57:47.016470800Z"
    }
   },
   "id": "b8d68e16fade7bd9"
  },
  {
   "cell_type": "code",
   "execution_count": 82,
   "outputs": [],
   "source": [
    "# np.round(DensityMatrix(qpe), 4)\n",
    "# np.set_printoptions(threshold=np.inf)\n",
    "# np.round(DensityMatrix(qpe), 3)"
   ],
   "metadata": {
    "collapsed": false,
    "ExecuteTime": {
     "end_time": "2025-02-08T13:57:47.369326200Z",
     "start_time": "2025-02-08T13:57:47.359247300Z"
    }
   },
   "id": "95ef15e9c05e4434"
  },
  {
   "cell_type": "code",
   "execution_count": 83,
   "outputs": [
    {
     "data": {
      "text/plain": "                             ┌──────────┐                                    »\nq_0: ────────────────────────┤0         ├─────■──────────────────────────────»\n                             │          │     │                              »\nq_1: ────────────────────────┤1         ├─────┼───────────■───────────■──────»\n     ┌──────────────────────┐│  Unitary │┌────┴─────┐┌────┴─────┐┌────┴─────┐»\nq_2: ┤0                     ├┤2         ├┤0         ├┤0         ├┤0         ├»\n     │  Initialize(0,0,0,1) ││          ││  Unitary ││  Unitary ││  Unitary │»\nq_3: ┤1                     ├┤3         ├┤1         ├┤1         ├┤1         ├»\n     └──────────────────────┘└──────────┘└──────────┘└──────────┘└──────────┘»\nc: 2/════════════════════════════════════════════════════════════════════════»\n                                                                             »\n«     ┌──────────┐\n«q_0: ┤0         ├\n«     │  Unitary │\n«q_1: ┤1         ├\n«     └──────────┘\n«q_2: ────────────\n«                 \n«q_3: ────────────\n«                 \n«c: 2/════════════\n«                 ",
      "text/html": "<pre style=\"word-wrap: normal;white-space: pre;background: #fff0;line-height: 1.1;font-family: &quot;Courier New&quot;,Courier,monospace\">                             ┌──────────┐                                    »\nq_0: ────────────────────────┤0         ├─────■──────────────────────────────»\n                             │          │     │                              »\nq_1: ────────────────────────┤1         ├─────┼───────────■───────────■──────»\n     ┌──────────────────────┐│  Unitary │┌────┴─────┐┌────┴─────┐┌────┴─────┐»\nq_2: ┤0                     ├┤2         ├┤0         ├┤0         ├┤0         ├»\n     │  Initialize(0,0,0,1) ││          ││  Unitary ││  Unitary ││  Unitary │»\nq_3: ┤1                     ├┤3         ├┤1         ├┤1         ├┤1         ├»\n     └──────────────────────┘└──────────┘└──────────┘└──────────┘└──────────┘»\nc: 2/════════════════════════════════════════════════════════════════════════»\n                                                                             »\n«     ┌──────────┐\n«q_0: ┤0         ├\n«     │  Unitary │\n«q_1: ┤1         ├\n«     └──────────┘\n«q_2: ────────────\n«                 \n«q_3: ────────────\n«                 \n«c: 2/════════════\n«                 </pre>"
     },
     "execution_count": 83,
     "metadata": {},
     "output_type": "execute_result"
    }
   ],
   "source": [
    "qpe.draw()"
   ],
   "metadata": {
    "collapsed": false,
    "ExecuteTime": {
     "end_time": "2025-02-08T13:57:47.807564300Z",
     "start_time": "2025-02-08T13:57:47.784490700Z"
    }
   },
   "id": "2ad157ae683703c2"
  },
  {
   "cell_type": "code",
   "outputs": [],
   "source": [
    "# from qiskit.providers.aer import Aer "
   ],
   "metadata": {
    "collapsed": false,
    "ExecuteTime": {
     "end_time": "2025-02-08T13:57:48.258230600Z",
     "start_time": "2025-02-08T13:57:48.240172Z"
    }
   },
   "id": "a166118c4b19a6a",
   "execution_count": 84
  },
  {
   "cell_type": "code",
   "execution_count": 85,
   "id": "717f78fa-d6e3-44e2-aa7b-0bf18d108091",
   "metadata": {
    "ExecuteTime": {
     "end_time": "2025-02-08T13:57:49.897193600Z",
     "start_time": "2025-02-08T13:57:48.750127100Z"
    }
   },
   "outputs": [
    {
     "data": {
      "text/plain": "<Figure size 700x500 with 1 Axes>",
      "image/png": "[encoded data removed]"
     },
     "execution_count": 85,
     "metadata": {},
     "output_type": "execute_result"
    }
   ],
   "source": [
    "for n in range(n_of_qubs):\n",
    "    qpe.measure(n,n)\n",
    "aer_sim = BasicAer.get_backend('qasm_simulator')\n",
    "shots = 2048\n",
    "# t_qpe = transpile(qpe, aer_sim)\n",
    "# qobj = assemble(t_qpe, shots=shots)\n",
    "qobj=execute(qpe,aer_sim,shots=shots)\n",
    "# results = aer_sim.run(qobj).result()\n",
    "results = qobj.result()\n",
    "answer = results.get_counts()\n",
    "answer_to_plot = answer.copy()\n",
    "answer = sorted(answer.items(), key=lambda x:x[1])\n",
    "new_ans = []\n",
    "for pair in answer:\n",
    "    new_ans.append((int(pair[0],2), pair[1]))\n",
    "answer = new_ans\n",
    "plot_histogram(answer_to_plot)"
   ]
  },
  {
   "cell_type": "markdown",
   "source": [
    "### Реальные значения искомых собственных значений унитарной матрицы:"
   ],
   "metadata": {
    "collapsed": false
   },
   "id": "bc9adcfbc8da3bd8"
  },
  {
   "cell_type": "code",
   "execution_count": 86,
   "id": "22326b07-35a1-47fb-b11f-e79159ddebac",
   "metadata": {
    "ExecuteTime": {
     "end_time": "2025-02-08T13:57:49.966093900Z",
     "start_time": "2025-02-08T13:57:49.896197300Z"
    }
   },
   "outputs": [
    {
     "data": {
      "text/plain": "array([ 1.0000000e+00+0.0000000e+00j,  6.1232340e-17+1.0000000e+00j,\n       -1.0000000e+00+1.2246468e-16j, -1.8369702e-16-1.0000000e+00j])"
     },
     "execution_count": 86,
     "metadata": {},
     "output_type": "execute_result"
    }
   ],
   "source": [
    "eigs_u"
   ]
  },
  {
   "cell_type": "markdown",
   "source": [
    "### Распределение полученных ответов по типу $[(n_1, n_{shots}), (n_2, n_{shots}), (n_3, n_{shots}), ..., (n_n, n_{shots})]$,\n",
    "### где $n_n$ - десятичное измеренное число, $n_{shots}$ - число измерений"
   ],
   "metadata": {
    "collapsed": false
   },
   "id": "432879ab496d1f69"
  },
  {
   "cell_type": "code",
   "execution_count": 22,
   "outputs": [
    {
     "name": "stdout",
     "output_type": "stream",
     "text": [
      "[(0, 2048)]\n"
     ]
    }
   ],
   "source": [
    "print(answer)"
   ],
   "metadata": {
    "collapsed": false,
    "ExecuteTime": {
     "end_time": "2025-02-08T13:37:19.181754100Z",
     "start_time": "2025-02-08T13:37:19.165211Z"
    }
   },
   "id": "73792f7b-8c84-4c49-8ec9-78b2a7f76f93"
  },
  {
   "cell_type": "markdown",
   "source": [
    "### Формула, по которой можно расчитать собственное значение выглядит как $e^{j\\cdot 2\\cdot \\pi \\cdot n/(2^{n_{qubs}})}$,\n",
    "### где $n$ - десятичное измеренное число, $n_{qubs}$ - число кубитов (ниже используется как n_of_qubs)"
   ],
   "metadata": {
    "collapsed": false
   },
   "id": "2132f9333dd16b4f"
  },
  {
   "cell_type": "code",
   "execution_count": 18,
   "outputs": [
    {
     "name": "stdout",
     "output_type": "stream",
     "text": [
      "[[6.123234e-17+1.j]]\n"
     ]
    }
   ],
   "source": [
    "import scipy.linalg as la\n",
    "print(la.expm(1j*2*np.pi*2/(2**n_of_qubs)))"
   ],
   "metadata": {
    "collapsed": false,
    "ExecuteTime": {
     "end_time": "2024-01-26T12:30:58.673899Z",
     "start_time": "2024-01-26T12:30:58.646733800Z"
    }
   },
   "id": "d0b90053-92da-4529-b0f7-e5505e8f34d0"
  },
  {
   "cell_type": "markdown",
   "source": [
    "### Подстановка желаемого числа кубитов и желаемого измеренного десятичного числа позволяет искусственно сгенерировать желаемые собственные значения.\n",
    "### Например, пусть мы имеем 4 кубита и хотим иметь 3 и 1 как результат десятичного измеренного числа. Тогда собственные числа $eig_u$ унитарной матрицы могут быть посчитаны следующим образом:\n",
    "```\n",
    "print(la.expm(1j*2*np.pi*3/(2**4)))\n",
    "print(la.expm(1j*2*np.pi*1/(2**4)))\n",
    "```\n",
    "```\n",
    "out:\n",
    "[[0.38268343+0.92387953j]]\n",
    "[[0.92387953+0.38268343j]]\n",
    "```"
   ],
   "metadata": {
    "collapsed": false
   },
   "id": "8f468031ccb13483"
  },
  {
   "cell_type": "code",
   "execution_count": 25,
   "outputs": [
    {
     "name": "stdout",
     "output_type": "stream",
     "text": [
      "[[0.70710678+0.70710678j]]\n",
      "[[6.123234e-17+1.j]]\n",
      "[[-0.70710678+0.70710678j]]\n",
      "[[-1.+1.2246468e-16j]]\n",
      "[[-0.70710678-0.70710678j]]\n",
      "[[-1.8369702e-16-1.j]]\n",
      "[[0.70710678-0.70710678j]]\n",
      "[[1.+0.j]]\n"
     ]
    }
   ],
   "source": [
    "print(la.expm(1j*2*np.pi*1/(2**3)))\n",
    "print(la.expm(1j*2*np.pi*2/(2**3)))\n",
    "print(la.expm(1j*2*np.pi*3/(2**3)))\n",
    "print(la.expm(1j*2*np.pi*4/(2**3)))\n",
    "print(la.expm(1j*2*np.pi*5/(2**3)))\n",
    "print(la.expm(1j*2*np.pi*6/(2**3)))\n",
    "print(la.expm(1j*2*np.pi*7/(2**3)))\n",
    "print(la.expm(1j*2*np.pi*0/(2**3)))"
   ],
   "metadata": {
    "collapsed": false,
    "ExecuteTime": {
     "end_time": "2024-01-26T12:43:59.437662200Z",
     "start_time": "2024-01-26T12:43:59.398060200Z"
    }
   },
   "id": "e7a2467953d3dd84"
  },
  {
   "cell_type": "markdown",
   "source": [
    "### Тогда диагональные элементы эрмитовой матрицы имеют вид $log(eig_u)$:\n",
    "```\n",
    "print(np.log(0.92387953+0.38268343j))\n",
    "```\n",
    "```\n",
    "out:\n",
    "(-3.225207111789145e-09+0.39269908047469393j)\n",
    "```"
   ],
   "metadata": {
    "collapsed": false
   },
   "id": "92df85802213f022"
  },
  {
   "cell_type": "code",
   "execution_count": 26,
   "outputs": [
    {
     "name": "stdout",
     "output_type": "stream",
     "text": [
      "(-1.6780315776190748e-09+0.7853981633974483j)\n",
      "(1.8746997309377998e-33+1.5707963267948966j)\n",
      "(-1.6780315776190748e-09+2.356194490192345j)\n",
      "(7.498798923751199e-33+3.141592653589793j)\n",
      "(-1.6780315776190748e-09-2.356194490192345j)\n",
      "(1.68722975784402e-32-1.5707963267948968j)\n",
      "(-1.6780315776190748e-09-0.7853981633974483j)\n",
      "0j\n"
     ]
    }
   ],
   "source": [
    "print(np.log(0.70710678+0.70710678j))\n",
    "print(np.log(6.123234e-17+1.j))\n",
    "print(np.log(-0.70710678+0.70710678j))\n",
    "print(np.log(-1.+1.2246468e-16j))\n",
    "print(np.log(-0.70710678-0.70710678j))\n",
    "print(np.log(-1.8369702e-16-1.j))\n",
    "print(np.log(0.70710678-0.70710678j))\n",
    "print(np.log(1.+0.j))"
   ],
   "metadata": {
    "collapsed": false,
    "ExecuteTime": {
     "end_time": "2024-01-26T12:45:29.802345Z",
     "start_time": "2024-01-26T12:45:29.738334200Z"
    }
   },
   "id": "2b27d41d57514f99"
  },
  {
   "cell_type": "code",
   "execution_count": 19,
   "outputs": [],
   "source": [
    "# circ = QuantumCircuit(5)\n",
    "# circ.append(UnitaryGate(U).control(1), [1, -2, -1])\n",
    "# backend = Aer.get_backend('unitary_simulator')\n",
    "# job = execute(circ, backend)\n",
    "# result = job.result()\n",
    "# op = result.get_unitary(circ).data\n",
    "# np.round(op, 3)"
   ],
   "metadata": {
    "collapsed": false,
    "ExecuteTime": {
     "end_time": "2024-01-19T13:35:53.854445700Z",
     "start_time": "2024-01-19T13:35:53.835371200Z"
    }
   },
   "id": "b6549cc29b9023f1"
  },
  {
   "cell_type": "code",
   "execution_count": 30,
   "outputs": [],
   "source": [
    "a = np.log(eigs_u[0])*((2**5)/(2*np.pi*1j))"
   ],
   "metadata": {
    "collapsed": false,
    "ExecuteTime": {
     "end_time": "2024-02-16T23:38:33.517874800Z",
     "start_time": "2024-02-16T23:38:33.485539200Z"
    }
   },
   "id": "61971a07debb8a4b"
  },
  {
   "cell_type": "code",
   "execution_count": 31,
   "outputs": [
    {
     "name": "stdout",
     "output_type": "stream",
     "text": [
      "(5.039153255477287-4.240739575284689e-16j)\n"
     ]
    },
    {
     "data": {
      "text/plain": "5.039153255477287"
     },
     "execution_count": 31,
     "metadata": {},
     "output_type": "execute_result"
    }
   ],
   "source": [
    "print(a)\n",
    "5.039153255477287\n",
    "\n",
    "# print(np.log(eigs_u[0])*2**n_of_qubs)"
   ],
   "metadata": {
    "collapsed": false,
    "ExecuteTime": {
     "end_time": "2024-02-16T23:38:33.890132300Z",
     "start_time": "2024-02-16T23:38:33.869784200Z"
    }
   },
   "id": "d64eda43e8bd7a8a"
  },
  {
   "cell_type": "code",
   "execution_count": 32,
   "outputs": [
    {
     "data": {
      "text/plain": "(0.5491617699847768+0.835716070437315j)"
     },
     "execution_count": 32,
     "metadata": {},
     "output_type": "execute_result"
    }
   ],
   "source": [
    "eigs_u[0]"
   ],
   "metadata": {
    "collapsed": false,
    "ExecuteTime": {
     "end_time": "2024-02-16T23:42:43.789675300Z",
     "start_time": "2024-02-16T23:42:43.757703100Z"
    }
   },
   "id": "854feb6ae8cd1971"
  }
 ],
 "metadata": {
  "kernelspec": {
   "name": "test_quantum",
   "language": "python",
   "display_name": "test_quantum"
  },
  "language_info": {
   "codemirror_mode": {
    "name": "ipython",
    "version": 3
   },
   "file_extension": ".py",
   "mimetype": "text/x-python",
   "name": "python",
   "nbconvert_exporter": "python",
   "pygments_lexer": "ipython3",
   "version": "3.9.18"
  }
 },
 "nbformat": 4,
 "nbformat_minor": 5
}
