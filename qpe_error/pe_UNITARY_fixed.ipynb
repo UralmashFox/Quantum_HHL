{
 "cells": [
  {
   "cell_type": "markdown",
   "id": "5950df60-5cc3-47c3-8a03-b1247fa548ea",
   "metadata": {},
   "source": [
    "https://learn.qiskit.org/v1/course/ch-algorithms/defining-quantum-circuits"
   ]
  },
  {
   "cell_type": "code",
   "execution_count": 1,
   "id": "d6584dbf-d452-4f42-b130-f28ad508166a",
   "metadata": {},
   "outputs": [],
   "source": [
    "#initialization\n",
    "import matplotlib.pyplot as plt\n",
    "import numpy as np\n",
    "import math\n",
    "\n",
    "# importing Qiskit\n",
    "from qiskit import IBMQ, Aer, transpile, assemble\n",
    "from qiskit import QuantumCircuit, ClassicalRegister, QuantumRegister, execute\n",
    "\n",
    "# import basic plot tools\n",
    "from qiskit.visualization import plot_histogram\n",
    "\n",
    "# importing Qiskit\n",
    "from qiskit.quantum_info import SparsePauliOp\n",
    "from qiskit.opflow import I, X, Y, Z, H, CX, Zero, ListOp, PauliExpectation, PauliTrotterEvolution, CircuitSampler, MatrixEvolution, Suzuki, PauliSumOp\n",
    "from qiskit.circuit import Parameter\n"
   ]
  },
  {
   "cell_type": "code",
   "execution_count": 2,
   "id": "020f6754-9d84-4cec-9015-e2167fbb6fcd",
   "metadata": {},
   "outputs": [],
   "source": [
    "# import numpy as np\n",
    "# import scipy.linalg as la\n",
    "# des = [7/8, 3/8]\n",
    "# n = len(des)\n",
    "# s = np.diag(des)\n",
    "# q, _ = la.qr(np.random.rand(n, n))\n",
    "# A = q.T @ s @ q\n",
    "# eigs_h, vecs_h = np.linalg.eig(A)\n",
    "# # print(vecs)\n",
    "# # print(eigs)\n",
    "# # print('hermitian eigenvalues', eigs_h)\n",
    "# U = la.expm(1j*A)\n",
    "# eigs_u, vecs_u = np.linalg.eig(U)\n",
    "# # print('unitary eigenvalues', eigs_u)\n",
    "# # print(eigs_u)\n",
    "# # print(f\"{eigs_h[0]} - {eigs_u[0]} = {eigs_h[0] - eigs_u[0]}\")\n",
    "# # print(la.expm(1j*2*np.pi*des[0]))\n",
    "# print(la.expm(1j*np.pi*des[0]), eigs_u[0])\n",
    "# # print(vecs_u)\n",
    "# # print('check:\\n', vecs_u[0]*eigs_u[0], '\\n', np.dot(U.T, vecs_u[0]))\n",
    "# # vecs_u[0]*eigs_u[0] == U*vecs_u[0]"
   ]
  },
  {
   "cell_type": "code",
   "execution_count": 3,
   "id": "be007858-a025-4ef9-a8b5-809c53749d28",
   "metadata": {},
   "outputs": [],
   "source": [
    "# from scipy.stats import unitary_group\n",
    "# U = unitary_group.rvs(4)\n",
    "# eigs_u, vecs_u = np.linalg.eig(U)\n",
    "# print(U)\n",
    "# print(eigs_u)"
   ]
  },
  {
   "cell_type": "code",
   "execution_count": 4,
   "id": "bc60638f-95d4-4cb0-b2fb-ba2cf387b812",
   "metadata": {},
   "outputs": [],
   "source": [
    "# # need to initialize 2 vectors\n",
    "# U = unitary_group.rvs(2)\n",
    "# eigs_u, vecs_u = np.linalg.eig(U)\n",
    "# print(U)\n",
    "# print(eigs_u)"
   ]
  },
  {
   "cell_type": "code",
   "execution_count": 5,
   "id": "550f11d2-291e-4e43-a2cc-02677f62a64b",
   "metadata": {},
   "outputs": [],
   "source": [
    "from scipy.stats import unitary_group\n",
    "dimension = 2\n",
    "# U = unitary_group.rvs(dimension)\n",
    "# np.save('array.txt', U)\n",
    "U = np.load('array.txt.npy')\n",
    "# import sys\n",
    "# np.set_printoptions(threshold=sys.maxsize)\n",
    "eigs_u, vecs_u = np.linalg.eig(U)"
   ]
  },
  {
   "cell_type": "code",
   "execution_count": 17,
   "id": "3ab8cdd5-8358-4252-8a50-eb3721b4aa11",
   "metadata": {
    "tags": []
   },
   "outputs": [
    {
     "data": {
      "text/plain": [
       "<qiskit.circuit.instructionset.InstructionSet at 0x2930e2b5030>"
      ]
     },
     "execution_count": 17,
     "metadata": {},
     "output_type": "execute_result"
    }
   ],
   "source": [
    "n_for_vector = np.log2(dimension)\n",
    "n_of_qubs = 10\n",
    "\n",
    "\n",
    "eigs = QuantumRegister(n_of_qubs, 'eigenvalues')\n",
    "vector = QuantumRegister(n_for_vector, 'eigenvector')\n",
    "cr = ClassicalRegister(n_of_qubs, 'c')\n",
    "qpe = QuantumCircuit(eigs, vector, cr)\n",
    "\n",
    "\n",
    "# qpe = QuantumCircuit(n_of_qubs+1, n_of_qubs)\n",
    "qpe.initialize(vecs_u[0], vector)\n",
    "# qpe.draw()"
   ]
  },
  {
   "cell_type": "code",
   "execution_count": 18,
   "id": "a6bf1418-9da0-497a-9789-c7aafca898ed",
   "metadata": {},
   "outputs": [],
   "source": [
    "for qubit in range(n_of_qubs):\n",
    "    qpe.h(qubit)\n",
    "# qpe.draw()"
   ]
  },
  {
   "cell_type": "code",
   "execution_count": 19,
   "id": "168d20e5-a082-42ea-b32c-aa901af031c3",
   "metadata": {},
   "outputs": [],
   "source": [
    "# def get_gate(A, n):    \n",
    "#     pauli_op = PauliSumOp(SparsePauliOp.from_operator(A))\n",
    "#     phi = Parameter('ϕ')\n",
    "#     evolution_op = (phi * pauli_op).exp_i() # exp(-iϕA)\n",
    "#     # print(evolution_op)\n",
    "#     trotterized_op = PauliTrotterEvolution(trotter_mode=Suzuki(order=2, reps=1)).convert(evolution_op).bind_parameters({phi: np.pi/n})\n",
    "#     #----control---------\n",
    "#     gate = trotterized_op.to_circuit()\n",
    "#     gate.name = f\"e^(i*A*pi/{n})\"\n",
    "#     gate.label = f\"e^(i*A*np.pi/{n})\"\n",
    "#     gate = gate.to_gate().control()\n",
    "#     #---------------------\n",
    "#     return gate"
   ]
  },
  {
   "cell_type": "code",
   "execution_count": 20,
   "id": "7da4ab9e-0f53-468b-bba3-5371c3308db6",
   "metadata": {
    "tags": []
   },
   "outputs": [],
   "source": [
    "# repetitions = 1\n",
    "# for counting_qubit in range(3):\n",
    "#     for i in range(repetitions):\n",
    "#         qpe.cp(math.pi/4, counting_qubit, 3); # This is CU\n",
    "#     repetitions *= 2\n",
    "# qpe.draw()\n",
    "from qiskit.quantum_info.operators import Operator\n",
    "from qiskit.extensions import UnitaryGate\n",
    "# gate = get_gate(A, 1)\n",
    "# gate = Operator(U)\n",
    "from qiskit.circuit.add_control import add_control\n",
    "gate = UnitaryGate(U).control(1)\n",
    "repetitions = 1\n",
    "for i in range(0, n_of_qubs):\n",
    "    # print(i)\n",
    "    for _ in range(repetitions):\n",
    "        qpe.append(gate,[i, *vector])\n",
    "    repetitions *= 2\n",
    "# qpe.draw()"
   ]
  },
  {
   "cell_type": "code",
   "execution_count": 21,
   "id": "b1a787ed-2da0-4050-8940-2c8ad6a69a1e",
   "metadata": {},
   "outputs": [],
   "source": [
    "def qft_dagger(qc, n):\n",
    "    \"\"\"n-qubit QFTdagger the first n qubits in circ\"\"\"\n",
    "    # Don't forget the Swaps!\n",
    "    for qubit in range(n//2):\n",
    "        qc.swap(qubit, n-qubit-1)\n",
    "    for j in range(n):\n",
    "        for m in range(j):\n",
    "            qc.cp(-math.pi/float(2**(j-m)), m, j)\n",
    "        qc.h(j)"
   ]
  },
  {
   "cell_type": "code",
   "execution_count": 22,
   "id": "c5a1dab3-182e-4bea-8982-25bf4e8841c5",
   "metadata": {
    "tags": []
   },
   "outputs": [],
   "source": [
    "qpe.barrier()\n",
    "# Apply inverse QFT\n",
    "qft_dagger(qpe, n_of_qubs)\n",
    "# Measure\n",
    "qpe.barrier()\n",
    "for n in range(n_of_qubs):\n",
    "    qpe.measure(n,n)\n",
    "# qpe.draw()"
   ]
  },
  {
   "cell_type": "code",
   "execution_count": 23,
   "id": "717f78fa-d6e3-44e2-aa7b-0bf18d108091",
   "metadata": {},
   "outputs": [
    {
     "data": {
      "image/png": "[encoded data removed]",
      "text/plain": [
       "<Figure size 700x500 with 1 Axes>"
      ]
     },
     "execution_count": 23,
     "metadata": {},
     "output_type": "execute_result"
    }
   ],
   "source": [
    "aer_sim = Aer.get_backend('aer_simulator')\n",
    "shots = 2048\n",
    "t_qpe = transpile(qpe, aer_sim)\n",
    "qobj = assemble(t_qpe, shots=shots)\n",
    "results = aer_sim.run(qobj).result()\n",
    "answer = results.get_counts()\n",
    "answer_to_plot = answer.copy()\n",
    "answer = sorted(answer.items(), key=lambda x:x[1])\n",
    "new_ans = []\n",
    "for pair in answer:\n",
    "    new_ans.append((int(pair[0],2), pair[1]))\n",
    "answer = new_ans\n",
    "# print(answer)\n",
    "plot_histogram(answer_to_plot)\n",
    "# print(answer)"
   ]
  },
  {
   "cell_type": "code",
   "execution_count": 24,
   "id": "73792f7b-8c84-4c49-8ec9-78b2a7f76f93",
   "metadata": {},
   "outputs": [
    {
     "name": "stdout",
     "output_type": "stream",
     "text": [
      "[(592, 1), (472, 1), (460, 1), (582, 1), (645, 1), (482, 1), (594, 1), (590, 1), (554, 1), (595, 1), (446, 1), (476, 1), (459, 1), (601, 1), (579, 1), (591, 1), (593, 2), (583, 2), (454, 3), (455, 4), (585, 5), (586, 5), (458, 8), (589, 17), (456, 22), (587, 28), (457, 309), (588, 1627)]\n"
     ]
    }
   ],
   "source": [
    "print(answer)"
   ]
  },
  {
   "cell_type": "code",
   "execution_count": 25,
   "id": "d0b90053-92da-4529-b0f7-e5505e8f34d0",
   "metadata": {},
   "outputs": [
    {
     "name": "stdout",
     "output_type": "stream",
     "text": [
      "[[-0.8932243-0.44961133j]]\n"
     ]
    }
   ],
   "source": [
    "import scipy.linalg as la\n",
    "print(la.expm(1j*2*np.pi*answer[-1][0]/(2**n_of_qubs)))"
   ]
  },
  {
   "cell_type": "code",
   "execution_count": 26,
   "id": "e641166c-e59b-4d74-ac8a-2e42a9ea597b",
   "metadata": {},
   "outputs": [],
   "source": [
    "# print(np.dot(U, vecs_u[1]),  vecs_u[1]*eigs_u[1])"
   ]
  },
  {
   "cell_type": "code",
   "execution_count": 27,
   "id": "22326b07-35a1-47fb-b11f-e79159ddebac",
   "metadata": {},
   "outputs": [
    {
     "data": {
      "text/plain": [
       "array([-0.94316252+0.33233185j, -0.89355351-0.44895671j])"
      ]
     },
     "execution_count": 27,
     "metadata": {},
     "output_type": "execute_result"
    }
   ],
   "source": [
    "eigs_u"
   ]
  },
  {
   "cell_type": "code",
   "execution_count": 1,
   "id": "4a0c2816-77b5-4b93-8d30-987920dcfcc5",
   "metadata": {},
   "outputs": [],
   "source": [
    "# qpe.draw()"
   ]
  },
  {
   "cell_type": "code",
   "execution_count": null,
   "id": "87027082-e6f7-44c3-81da-9236b6b385f1",
   "metadata": {},
   "outputs": [],
   "source": []
  },
  {
   "cell_type": "code",
   "execution_count": null,
   "id": "ab4233a3-7d20-44cd-bbf8-24bb4922fad0",
   "metadata": {},
   "outputs": [],
   "source": []
  }
 ],
 "metadata": {
  "kernelspec": {
   "display_name": "Python 3 (ipykernel)",
   "language": "python",
   "name": "python3"
  },
  "language_info": {
   "codemirror_mode": {
    "name": "ipython",
    "version": 3
   },
   "file_extension": ".py",
   "mimetype": "text/x-python",
   "name": "python",
   "nbconvert_exporter": "python",
   "pygments_lexer": "ipython3",
   "version": "3.10.9"
  }
 },
 "nbformat": 4,
 "nbformat_minor": 5
}
