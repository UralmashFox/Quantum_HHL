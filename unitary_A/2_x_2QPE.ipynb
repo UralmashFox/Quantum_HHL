{
 "cells": [
  {
   "cell_type": "code",
   "execution_count": 103,
   "id": "f77f1a42-e579-4c06-8cf5-3a538ff79c28",
   "metadata": {},
   "outputs": [],
   "source": [
    "import numpy as np\n",
    "import scipy\n",
    "from scipy.linalg import expm, sinm, cosm\n",
    "import qiskit.quantum_info as qi\n",
    "from scipy.stats import unitary_group"
   ]
  },
  {
   "cell_type": "code",
   "execution_count": 125,
   "id": "22db9629-bb42-41a8-ad2f-1799b3c0f3be",
   "metadata": {},
   "outputs": [
    {
     "name": "stdout",
     "output_type": "stream",
     "text": [
      "[0.54030231+0.84147098j 0.54030231+0.84147098j]\n"
     ]
    }
   ],
   "source": [
    "# A = np.array([\n",
    "#     [1.5, 0.5],\n",
    "#     [0.5, 1.5],\n",
    "#     ]).astype('complex')\n",
    "\n",
    "# A = unitary_group.rvs(2)\n",
    "# print(f'the mtrix A is {A}')\n",
    "# # b = np.array([0, 1]).T\n",
    "# x = scipy.linalg.eig(A)[1][0]\n",
    "# print('x-vector', x)\n",
    "# print('eigenvalues', scipy.linalg.eig(A)[0])\n",
    "# print('eigenvectors', scipy.linalg.eig(A)[1])\n",
    "import numpy as np\n",
    "import scipy.linalg as la\n",
    "des = [1, 1]\n",
    "n = len(des)\n",
    "s = np.diag(des)\n",
    "q, _ = la.qr(np.random.rand(n, n))\n",
    "A = q.T @ s @ q\n",
    "U = la.expm(1j*A)\n",
    "eigs_u, vecs_u = np.linalg.eig(U)\n",
    "x = vecs_u[0]\n",
    "print(eigs_u)\n",
    "# print(U)"
   ]
  },
  {
   "cell_type": "code",
   "execution_count": 126,
   "id": "74c70bcf-243e-4795-a7ef-7abee541b648",
   "metadata": {},
   "outputs": [],
   "source": [
    "#states\n",
    "state_zero = np.array([[1.0],[0.0]])\n",
    "state_one = np.array([[0.0],[1.0]])\n",
    "#projectors\n",
    "P0 = np.dot(state_zero, state_zero.T)\n",
    "P1 = np.dot(state_one, state_one.T)"
   ]
  },
  {
   "cell_type": "code",
   "execution_count": 127,
   "id": "c7079f66-b052-4cea-97f1-dc7cd7126c91",
   "metadata": {},
   "outputs": [],
   "source": [
    "def multi_kron(*args):\n",
    "    ret = np.array([[1.0]]).astype('complex')\n",
    "    for q in args:\n",
    "        ret = np.kron(ret, q)\n",
    "    return ret\n",
    "\n",
    "def multi_dot(*args):\n",
    "    ret = np.eye(np.shape(args[0])[0]).astype('complex')\n",
    "    for q in args:\n",
    "        ret = np.dot(ret, q)\n",
    "    return ret"
   ]
  },
  {
   "cell_type": "code",
   "execution_count": 128,
   "id": "a61ae1ad-7749-4cf5-ab9c-24041ef99e81",
   "metadata": {},
   "outputs": [],
   "source": [
    "# def U(A):\n",
    "#     # return expm(-1j*A).astype('complex')\n",
    "#     return A.astype('complex')\n",
    "\n",
    "def H():\n",
    "    return 1/np.sqrt(2) * np.array([[1, 1],\n",
    "                                    [1, -1]]).astype('complex')\n",
    "def X():\n",
    "    return np.array([[0, 1],\n",
    "                     [1, 0]]).astype('complex')\n",
    "def Rz(phi):\n",
    "    return np.array([[np.exp(-1j*phi/2), 0],\n",
    "                     [0, np.exp(1j*phi/2)]]).astype('complex')\n",
    "def Ry(theta):\n",
    "    return np.array([[np.cos(theta/2), -np.sin(theta/2)],\n",
    "                     [np.sin(theta/2), np.cos(theta/2)]]).astype('complex')\n",
    "def I():\n",
    "    return np.array([[1, 0],\n",
    "                     [0, 1]]).astype('complex')\n",
    "\n",
    "#for some reson CONTROL and TARGET are changed\n",
    "def control(control_q, target_q, n_of_qubits, operator):\n",
    "    list_of_ops_left = []\n",
    "    list_of_ops_right = []\n",
    "    for i in range(n_of_qubits):\n",
    "        if i == control_q:\n",
    "            list_of_ops_left.append(P0)\n",
    "            list_of_ops_right.append(P1)\n",
    "        elif i == target_q:\n",
    "            list_of_ops_left.append(I())\n",
    "            list_of_ops_right.append(operator)\n",
    "        else:\n",
    "            list_of_ops_left.append(I())\n",
    "            list_of_ops_right.append(I())\n",
    "    return multi_kron(*list_of_ops_left) + multi_kron(*list_of_ops_right).astype('complex')"
   ]
  },
  {
   "cell_type": "code",
   "execution_count": 129,
   "id": "44c7b28c-b85d-4294-9b43-6d02df8f639d",
   "metadata": {},
   "outputs": [],
   "source": [
    "# orders of qubits changed at all\n",
    "# one = multi_kron(I(), Ry(np.pi/3))\n",
    "# two = np.round(control(control_q=1,\n",
    "#                  target_q=10,\n",
    "#                  n_of_qubits=2,\n",
    "#                  operator=U(A, np.pi/4)), 3)\n",
    "# print(np.round(np.dot(two, one), 3))"
   ]
  },
  {
   "cell_type": "markdown",
   "id": "476d0733-d1ff-4db8-9486-da21f82c7724",
   "metadata": {},
   "source": [
    "# Now real example"
   ]
  },
  {
   "cell_type": "code",
   "execution_count": 131,
   "id": "94c672c0-36c7-49e7-84e5-c75e31d85637",
   "metadata": {},
   "outputs": [],
   "source": [
    "#state preparation\n",
    "state = multi_kron(I(), H(), H(), H())\n",
    "np.round(state, 3)\n",
    "#eigenvalues to phases\n",
    "etp_one = control(control_q=3,\n",
    "                  target_q=0,\n",
    "                  n_of_qubits=4,\n",
    "                  operator=U)\n",
    "etp_two = control(control_q=2,\n",
    "                  target_q=0,\n",
    "                  n_of_qubits=4,\n",
    "                  operator=U)\n",
    "etp_three = control(control_q=1,\n",
    "                  target_q=0,\n",
    "                  n_of_qubits=4,\n",
    "                  operator=U)\n",
    "# print(np.round(multi_dot(state, etp_one, etp_two, etp_three), 3))\n",
    "#Fourier transform\n",
    "ft_one = multi_kron(I(), H(), I(), I())\n",
    "ft_two = control(control_q=1,\n",
    "                 target_q=3,\n",
    "                 n_of_qubits=4,\n",
    "                 operator=Rz(-np.pi/4))\n",
    "ft_three = control(control_q=1,\n",
    "                   target_q=2,\n",
    "                   n_of_qubits=4,\n",
    "                   operator=Rz(-np.pi/2))\n",
    "ft_four = multi_kron(I(), I(), H(), I())\n",
    "ft_five = control(control_q=2,\n",
    "                  target_q=3,\n",
    "                  n_of_qubits=4,\n",
    "                  operator=Rz(-np.pi/2))\n",
    "ft_six = multi_kron(I(), I(), I(), H())\n",
    "final_u = multi_dot(\n",
    "    ft_six, ft_five, ft_four, ft_three, ft_two, ft_one,\n",
    "    etp_three, etp_two, etp_one,\n",
    "    state)\n",
    "# print(np.round(multi_dot(state,\n",
    "#                          etp_one, etp_two, etp_three,\n",
    "#                          ft_one, ft_two, ft_three, ft_four, ft_five, ft_six), 3))\n",
    "# #Ancilla qubit\n",
    "aq_one = control(control_q=1,\n",
    "                 target_q=0,\n",
    "                 n_of_qubits=5,\n",
    "                 operator=Ry(np.pi/2)) \n",
    "aq_two = control(control_q=2,\n",
    "                 target_q=0,\n",
    "                 n_of_qubits=5,\n",
    "                 operator=Ry(np.pi/4))\n",
    "aq_three = control(control_q=3,\n",
    "                   target_q=0,\n",
    "                   n_of_qubits=5,\n",
    "                   operator=Ry(np.pi/8)) \n",
    "# final_u = multi_dot(\n",
    "#     aq_three, aq_two, aq_one,\n",
    "#     ft_six, ft_five, ft_four, ft_three, ft_two, ft_one,\n",
    "#     etp_three, etp_two, etp_one,\n",
    "#     state)\n",
    "# print(np.round(multi_dot(\n",
    "#     aq_three, aq_two, aq_one,\n",
    "#     ft_six, ft_five, ft_four, ft_three, ft_two, ft_one,\n",
    "#     etp_three, etp_two, etp_one,\n",
    "#     state), 3))\n",
    "# #inverse_fourier\n",
    "if_one = multi_kron(I(), I(), I(), H(), I())\n",
    "if_two = control(\n",
    "    control_q=2,\n",
    "    target_q=3,\n",
    "    n_of_qubits=5,\n",
    "    operator=Rz(np.pi/2))\n",
    "if_three = multi_kron(I(), I(), H(), I(), I())\n",
    "if_four = control(control_q=1,\n",
    "                  target_q=3,\n",
    "                  n_of_qubits=5,\n",
    "                  operator=Rz(np.pi/4))\n",
    "if_five = control(control_q=1,\n",
    "                  target_q=2,\n",
    "                  n_of_qubits=5,\n",
    "                  operator=Rz(np.pi/2))\n",
    "if_six = multi_kron(I(), I(), I(), H(), I())\n",
    "if_seven = multi_kron(I(), H(), I(), I(), I())\n",
    "# print(np.round(multi_dot(\n",
    "#     if_seven, if_six, if_five, if_four, if_three, if_two, if_one,\n",
    "#     aq_three, aq_two, aq_one,\n",
    "#     ft_six, ft_five, ft_four, ft_three, ft_two, ft_one,\n",
    "#     etp_three, etp_two, etp_one,\n",
    "#     state), 3))\n",
    "# #phases to eigenvalues\n",
    "pte_one = control(control_q=1,\n",
    "                  target_q=4,\n",
    "                  n_of_qubits=5,\n",
    "                  operator=U)\n",
    "pte_two = control(control_q=2,\n",
    "                  target_q=4,\n",
    "                  n_of_qubits=5,\n",
    "                  operator=U)\n",
    "pte_three = control(control_q=3,\n",
    "                    target_q=4,\n",
    "                    n_of_qubits=5,\n",
    "                    operator=U)\n",
    "# final_u = multi_dot(\n",
    "#     pte_three, pte_two, pte_one,\n",
    "#     if_seven, if_six, if_five, if_four, if_three, if_two, if_one,\n",
    "#     aq_three, aq_two, aq_one,\n",
    "#     ft_six, ft_five, ft_four, ft_three, ft_two, ft_one,\n",
    "#     etp_three, etp_two, etp_one,\n",
    "#     state)\n",
    "# print(np.round(final_u, 3))"
   ]
  },
  {
   "cell_type": "code",
   "execution_count": 123,
   "id": "0e38b61b-d49e-4c61-917a-0c23aa2f4287",
   "metadata": {},
   "outputs": [],
   "source": [
    "prime_state = multi_kron(state_zero, state_zero, state_zero, state_zero)\n",
    "final_state = np.dot(final_u, prime_state)\n",
    "rho = np.dot(final_state, np.conj(final_state).T)\n",
    "# print(np.round(rho, 5), '\\n')"
   ]
  },
  {
   "cell_type": "markdown",
   "id": "5dcdaafb-88c6-40c7-b307-2876740c005f",
   "metadata": {},
   "source": [
    "# four qubits at all"
   ]
  },
  {
   "cell_type": "code",
   "execution_count": 124,
   "id": "d9e4a5f4-ea09-48d0-a1a2-5c4a3839a59a",
   "metadata": {},
   "outputs": [
    {
     "name": "stdout",
     "output_type": "stream",
     "text": [
      "0j\n",
      "(1-0j)\n",
      "-0j\n",
      "-0j\n"
     ]
    }
   ],
   "source": [
    "proj = multi_kron(P0, I(), I(), P1)\n",
    "prob = np.trace(np.dot(proj, rho))\n",
    "print(np.round(prob, 3))\n",
    "proj = multi_kron(P0, I(), I(), P0)\n",
    "prob = np.trace(np.dot(proj, rho))\n",
    "print(np.round(prob, 3))\n",
    "proj = multi_kron(P1, I(), I(), P1)\n",
    "prob = np.trace(np.dot(proj, rho))\n",
    "print(np.round(prob, 3))\n",
    "proj = multi_kron(P1, I(), I(), P0)\n",
    "prob = np.trace(np.dot(proj, rho))\n",
    "print(np.round(prob, 3))"
   ]
  },
  {
   "cell_type": "code",
   "execution_count": 87,
   "id": "31b4e5f3-11a6-41de-a1a6-06d16a31406d",
   "metadata": {},
   "outputs": [
    {
     "data": {
      "text/plain": [
       "0.125"
      ]
     },
     "execution_count": 87,
     "metadata": {},
     "output_type": "execute_result"
    }
   ],
   "source": [
    "1/(2**3)"
   ]
  },
  {
   "cell_type": "markdown",
   "id": "50ab1d39-3d1b-4237-88cb-fbe28118b165",
   "metadata": {},
   "source": [
    "# for one measured qubit only"
   ]
  },
  {
   "cell_type": "code",
   "execution_count": 13,
   "id": "ec366d5f-5256-4cad-9631-ff3c253873d0",
   "metadata": {},
   "outputs": [
    {
     "name": "stdout",
     "output_type": "stream",
     "text": [
      "(5.912+0j)\n",
      "(6.583-0j)\n"
     ]
    }
   ],
   "source": [
    "proj = multi_kron(I(), I(), I(), I(), P1)\n",
    "prob = np.trace(np.dot(proj, rho))\n",
    "print(np.round(prob, 3))\n",
    "proj = multi_kron(I(), I(), I(), I(), P0)\n",
    "prob = np.trace(np.dot(proj, rho))\n",
    "print(np.round(prob, 3))"
   ]
  },
  {
   "cell_type": "markdown",
   "id": "33534a50-e798-4b5c-8855-e795989131ec",
   "metadata": {},
   "source": [
    "# measuring eigenvalues"
   ]
  },
  {
   "cell_type": "code",
   "execution_count": 14,
   "id": "40aed135-fb47-4813-991a-769d5c2560ee",
   "metadata": {},
   "outputs": [
    {
     "name": "stdout",
     "output_type": "stream",
     "text": [
      "(6.984+0j)\n",
      "(3.508-0j)\n",
      "(1.052-0j)\n",
      "(0.492+0j)\n",
      "(0.227+0j)\n",
      "(0.077+0j)\n",
      "(0.079+0j)\n",
      "(0.076+0j)\n"
     ]
    }
   ],
   "source": [
    "proj = multi_kron(I(), P0, P0, P0, I())\n",
    "prob = np.trace(np.dot(proj, rho))\n",
    "print(np.round(prob, 3))\n",
    "proj = multi_kron(I(), P0, P0, P1, I())\n",
    "prob = np.trace(np.dot(proj, rho))\n",
    "print(np.round(prob, 3))\n",
    "proj = multi_kron(I(), P0, P1, P0, I())\n",
    "prob = np.trace(np.dot(proj, rho))\n",
    "print(np.round(prob, 3))\n",
    "proj = multi_kron(I(), P0, P1, P1, I())\n",
    "prob = np.trace(np.dot(proj, rho))\n",
    "print(np.round(prob, 3))\n",
    "proj = multi_kron(I(), P1, P0, P0, I())\n",
    "prob = np.trace(np.dot(proj, rho))\n",
    "print(np.round(prob, 3))\n",
    "proj = multi_kron(I(), P1, P0, P1, I())\n",
    "prob = np.trace(np.dot(proj, rho))\n",
    "print(np.round(prob, 3))\n",
    "proj = multi_kron(I(), P1, P1, P0, I())\n",
    "prob = np.trace(np.dot(proj, rho))\n",
    "print(np.round(prob, 3))\n",
    "proj = multi_kron(I(), P1, P1, P1, I())\n",
    "prob = np.trace(np.dot(proj, rho))\n",
    "print(np.round(prob, 3))"
   ]
  },
  {
   "cell_type": "code",
   "execution_count": 15,
   "id": "0367c62b-4213-4b1f-bf05-499a9a78ebc8",
   "metadata": {},
   "outputs": [
    {
     "data": {
      "text/plain": [
       "(5.912225443337538+8.652349114635274e-17j)"
      ]
     },
     "execution_count": 15,
     "metadata": {},
     "output_type": "execute_result"
    }
   ],
   "source": [
    "prob0 = np.trace(np.dot(multi_kron(I(), I(), I(), I(), P1), rho))\n",
    "prob0"
   ]
  },
  {
   "cell_type": "code",
   "execution_count": 13,
   "id": "a4bebf0e-dad9-4f11-a49a-0c6d12b2286f",
   "metadata": {},
   "outputs": [],
   "source": [
    "# Simulate\n",
    "def simulate(n, shots):\n",
    "    ret = 0\n",
    "    for shot in range(shots):\n",
    "        if np.random.rand() < prob0:\n",
    "            ret += 0\n",
    "            state_ret = np.dot(multi_kron(P0, gate_I), state)\n",
    "        else:\n",
    "            ret = 1\n",
    "            state_ret = np.dot(multi_kron(P1, gate_I), state) \n",
    "    return state_ret/n"
   ]
  },
  {
   "cell_type": "code",
   "execution_count": 15,
   "id": "9db5010f-3b75-40be-80ab-f6fdb639d4e6",
   "metadata": {},
   "outputs": [
    {
     "ename": "NameError",
     "evalue": "name 'qc' is not defined",
     "output_type": "error",
     "traceback": [
      "\u001b[1;31m---------------------------------------------------------------------------\u001b[0m",
      "\u001b[1;31mNameError\u001b[0m                                 Traceback (most recent call last)",
      "Cell \u001b[1;32mIn[15], line 3\u001b[0m\n\u001b[0;32m      1\u001b[0m \u001b[38;5;66;03m#density matrix\u001b[39;00m\n\u001b[0;32m      2\u001b[0m \u001b[38;5;28;01mfrom\u001b[39;00m \u001b[38;5;21;01mqiskit\u001b[39;00m\u001b[38;5;21;01m.\u001b[39;00m\u001b[38;5;21;01mquantum_info\u001b[39;00m \u001b[38;5;28;01mimport\u001b[39;00m DensityMatrix\n\u001b[1;32m----> 3\u001b[0m rho \u001b[38;5;241m=\u001b[39m DensityMatrix\u001b[38;5;241m.\u001b[39mfrom_instruction(\u001b[43mqc\u001b[49m)\u001b[38;5;241m.\u001b[39mdata\n\u001b[0;32m      4\u001b[0m state \u001b[38;5;241m=\u001b[39m Statevector\u001b[38;5;241m.\u001b[39mfrom_instruction(qc)\u001b[38;5;241m.\u001b[39mdata\n",
      "\u001b[1;31mNameError\u001b[0m: name 'qc' is not defined"
     ]
    }
   ],
   "source": [
    "#density matrix\n",
    "# from qiskit.quantum_info import DensityMatrix\n",
    "# rho = DensityMatrix.from_instruction(qc).data\n",
    "# state = Statevector.from_instruction(qc).data"
   ]
  },
  {
   "cell_type": "code",
   "execution_count": 16,
   "id": "d293e3f9-4634-474c-a83f-b1d0d9cb3a7e",
   "metadata": {},
   "outputs": [],
   "source": [
    "# Normalize\n",
    "# from scipy import linalg\n",
    "# prob0_0 = np.trace(np.dot(multi_kron(P0, P1), rho))\n",
    "# print(prob0_0)"
   ]
  },
  {
   "cell_type": "code",
   "execution_count": 17,
   "id": "614becfb-d56e-47f5-bd28-462d6c1f86e0",
   "metadata": {},
   "outputs": [],
   "source": [
    "from qiskit.quantum_info import SparsePauliOp, DensityMatrix, Statevector\n",
    "from qiskit.opflow.list_ops import SummedOp\n",
    "from qiskit.circuit import Parameter\n",
    "from qiskit.opflow import I, X, Y, Z, H, CX, Zero, ListOp, PauliExpectation, PauliTrotterEvolution, CircuitSampler, MatrixEvolution, Suzuki, PauliSumOp\n",
    "from qiskit.circuit import ControlledGate\n",
    "from qiskit import QuantumCircuit, ClassicalRegister, QuantumRegister, execute, Aer, transpile\n",
    "from qiskit.quantum_info.operators import Operator\n",
    "from qiskit.extensions import UnitaryGate\n",
    "from qiskit.tools.visualization import plot_histogram\n",
    "\n",
    "from qiskit.synthesis import MatrixExponential\n",
    "from qiskit.quantum_info import Operator"
   ]
  },
  {
   "cell_type": "code",
   "execution_count": 18,
   "id": "ed0474c4-63bb-4404-8277-0aff991e126d",
   "metadata": {},
   "outputs": [
    {
     "ename": "ValueError",
     "evalue": "Operator contains complex coefficients, which are not supported.",
     "output_type": "error",
     "traceback": [
      "\u001b[1;31m---------------------------------------------------------------------------\u001b[0m",
      "\u001b[1;31mValueError\u001b[0m                                Traceback (most recent call last)",
      "Cell \u001b[1;32mIn[18], line 5\u001b[0m\n\u001b[0;32m      3\u001b[0m phi \u001b[38;5;241m=\u001b[39m Parameter(\u001b[38;5;124m'\u001b[39m\u001b[38;5;124mϕ\u001b[39m\u001b[38;5;124m'\u001b[39m)\n\u001b[0;32m      4\u001b[0m evolution_op \u001b[38;5;241m=\u001b[39m (phi \u001b[38;5;241m*\u001b[39m pauli_op)\u001b[38;5;241m.\u001b[39mexp_i() \u001b[38;5;66;03m# exp(-iϕA)\u001b[39;00m\n\u001b[1;32m----> 5\u001b[0m trotterized_op \u001b[38;5;241m=\u001b[39m \u001b[43mPauliTrotterEvolution\u001b[49m\u001b[43m(\u001b[49m\u001b[43mtrotter_mode\u001b[49m\u001b[38;5;241;43m=\u001b[39;49m\u001b[43mSuzuki\u001b[49m\u001b[43m(\u001b[49m\u001b[43morder\u001b[49m\u001b[38;5;241;43m=\u001b[39;49m\u001b[38;5;241;43m2\u001b[39;49m\u001b[43m,\u001b[49m\u001b[43m \u001b[49m\u001b[43mreps\u001b[49m\u001b[38;5;241;43m=\u001b[39;49m\u001b[38;5;241;43m1\u001b[39;49m\u001b[43m)\u001b[49m\u001b[43m)\u001b[49m\u001b[38;5;241;43m.\u001b[39;49m\u001b[43mconvert\u001b[49m\u001b[43m(\u001b[49m\u001b[43mevolution_op\u001b[49m\u001b[43m)\u001b[49m\u001b[38;5;241m.\u001b[39mbind_parameters({phi: np\u001b[38;5;241m.\u001b[39mpi\u001b[38;5;241m/\u001b[39mn})\n\u001b[0;32m      6\u001b[0m trotterized_op\u001b[38;5;241m.\u001b[39mto_matrix()\n\u001b[0;32m      7\u001b[0m gate \u001b[38;5;241m=\u001b[39m trotterized_op\u001b[38;5;241m.\u001b[39mto_circuit()\n",
      "File \u001b[1;32m~\\Anaconda3\\envs\\quantum\\lib\\site-packages\\qiskit\\opflow\\evolutions\\pauli_trotter_evolution.py:106\u001b[0m, in \u001b[0;36mPauliTrotterEvolution.convert\u001b[1;34m(self, operator)\u001b[0m\n\u001b[0;32m     92\u001b[0m \u001b[38;5;124mr\u001b[39m\u001b[38;5;124;03m\"\"\"\u001b[39;00m\n\u001b[0;32m     93\u001b[0m \u001b[38;5;124;03mTraverse the operator, replacing ``EvolvedOps`` with ``CircuitOps`` containing\u001b[39;00m\n\u001b[0;32m     94\u001b[0m \u001b[38;5;124;03mTrotterized evolutions equalling the exponentiation of -i * operator.\u001b[39;00m\n\u001b[1;32m   (...)\u001b[0m\n\u001b[0;32m    100\u001b[0m \u001b[38;5;124;03m    The converted operator.\u001b[39;00m\n\u001b[0;32m    101\u001b[0m \u001b[38;5;124;03m\"\"\"\u001b[39;00m\n\u001b[0;32m    102\u001b[0m \u001b[38;5;66;03m# TODO uncomment when we implement Abelian grouped evolution.\u001b[39;00m\n\u001b[0;32m    103\u001b[0m \u001b[38;5;66;03m# if self._grouper:\u001b[39;00m\n\u001b[0;32m    104\u001b[0m \u001b[38;5;66;03m#     # Sort into commuting groups\u001b[39;00m\n\u001b[0;32m    105\u001b[0m \u001b[38;5;66;03m#     operator = self._grouper.convert(operator).reduce()\u001b[39;00m\n\u001b[1;32m--> 106\u001b[0m \u001b[38;5;28;01mreturn\u001b[39;00m \u001b[38;5;28;43mself\u001b[39;49m\u001b[38;5;241;43m.\u001b[39;49m\u001b[43m_recursive_convert\u001b[49m\u001b[43m(\u001b[49m\u001b[43moperator\u001b[49m\u001b[43m)\u001b[49m\n",
      "File \u001b[1;32m~\\Anaconda3\\envs\\quantum\\lib\\site-packages\\qiskit\\opflow\\evolutions\\pauli_trotter_evolution.py:119\u001b[0m, in \u001b[0;36mPauliTrotterEvolution._recursive_convert\u001b[1;34m(self, operator)\u001b[0m\n\u001b[0;32m    117\u001b[0m pauli \u001b[38;5;241m=\u001b[39m operator\u001b[38;5;241m.\u001b[39mprimitive\u001b[38;5;241m.\u001b[39mprimitive\n\u001b[0;32m    118\u001b[0m time \u001b[38;5;241m=\u001b[39m operator\u001b[38;5;241m.\u001b[39mcoeff \u001b[38;5;241m*\u001b[39m operator\u001b[38;5;241m.\u001b[39mprimitive\u001b[38;5;241m.\u001b[39mcoeff\n\u001b[1;32m--> 119\u001b[0m evo \u001b[38;5;241m=\u001b[39m \u001b[43mPauliEvolutionGate\u001b[49m\u001b[43m(\u001b[49m\n\u001b[0;32m    120\u001b[0m \u001b[43m    \u001b[49m\u001b[43mpauli\u001b[49m\u001b[43m,\u001b[49m\u001b[43m \u001b[49m\u001b[43mtime\u001b[49m\u001b[38;5;241;43m=\u001b[39;49m\u001b[43mtime\u001b[49m\u001b[43m,\u001b[49m\u001b[43m \u001b[49m\u001b[43msynthesis\u001b[49m\u001b[38;5;241;43m=\u001b[39;49m\u001b[38;5;28;43mself\u001b[39;49m\u001b[38;5;241;43m.\u001b[39;49m\u001b[43m_get_evolution_synthesis\u001b[49m\u001b[43m(\u001b[49m\u001b[43m)\u001b[49m\n\u001b[0;32m    121\u001b[0m \u001b[43m\u001b[49m\u001b[43m)\u001b[49m\n\u001b[0;32m    122\u001b[0m \u001b[38;5;28;01mreturn\u001b[39;00m CircuitOp(evo)\n\u001b[0;32m    123\u001b[0m \u001b[38;5;66;03m# operator = EvolvedOp(operator.primitive.to_pauli_op(), coeff=operator.coeff)\u001b[39;00m\n",
      "File \u001b[1;32m~\\Anaconda3\\envs\\quantum\\lib\\site-packages\\qiskit\\circuit\\library\\pauli_evolution.py:102\u001b[0m, in \u001b[0;36mPauliEvolutionGate.__init__\u001b[1;34m(self, operator, time, label, synthesis)\u001b[0m\n\u001b[0;32m    100\u001b[0m     operator \u001b[38;5;241m=\u001b[39m [_to_sparse_pauli_op(op) \u001b[38;5;28;01mfor\u001b[39;00m op \u001b[38;5;129;01min\u001b[39;00m operator]\n\u001b[0;32m    101\u001b[0m \u001b[38;5;28;01melse\u001b[39;00m:\n\u001b[1;32m--> 102\u001b[0m     operator \u001b[38;5;241m=\u001b[39m \u001b[43m_to_sparse_pauli_op\u001b[49m\u001b[43m(\u001b[49m\u001b[43moperator\u001b[49m\u001b[43m)\u001b[49m\n\u001b[0;32m    104\u001b[0m \u001b[38;5;28;01mif\u001b[39;00m synthesis \u001b[38;5;129;01mis\u001b[39;00m \u001b[38;5;28;01mNone\u001b[39;00m:\n\u001b[0;32m    105\u001b[0m     synthesis \u001b[38;5;241m=\u001b[39m LieTrotter()\n",
      "File \u001b[1;32m~\\Anaconda3\\envs\\quantum\\lib\\site-packages\\qiskit\\circuit\\library\\pauli_evolution.py:172\u001b[0m, in \u001b[0;36m_to_sparse_pauli_op\u001b[1;34m(operator)\u001b[0m\n\u001b[0;32m    169\u001b[0m     \u001b[38;5;28;01mraise\u001b[39;00m \u001b[38;5;167;01mValueError\u001b[39;00m(\u001b[38;5;124mf\u001b[39m\u001b[38;5;124m\"\u001b[39m\u001b[38;5;124mUnsupported operator type for evolution: \u001b[39m\u001b[38;5;132;01m{\u001b[39;00m\u001b[38;5;28mtype\u001b[39m(operator)\u001b[38;5;132;01m}\u001b[39;00m\u001b[38;5;124m.\u001b[39m\u001b[38;5;124m\"\u001b[39m)\n\u001b[0;32m    171\u001b[0m \u001b[38;5;28;01mif\u001b[39;00m \u001b[38;5;28many\u001b[39m(np\u001b[38;5;241m.\u001b[39miscomplex(sparse_pauli\u001b[38;5;241m.\u001b[39mcoeffs)):\n\u001b[1;32m--> 172\u001b[0m     \u001b[38;5;28;01mraise\u001b[39;00m \u001b[38;5;167;01mValueError\u001b[39;00m(\u001b[38;5;124m\"\u001b[39m\u001b[38;5;124mOperator contains complex coefficients, which are not supported.\u001b[39m\u001b[38;5;124m\"\u001b[39m)\n\u001b[0;32m    174\u001b[0m \u001b[38;5;28;01mreturn\u001b[39;00m sparse_pauli\n",
      "\u001b[1;31mValueError\u001b[0m: Operator contains complex coefficients, which are not supported."
     ]
    }
   ],
   "source": [
    "n=4\n",
    "pauli_op = PauliSumOp(SparsePauliOp.from_operator(A))\n",
    "phi = Parameter('ϕ')\n",
    "evolution_op = (phi * pauli_op).exp_i() # exp(-iϕA)\n",
    "trotterized_op = PauliTrotterEvolution(trotter_mode=Suzuki(order=2, reps=1)).convert(evolution_op).bind_parameters({phi: np.pi/n})\n",
    "trotterized_op.to_matrix()\n",
    "gate = trotterized_op.to_circuit()\n",
    "gate.name = f\"e^(i*A*pi/{n})\"\n",
    "gate.label = f\"e^(i*A*np.pi/{n})\"\n",
    "gate = gate.to_gate().control()"
   ]
  },
  {
   "cell_type": "code",
   "execution_count": 187,
   "id": "051b41a6-8af9-4c5c-81b3-70874e27f33b",
   "metadata": {},
   "outputs": [
    {
     "name": "stdout",
     "output_type": "stream",
     "text": [
      "     ┌─────────┐     \n",
      "q_0: ┤ Ry(π/3) ├──■──\n",
      "     └──┬───┬──┘┌─┴─┐\n",
      "q_1: ───┤ H ├───┤ X ├\n",
      "        └───┘   └───┘\n",
      "c: 2/════════════════\n",
      "                     \n",
      "[[ 0.61237244+0.j -0.35355339+0.j  0.61237244+0.j -0.35355339+0.j]\n",
      " [ 0.35355339+0.j  0.61237244+0.j -0.35355339+0.j -0.61237244+0.j]\n",
      " [ 0.61237244+0.j -0.35355339+0.j -0.61237244+0.j  0.35355339+0.j]\n",
      " [ 0.35355339+0.j  0.61237244+0.j  0.35355339+0.j  0.61237244+0.j]]\n"
     ]
    }
   ],
   "source": [
    "n_b = 1\n",
    "n_ = 0\n",
    "n_ancilla = 1\n",
    "n_cl = 2\n",
    "\n",
    "qc = QuantumCircuit(n_b + n_ + n_ancilla, n_cl)\n",
    "# Matrix exponentiation\n",
    "qc.ry(np.pi/3, 0)\n",
    "qc.h(1)\n",
    "# qc.cry(np.pi/4, 0, 1)\n",
    "qc.cx(0,1)\n",
    "print(qc)\n",
    "op = qi.Operator(qc).data\n",
    "print(op)\n",
    "# np.round(op, 2)"
   ]
  },
  {
   "cell_type": "code",
   "execution_count": 179,
   "id": "4e8e0b76-5d8b-412f-9029-da11a790a025",
   "metadata": {},
   "outputs": [
    {
     "name": "stdout",
     "output_type": "stream",
     "text": [
      "11: 0.126953125\n",
      "00: 0.3623046875\n",
      "01: 0.13671875\n",
      "10: 0.3740234375\n"
     ]
    }
   ],
   "source": [
    "qc.measure([0,1], [0,1])\n",
    "simulator = Aer.get_backend('aer_simulator')\n",
    "qc = transpile(qc, simulator)\n",
    "# Run and get counts\n",
    "shots=1024\n",
    "result = simulator.run(qc, shots=shots).result()\n",
    "counts = result.get_counts(qc)\n",
    "for k, v in counts.items():\n",
    "    print(f'{k}: {v/1024}')"
   ]
  },
  {
   "cell_type": "code",
   "execution_count": 180,
   "id": "46d80f48-f353-4b8a-bb4d-b186a46d10a4",
   "metadata": {},
   "outputs": [],
   "source": []
  },
  {
   "cell_type": "code",
   "execution_count": 181,
   "id": "73ae0469-0f01-4da2-b7bf-9a906fd3666e",
   "metadata": {},
   "outputs": [],
   "source": [
    "#probabilities\n",
    "def multi_kron(*args):\n",
    "    ret = np.array([[1.0]])\n",
    "    for q in args:\n",
    "        ret = np.kron(ret, q)\n",
    "    return ret\n",
    "\n",
    "gate_I = np.array([[1, 0],[1, 0]])"
   ]
  },
  {
   "cell_type": "code",
   "execution_count": 182,
   "id": "fac9cdcf-d403-44b9-831b-d0d04b0276a1",
   "metadata": {},
   "outputs": [],
   "source": []
  },
  {
   "cell_type": "code",
   "execution_count": 186,
   "id": "68760391-3acd-4590-aff4-f73c9d1008d7",
   "metadata": {},
   "outputs": [
    {
     "name": "stdout",
     "output_type": "stream",
     "text": [
      "(0.12499999999999996+0j)\n"
     ]
    }
   ],
   "source": []
  },
  {
   "cell_type": "code",
   "execution_count": 65,
   "id": "551c19a3-3516-4d73-ab5b-b833f5091437",
   "metadata": {},
   "outputs": [
    {
     "name": "stdout",
     "output_type": "stream",
     "text": [
      "[[ 0.5 +0.j    0.35-0.35j  0.  +0.j    0.  +0.j    0.5 +0.j    0.35-0.35j\n",
      "   0.  +0.j    0.  +0.j  ]\n",
      " [ 0.5 +0.j   -0.35+0.35j  0.  +0.j    0.  +0.j    0.5 +0.j   -0.35+0.35j\n",
      "   0.  +0.j    0.  +0.j  ]\n",
      " [ 0.  +0.j    0.  +0.j    0.35-0.35j  0.5 +0.j    0.  +0.j    0.  +0.j\n",
      "   0.35-0.35j  0.5 +0.j  ]\n",
      " [ 0.  +0.j    0.  +0.j    0.35-0.35j -0.5 +0.j    0.  +0.j    0.  +0.j\n",
      "   0.35-0.35j -0.5 +0.j  ]\n",
      " [ 0.5 +0.j    0.35-0.35j  0.  +0.j    0.  +0.j   -0.5 +0.j   -0.35+0.35j\n",
      "   0.  +0.j    0.  +0.j  ]\n",
      " [ 0.5 +0.j   -0.35+0.35j  0.  +0.j    0.  +0.j   -0.5 +0.j    0.35-0.35j\n",
      "   0.  +0.j    0.  +0.j  ]\n",
      " [ 0.  +0.j    0.  +0.j    0.35+0.35j  0.  +0.5j   0.  +0.j    0.  +0.j\n",
      "  -0.35-0.35j  0.  -0.5j ]\n",
      " [ 0.  +0.j    0.  +0.j    0.35+0.35j  0.  -0.5j   0.  +0.j    0.  +0.j\n",
      "  -0.35-0.35j  0.  +0.5j ]]\n"
     ]
    }
   ],
   "source": [
    "first = multi_kron(H(),I(),I())\n",
    "second = control(control_q=2,\n",
    "                  target_q=1,\n",
    "                  n_of_qubits=3,\n",
    "                  operator=Rz(np.pi/2))\n",
    "third = control(control_q=2,\n",
    "                  target_q=1,\n",
    "                  n_of_qubits=3,\n",
    "                  operator=Rz(np.pi/4))\n",
    "fourth = multi_kron(I(),H(),I())\n",
    "third = control(control_q=1,\n",
    "                  target_q=0,\n",
    "                  n_of_qubits=3,\n",
    "                  operator=Rz(np.pi/2))\n",
    "fourth = multi_kron(I(),I(),H())\n",
    "final = multi_dot(fourth, third, second, first)\n",
    "print(np.round(final, 2))"
   ]
  },
  {
   "cell_type": "code",
   "execution_count": null,
   "id": "9774562e-76f5-4c12-9a39-de2bae7ed6ad",
   "metadata": {},
   "outputs": [],
   "source": []
  }
 ],
 "metadata": {
  "kernelspec": {
   "display_name": "quantum",
   "language": "python",
   "name": "quantum"
  },
  "language_info": {
   "codemirror_mode": {
    "name": "ipython",
    "version": 3
   },
   "file_extension": ".py",
   "mimetype": "text/x-python",
   "name": "python",
   "nbconvert_exporter": "python",
   "pygments_lexer": "ipython3",
   "version": "3.10.9"
  }
 },
 "nbformat": 4,
 "nbformat_minor": 5
}
