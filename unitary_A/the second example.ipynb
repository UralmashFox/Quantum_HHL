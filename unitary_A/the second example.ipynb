{
 "cells": [
  {
   "cell_type": "markdown",
   "id": "3b2962a4-1ba9-45c0-9d15-5f78ac08db6a",
   "metadata": {},
   "source": [
    "# The second example\n",
    "\n",
    "from here: https://quantumcomputing.stackexchange.com/questions/15781/hhl-algorithm-how-can-i-get-result-from-register-b-rangle"
   ]
  },
  {
   "cell_type": "code",
   "execution_count": 1,
   "id": "615762e0-fd3a-4931-8d65-98af79992c0f",
   "metadata": {},
   "outputs": [],
   "source": [
    "# https://quantumcomputing.stackexchange.com/questions/24050/how-to-implement-a-exponential-of-a-hamiltonian-but-non-unitary-matrix-in-qisk\n",
    "\n",
    "# control gate: https://qiskit.org/documentation/stubs/qiskit.circuit.ControlledGate.html\n",
    "\n",
    "# circuit https://www.nature.com/articles/s41598-022-17660-8\n",
    "import numpy as np\n",
    "\n",
    "from qiskit.circuit import ControlledGate\n",
    "from qiskit import QuantumCircuit, ClassicalRegister, QuantumRegister, execute, Aer, transpile\n",
    "from qiskit.quantum_info.operators import Operator\n",
    "from qiskit.extensions import UnitaryGate\n",
    "from qiskit.tools.visualization import plot_histogram\n",
    "\n",
    "from qiskit.synthesis import MatrixExponential\n",
    "from qiskit.quantum_info import Operator, DensityMatrix, Statevector\n",
    "from scipy.stats import unitary_group, ortho_group  "
   ]
  },
  {
   "cell_type": "code",
   "execution_count": 2,
   "id": "4cb386b8-1929-451d-b11e-7a8d0baf3423",
   "metadata": {},
   "outputs": [
    {
     "name": "stdout",
     "output_type": "stream",
     "text": [
      "the matrix A is [[-0.94470676  0.32791635]\n",
      " [-0.32791635 -0.94470676]]\n",
      "x-vector [-0.32791635 -0.94470676]\n",
      "0.9999999999999999\n"
     ]
    }
   ],
   "source": [
    "from qiskit.quantum_info import SparsePauliOp\n",
    "from qiskit.opflow.list_ops import SummedOp\n",
    "from qiskit.circuit import Parameter\n",
    "from qiskit.opflow import I, X, Y, Z, H, CX, Zero, ListOp, PauliExpectation, PauliTrotterEvolution, CircuitSampler, MatrixEvolution, Suzuki, PauliSumOp\n",
    "A = ortho_group.rvs(2)\n",
    "b = np.array([0, 1]).T\n",
    "print(f'the matrix A is {A}')\n",
    "x = np.linalg.solve(A,b)\n",
    "print('x-vector', x)\n",
    "print(np.sum(x**2))"
   ]
  },
  {
   "cell_type": "code",
   "execution_count": 3,
   "id": "2eaeb42d-f81c-47a4-9eba-76a926f9121d",
   "metadata": {},
   "outputs": [],
   "source": [
    "def get_gate(A, n):    \n",
    "    pauli_op = PauliSumOp(SparsePauliOp.from_operator(A))\n",
    "    # phi = Parameter('ϕ')\n",
    "    # evolution_op = (phi * pauli_op).exp_i() # exp(-iϕA)\n",
    "    # trotterized_op = PauliTrotterEvolution(trotter_mode=Suzuki(order=2, reps=1)).convert(evolution_op).bind_parameters({phi: np.pi/n})\n",
    "    #----control---------\n",
    "    gate = evolution_op.to_circuit()\n",
    "    gate.name = f\"A\"\n",
    "    gate.label = f\"A\"\n",
    "    gate = gate.to_gate().control()\n",
    "    #---------------------\n",
    "    return gate"
   ]
  },
  {
   "cell_type": "code",
   "execution_count": 4,
   "id": "84a782ad-2860-4ba9-aee3-dcc9f45da532",
   "metadata": {
    "tags": []
   },
   "outputs": [
    {
     "ename": "ValueError",
     "evalue": "Operator contains complex coefficients, which are not supported.",
     "output_type": "error",
     "traceback": [
      "\u001b[1;31m---------------------------------------------------------------------------\u001b[0m",
      "\u001b[1;31mValueError\u001b[0m                                Traceback (most recent call last)",
      "Cell \u001b[1;32mIn[4], line 15\u001b[0m\n\u001b[0;32m     13\u001b[0m \u001b[38;5;66;03m# Matrix exponentiation\u001b[39;00m\n\u001b[0;32m     14\u001b[0m \u001b[38;5;28;01mfor\u001b[39;00m i \u001b[38;5;129;01min\u001b[39;00m \u001b[38;5;28mrange\u001b[39m(\u001b[38;5;241m0\u001b[39m, n_):\n\u001b[1;32m---> 15\u001b[0m     gate \u001b[38;5;241m=\u001b[39m \u001b[43mget_gate\u001b[49m\u001b[43m(\u001b[49m\u001b[38;5;241;43m-\u001b[39;49m\u001b[43mA\u001b[49m\u001b[43m,\u001b[49m\u001b[43m \u001b[49m\u001b[38;5;241;43m2\u001b[39;49m\u001b[38;5;241;43m*\u001b[39;49m\u001b[38;5;241;43m*\u001b[39;49m\u001b[43m(\u001b[49m\u001b[43mi\u001b[49m\u001b[38;5;241;43m+\u001b[39;49m\u001b[38;5;241;43m1\u001b[39;49m\u001b[43m)\u001b[49m\u001b[43m)\u001b[49m\n\u001b[0;32m     16\u001b[0m     qc\u001b[38;5;241m.\u001b[39mappend(gate,[i\u001b[38;5;241m+\u001b[39m\u001b[38;5;241m1\u001b[39m, \u001b[38;5;241m0\u001b[39m])\n\u001b[0;32m     17\u001b[0m     qc\u001b[38;5;241m.\u001b[39mcrz(\u001b[38;5;241m-\u001b[39mnp\u001b[38;5;241m.\u001b[39mpi\u001b[38;5;241m/\u001b[39m\u001b[38;5;28mfloat\u001b[39m(\u001b[38;5;241m2\u001b[39m\u001b[38;5;241m*\u001b[39m\u001b[38;5;241m*\u001b[39m(i\u001b[38;5;241m+\u001b[39m\u001b[38;5;241m1\u001b[39m)), i\u001b[38;5;241m+\u001b[39m\u001b[38;5;241m1\u001b[39m, \u001b[38;5;241m0\u001b[39m)\n",
      "Cell \u001b[1;32mIn[3], line 5\u001b[0m, in \u001b[0;36mget_gate\u001b[1;34m(A, n)\u001b[0m\n\u001b[0;32m      3\u001b[0m phi \u001b[38;5;241m=\u001b[39m Parameter(\u001b[38;5;124m'\u001b[39m\u001b[38;5;124mϕ\u001b[39m\u001b[38;5;124m'\u001b[39m)\n\u001b[0;32m      4\u001b[0m evolution_op \u001b[38;5;241m=\u001b[39m (phi \u001b[38;5;241m*\u001b[39m pauli_op)\u001b[38;5;241m.\u001b[39mexp_i() \u001b[38;5;66;03m# exp(-iϕA)\u001b[39;00m\n\u001b[1;32m----> 5\u001b[0m trotterized_op \u001b[38;5;241m=\u001b[39m \u001b[43mPauliTrotterEvolution\u001b[49m\u001b[43m(\u001b[49m\u001b[43mtrotter_mode\u001b[49m\u001b[38;5;241;43m=\u001b[39;49m\u001b[43mSuzuki\u001b[49m\u001b[43m(\u001b[49m\u001b[43morder\u001b[49m\u001b[38;5;241;43m=\u001b[39;49m\u001b[38;5;241;43m2\u001b[39;49m\u001b[43m,\u001b[49m\u001b[43m \u001b[49m\u001b[43mreps\u001b[49m\u001b[38;5;241;43m=\u001b[39;49m\u001b[38;5;241;43m1\u001b[39;49m\u001b[43m)\u001b[49m\u001b[43m)\u001b[49m\u001b[38;5;241;43m.\u001b[39;49m\u001b[43mconvert\u001b[49m\u001b[43m(\u001b[49m\u001b[43mevolution_op\u001b[49m\u001b[43m)\u001b[49m\u001b[38;5;241m.\u001b[39mbind_parameters({phi: np\u001b[38;5;241m.\u001b[39mpi\u001b[38;5;241m/\u001b[39mn})\n\u001b[0;32m      6\u001b[0m \u001b[38;5;66;03m#----control---------\u001b[39;00m\n\u001b[0;32m      7\u001b[0m gate \u001b[38;5;241m=\u001b[39m evolution_op\u001b[38;5;241m.\u001b[39mto_circuit()\n",
      "File \u001b[1;32m~\\Anaconda3\\envs\\quantum\\lib\\site-packages\\qiskit\\opflow\\evolutions\\pauli_trotter_evolution.py:106\u001b[0m, in \u001b[0;36mPauliTrotterEvolution.convert\u001b[1;34m(self, operator)\u001b[0m\n\u001b[0;32m     92\u001b[0m \u001b[38;5;124mr\u001b[39m\u001b[38;5;124;03m\"\"\"\u001b[39;00m\n\u001b[0;32m     93\u001b[0m \u001b[38;5;124;03mTraverse the operator, replacing ``EvolvedOps`` with ``CircuitOps`` containing\u001b[39;00m\n\u001b[0;32m     94\u001b[0m \u001b[38;5;124;03mTrotterized evolutions equalling the exponentiation of -i * operator.\u001b[39;00m\n\u001b[1;32m   (...)\u001b[0m\n\u001b[0;32m    100\u001b[0m \u001b[38;5;124;03m    The converted operator.\u001b[39;00m\n\u001b[0;32m    101\u001b[0m \u001b[38;5;124;03m\"\"\"\u001b[39;00m\n\u001b[0;32m    102\u001b[0m \u001b[38;5;66;03m# TODO uncomment when we implement Abelian grouped evolution.\u001b[39;00m\n\u001b[0;32m    103\u001b[0m \u001b[38;5;66;03m# if self._grouper:\u001b[39;00m\n\u001b[0;32m    104\u001b[0m \u001b[38;5;66;03m#     # Sort into commuting groups\u001b[39;00m\n\u001b[0;32m    105\u001b[0m \u001b[38;5;66;03m#     operator = self._grouper.convert(operator).reduce()\u001b[39;00m\n\u001b[1;32m--> 106\u001b[0m \u001b[38;5;28;01mreturn\u001b[39;00m \u001b[38;5;28;43mself\u001b[39;49m\u001b[38;5;241;43m.\u001b[39;49m\u001b[43m_recursive_convert\u001b[49m\u001b[43m(\u001b[49m\u001b[43moperator\u001b[49m\u001b[43m)\u001b[49m\n",
      "File \u001b[1;32m~\\Anaconda3\\envs\\quantum\\lib\\site-packages\\qiskit\\opflow\\evolutions\\pauli_trotter_evolution.py:119\u001b[0m, in \u001b[0;36mPauliTrotterEvolution._recursive_convert\u001b[1;34m(self, operator)\u001b[0m\n\u001b[0;32m    117\u001b[0m pauli \u001b[38;5;241m=\u001b[39m operator\u001b[38;5;241m.\u001b[39mprimitive\u001b[38;5;241m.\u001b[39mprimitive\n\u001b[0;32m    118\u001b[0m time \u001b[38;5;241m=\u001b[39m operator\u001b[38;5;241m.\u001b[39mcoeff \u001b[38;5;241m*\u001b[39m operator\u001b[38;5;241m.\u001b[39mprimitive\u001b[38;5;241m.\u001b[39mcoeff\n\u001b[1;32m--> 119\u001b[0m evo \u001b[38;5;241m=\u001b[39m \u001b[43mPauliEvolutionGate\u001b[49m\u001b[43m(\u001b[49m\n\u001b[0;32m    120\u001b[0m \u001b[43m    \u001b[49m\u001b[43mpauli\u001b[49m\u001b[43m,\u001b[49m\u001b[43m \u001b[49m\u001b[43mtime\u001b[49m\u001b[38;5;241;43m=\u001b[39;49m\u001b[43mtime\u001b[49m\u001b[43m,\u001b[49m\u001b[43m \u001b[49m\u001b[43msynthesis\u001b[49m\u001b[38;5;241;43m=\u001b[39;49m\u001b[38;5;28;43mself\u001b[39;49m\u001b[38;5;241;43m.\u001b[39;49m\u001b[43m_get_evolution_synthesis\u001b[49m\u001b[43m(\u001b[49m\u001b[43m)\u001b[49m\n\u001b[0;32m    121\u001b[0m \u001b[43m\u001b[49m\u001b[43m)\u001b[49m\n\u001b[0;32m    122\u001b[0m \u001b[38;5;28;01mreturn\u001b[39;00m CircuitOp(evo)\n\u001b[0;32m    123\u001b[0m \u001b[38;5;66;03m# operator = EvolvedOp(operator.primitive.to_pauli_op(), coeff=operator.coeff)\u001b[39;00m\n",
      "File \u001b[1;32m~\\Anaconda3\\envs\\quantum\\lib\\site-packages\\qiskit\\circuit\\library\\pauli_evolution.py:102\u001b[0m, in \u001b[0;36mPauliEvolutionGate.__init__\u001b[1;34m(self, operator, time, label, synthesis)\u001b[0m\n\u001b[0;32m    100\u001b[0m     operator \u001b[38;5;241m=\u001b[39m [_to_sparse_pauli_op(op) \u001b[38;5;28;01mfor\u001b[39;00m op \u001b[38;5;129;01min\u001b[39;00m operator]\n\u001b[0;32m    101\u001b[0m \u001b[38;5;28;01melse\u001b[39;00m:\n\u001b[1;32m--> 102\u001b[0m     operator \u001b[38;5;241m=\u001b[39m \u001b[43m_to_sparse_pauli_op\u001b[49m\u001b[43m(\u001b[49m\u001b[43moperator\u001b[49m\u001b[43m)\u001b[49m\n\u001b[0;32m    104\u001b[0m \u001b[38;5;28;01mif\u001b[39;00m synthesis \u001b[38;5;129;01mis\u001b[39;00m \u001b[38;5;28;01mNone\u001b[39;00m:\n\u001b[0;32m    105\u001b[0m     synthesis \u001b[38;5;241m=\u001b[39m LieTrotter()\n",
      "File \u001b[1;32m~\\Anaconda3\\envs\\quantum\\lib\\site-packages\\qiskit\\circuit\\library\\pauli_evolution.py:172\u001b[0m, in \u001b[0;36m_to_sparse_pauli_op\u001b[1;34m(operator)\u001b[0m\n\u001b[0;32m    169\u001b[0m     \u001b[38;5;28;01mraise\u001b[39;00m \u001b[38;5;167;01mValueError\u001b[39;00m(\u001b[38;5;124mf\u001b[39m\u001b[38;5;124m\"\u001b[39m\u001b[38;5;124mUnsupported operator type for evolution: \u001b[39m\u001b[38;5;132;01m{\u001b[39;00m\u001b[38;5;28mtype\u001b[39m(operator)\u001b[38;5;132;01m}\u001b[39;00m\u001b[38;5;124m.\u001b[39m\u001b[38;5;124m\"\u001b[39m)\n\u001b[0;32m    171\u001b[0m \u001b[38;5;28;01mif\u001b[39;00m \u001b[38;5;28many\u001b[39m(np\u001b[38;5;241m.\u001b[39miscomplex(sparse_pauli\u001b[38;5;241m.\u001b[39mcoeffs)):\n\u001b[1;32m--> 172\u001b[0m     \u001b[38;5;28;01mraise\u001b[39;00m \u001b[38;5;167;01mValueError\u001b[39;00m(\u001b[38;5;124m\"\u001b[39m\u001b[38;5;124mOperator contains complex coefficients, which are not supported.\u001b[39m\u001b[38;5;124m\"\u001b[39m)\n\u001b[0;32m    174\u001b[0m \u001b[38;5;28;01mreturn\u001b[39;00m sparse_pauli\n",
      "\u001b[1;31mValueError\u001b[0m: Operator contains complex coefficients, which are not supported."
     ]
    }
   ],
   "source": [
    "n_b = 1\n",
    "n_ = 12\n",
    "n_ancilla = 1\n",
    "n_cl = 2\n",
    "# quantum circuit initialization\n",
    "qc = QuantumCircuit(n_b + n_ + n_ancilla, 1)\n",
    "# b-vector state preparation\n",
    "for i in range(n_b):\n",
    "    qc.x(i)\n",
    "for i in range(n_b, n_b+n_):\n",
    "    qc.h(i)\n",
    "qc.barrier()\n",
    "# Matrix exponentiation\n",
    "for i in range(0, n_):\n",
    "    gate = get_gate(-A, 2**(i+1))\n",
    "    qc.append(gate,[i+1, 0])\n",
    "    qc.crz(-np.pi/float(2**(i+1)), i+1, 0)\n",
    "qc.barrier()\n",
    "# # # Phase estimation\n",
    "for j in range(n_b + n_ - 1, n_b, -1):\n",
    "    qc.h(j)\n",
    "    for m in range(j - n_b):\n",
    "        qc.crz(-np.pi/float(2**(j-m - n_b)), j, m+n_b)\n",
    "qc.h(j-1)\n",
    "qc.barrier()\n",
    "# # As I understood, we wncode ancilla qubit to be sure that result will be correct\n",
    "for j in range(1, 1+n_):\n",
    "    qc.cry(np.pi/(2**j), n_b+n_-j, n_b+n_)\n",
    "qc.barrier()\n",
    "# # Inverse quantum Fourier transform\n",
    "for j in range(n_b, n_b + n_):\n",
    "    for m in range(j - n_b):\n",
    "        qc.crz(np.pi/float(2**(j-m - n_b)), j, m+n_b)\n",
    "    qc.h(j)\n",
    "qc.h(n_b)\n",
    "qc.barrier()\n",
    "# # Eigenvalues storing in the vecor b register\n",
    "for i in range(n_, 0, -1):\n",
    "    gate = get_gate(A, -(2**(i)))\n",
    "    qc.append(gate,[i, 0])\n",
    "    qc.crz(np.pi/float(2**(i)), i, 0)\n",
    "qc.barrier()\n",
    "# qubits measurement. I do not measure the ancilla qubit\n",
    "# print(np.round(Operator.from_circuit(qc), 3))\n",
    "# np.round(DensityMatrix.from_instruction(qc).data, 2)\n",
    "vec = Statevector.from_instruction(qc).data\n",
    "# print(np.round(vec, 2))\n",
    "vec = np.array([[vec[i]] for i in range(len(vec))])\n",
    "# print(vec)\n",
    "rho = np.dot(vec, vec.T)\n",
    "# print(rho)\n",
    "# DensityMatrix.from_instruction(qc).data\n",
    "# print(np.round(rho,2))\n",
    "# print(np.round(rho.T, 2))\n",
    "# qc.draw(output='mpl', style={'backgroundcolor': '#EEEEEE'})"
   ]
  },
  {
   "cell_type": "code",
   "execution_count": null,
   "id": "2a1a59c7-e515-4fc3-9741-c6478fd6bbe1",
   "metadata": {},
   "outputs": [],
   "source": [
    "# qc.measure(-1, 1)\n",
    "qc.measure(0, 0)\n",
    "# qc.draw(output='mpl', style={'backgroundcolor': '#EEEEEE'})"
   ]
  },
  {
   "cell_type": "code",
   "execution_count": 36,
   "id": "82787b74-5d5e-4c12-b461-8c475f8c3f4c",
   "metadata": {},
   "outputs": [],
   "source": [
    "simulator = Aer.get_backend('qasm_simulator')\n",
    "circ = transpile(qc, simulator)\n",
    "shots = 10000\n",
    "result = execute(qc, backend=simulator, shots=shots).result()"
   ]
  },
  {
   "cell_type": "markdown",
   "id": "46892ff1-8051-4432-a95c-73aa0bdba1dd",
   "metadata": {},
   "source": [
    "# Calculated result"
   ]
  },
  {
   "cell_type": "code",
   "execution_count": 37,
   "id": "c0ac7ffe-5289-4bf9-b866-f1af332ac840",
   "metadata": {},
   "outputs": [
    {
     "name": "stdout",
     "output_type": "stream",
     "text": [
      "[0.854 0.146]\n"
     ]
    }
   ],
   "source": [
    "counts = result.get_counts()\n",
    "probabilities = counts.copy()\n",
    "for k, v in probabilities.items():\n",
    "    probabilities[k] = v/shots\n",
    "# print(probabilities)\n",
    "vals = np.array(list(probabilities.values()))\n",
    "print(vals)"
   ]
  },
  {
   "cell_type": "markdown",
   "id": "cb096793-2b15-41ba-8f3d-069e25b927a8",
   "metadata": {},
   "source": [
    "# Result x-vector from paper"
   ]
  },
  {
   "cell_type": "code",
   "execution_count": 38,
   "id": "87af8043-8bec-4bab-9926-2d13585023f0",
   "metadata": {},
   "outputs": [
    {
     "name": "stdout",
     "output_type": "stream",
     "text": [
      "real x [-0.13761376  0.99048597],\n",
      " sqrt [0.37096328 0.99523162],\n",
      " squared [0.01893755 0.98106245],\n",
      " normed [-0.13761376  0.99048597],\n",
      "normed squarsed[0.01893755 0.98106245]\n"
     ]
    }
   ],
   "source": [
    "x = np.linalg.solve(A,b)\n",
    "print(f\"real x {x},\\n sqrt {np.sqrt(np.abs(x))},\\n squared {x**2},\\n normed {np.array(x) / np.linalg.norm(x)},\\n\"\n",
    "      f\"normed squarsed{(np.array(x) / np.linalg.norm(x))**2}\")"
   ]
  },
  {
   "cell_type": "code",
   "execution_count": null,
   "id": "439ae398-556d-4e4a-97a3-796100f40b20",
   "metadata": {},
   "outputs": [],
   "source": [
    "{'0': 0.4469, '1': 0.5531}"
   ]
  },
  {
   "cell_type": "code",
   "execution_count": 69,
   "id": "27eda4fd-ca55-4988-9416-960aae0fb06a",
   "metadata": {},
   "outputs": [
    {
     "data": {
      "text/plain": [
       "(-0.28723930907958567-1.3266442186877667j)"
      ]
     },
     "execution_count": 69,
     "metadata": {},
     "output_type": "execute_result"
    }
   ],
   "source": [
    "np.sum(np.sqrt(x)**2)"
   ]
  },
  {
   "cell_type": "markdown",
   "id": "9657c85c-90e9-475d-9216-4026c5843e13",
   "metadata": {},
   "source": [
    "# Normalization of real x-vector result"
   ]
  },
  {
   "cell_type": "code",
   "execution_count": 70,
   "id": "c80df458-d820-4106-8f1d-3cf094faea21",
   "metadata": {},
   "outputs": [
    {
     "data": {
      "text/plain": [
       "array([0.4772977 -0.75015003j, 0.57449345-0.53138504j])"
      ]
     },
     "execution_count": 70,
     "metadata": {},
     "output_type": "execute_result"
    }
   ],
   "source": [
    "a = np.linalg.solve(A,b)\n",
    "\n",
    "from sklearn.preprocessing import normalize\n",
    "norm1 = np.array(a) / np.linalg.norm(a)\n",
    "np.sqrt(a)"
   ]
  },
  {
   "cell_type": "code",
   "execution_count": null,
   "id": "2920d6a7-bb1e-4a44-8974-a215226a2c22",
   "metadata": {},
   "outputs": [],
   "source": [
    "{'0': 0.4469, '1': 0.5531}"
   ]
  }
 ],
 "metadata": {
  "kernelspec": {
   "display_name": "Python 3 (ipykernel)",
   "language": "python",
   "name": "python3"
  },
  "language_info": {
   "codemirror_mode": {
    "name": "ipython",
    "version": 3
   },
   "file_extension": ".py",
   "mimetype": "text/x-python",
   "name": "python",
   "nbconvert_exporter": "python",
   "pygments_lexer": "ipython3",
   "version": "3.10.9"
  }
 },
 "nbformat": 4,
 "nbformat_minor": 5
}
