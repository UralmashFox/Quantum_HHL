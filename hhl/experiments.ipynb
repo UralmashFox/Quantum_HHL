{
 "cells": [
  {
   "cell_type": "code",
   "execution_count": 26,
   "id": "initial_id",
   "metadata": {
    "collapsed": true,
    "ExecuteTime": {
     "end_time": "2024-10-15T18:55:34.493194400Z",
     "start_time": "2024-10-15T18:55:34.356385800Z"
    }
   },
   "outputs": [
    {
     "name": "stdout",
     "output_type": "stream",
     "text": [
      "[1.07+0.j 0.87+0.j]\n",
      "[0.48012423+0.8772005j  0.64482655+0.76432894j]\n"
     ]
    }
   ],
   "source": [
    "import numpy as np\n",
    "import scipy.linalg as la\n",
    "des = [0.5, 0.5]\n",
    "n = len(des)\n",
    "s = np.diag(des)\n",
    "q, _ = la.qr(np.random.rand(n, n))\n",
    "A = q.T @ s @ q\n",
    "A = np.array([\n",
    "    [0.97, 0.1],\n",
    "    [0.1, 0.97],\n",
    "    ]).astype('complex')\n",
    "eigs_h, vecs_h = np.linalg.eig(A)\n",
    "RESULTS = []\n",
    "print(eigs_h)\n",
    "U = la.expm(1j*A)\n",
    "eigs_u, vecs_u = np.linalg.eig(U)\n",
    "print(np.linalg.eig(U)[0])"
   ]
  },
  {
   "cell_type": "code",
   "outputs": [
    {
     "name": "stdout",
     "output_type": "stream",
     "text": [
      "Hermitian \n",
      " [[0.97+0.j 0.1 +0.j]\n",
      " [0.1 +0.j 0.97+0.j]] \n",
      " Unitary \n",
      " [[ 0.56247539+0.82076472j -0.08235116+0.05643578j]\n",
      " [-0.08235116+0.05643578j  0.56247539+0.82076472j]]\n"
     ]
    }
   ],
   "source": [
    "print(f'Hermitian \\n {A} \\n Unitary \\n {U}')"
   ],
   "metadata": {
    "collapsed": false,
    "ExecuteTime": {
     "end_time": "2024-10-15T18:52:55.460630800Z",
     "start_time": "2024-10-15T18:52:55.452517800Z"
    }
   },
   "id": "53115331aeb68cdf",
   "execution_count": 22
  },
  {
   "cell_type": "code",
   "outputs": [
    {
     "name": "stdout",
     "output_type": "stream",
     "text": [
      "Hermitian \n",
      " [[1.5+0.j 0.5+0.j]\n",
      " [0.5+0.j 1.5+0.j]] \n",
      " Unitary \n",
      " [[ 0.06207773+0.87538421j -0.47822457+0.03391322j]\n",
      " [-0.47822457+0.03391322j  0.06207773+0.87538421j]]\n"
     ]
    }
   ],
   "source": [
    "print(f'Hermitian \\n {A} \\n Unitary \\n {U}')\n",
    "# print(U)"
   ],
   "metadata": {
    "collapsed": false,
    "ExecuteTime": {
     "end_time": "2024-10-15T18:51:10.924497500Z",
     "start_time": "2024-10-15T18:51:10.552871900Z"
    }
   },
   "id": "9b6a6be0a605a72d",
   "execution_count": 13
  },
  {
   "cell_type": "code",
   "outputs": [
    {
     "data": {
      "text/plain": "True"
     },
     "execution_count": 21,
     "metadata": {},
     "output_type": "execute_result"
    }
   ],
   "source": [
    "la.ishermitian(A)"
   ],
   "metadata": {
    "collapsed": false,
    "ExecuteTime": {
     "end_time": "2024-10-15T18:52:47.248850100Z",
     "start_time": "2024-10-15T18:52:47.241506400Z"
    }
   },
   "id": "175e918629f00921",
   "execution_count": 21
  },
  {
   "cell_type": "code",
   "outputs": [
    {
     "name": "stdout",
     "output_type": "stream",
     "text": [
      "[0.78588726+0.6183698j 0.23523757+0.9719379j]\n"
     ]
    }
   ],
   "source": [
    "H = np.array([[1, -1/3], [-1/3, 1]])\n",
    "\n",
    "# U = np.array([[-1+1j, 1+1j], [1+1j, -1+1j]]) / 2\n",
    "U = la.expm(1j*H)\n",
    "print(np.linalg.eig(U)[0])"
   ],
   "metadata": {
    "collapsed": false,
    "ExecuteTime": {
     "end_time": "2024-10-15T18:59:04.214918900Z",
     "start_time": "2024-10-15T18:59:04.197712300Z"
    }
   },
   "id": "2d2c0b62edd6e61f",
   "execution_count": 28
  },
  {
   "cell_type": "code",
   "outputs": [
    {
     "name": "stdout",
     "output_type": "stream",
     "text": [
      "[1j, (-1-0j)]\n"
     ]
    }
   ],
   "source": [
    "U = la.expm(1j*H*3*np.pi/4)\n",
    "print([np.round(val, 5) for val in np.linalg.eig(U)[0]])"
   ],
   "metadata": {
    "collapsed": false,
    "ExecuteTime": {
     "end_time": "2024-10-15T19:02:00.528549200Z",
     "start_time": "2024-10-15T19:02:00.512800600Z"
    }
   },
   "id": "2894ebe678087577",
   "execution_count": 30
  },
  {
   "cell_type": "code",
   "outputs": [
    {
     "data": {
      "text/plain": "array([1.33333333, 0.66666667])"
     },
     "execution_count": 34,
     "metadata": {},
     "output_type": "execute_result"
    }
   ],
   "source": [
    "np.linalg.eig(H)[0]"
   ],
   "metadata": {
    "collapsed": false,
    "ExecuteTime": {
     "end_time": "2024-10-15T19:03:39.178540400Z",
     "start_time": "2024-10-15T19:03:39.155945100Z"
    }
   },
   "id": "ab99bec30ca7b5b3",
   "execution_count": 34
  },
  {
   "cell_type": "code",
   "outputs": [],
   "source": [],
   "metadata": {
    "collapsed": false
   },
   "id": "56d7a3c47b7f7de0"
  }
 ],
 "metadata": {
  "kernelspec": {
   "display_name": "Python 3",
   "language": "python",
   "name": "python3"
  },
  "language_info": {
   "codemirror_mode": {
    "name": "ipython",
    "version": 2
   },
   "file_extension": ".py",
   "mimetype": "text/x-python",
   "name": "python",
   "nbconvert_exporter": "python",
   "pygments_lexer": "ipython2",
   "version": "2.7.6"
  }
 },
 "nbformat": 4,
 "nbformat_minor": 5
}
