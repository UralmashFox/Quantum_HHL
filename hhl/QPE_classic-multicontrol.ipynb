{
 "cells": [
  {
   "cell_type": "code",
   "outputs": [
    {
     "name": "stderr",
     "output_type": "stream",
     "text": [
      "C:\\Users\\lisis\\AppData\\Local\\Temp\\ipykernel_12300\\2437713394.py:6: DeprecationWarning: The qiskit.extensions module is deprecated since Qiskit 0.46.0. It will be removed in the Qiskit 1.0 release.\n",
      "  from qiskit.extensions import UnitaryGate\n"
     ]
    }
   ],
   "source": [
    "from os import environ\n",
    "environ['OMP_NUM_THREADS'] = '12'\n",
    "import numpy as np\n",
    "import scipy.linalg as la\n",
    "from qiskit import QuantumCircuit, Aer, execute\n",
    "from qiskit.extensions import UnitaryGate\n",
    "import matplotlib.pyplot as plt"
   ],
   "metadata": {
    "tags": [],
    "ExecuteTime": {
     "end_time": "2024-10-12T07:40:41.892345900Z",
     "start_time": "2024-10-12T07:40:32.420820800Z"
    }
   },
   "id": "2b6d6b56-4207-4e95-b8e8-512ad7598d1b",
   "execution_count": 1
  },
  {
   "cell_type": "markdown",
   "source": [
    "{\\displaystyle \\left|\\det(U)\\right|=1}. \n",
    "That is, det ( U ) {\\displaystyle \\det(U)} will be on the unit circle of the complex plane.\n",
    "\n",
    "Its eigenspaces are orthogonal.\n",
    "\n",
    "U can be written as U = eiH, where e indicates the matrix exponential, i is the imaginary unit, and H is a Hermitian matrix."
   ],
   "metadata": {
    "collapsed": false
   },
   "id": "aafa28d661401b7e"
  },
  {
   "cell_type": "code",
   "execution_count": 42,
   "id": "1b67046d-7f64-4116-b993-49db3c2008c1",
   "metadata": {
    "ExecuteTime": {
     "end_time": "2024-10-12T08:30:13.254385800Z",
     "start_time": "2024-10-12T08:30:13.214655100Z"
    }
   },
   "outputs": [
    {
     "name": "stdout",
     "output_type": "stream",
     "text": [
      "[[-0.99973596 -0.96789138]\n",
      " [-0.02297838 -0.25136879]]\n",
      "0.26626999434626614\n"
     ]
    }
   ],
   "source": [
    "qubit_num = 2 #число кубитов для вычисления собственного значения\n",
    "\n",
    "b = np.array([1, 0])\n",
    "H_input = np.array([[1, -1/3], [-1/3, 1]])\n",
    "a = np.sqrt(2)\n",
    "b = np.sqrt(3)\n",
    "c=1\n",
    "H_input = np.array([[c, a+1j*b], [a-1j*b, c]])\n",
    "# U = np.array([[-1+1j, 1+1j], [1+1j, -1+1j]]) / 2\n",
    "import random\n",
    "alpha = random.uniform(0, 2*np.pi)\n",
    "beta = random.uniform(0, 2*np.pi)\n",
    "delta = random.uniform(0, 2*np.pi)\n",
    "phi = random.uniform(0, 2*np.pi)\n",
    "\n",
    "# U = la.expm(2*np.pi*2.62/1.23*1j*H_input)\n",
    "U = np.array([[np.cos(phi)*np.exp(alpha+beta+delta),\n",
    "               np.sin(phi)*np.exp(alpha-beta+delta)],\n",
    "              [-np.sin(phi)*np.exp(alpha+beta-delta),\n",
    "               np.cos(phi)*np.exp(alpha-beta+delta)]])\n",
    "# print(U)\n",
    "# print(U)\n",
    "\n",
    "eigs, vecs = np.linalg.eig(U)\n",
    "print(vecs)\n",
    "# eigsH, vecsH = np.linalg.eig(H_input)\n",
    "# print(eigsH)\n",
    "# print(eigs)\n",
    "# print(vecs)\n",
    "print(np.vdot(*vecs))"
   ]
  },
  {
   "cell_type": "code",
   "execution_count": 184,
   "outputs": [],
   "source": [
    "def noise_val():\n",
    "    return np.random.normal(0,0.1,1)[0] #+  1.j*np.random.normal(0,0.3,1)[0]\n",
    "    # return 0.1#+0.1j"
   ],
   "metadata": {
    "collapsed": false,
    "ExecuteTime": {
     "end_time": "2024-10-10T11:46:31.458514600Z",
     "start_time": "2024-10-10T11:46:31.439989600Z"
    }
   },
   "id": "28850411cf11ddb9"
  },
  {
   "cell_type": "code",
   "execution_count": 185,
   "id": "279ac6b6-9031-40e8-a908-dde77ec0d2a5",
   "metadata": {
    "ExecuteTime": {
     "end_time": "2024-10-10T11:46:31.921436Z",
     "start_time": "2024-10-10T11:46:31.894785600Z"
    }
   },
   "outputs": [],
   "source": [
    "#states\n",
    "state_zero = np.array([[1.0],[0.0]])\n",
    "state_one = np.array([[0.0],[1.0]])\n",
    "#projectors\n",
    "P0 = np.dot(state_zero, state_zero.T)\n",
    "P1 = np.dot(state_one, state_one.T)"
   ]
  },
  {
   "cell_type": "code",
   "execution_count": 186,
   "id": "d66edea0-7fb1-4f06-8b6c-7960923fd890",
   "metadata": {
    "ExecuteTime": {
     "end_time": "2024-10-10T11:46:32.864848500Z",
     "start_time": "2024-10-10T11:46:32.846078300Z"
    }
   },
   "outputs": [],
   "source": [
    "def multi_kron(*args):\n",
    "    ret = np.array([[1.0]]).astype('complex')\n",
    "    for q in args: \n",
    "        ret = np.kron(ret, q)\n",
    "    return ret\n",
    "\n",
    "def multi_dot(*args):\n",
    "    ret = np.eye(np.shape(args[0])[0]).astype('complex')\n",
    "    for q in args:\n",
    "        ret = np.dot(ret, q)\n",
    "    return ret"
   ]
  },
  {
   "cell_type": "code",
   "execution_count": 187,
   "id": "23ca9b91-948b-4061-9416-1aaa2f212325",
   "metadata": {
    "ExecuteTime": {
     "end_time": "2024-10-10T11:46:34.808307900Z",
     "start_time": "2024-10-10T11:46:34.782730400Z"
    }
   },
   "outputs": [],
   "source": [
    "def H():\n",
    "    return 1/np.sqrt(2) * np.array([[1, 1],\n",
    "                                    [1, -1]]).astype('complex')\n",
    "def X():\n",
    "    return np.array([[0, 1],\n",
    "                     [1, 0]]).astype('complex')\n",
    "def Rz(phi):\n",
    "    return np.array([[np.exp(-1j*phi/2), 0],\n",
    "                     [0, np.exp(1j*phi/2)]]).astype('complex')\n",
    "def P(phi):\n",
    "    return np.array([[1, 0],\n",
    "                     [0, np.exp(1j*phi)]]).astype('complex')\n",
    "def Ry(theta):\n",
    "    return np.array([[np.cos(theta/2), -np.sin(theta/2)],\n",
    "                     [np.sin(theta/2), np.cos(theta/2)]]).astype('complex')\n",
    "def I():\n",
    "    return np.array([[1, 0],\n",
    "                     [0, 1]]).astype('complex')\n",
    "\n",
    "#for some reson CONTROL and TARGET are changed\n",
    "def control(control_q, target_q, n_of_qubits, operator):\n",
    "    list_of_ops_left = []\n",
    "    list_of_ops_right = []\n",
    "    stop = False\n",
    "    for i in range(n_of_qubits):\n",
    "        if i in control_q:\n",
    "            list_of_ops_left.append(P0)\n",
    "            list_of_ops_right.append(P1)\n",
    "        elif i in target_q:\n",
    "            if np.shape(U) != (2, 2):\n",
    "                if not stop:\n",
    "                    for _ in range(len(target_q)):\n",
    "                        list_of_ops_left.append(I())\n",
    "                    list_of_ops_right.append(operator)\n",
    "                    stop = True\n",
    "            else:\n",
    "                list_of_ops_left.append(I())\n",
    "                list_of_ops_right.append(operator)\n",
    "        else:\n",
    "            list_of_ops_left.append(I())\n",
    "            list_of_ops_right.append(I())\n",
    "    return multi_kron(*list_of_ops_left) + multi_kron(*list_of_ops_right).astype('complex')"
   ]
  },
  {
   "cell_type": "code",
   "execution_count": 358,
   "id": "bbe27a0c-55e2-43c9-839c-9117bfee933d",
   "metadata": {
    "ExecuteTime": {
     "end_time": "2024-10-10T15:37:36.414514800Z",
     "start_time": "2024-10-10T15:37:36.385796400Z"
    }
   },
   "outputs": [],
   "source": [
    "#eigenvalues to phases\n",
    "def eigenvalues_to_phases(n, u):\n",
    "    # print(n)\n",
    "    repetitions = 1#2**(n-1)\n",
    "    ops = []\n",
    "    target_qubits_amount = int(np.log2(u.shape[0]))\n",
    "    for i in range(1, n+1):\n",
    "        for _ in range(repetitions):\n",
    "            ops.append(control(control_q=[target_qubits_amount+n-i],\n",
    "                               target_q=[idx for idx in range(target_qubits_amount)],\n",
    "                               n_of_qubits=n+target_qubits_amount+1,\n",
    "                               operator=u**1\n",
    "                               ))\n",
    "        repetitions *= 2\n",
    "    return multi_dot(*ops)"
   ]
  },
  {
   "cell_type": "code",
   "execution_count": 359,
   "outputs": [],
   "source": [
    "\n",
    "def swap(n_of_qubs,u):\n",
    "    \"\"\"n-qubit QFTdagger the first n qubits in circ\"\"\"\n",
    "    # Don't forget the Swaps!\n",
    "    target_qubits_amount = int(np.log2(u.shape[0]))\n",
    "    qc = QuantumCircuit(n_of_qubs+target_qubits_amount+1)\n",
    "    for qubit in range(n_of_qubs//2): #n//2\n",
    "        qc.swap(qubit+1, n_of_qubs-qubit)\n",
    "    backend = Aer.get_backend('unitary_simulator')\n",
    "    job = execute(qc, backend)\n",
    "    result = job.result()\n",
    "    op = result.get_unitary(qc).data\n",
    "    return op\n",
    "\n",
    "def qft(n, u):\n",
    "    ops = []\n",
    "    target_qubits_amount = int(np.log2(u.shape[1]))\n",
    "    hadamards = np.array([I() for _ in range(n+target_qubits_amount+1)])\n",
    "    for j in range(n): \n",
    "        for m in range(j):\n",
    "            ops.append(\n",
    "                control(\n",
    "                control_q=[target_qubits_amount - 1 + n - m],\n",
    "                target_q=[target_qubits_amount - 1 + n - j],\n",
    "                n_of_qubits=n + target_qubits_amount+1,\n",
    "                operator=P(np.pi/float(2**(j-m))),\n",
    "                )\n",
    "            )\n",
    "        hadamards_ = hadamards.copy()\n",
    "        hadamards_[j+1] = H()\n",
    "        ops.append(multi_kron(*hadamards_))\n",
    "    return multi_dot(*ops)\n",
    "\n",
    "def iqft(n, u):\n",
    "    ops = []\n",
    "    target_qubits_amount = int(np.log2(u.shape[1]))\n",
    "    hadamards = np.array([I() for _ in range(n+target_qubits_amount+1)])\n",
    "    for j in range(n): \n",
    "        for m in range(j):\n",
    "            ops.append(\n",
    "                control(\n",
    "                control_q=[target_qubits_amount - 1 + n - m],\n",
    "                target_q=[target_qubits_amount - 1 + n - j],\n",
    "                n_of_qubits=n + target_qubits_amount+1,\n",
    "                operator=P(-np.pi/float(2**(j-m))),\n",
    "                )\n",
    "            )\n",
    "        hadamards_ = hadamards.copy()\n",
    "        hadamards_[target_qubits_amount - 1 + n - j] = H()\n",
    "        ops.append(multi_kron(*hadamards_))\n",
    "    return multi_dot(*ops)"
   ],
   "metadata": {
    "collapsed": false,
    "ExecuteTime": {
     "end_time": "2024-10-10T15:37:36.824411100Z",
     "start_time": "2024-10-10T15:37:36.807710200Z"
    }
   },
   "id": "4d8fded3e10abe90"
  },
  {
   "cell_type": "code",
   "execution_count": 397,
   "id": "6528c06c-5e30-40fe-aa45-460dbfb4df9b",
   "metadata": {
    "ExecuteTime": {
     "end_time": "2024-10-10T15:54:50.177636800Z",
     "start_time": "2024-10-10T15:54:50.116516400Z"
    }
   },
   "outputs": [
    {
     "name": "stdout",
     "output_type": "stream",
     "text": [
      "True\n"
     ]
    }
   ],
   "source": [
    "U = la.expm(1j*H_input)\n",
    "\n",
    "prime_state = multi_kron(\n",
    "    np.array([[el] for el in b[:]]),\n",
    "    *[state_zero for _ in range(qubit_num)],\n",
    "    state_zero)#.round(decimals=10)\n",
    "\n",
    "\n",
    "state_prep = multi_kron(\n",
    "    *[I() for _ in range(int(np.log2(len(b))))],\n",
    "    *[H() for _ in range(qubit_num)],\n",
    "    I())#.round(decimals=10)\n",
    "\n",
    "#calculations\n",
    "eigs_to_phases = eigenvalues_to_phases(qubit_num, U)#.round(decimals=10)\n",
    "\n",
    "# print(eigs_to_phases)\n",
    "# np.savetxt('classic.txt', eigs_to_phases.view(float))       \n",
    "# real_mtrx = np.loadtxt(\"classic.txt\").view(complex)  \n",
    "# quantum_mtrx = np.loadtxt(\"outfile.txt\").view(complex)\n",
    "# print((real_mtrx==quantum_mtrx).all())\n",
    "\n",
    "iqft_matrix = iqft(qubit_num, U)#.round(decimals=10)\n",
    "ift = multi_dot(swap(qubit_num, U), iqft_matrix)#.round(decimals=10)\n",
    "\n",
    "# np.savetxt('classic.txt', ift.view(float))       \n",
    "# real_mtrx = np.loadtxt(\"classic.txt\").view(complex)  \n",
    "# quantum_mtrx = np.loadtxt(\"outfile.txt\").view(complex)\n",
    "# print((real_mtrx==quantum_mtrx).all())\n",
    "anc_rotation = control(\n",
    "                control_q=[2],\n",
    "                target_q=[3],\n",
    "                n_of_qubits = int(np.log2(U.shape[1])) + qubit_num + 1,\n",
    "                operator=Ry(np.pi),\n",
    "                ).round(decimals=10)\n",
    "# np.savetxt('classic.txt', anc_rotation.view(float))       \n",
    "# real_mtrx = np.loadtxt(\"classic.txt\").view(complex)  \n",
    "# quantum_mtrx = np.loadtxt(\"outfile.txt\").view(complex)\n",
    "# print((real_mtrx==quantum_mtrx).all())\n",
    "\n",
    "anc2_rotation = control(\n",
    "                control_q=[1],\n",
    "                target_q=[3],\n",
    "                n_of_qubits = int(np.log2(U.shape[1])) + qubit_num + 1,\n",
    "                operator=Ry(np.pi/3),\n",
    "                )#.round(decimals=10)\n",
    "# np.savetxt('classic.txt', anc2_rotation.view(float))       \n",
    "# real_mtrx = np.loadtxt(\"classic.txt\").view(complex)  \n",
    "# quantum_mtrx = np.loadtxt(\"outfile.txt\").view(complex)\n",
    "# print((real_mtrx==quantum_mtrx).all())\n",
    "\n",
    "qft_matrix = qft(qubit_num, U)#.round(decimals=10)\n",
    "_qft = multi_dot(qft_matrix, swap(qubit_num, U))#.round(decimals=10)\n",
    "# np.savetxt('classic.txt', _qft.view(float))       \n",
    "# real_mtrx = np.loadtxt(\"classic.txt\").view(complex)  \n",
    "# quantum_mtrx = np.loadtxt(\"outfile.txt\").view(complex)\n",
    "# print((real_mtrx==quantum_mtrx).all())\n",
    "\n",
    "U = la.expm(-1j*H_input)\n",
    "phase_to_zero = eigenvalues_to_phases(qubit_num, U)#.round(decimals=10)\n",
    "# np.savetxt('classic.txt', phase_to_zero.view(float))       \n",
    "# real_mtrx = np.loadtxt(\"classic.txt\").view(complex)  \n",
    "# quantum_mtrx = np.loadtxt(\"outfile.txt\").view(complex)\n",
    "# print((real_mtrx==quantum_mtrx).all())\n",
    "\n",
    "state_uncompute = multi_kron(\n",
    "    *[I() for _ in range(int(np.log2(len(b))))],\n",
    "    *[H() for _ in range(qubit_num)],\n",
    "    I())#.round(decimals=10)\n",
    "\n",
    "final_u = multi_dot(\n",
    "    state_uncompute,\n",
    "    phase_to_zero,\n",
    "    _qft,\n",
    "    anc2_rotation,\n",
    "    anc_rotation,\n",
    "    ift,\n",
    "    eigs_to_phases,\n",
    "    state_prep\n",
    "                    ).round(decimals=5)\n",
    "\n",
    "np.savetxt('classic.txt', final_u.view(float))       \n",
    "real_mtrx = np.loadtxt(\"classic.txt\").view(complex)  \n",
    "quantum_mtrx = np.loadtxt(\"outfile.txt\").view(complex)\n",
    "print((real_mtrx==quantum_mtrx).all())\n",
    "\n",
    "# final_state = np.dot(final_u, prime_state)\n",
    "# rho = np.dot(final_state, np.conj(final_state).T)\n",
    "# vecs_u"
   ]
  },
  {
   "cell_type": "code",
   "outputs": [
    {
     "name": "stdout",
     "output_type": "stream",
     "text": [
      "calculated phase is 0.25\n",
      "true phases are [ 0.25 -0.25]\n",
      "all probabilitis [0.0, 1.0, 0.0, 0.0]\n",
      "for the potential phases [0.0, 0.25, 0.5, 0.75]\n"
     ]
    }
   ],
   "source": [
    "max_num = 2**qubit_num\n",
    "max_prob = 0\n",
    "eigenvalue = -9999\n",
    "probs = []\n",
    "potential_eigs = []\n",
    "max_bin = 0\n",
    "for i in range(max_num):\n",
    "    ops = [I() for _ in range(int(np.log2(len(vecs_u[1]))))]\n",
    "    bin_int = \"{0:b}\".format(i).zfill(qubit_num)\n",
    "    ops.extend([P0 if bit == '0' else P1 for bit in bin_int])\n",
    "    proj = multi_kron(*ops)\n",
    "    prob = np.sqrt(np.trace(np.dot(proj, rho))**2)\n",
    "    probs.append(np.round(prob,3))\n",
    "    # potential_eigs.append(la.expm(1j*2*np.pi*i/(2**qubit_num)))\n",
    "    potential_eigs.append(i/(2**qubit_num))\n",
    "    if prob > max_prob:\n",
    "        max_prob = prob\n",
    "        eigenvalue = i/(2**qubit_num)\n",
    "        max_bin = i\n",
    "probs = [prob.real for prob in probs]\n",
    "print(f'calculated phase is {np.round(eigenvalue, 3)}')\n",
    "print(f'true phases are {np.round([np.arctan(eig.imag/eig.real)/(2*np.pi) for eig in eigs_u], 3)}')\n",
    "print(f'all probabilitis {probs}')\n",
    "print(f'for the potential phases {potential_eigs}')\n",
    "# print(f'dispersion', np.std(probs))"
   ],
   "metadata": {
    "collapsed": false,
    "ExecuteTime": {
     "end_time": "2024-10-10T13:36:39.384777300Z",
     "start_time": "2024-10-10T13:36:39.366970700Z"
    }
   },
   "id": "77e84101c2c31c00",
   "execution_count": 265
  },
  {
   "cell_type": "code",
   "outputs": [],
   "source": [],
   "metadata": {
    "collapsed": false,
    "ExecuteTime": {
     "end_time": "2024-10-10T13:36:39.672751500Z",
     "start_time": "2024-10-10T13:36:39.661669800Z"
    }
   },
   "id": "f37e065f9b3e8e74",
   "execution_count": 265
  },
  {
   "cell_type": "code",
   "outputs": [],
   "source": [],
   "metadata": {
    "collapsed": false
   },
   "id": "5c5140bc0886fe57"
  }
 ],
 "metadata": {
  "kernelspec": {
   "display_name": "Python (quantum)",
   "language": "python",
   "name": "quantum"
  },
  "language_info": {
   "codemirror_mode": {
    "name": "ipython",
    "version": 3
   },
   "file_extension": ".py",
   "mimetype": "text/x-python",
   "name": "python",
   "nbconvert_exporter": "python",
   "pygments_lexer": "ipython3",
   "version": "3.9.18"
  }
 },
 "nbformat": 4,
 "nbformat_minor": 5
}
