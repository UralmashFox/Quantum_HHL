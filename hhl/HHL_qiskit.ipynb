{
 "cells": [
  {
   "cell_type": "code",
   "outputs": [],
   "source": [
    "def qft_dagger(qc, n):\n",
    "    for qubit in range(n//2): \n",
    "        qc.swap(qubit+1, n-qubit)\n",
    "    for j in range(n):\n",
    "        for m in range(j):\n",
    "            qc.cp(np.pi/float(2**(j-m)), m+1, j+1)\n",
    "        qc.h(j+1)"
   ],
   "metadata": {
    "collapsed": false,
    "ExecuteTime": {
     "end_time": "2024-10-17T19:22:02.581054100Z",
     "start_time": "2024-10-17T19:22:02.567902400Z"
    }
   },
   "id": "2e2c5dcc3d216e48",
   "execution_count": 1
  },
  {
   "cell_type": "code",
   "outputs": [],
   "source": [
    "def qft(qc, n):\n",
    "    for j in range(n):\n",
    "        for m in range(j):\n",
    "            qc.cp(-np.pi/float(2**(j-m)), clock[m], clock[j])\n",
    "        qc.h(clock[n-j-1])\n",
    "    for qubit in range(n//2):\n",
    "        qc.swap(clock[qubit], clock[n-qubit-1])"
   ],
   "metadata": {
    "collapsed": false,
    "ExecuteTime": {
     "end_time": "2024-10-17T19:22:04.015796200Z",
     "start_time": "2024-10-17T19:22:03.997428200Z"
    }
   },
   "id": "435159294ba9e231",
   "execution_count": 2
  },
  {
   "cell_type": "code",
   "outputs": [],
   "source": [
    "def simulate(qpe):\n",
    "    aer_sim = Aer.get_backend('aer_simulator')\n",
    "    shots = 2048\n",
    "    t_qpe = transpile(qpe, aer_sim)\n",
    "    # qobj = assemble(t_qpe, shots=shots)\n",
    "    results = aer_sim.run(t_qpe, shots=shots).result()\n",
    "    answer = results.get_counts()\n",
    "    for k, v in answer.items():\n",
    "      answer[k] = answer[k] / shots\n",
    "    return answer"
   ],
   "metadata": {
    "collapsed": false,
    "ExecuteTime": {
     "end_time": "2024-10-17T19:22:05.108188600Z",
     "start_time": "2024-10-17T19:22:05.102179100Z"
    }
   },
   "id": "9c7993965a75bde8",
   "execution_count": 3
  },
  {
   "cell_type": "code",
   "outputs": [],
   "source": [
    "from qiskit.circuit import QuantumCircuit, QuantumRegister, ClassicalRegister, Parameter\n",
    "from qiskit.circuit.library import UnitaryGate, CRYGate\n",
    "from qiskit import Aer, transpile, assemble, execute\n",
    "from qiskit.visualization import plot_distribution\n",
    "import numpy as np\n",
    "import scipy.linalg as la\n",
    "import qiskit.quantum_info as qi\n",
    "\n",
    "\n",
    "state = np.array([0, 1])\n",
    "H = np.array([[1, -1/3], [-1/3, 1]])\n",
    "\n",
    "U = np.array([[-1+1j, 1+1j], [1+1j, -1+1j]]) / 2\n",
    "U = la.expm(1j*H)\n",
    "# U = la.expm(1j*H*3*np.pi/4)\n",
    "\n",
    "U_gate = UnitaryGate(U, 'U').control(1)\n",
    "\n",
    "ancilla = QuantumRegister(1, 'ancilla')\n",
    "clock = QuantumRegister(2, 'clock')\n",
    "b = QuantumRegister(1, 'b')\n",
    "classical = ClassicalRegister(2, 'classical')\n",
    "circuit = QuantumCircuit(ancilla, clock, b, classical)\n",
    "\n",
    "for q_idx in range(len(clock)):\n",
    "    circuit.h(clock[q_idx])   \n",
    "op = qi.Operator(circuit)\n",
    "# matrix = np.matrix(op.to_matrix()).round(decimals=10)\n",
    "# np.savetxt('outfile.txt', matrix.view(float))\n",
    "# circuit.draw()\n",
    "\n",
    "# circuit.prepare_state(state, b)\n",
    "\n",
    "# circuit = QuantumCircuit(ancilla, clock, b, classical)\n",
    "\n",
    "for q_idx in range(len(clock)):\n",
    "    for _ in range(2**q_idx):\n",
    "        circuit.append(U_gate, [q_idx+1, b])\n",
    "circuit.barrier()\n",
    "\n",
    "# op = qi.Operator(circuit)\n",
    "# matrix = np.matrix(op.to_matrix()).round(decimals=4)\n",
    "# np.savetxt('outfile.txt', matrix.view(float))\n",
    "# circuit.draw()\n",
    "\n",
    "\n",
    "# circuit = QuantumCircuit(ancilla, clock, b, classical)\n",
    "\n",
    "qft(circuit, 2)\n",
    "\n",
    "# op = qi.Operator(circuit)\n",
    "# matrix = np.matrix(op.to_matrix()).round(decimals=4)\n",
    "# np.savetxt('outfile.txt', matrix.view(float))\n",
    "# circuit.draw()\n",
    "\n",
    "# circuit = QuantumCircuit(ancilla, clock, b, classical)\n",
    "\n",
    "circuit.cry(np.pi, clock[0], ancilla)\n",
    "\n",
    "# op = qi.Operator(circuit)\n",
    "# matrix = np.matrix(op.to_matrix()).round(decimals=10)\n",
    "# np.savetxt('outfile.txt', matrix.view(float))\n",
    "# circuit.draw()\n",
    "\n",
    "# circuit = QuantumCircuit(ancilla, clock, b, classical)\n",
    "\n",
    "circuit.cry(np.pi/3, clock[1], ancilla)\n",
    "\n",
    "# op = qi.Operator(circuit)\n",
    "# matrix = np.matrix(op.to_matrix()).round(decimals=4)\n",
    "# np.savetxt('outfile.txt', matrix.view(float))\n",
    "# circuit.draw()\n",
    "# \n",
    "# circuit.measure(ancilla, classical[0])\n",
    "# \n",
    "\n",
    "\n",
    "# circuit = QuantumCircuit(ancilla, clock, b, classical)\n",
    "\n",
    "qft_dagger(circuit, 2)\n",
    "\n",
    "# op = qi.Operator(circuit)\n",
    "# matrix = np.matrix(op.to_matrix()).round(decimals=4)\n",
    "# np.savetxt('outfile.txt', matrix.view(float))\n",
    "# circuit.draw()\n",
    "# circuit.barrier()\n",
    " \n",
    "# circuit = QuantumCircuit(ancilla, clock, b, classical)\n",
    "\n",
    "U = np.linalg.inv(U)\n",
    "U_gate = UnitaryGate(U, 'U-1').control(1)\n",
    "\n",
    "for q_idx in range(len(clock)):\n",
    "    for _ in range(2**(len(clock) - q_idx - 1)):\n",
    "        circuit.append(U_gate, [len(clock) - q_idx, b])\n",
    "# op = qi.Operator(circuit)\n",
    "# matrix = np.matrix(op.to_matrix()).round(decimals=4)\n",
    "# np.savetxt('outfile.txt', matrix.view(float))\n",
    "# circuit.draw()\n",
    "\n",
    "# circuit.barrier()\n",
    "# \n",
    "# circuit = QuantumCircuit(ancilla, clock, b, classical)\n",
    "\n",
    "for q_idx in range(len(clock)):\n",
    "    circuit.h(clock[q_idx])\n",
    "circuit.barrier()\n",
    "\n",
    "# op = qi.Operator(circuit)\n",
    "# matrix = np.matrix(op.to_matrix()).round(decimals=5)\n",
    "# np.savetxt('outfile.txt', matrix.view(float))\n",
    "# circuit.draw()\n",
    "\n",
    "circuit.measure(ancilla, classical[0])\n",
    "circuit.measure(b, classical[1])\n",
    "measurements = simulate(circuit)\n",
    "# \n",
    "# plot_distribution(measurements)"
   ],
   "metadata": {
    "collapsed": false,
    "ExecuteTime": {
     "end_time": "2024-10-17T19:25:49.869109100Z",
     "start_time": "2024-10-17T19:25:49.667038300Z"
    }
   },
   "id": "36ab0981bcd63d42",
   "execution_count": 11
  },
  {
   "cell_type": "code",
   "outputs": [
    {
     "data": {
      "text/plain": "                                  ░                        ┌───────┐┌─────────┐»\n    ancilla: ─────────────────────░────────────────────────┤ Ry(π) ├┤ Ry(π/3) ├»\n             ┌───┐                ░                ┌───┐   └───┬───┘└────┬────┘»\n    clock_0: ┤ H ├──■─────────────░───────■────────┤ H ├─X─────■─────────┼─────»\n             ├───┤  │             ░ ┌───┐ │P(-π/2) └───┘ │               │     »\n    clock_1: ┤ H ├──┼────■────■───░─┤ H ├─■──────────────X───────────────■─────»\n             └───┘┌─┴─┐┌─┴─┐┌─┴─┐ ░ └───┘                                      »\n          b: ─────┤ U ├┤ U ├┤ U ├─░────────────────────────────────────────────»\n                  └───┘└───┘└───┘ ░                                            »\nclassical: 2/══════════════════════════════════════════════════════════════════»\n                                                                               »\n«                                                              ░ ┌─┐   \n«    ancilla: ─────────────────────────────────────────────────░─┤M├───\n«                ┌───┐                                   ┌───┐ ░ └╥┘   \n«    clock_0: ─X─┤ H ├─■─────────────────────────────■───┤ H ├─░──╫────\n«              │ └───┘ │P(π/2) ┌───┐                 │   ├───┤ ░  ║    \n«    clock_1: ─X───────■───────┤ H ├───■──────■──────┼───┤ H ├─░──╫────\n«                              └───┘┌──┴──┐┌──┴──┐┌──┴──┐└───┘ ░  ║ ┌─┐\n«          b: ──────────────────────┤ U-1 ├┤ U-1 ├┤ U-1 ├──────░──╫─┤M├\n«                                   └─────┘└─────┘└─────┘      ░  ║ └╥┘\n«classical: 2/════════════════════════════════════════════════════╩══╩═\n«                                                                 0  1 ",
      "text/html": "<pre style=\"word-wrap: normal;white-space: pre;background: #fff0;line-height: 1.1;font-family: &quot;Courier New&quot;,Courier,monospace\">                                  ░                        ┌───────┐┌─────────┐»\n    ancilla: ─────────────────────░────────────────────────┤ Ry(π) ├┤ Ry(π/3) ├»\n             ┌───┐                ░                ┌───┐   └───┬───┘└────┬────┘»\n    clock_0: ┤ H ├──■─────────────░───────■────────┤ H ├─X─────■─────────┼─────»\n             ├───┤  │             ░ ┌───┐ │P(-π/2) └───┘ │               │     »\n    clock_1: ┤ H ├──┼────■────■───░─┤ H ├─■──────────────X───────────────■─────»\n             └───┘┌─┴─┐┌─┴─┐┌─┴─┐ ░ └───┘                                      »\n          b: ─────┤ U ├┤ U ├┤ U ├─░────────────────────────────────────────────»\n                  └───┘└───┘└───┘ ░                                            »\nclassical: 2/══════════════════════════════════════════════════════════════════»\n                                                                               »\n«                                                              ░ ┌─┐   \n«    ancilla: ─────────────────────────────────────────────────░─┤M├───\n«                ┌───┐                                   ┌───┐ ░ └╥┘   \n«    clock_0: ─X─┤ H ├─■─────────────────────────────■───┤ H ├─░──╫────\n«              │ └───┘ │P(π/2) ┌───┐                 │   ├───┤ ░  ║    \n«    clock_1: ─X───────■───────┤ H ├───■──────■──────┼───┤ H ├─░──╫────\n«                              └───┘┌──┴──┐┌──┴──┐┌──┴──┐└───┘ ░  ║ ┌─┐\n«          b: ──────────────────────┤ U-1 ├┤ U-1 ├┤ U-1 ├──────░──╫─┤M├\n«                                   └─────┘└─────┘└─────┘      ░  ║ └╥┘\n«classical: 2/════════════════════════════════════════════════════╩══╩═\n«                                                                 0  1 </pre>"
     },
     "execution_count": 12,
     "metadata": {},
     "output_type": "execute_result"
    }
   ],
   "source": [
    "circuit.draw()"
   ],
   "metadata": {
    "collapsed": false,
    "ExecuteTime": {
     "end_time": "2024-10-17T19:25:50.260740100Z",
     "start_time": "2024-10-17T19:25:50.213412900Z"
    }
   },
   "id": "7dc1f3e983c4adb1",
   "execution_count": 12
  },
  {
   "cell_type": "code",
   "outputs": [
    {
     "data": {
      "text/plain": "<Figure size 700x500 with 1 Axes>",
      "image/png": "[encoded data removed]"
     },
     "execution_count": 13,
     "metadata": {},
     "output_type": "execute_result"
    }
   ],
   "source": [
    "plot_distribution(measurements)"
   ],
   "metadata": {
    "collapsed": false,
    "ExecuteTime": {
     "end_time": "2024-10-17T19:25:51.532516Z",
     "start_time": "2024-10-17T19:25:51.417430900Z"
    }
   },
   "id": "5840d2bb122ee3bb",
   "execution_count": 13
  },
  {
   "cell_type": "code",
   "outputs": [],
   "source": [
    "from qiskit.circuit import QuantumCircuit, QuantumRegister, ClassicalRegister, Parameter\n",
    "from qiskit.circuit.library import UnitaryGate, CRYGate\n",
    "from qiskit import Aer, transpile, assemble, execute\n",
    "from qiskit.visualization import plot_distribution\n",
    "import numpy as np\n",
    "import scipy.linalg as la\n",
    "import qiskit.quantum_info as qi\n",
    "\n",
    "\n",
    "state = np.array([0, 1])\n",
    "H = np.array([[1, -1/3], [-1/3, 1]])\n",
    "\n",
    "U = np.array([[-1+1j, 1+1j], [1+1j, -1+1j]]) / 2\n",
    "U = la.expm(1j*H)\n",
    "# U = la.expm(1j*H*3*np.pi/4)\n",
    "\n",
    "U_gate = UnitaryGate(U, 'U').control(1)\n",
    "\n",
    "ancilla = QuantumRegister(1, 'ancilla')\n",
    "clock = QuantumRegister(2, 'clock')\n",
    "b = QuantumRegister(1, 'b')\n",
    "classical = ClassicalRegister(2, 'classical')\n",
    "circuit = QuantumCircuit(ancilla, clock, b, classical)\n",
    "\n",
    "for q_idx in range(len(clock)):\n",
    "    circuit.h(clock[q_idx])   \n",
    "op = qi.Operator(circuit)\n",
    "\n",
    "for q_idx in range(len(clock)):\n",
    "    for _ in range(2**q_idx):\n",
    "        circuit.append(U_gate, [q_idx+1, b])\n",
    "circuit.barrier()\n",
    "\n",
    "qft(circuit, 2)\n",
    "\n",
    "circuit.measure(clock, classical)\n",
    "measurements = simulate(circuit)"
   ],
   "metadata": {
    "collapsed": false,
    "ExecuteTime": {
     "end_time": "2024-10-18T11:03:19.321506700Z",
     "start_time": "2024-10-18T11:03:19.228586500Z"
    }
   },
   "id": "3191e7b1aebaee84",
   "execution_count": 55
  },
  {
   "cell_type": "code",
   "outputs": [
    {
     "data": {
      "text/plain": "                                  ░                              \n    ancilla: ─────────────────────░──────────────────────────────\n             ┌───┐                ░                ┌───┐   ┌─┐   \n    clock_0: ┤ H ├──■─────────────░───────■────────┤ H ├─X─┤M├───\n             ├───┤  │             ░ ┌───┐ │P(-π/2) └───┘ │ └╥┘┌─┐\n    clock_1: ┤ H ├──┼────■────■───░─┤ H ├─■──────────────X──╫─┤M├\n             └───┘┌─┴─┐┌─┴─┐┌─┴─┐ ░ └───┘                   ║ └╥┘\n          b: ─────┤ U ├┤ U ├┤ U ├─░─────────────────────────╫──╫─\n                  └───┘└───┘└───┘ ░                         ║  ║ \nclassical: 2/═══════════════════════════════════════════════╩══╩═\n                                                            0  1 ",
      "text/html": "<pre style=\"word-wrap: normal;white-space: pre;background: #fff0;line-height: 1.1;font-family: &quot;Courier New&quot;,Courier,monospace\">                                  ░                              \n    ancilla: ─────────────────────░──────────────────────────────\n             ┌───┐                ░                ┌───┐   ┌─┐   \n    clock_0: ┤ H ├──■─────────────░───────■────────┤ H ├─X─┤M├───\n             ├───┤  │             ░ ┌───┐ │P(-π/2) └───┘ │ └╥┘┌─┐\n    clock_1: ┤ H ├──┼────■────■───░─┤ H ├─■──────────────X──╫─┤M├\n             └───┘┌─┴─┐┌─┴─┐┌─┴─┐ ░ └───┘                   ║ └╥┘\n          b: ─────┤ U ├┤ U ├┤ U ├─░─────────────────────────╫──╫─\n                  └───┘└───┘└───┘ ░                         ║  ║ \nclassical: 2/═══════════════════════════════════════════════╩══╩═\n                                                            0  1 </pre>"
     },
     "execution_count": 56,
     "metadata": {},
     "output_type": "execute_result"
    }
   ],
   "source": [
    "circuit.draw()"
   ],
   "metadata": {
    "collapsed": false,
    "ExecuteTime": {
     "end_time": "2024-10-18T11:03:19.612275200Z",
     "start_time": "2024-10-18T11:03:19.558930100Z"
    }
   },
   "id": "a031328949153f80",
   "execution_count": 56
  },
  {
   "cell_type": "code",
   "outputs": [
    {
     "data": {
      "text/plain": "<Figure size 700x500 with 1 Axes>",
      "image/png": "[encoded data removed]"
     },
     "execution_count": 57,
     "metadata": {},
     "output_type": "execute_result"
    }
   ],
   "source": [
    "plot_distribution(measurements)"
   ],
   "metadata": {
    "collapsed": false,
    "ExecuteTime": {
     "end_time": "2024-10-18T11:03:20.308598600Z",
     "start_time": "2024-10-18T11:03:20.154985600Z"
    }
   },
   "id": "695d9ba61fe34b3b",
   "execution_count": 57
  },
  {
   "cell_type": "code",
   "outputs": [
    {
     "name": "stdout",
     "output_type": "stream",
     "text": [
      "eigenvalues of unitary matrix [(0.786+0.618j), (0.235+0.972j)]\n",
      "eigenvalues of Hermitian matrix [1.333, 0.667]\n",
      "phases of eigs of Unitary matrix 0.6666666666666669 and 1.3333333362229314\n"
     ]
    }
   ],
   "source": [
    "print(f'eigenvalues of unitary matrix {[eig.round(3) for eig in np.linalg.eig(U)[0]]}')\n",
    "print(f'eigenvalues of Hermitian matrix {[eig.round(3) for eig in np.linalg.eig(H)[0]]}')\n",
    "# print(np.arctan(0.7858872607769478/0.6183698030697371))\n",
    "print(f'phases of eigs of Unitary matrix {np.arctan(0.6183698030697371/0.7858872607769478)} and {np.arctan(0.9719379/0.23523757)}')"
   ],
   "metadata": {
    "collapsed": false,
    "ExecuteTime": {
     "end_time": "2024-10-18T11:03:22.734699500Z",
     "start_time": "2024-10-18T11:03:22.714627100Z"
    }
   },
   "id": "4aa7db475a710467",
   "execution_count": 58
  },
  {
   "cell_type": "code",
   "outputs": [
    {
     "name": "stdout",
     "output_type": "stream",
     "text": [
      "[[0.+1.j]]\n",
      "[[-1.+0.j]]\n"
     ]
    }
   ],
   "source": [
    "print(np.round(la.expm(1j*2*np.pi*1/(2**2)), 3))\n",
    "print(np.round(la.expm(1j*2*np.pi*2/(2**2)), 3))"
   ],
   "metadata": {
    "collapsed": false,
    "ExecuteTime": {
     "end_time": "2024-10-17T20:02:30.300648300Z",
     "start_time": "2024-10-17T20:02:30.271436400Z"
    }
   },
   "id": "1d7bfa4c569e138",
   "execution_count": 47
  },
  {
   "cell_type": "code",
   "outputs": [
    {
     "name": "stdout",
     "output_type": "stream",
     "text": [
      "[[-0.5-0.5j  0.5-0.5j]\n",
      " [ 0.5-0.5j -0.5-0.5j]]\n"
     ]
    }
   ],
   "source": [
    "print(U)"
   ],
   "metadata": {
    "collapsed": false,
    "ExecuteTime": {
     "end_time": "2024-10-09T17:57:04.340281500Z",
     "start_time": "2024-10-09T17:57:04.316190200Z"
    }
   },
   "id": "fc04a9f200808b8c",
   "execution_count": 65
  },
  {
   "cell_type": "code",
   "outputs": [
    {
     "name": "stderr",
     "output_type": "stream",
     "text": [
      "C:\\Users\\lisis\\AppData\\Local\\Temp\\ipykernel_18824\\4098732377.py:70: DeprecationWarning: Using plot_histogram() ``data`` argument with QuasiDistribution, ProbDistribution, or a distribution dictionary is deprecated as of qiskit-terra 0.22.0. It will be removed no earlier than 3 months after the release date. Instead, use ``plot_distribution()``.\n",
      "  plot_histogram(measurements)\n"
     ]
    },
    {
     "data": {
      "text/plain": "<Figure size 700x500 with 1 Axes>",
      "image/png": "[encoded data removed]"
     },
     "execution_count": 76,
     "metadata": {},
     "output_type": "execute_result"
    }
   ],
   "source": [
    "from qiskit.circuit import QuantumCircuit, QuantumRegister, ClassicalRegister, Parameter\n",
    "from qiskit.circuit.library import UnitaryGate, CRYGate\n",
    "from qiskit import Aer, transpile, assemble, execute\n",
    "from qiskit.visualization import plot_histogram\n",
    "from qiskit_aer import QasmSimulator \n",
    "import numpy as np\n",
    "import scipy.linalg as la\n",
    "\n",
    "import collections\n",
    "\n",
    "state = np.array([0, 1])\n",
    "# state = la.expm(-1j*state)\n",
    "H = np.array([[1, -1/3], [-1/3, 1]])\n",
    "# U = la.expm(-1j*H)\n",
    "# print(U)\n",
    "U = np.array([[-1+1j, 1+1j], [1+1j, -1+1j]]) / 2\n",
    "U = la.expm(1j*H)\n",
    "# U = la.expm(1j*H*12*np.pi/4)\n",
    "# print(U)\n",
    "\n",
    "U_gate = UnitaryGate(U, 'U').control(1)\n",
    "\n",
    "ancilla = QuantumRegister(1, 'ancilla')\n",
    "clock = QuantumRegister(2, 'clock')\n",
    "b = QuantumRegister(1, 'b')\n",
    "classical = ClassicalRegister(2, 'classical')\n",
    "circuit = QuantumCircuit(ancilla, clock, b, classical)\n",
    "for q_idx in range(len(clock)):\n",
    "    circuit.h(clock[q_idx])\n",
    "\n",
    "circuit.prepare_state(state, b)\n",
    "\n",
    "\n",
    "for q_idx in range(len(clock)):\n",
    "    for _ in range(2**q_idx):\n",
    "        circuit.append(U_gate, [q_idx + 1, b])\n",
    "circuit.barrier()\n",
    "\n",
    "qft(circuit, 2)\n",
    "\n",
    "circuit.cry(np.pi, clock[0], ancilla)\n",
    "circuit.cry(np.pi/3, clock[1], ancilla)\n",
    "\n",
    "circuit.measure(ancilla, classical[0])\n",
    "\n",
    "qft_dagger(circuit, 2)\n",
    "circuit.barrier()\n",
    "\n",
    "U = np.linalg.inv(U)\n",
    "U_gate = UnitaryGate(U, 'U-1').control(1)\n",
    "for q_idx in range(len(clock)):\n",
    "    for _ in range(2**(len(clock) - q_idx - 1)):\n",
    "        circuit.append(U_gate, [len(clock) - q_idx, b])\n",
    "circuit.barrier()\n",
    "\n",
    "for q_idx in range(len(clock)):\n",
    "    circuit.h(clock[q_idx])\n",
    "circuit.barrier()\n",
    "\n",
    "# simulator = Aer.get_backend(\"aer_simulator\")\n",
    "# transpiled = transpile(circuit, simulator)\n",
    "# transpiled.save_statevector()\n",
    "# result = simulator.run(transpiled).result()\n",
    "# print(result.get_statevector())\n",
    "\n",
    "circuit.measure(b, classical[1])\n",
    "measurements = simulate(circuit)\n",
    "# print(collections.OrderedDict(sorted(measurements.items())))\n",
    "\n",
    "plot_histogram(measurements)"
   ],
   "metadata": {
    "collapsed": false,
    "ExecuteTime": {
     "end_time": "2024-10-10T11:27:20.833357800Z",
     "start_time": "2024-10-10T11:27:20.276845300Z"
    }
   },
   "id": "d279ce52473f187b",
   "execution_count": 76
  },
  {
   "cell_type": "code",
   "outputs": [
    {
     "data": {
      "text/plain": "                                                       ░                     »\n    ancilla: ──────────────────────────────────────────░─────────────────────»\n                       ┌───┐                           ░                ┌───┐»\n    clock_0: ──────────┤ H ├─────────────■─────────────░───────■────────┤ H ├»\n                       ├───┤             │             ░ ┌───┐ │P(-π/2) └───┘»\n    clock_1: ──────────┤ H ├─────────────┼────■────■───░─┤ H ├─■─────────────»\n             ┌─────────┴───┴──────────┐┌─┴─┐┌─┴─┐┌─┴─┐ ░ └───┘               »\n          b: ┤ State Preparation(0,1) ├┤ U ├┤ U ├┤ U ├─░─────────────────────»\n             └────────────────────────┘└───┘└───┘└───┘ ░                     »\nclassical: 2/════════════════════════════════════════════════════════════════»\n                                                                             »\n«                ┌───────┐┌─────────┐┌─┐                       ░               »\n«    ancilla: ───┤ Ry(π) ├┤ Ry(π/3) ├┤M├───────────────────────░───────────────»\n«                └───┬───┘└────┬────┘└╥┘   ┌───┐               ░               »\n«    clock_0: ─X─────■─────────┼──────╫──X─┤ H ├─■─────────────░───────────────»\n«              │               │      ║  │ └───┘ │P(π/2) ┌───┐ ░               »\n«    clock_1: ─X───────────────■──────╫──X───────■───────┤ H ├─░────■──────■───»\n«                                     ║                  └───┘ ░ ┌──┴──┐┌──┴──┐»\n«          b: ────────────────────────╫────────────────────────░─┤ U-1 ├┤ U-1 ├»\n«                                     ║                        ░ └─────┘└─────┘»\n«classical: 2/════════════════════════╩════════════════════════════════════════»\n«                                     0                                        »\n«                     ░       ░    \n«    ancilla: ────────░───────░────\n«                     ░ ┌───┐ ░    \n«    clock_0: ───■────░─┤ H ├─░────\n«                │    ░ ├───┤ ░    \n«    clock_1: ───┼────░─┤ H ├─░────\n«             ┌──┴──┐ ░ └───┘ ░ ┌─┐\n«          b: ┤ U-1 ├─░───────░─┤M├\n«             └─────┘ ░       ░ └╥┘\n«classical: 2/═══════════════════╩═\n«                                1 ",
      "text/html": "<pre style=\"word-wrap: normal;white-space: pre;background: #fff0;line-height: 1.1;font-family: &quot;Courier New&quot;,Courier,monospace\">                                                       ░                     »\n    ancilla: ──────────────────────────────────────────░─────────────────────»\n                       ┌───┐                           ░                ┌───┐»\n    clock_0: ──────────┤ H ├─────────────■─────────────░───────■────────┤ H ├»\n                       ├───┤             │             ░ ┌───┐ │P(-π/2) └───┘»\n    clock_1: ──────────┤ H ├─────────────┼────■────■───░─┤ H ├─■─────────────»\n             ┌─────────┴───┴──────────┐┌─┴─┐┌─┴─┐┌─┴─┐ ░ └───┘               »\n          b: ┤ State Preparation(0,1) ├┤ U ├┤ U ├┤ U ├─░─────────────────────»\n             └────────────────────────┘└───┘└───┘└───┘ ░                     »\nclassical: 2/════════════════════════════════════════════════════════════════»\n                                                                             »\n«                ┌───────┐┌─────────┐┌─┐                       ░               »\n«    ancilla: ───┤ Ry(π) ├┤ Ry(π/3) ├┤M├───────────────────────░───────────────»\n«                └───┬───┘└────┬────┘└╥┘   ┌───┐               ░               »\n«    clock_0: ─X─────■─────────┼──────╫──X─┤ H ├─■─────────────░───────────────»\n«              │               │      ║  │ └───┘ │P(π/2) ┌───┐ ░               »\n«    clock_1: ─X───────────────■──────╫──X───────■───────┤ H ├─░────■──────■───»\n«                                     ║                  └───┘ ░ ┌──┴──┐┌──┴──┐»\n«          b: ────────────────────────╫────────────────────────░─┤ U-1 ├┤ U-1 ├»\n«                                     ║                        ░ └─────┘└─────┘»\n«classical: 2/════════════════════════╩════════════════════════════════════════»\n«                                     0                                        »\n«                     ░       ░    \n«    ancilla: ────────░───────░────\n«                     ░ ┌───┐ ░    \n«    clock_0: ───■────░─┤ H ├─░────\n«                │    ░ ├───┤ ░    \n«    clock_1: ───┼────░─┤ H ├─░────\n«             ┌──┴──┐ ░ └───┘ ░ ┌─┐\n«          b: ┤ U-1 ├─░───────░─┤M├\n«             └─────┘ ░       ░ └╥┘\n«classical: 2/═══════════════════╩═\n«                                1 </pre>"
     },
     "execution_count": 77,
     "metadata": {},
     "output_type": "execute_result"
    }
   ],
   "source": [
    "circuit.draw()"
   ],
   "metadata": {
    "collapsed": false,
    "ExecuteTime": {
     "end_time": "2024-10-10T11:41:28.413765Z",
     "start_time": "2024-10-10T11:41:28.379170300Z"
    }
   },
   "id": "d36e231a336c9581",
   "execution_count": 77
  },
  {
   "cell_type": "code",
   "outputs": [],
   "source": [],
   "metadata": {
    "collapsed": false
   },
   "id": "5eaa7c030253ba13"
  }
 ],
 "metadata": {
  "kernelspec": {
   "name": "quantum",
   "language": "python",
   "display_name": "Python (quantum)"
  },
  "language_info": {
   "codemirror_mode": {
    "name": "ipython",
    "version": 2
   },
   "file_extension": ".py",
   "mimetype": "text/x-python",
   "name": "python",
   "nbconvert_exporter": "python",
   "pygments_lexer": "ipython2",
   "version": "2.7.6"
  }
 },
 "nbformat": 4,
 "nbformat_minor": 5
}
