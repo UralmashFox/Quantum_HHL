{
 "cells": [
  {
   "cell_type": "code",
   "execution_count": 4,
   "id": "initial_id",
   "metadata": {
    "collapsed": true,
    "ExecuteTime": {
     "end_time": "2024-10-06T11:41:29.986886900Z",
     "start_time": "2024-10-06T11:41:29.958336500Z"
    }
   },
   "outputs": [
    {
     "ename": "ModuleNotFoundError",
     "evalue": "No module named 'qiskit.aqua'",
     "output_type": "error",
     "traceback": [
      "\u001B[1;31m---------------------------------------------------------------------------\u001B[0m",
      "\u001B[1;31mModuleNotFoundError\u001B[0m                       Traceback (most recent call last)",
      "Cell \u001B[1;32mIn[4], line 10\u001B[0m\n\u001B[0;32m      1\u001B[0m \u001B[38;5;66;03m###########################################################\u001B[39;00m\n\u001B[0;32m      2\u001B[0m \u001B[38;5;66;03m#\u001B[39;00m\n\u001B[0;32m      3\u001B[0m \u001B[38;5;66;03m#\u001B[39;00m\n\u001B[1;32m   (...)\u001B[0m\n\u001B[0;32m      6\u001B[0m \u001B[38;5;66;03m#\u001B[39;00m\n\u001B[0;32m      7\u001B[0m \u001B[38;5;66;03m###########################################################\u001B[39;00m\n\u001B[1;32m---> 10\u001B[0m \u001B[38;5;28;01mfrom\u001B[39;00m \u001B[38;5;21;01mqiskit\u001B[39;00m\u001B[38;5;21;01m.\u001B[39;00m\u001B[38;5;21;01maqua\u001B[39;00m \u001B[38;5;28;01mimport\u001B[39;00m run_algorithm\n\u001B[0;32m     11\u001B[0m \u001B[38;5;28;01mfrom\u001B[39;00m \u001B[38;5;21;01mqiskit\u001B[39;00m\u001B[38;5;21;01m.\u001B[39;00m\u001B[38;5;21;01maqua\u001B[39;00m\u001B[38;5;21;01m.\u001B[39;00m\u001B[38;5;21;01minput\u001B[39;00m \u001B[38;5;28;01mimport\u001B[39;00m LinearSystemInput\n\u001B[0;32m     12\u001B[0m \u001B[38;5;28;01mfrom\u001B[39;00m \u001B[38;5;21;01mqiskit\u001B[39;00m\u001B[38;5;21;01m.\u001B[39;00m\u001B[38;5;21;01maqua\u001B[39;00m\u001B[38;5;21;01m.\u001B[39;00m\u001B[38;5;21;01malgorithms\u001B[39;00m\u001B[38;5;21;01m.\u001B[39;00m\u001B[38;5;21;01msingle_sample\u001B[39;00m \u001B[38;5;28;01mimport\u001B[39;00m HHL\n",
      "\u001B[1;31mModuleNotFoundError\u001B[0m: No module named 'qiskit.aqua'"
     ]
    }
   ],
   "source": [
    "###########################################################\n",
    "#\n",
    "#\n",
    "# met927's response incorporated into the github example\n",
    "#\n",
    "#\n",
    "###########################################################\n",
    "\n",
    "\n",
    "from qiskit.aqua import run_algorithm\n",
    "from qiskit.aqua.input import LinearSystemInput\n",
    "from qiskit.aqua.algorithms.single_sample import HHL\n",
    "\n",
    "import numpy as np\n",
    "\n",
    "# System to solve\n",
    "# A  = [[1.5, 0.5], [0.5, 1.5]]\n",
    "# b =  [2, 2]\n",
    "\n",
    "matrix = [[1.5, 0.5], [0.5, 1.5]]\n",
    "vector = [2, 2]\n",
    "\n",
    "params = {\n",
    "    'problem': {\n",
    "        'name': 'linear_system'\n",
    "    },\n",
    "    'algorithm': {\n",
    "        'name': 'HHL'\n",
    "    },\n",
    "    'eigs': {\n",
    "        'expansion_mode': 'suzuki',\n",
    "        'expansion_order': 2,\n",
    "        'name': 'EigsQPE',\n",
    "        'num_ancillae': 3,\n",
    "        'num_time_slices': 50\n",
    "    },\n",
    "    'reciprocal': {\n",
    "        'name': 'Lookup'\n",
    "    },\n",
    "    'backend': {\n",
    "        'provider': 'qiskit.BasicAer',\n",
    "        'name': 'statevector_simulator'\n",
    "    }\n",
    "}\n",
    "\n",
    "params['input'] = {\n",
    "    'name': 'LinearSystemInput',\n",
    "    'matrix': matrix,\n",
    "    'vector': vector\n",
    "}\n",
    "\n",
    "params['algorithm'] = {\n",
    "    'truncate_powerdim': False,\n",
    "    'truncate_hermitian': False\n",
    "}\n",
    "params['reciprocal'] = {\n",
    "    'name': 'Lookup',\n",
    "    'negative_evals': True\n",
    "}\n",
    "params['eigs'] = {\n",
    "    'expansion_mode': 'suzuki',\n",
    "    'expansion_order': 2,\n",
    "    'name': 'EigsQPE',\n",
    "    'negative_evals': False,\n",
    "    'num_ancillae': 1,\n",
    "    'num_time_slices': 70\n",
    "}\n",
    "params['initial_state'] = {\n",
    "    'name': 'CUSTOM'\n",
    "}\n",
    "params['iqft'] = {\n",
    "    'name': 'STANDARD'\n",
    "}\n",
    "params['qft'] = {\n",
    "    'name': 'STANDARD'\n",
    "}\n",
    "\n",
    "\n",
    "# Prep the input\n",
    "algo_input = LinearSystemInput(matrix=matrix, vector=vector)\n",
    "\n",
    "# Run the HHL algorithm\n",
    "hhl = HHL.init_params(params, algo_input)\n",
    "\n",
    "# Draw the circuit\n",
    "print(hhl.construct_circuit())"
   ]
  },
  {
   "cell_type": "code",
   "outputs": [
    {
     "data": {
      "text/plain": "1.00007021"
     },
     "execution_count": 100,
     "metadata": {},
     "output_type": "execute_result"
    }
   ],
   "source": [
    "0.9010**2 + 0.4339**2"
   ],
   "metadata": {
    "collapsed": false,
    "ExecuteTime": {
     "end_time": "2024-10-06T17:30:48.016219500Z",
     "start_time": "2024-10-06T17:30:47.986540100Z"
    }
   },
   "id": "ec9db1a2d86c43fd",
   "execution_count": 100
  },
  {
   "cell_type": "code",
   "outputs": [
    {
     "ename": "ModuleNotFoundError",
     "evalue": "No module named 'qiskit.algorithms'",
     "output_type": "error",
     "traceback": [
      "\u001B[1;31m---------------------------------------------------------------------------\u001B[0m",
      "\u001B[1;31mModuleNotFoundError\u001B[0m                       Traceback (most recent call last)",
      "Cell \u001B[1;32mIn[4], line 4\u001B[0m\n\u001B[0;32m      1\u001B[0m \u001B[38;5;66;03m# First, you import several modules and classes from Qiskit, as well as NumPy and SciPy:\u001B[39;00m\n\u001B[0;32m      3\u001B[0m \u001B[38;5;28;01mimport\u001B[39;00m \u001B[38;5;21;01mnumpy\u001B[39;00m \u001B[38;5;28;01mas\u001B[39;00m \u001B[38;5;21;01mnp\u001B[39;00m\n\u001B[1;32m----> 4\u001B[0m \u001B[38;5;28;01mfrom\u001B[39;00m \u001B[38;5;21;01mqiskit\u001B[39;00m\u001B[38;5;21;01m.\u001B[39;00m\u001B[38;5;21;01malgorithms\u001B[39;00m\u001B[38;5;21;01m.\u001B[39;00m\u001B[38;5;21;01mlinear_solvers\u001B[39;00m\u001B[38;5;21;01m.\u001B[39;00m\u001B[38;5;21;01mnumpy_linear_solver\u001B[39;00m \u001B[38;5;28;01mimport\u001B[39;00m NumPyLinearSolver\n\u001B[0;32m      5\u001B[0m \u001B[38;5;28;01mfrom\u001B[39;00m \u001B[38;5;21;01mqiskit\u001B[39;00m\u001B[38;5;21;01m.\u001B[39;00m\u001B[38;5;21;01malgorithms\u001B[39;00m\u001B[38;5;21;01m.\u001B[39;00m\u001B[38;5;21;01mlinear_solvers\u001B[39;00m\u001B[38;5;21;01m.\u001B[39;00m\u001B[38;5;21;01mhhl\u001B[39;00m \u001B[38;5;28;01mimport\u001B[39;00m HHL\n\u001B[0;32m      6\u001B[0m \u001B[38;5;28;01mfrom\u001B[39;00m \u001B[38;5;21;01mqiskit\u001B[39;00m\u001B[38;5;21;01m.\u001B[39;00m\u001B[38;5;21;01malgorithms\u001B[39;00m\u001B[38;5;21;01m.\u001B[39;00m\u001B[38;5;21;01mlinear_solvers\u001B[39;00m\u001B[38;5;21;01m.\u001B[39;00m\u001B[38;5;21;01mmatrices\u001B[39;00m\u001B[38;5;21;01m.\u001B[39;00m\u001B[38;5;21;01mtridiagonal_toeplitz\u001B[39;00m \u001B[38;5;28;01mimport\u001B[39;00m TridiagonalToeplitz\n",
      "\u001B[1;31mModuleNotFoundError\u001B[0m: No module named 'qiskit.algorithms'"
     ]
    }
   ],
   "source": [
    "# First, you import several modules and classes from Qiskit, as well as NumPy and SciPy:\n",
    "\n",
    "import numpy as np\n",
    "from qiskit.algorithms.linear_solvers.numpy_linear_solver import NumPyLinearSolver\n",
    "from qiskit.algorithms.linear_solvers.hhl import HHL\n",
    "from qiskit.algorithms.linear_solvers.matrices.tridiagonal_toeplitz import TridiagonalToeplitz\n",
    "from qiskit.quantum_info import Statevector\n",
    "from scipy.sparse import diags\n",
    "from qiskit import transpile, QuantumCircuit\n",
    "from qiskit.algorithms.linear_solvers.observables import AbsoluteAverage, MatrixFunctional\n",
    "from qiskit import Aer\n",
    "\n",
    "# Next, you define a matrix and a vector for solving a system of linear equations using the HHL algorithm:\n",
    "# Define matrix and vector for solving the system of linear equations using HHL algorithm\n",
    "matrix = np.array([[1, -1/3], [-1/3, 1]])\n",
    "vector = np.array([1, 0])\n",
    "\n",
    "# You then use the HHL class to solve the system of equations using the matrix and vector, and print the resulting state:\n",
    "# Solve the system of equations using HHL and print the resulting state\n",
    "naive_hhl_solution = HHL().solve(matrix, vector)\n",
    "print('naive state:')\n",
    "print(naive_hhl_solution.state)\n",
    "\n",
    "# Next, you define a tridiagonal Toeplitz matrix and solve the same system of equations using the HHL algorithm:\n",
    "# Define a tridiagonal Toeplitz matrix and solve the system of equations using HHL\n",
    "tridi_matrix = TridiagonalToeplitz(1, 1, -1 / 3)\n",
    "tridi_solution = HHL().solve(tridi_matrix, vector)\n",
    "\n",
    "# Print the resulting state\n",
    "print('tridiagonal state:')\n",
    "print(tridi_solution.state)\n",
    "\n",
    "# You then extract the full solution vectors and print them, along with their Euclidean norms:\n",
    "# Extract the full solution vectors and print them, along with their Euclidean norms\n",
    "naive_sv = Statevector(naive_hhl_solution.state).data\n",
    "tridi_sv = Statevector(tridi_solution.state).data\n",
    "naive_full_vector = np.array([naive_sv[8], naive_sv[9]])\n",
    "tridi_full_vector = np.array([tridi_sv[8], tridi_sv[9]])\n",
    "print('naive raw solution vector:', naive_full_vector)\n",
    "print('tridi raw solution vector:', tridi_full_vector)\n",
    "print('naive Euclidean norm:', naive_hhl_solution.euclidean_norm)\n",
    "print('tridiagonal Euclidean norm:', tridi_solution.euclidean_norm)\n",
    "print('full naive solution vector:', naive_hhl_solution.euclidean_norm*naive_full_vector/np.linalg.norm(naive_full_vector))\n",
    "print('full tridi solution vector:', tridi_solution.euclidean_norm*tridi_full_vector/np.linalg.norm(tridi_full_vector))\n",
    "\n",
    "#You then construct the quantum circuit for solving the same system of equations\n",
    "#using the HHL algorithm, and draw the circuit at different levels of decomposition:\n",
    "\n",
    "# Construct the quantum circuit for solving the system of linear equations using HHL,\n",
    "#and draw the circuit at different levels of decomposition\n",
    "\n",
    "hhl = HHL()\n",
    "circuit = hhl.construct_circuit(matrix, vector)\n",
    "circuit.draw('mpl')\n",
    "circuit.decompose().draw('mpl')\n",
    "circuit.decompose().decompose().draw('mpl')\n",
    "circuit.decompose().decompose().decompose().draw('mpl')\n",
    "circuit.decompose().decompose().decompose().decompose().draw('mpl')\n",
    "circuit.decompose().decompose().decompose().decompose().decompose().draw('mpl')"
   ],
   "metadata": {
    "collapsed": false,
    "ExecuteTime": {
     "end_time": "2024-10-06T11:59:54.836296800Z",
     "start_time": "2024-10-06T11:59:54.802618600Z"
    }
   },
   "id": "6b766b77dce060f",
   "execution_count": 4
  },
  {
   "cell_type": "code",
   "outputs": [],
   "source": [
    "def qft_dagger(qc, n):\n",
    "    \"\"\"n-qubit QFTdagger the first n qubits in circ\"\"\"\n",
    "    # Don't forget the Swaps!\n",
    "    for qubit in range(n//2): #n//2\n",
    "        qc.swap(qubit+1, n-qubit)\n",
    "    for j in range(n): #n\n",
    "        # print(f\"j{j}\")\n",
    "        for m in range(j):\n",
    "            # print(f\"m{m}\")\n",
    "            qc.cp(np.pi/float(2**(j-m)), m+1, j+1)\n",
    "        qc.h(j+1)"
   ],
   "metadata": {
    "collapsed": false,
    "ExecuteTime": {
     "end_time": "2024-10-06T17:12:42.953792Z",
     "start_time": "2024-10-06T17:12:42.933963Z"
    }
   },
   "id": "2e2c5dcc3d216e48",
   "execution_count": 77
  },
  {
   "cell_type": "code",
   "outputs": [],
   "source": [
    "def qft(qc, n):\n",
    "    \"\"\"n-qubit QFTdagger the first n qubits in circ\"\"\"\n",
    "    # Don't forget the Swaps!\n",
    "    for j in range(n): #n\n",
    "        # print(f\"j{j}\")\n",
    "        for m in range(j):\n",
    "            # print(f\"m{m}\")\n",
    "            qc.cp(-np.pi/float(2**(j-m)), clock[m], clock[j])\n",
    "        qc.h(clock[n-j-1])\n",
    "    for qubit in range(n//2): #n//2\n",
    "        qc.swap(clock[qubit], clock[n-qubit-1])"
   ],
   "metadata": {
    "collapsed": false,
    "ExecuteTime": {
     "end_time": "2024-10-06T17:12:43.098783600Z",
     "start_time": "2024-10-06T17:12:43.081003900Z"
    }
   },
   "id": "435159294ba9e231",
   "execution_count": 78
  },
  {
   "cell_type": "code",
   "outputs": [],
   "source": [
    "def simulate(qpe):\n",
    "    aer_sim = Aer.get_backend('aer_simulator')\n",
    "    shots = 2048\n",
    "    t_qpe = transpile(qpe, aer_sim)\n",
    "    qobj = assemble(t_qpe, shots=shots)\n",
    "    results = aer_sim.run(qobj).result()\n",
    "    answer = results.get_counts()\n",
    "    for k, v in answer.items():\n",
    "      answer[k] = answer[k] / shots\n",
    "    return answer"
   ],
   "metadata": {
    "collapsed": false,
    "ExecuteTime": {
     "end_time": "2024-10-06T17:10:52.252003200Z",
     "start_time": "2024-10-06T17:10:52.223784100Z"
    }
   },
   "id": "9c7993965a75bde8",
   "execution_count": 72
  },
  {
   "cell_type": "code",
   "outputs": [
    {
     "name": "stderr",
     "output_type": "stream",
     "text": [
      "C:\\Users\\lisis\\AppData\\Local\\Temp\\ipykernel_17000\\3278665204.py:6: DeprecationWarning: Using a qobj for run() is deprecated as of qiskit-aer 0.9.0 and will be removed no sooner than 3 months from that release date. Transpiled circuits should now be passed directly using `backend.run(circuits, **run_options).\n",
      "  results = aer_sim.run(qobj).result()\n",
      "C:\\Users\\lisis\\AppData\\Local\\Temp\\ipykernel_17000\\690342242.py:68: DeprecationWarning: Using plot_histogram() ``data`` argument with QuasiDistribution, ProbDistribution, or a distribution dictionary is deprecated as of qiskit-terra 0.22.0. It will be removed no earlier than 3 months after the release date. Instead, use ``plot_distribution()``.\n",
      "  plot_histogram(measurements)\n"
     ]
    },
    {
     "data": {
      "text/plain": "<Figure size 700x500 with 1 Axes>",
      "image/png": "[encoded data removed]"
     },
     "execution_count": 136,
     "metadata": {},
     "output_type": "execute_result"
    }
   ],
   "source": [
    "from qiskit.circuit import QuantumCircuit, QuantumRegister, ClassicalRegister, Parameter\n",
    "from qiskit.circuit.library import UnitaryGate, CRYGate\n",
    "from qiskit import Aer, transpile, assemble, execute\n",
    "from qiskit.visualization import plot_histogram\n",
    "from qiskit_aer import QasmSimulator \n",
    "import numpy as np\n",
    "import scipy.linalg as la\n",
    "\n",
    "import collections\n",
    "\n",
    "state = np.array([0, 1])\n",
    "# state = la.expm(-1j*state)\n",
    "H = np.array([[1, -1/3], [-1/3, 1]])\n",
    "# U = la.expm(-1j*H)\n",
    "# print(U)\n",
    "U = np.array([[-1+1j, 1+1j], [1+1j, -1+1j]]) / 2\n",
    "# print(U)\n",
    "\n",
    "U_gate = UnitaryGate(U, 'U').control(1)\n",
    "\n",
    "ancilla = QuantumRegister(1, 'ancilla')\n",
    "clock = QuantumRegister(2, 'clock')\n",
    "b = QuantumRegister(1, 'b')\n",
    "classical = ClassicalRegister(2, 'classical')\n",
    "circuit = QuantumCircuit(ancilla, clock, b, classical)\n",
    "for q_idx in range(len(clock)):\n",
    "    circuit.h(clock[q_idx])\n",
    "\n",
    "circuit.prepare_state(state, b)\n",
    "\n",
    "\n",
    "for q_idx in range(len(clock)):\n",
    "    for _ in range(2**q_idx):\n",
    "        circuit.append(U_gate, [q_idx + 1, b])\n",
    "circuit.barrier()\n",
    "\n",
    "qft(circuit, 2)\n",
    "\n",
    "circuit.cry(np.pi, clock[0], ancilla)\n",
    "circuit.cry(np.pi/3, clock[1], ancilla)\n",
    "\n",
    "circuit.measure(ancilla, classical[0])\n",
    "\n",
    "qft_dagger(circuit, 2)\n",
    "circuit.barrier()\n",
    "\n",
    "U = np.linalg.inv(U)\n",
    "U_gate = UnitaryGate(U, 'U-1').control(1)\n",
    "for q_idx in range(len(clock)):\n",
    "    for _ in range(2**(len(clock) - q_idx - 1)):\n",
    "        circuit.append(U_gate, [len(clock) - q_idx, b])\n",
    "circuit.barrier()\n",
    "\n",
    "for q_idx in range(len(clock)):\n",
    "    circuit.h(clock[q_idx])\n",
    "circuit.barrier()\n",
    "\n",
    "# simulator = Aer.get_backend(\"aer_simulator\")\n",
    "# transpiled = transpile(circuit, simulator)\n",
    "# transpiled.save_statevector()\n",
    "# result = simulator.run(transpiled).result()\n",
    "# print(result.get_statevector())\n",
    "\n",
    "circuit.measure(b, classical[1])\n",
    "measurements = simulate(circuit)\n",
    "# print(collections.OrderedDict(sorted(measurements.items())))\n",
    "\n",
    "plot_histogram(measurements)"
   ],
   "metadata": {
    "collapsed": false,
    "ExecuteTime": {
     "end_time": "2024-10-06T19:33:34.402028100Z",
     "start_time": "2024-10-06T19:33:34.175027300Z"
    }
   },
   "id": "36ab0981bcd63d42",
   "execution_count": 136
  },
  {
   "cell_type": "code",
   "outputs": [
    {
     "data": {
      "text/plain": "                                                       ░                     »\n    ancilla: ──────────────────────────────────────────░─────────────────────»\n                       ┌───┐                           ░                ┌───┐»\n    clock_0: ──────────┤ H ├─────────────■─────────────░───────■────────┤ H ├»\n                       ├───┤             │             ░ ┌───┐ │P(-π/2) └───┘»\n    clock_1: ──────────┤ H ├─────────────┼────■────■───░─┤ H ├─■─────────────»\n             ┌─────────┴───┴──────────┐┌─┴─┐┌─┴─┐┌─┴─┐ ░ └───┘               »\n          b: ┤ State Preparation(0,1) ├┤ U ├┤ U ├┤ U ├─░─────────────────────»\n             └────────────────────────┘└───┘└───┘└───┘ ░                     »\nclassical: 2/════════════════════════════════════════════════════════════════»\n                                                                             »\n«                ┌───────┐┌─────────┐┌─┐                       ░               »\n«    ancilla: ───┤ Ry(π) ├┤ Ry(π/3) ├┤M├───────────────────────░───────────────»\n«                └───┬───┘└────┬────┘└╥┘   ┌───┐               ░               »\n«    clock_0: ─X─────■─────────┼──────╫──X─┤ H ├─■─────────────░───────────────»\n«              │               │      ║  │ └───┘ │P(π/2) ┌───┐ ░               »\n«    clock_1: ─X───────────────■──────╫──X───────■───────┤ H ├─░────■──────■───»\n«                                     ║                  └───┘ ░ ┌──┴──┐┌──┴──┐»\n«          b: ────────────────────────╫────────────────────────░─┤ U-1 ├┤ U-1 ├»\n«                                     ║                        ░ └─────┘└─────┘»\n«classical: 2/════════════════════════╩════════════════════════════════════════»\n«                                     0                                        »\n«                     ░       ░    \n«    ancilla: ────────░───────░────\n«                     ░ ┌───┐ ░    \n«    clock_0: ───■────░─┤ H ├─░────\n«                │    ░ ├───┤ ░    \n«    clock_1: ───┼────░─┤ H ├─░────\n«             ┌──┴──┐ ░ └───┘ ░ ┌─┐\n«          b: ┤ U-1 ├─░───────░─┤M├\n«             └─────┘ ░       ░ └╥┘\n«classical: 2/═══════════════════╩═\n«                                1 ",
      "text/html": "<pre style=\"word-wrap: normal;white-space: pre;background: #fff0;line-height: 1.1;font-family: &quot;Courier New&quot;,Courier,monospace\">                                                       ░                     »\n    ancilla: ──────────────────────────────────────────░─────────────────────»\n                       ┌───┐                           ░                ┌───┐»\n    clock_0: ──────────┤ H ├─────────────■─────────────░───────■────────┤ H ├»\n                       ├───┤             │             ░ ┌───┐ │P(-π/2) └───┘»\n    clock_1: ──────────┤ H ├─────────────┼────■────■───░─┤ H ├─■─────────────»\n             ┌─────────┴───┴──────────┐┌─┴─┐┌─┴─┐┌─┴─┐ ░ └───┘               »\n          b: ┤ State Preparation(0,1) ├┤ U ├┤ U ├┤ U ├─░─────────────────────»\n             └────────────────────────┘└───┘└───┘└───┘ ░                     »\nclassical: 2/════════════════════════════════════════════════════════════════»\n                                                                             »\n«                ┌───────┐┌─────────┐┌─┐                       ░               »\n«    ancilla: ───┤ Ry(π) ├┤ Ry(π/3) ├┤M├───────────────────────░───────────────»\n«                └───┬───┘└────┬────┘└╥┘   ┌───┐               ░               »\n«    clock_0: ─X─────■─────────┼──────╫──X─┤ H ├─■─────────────░───────────────»\n«              │               │      ║  │ └───┘ │P(π/2) ┌───┐ ░               »\n«    clock_1: ─X───────────────■──────╫──X───────■───────┤ H ├─░────■──────■───»\n«                                     ║                  └───┘ ░ ┌──┴──┐┌──┴──┐»\n«          b: ────────────────────────╫────────────────────────░─┤ U-1 ├┤ U-1 ├»\n«                                     ║                        ░ └─────┘└─────┘»\n«classical: 2/════════════════════════╩════════════════════════════════════════»\n«                                     0                                        »\n«                     ░       ░    \n«    ancilla: ────────░───────░────\n«                     ░ ┌───┐ ░    \n«    clock_0: ───■────░─┤ H ├─░────\n«                │    ░ ├───┤ ░    \n«    clock_1: ───┼────░─┤ H ├─░────\n«             ┌──┴──┐ ░ └───┘ ░ ┌─┐\n«          b: ┤ U-1 ├─░───────░─┤M├\n«             └─────┘ ░       ░ └╥┘\n«classical: 2/═══════════════════╩═\n«                                1 </pre>"
     },
     "execution_count": 137,
     "metadata": {},
     "output_type": "execute_result"
    }
   ],
   "source": [
    "circuit.draw()"
   ],
   "metadata": {
    "collapsed": false,
    "ExecuteTime": {
     "end_time": "2024-10-06T19:33:41.448221Z",
     "start_time": "2024-10-06T19:33:41.408263800Z"
    }
   },
   "id": "7dc1f3e983c4adb1",
   "execution_count": 137
  }
 ],
 "metadata": {
  "kernelspec": {
   "name": "quantum",
   "language": "python",
   "display_name": "Python (quantum)"
  },
  "language_info": {
   "codemirror_mode": {
    "name": "ipython",
    "version": 2
   },
   "file_extension": ".py",
   "mimetype": "text/x-python",
   "name": "python",
   "nbconvert_exporter": "python",
   "pygments_lexer": "ipython2",
   "version": "2.7.6"
  }
 },
 "nbformat": 4,
 "nbformat_minor": 5
}
