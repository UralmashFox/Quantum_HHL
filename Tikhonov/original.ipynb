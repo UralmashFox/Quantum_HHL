{
 "cells": [
  {
   "cell_type": "code",
   "execution_count": 1,
   "id": "615762e0-fd3a-4931-8d65-98af79992c0f",
   "metadata": {},
   "outputs": [],
   "source": [
    "# https://quantumcomputing.stackexchange.com/questions/24050/how-to-implement-a-exponential-of-a-hamiltonian-but-non-unitary-matrix-in-qisk\n",
    "\n",
    "# control gate: https://qiskit.org/documentation/stubs/qiskit.circuit.ControlledGate.html\n",
    "\n",
    "# circuit https://www.nature.com/articles/s41598-022-17660-8\n",
    "import numpy as np\n",
    "import configparser\n",
    "from sklearn.preprocessing import normalize\n",
    "import collections\n",
    "\n",
    "from qiskit.circuit import ControlledGate\n",
    "from qiskit import QuantumCircuit, ClassicalRegister, QuantumRegister, execute, Aer, transpile\n",
    "from qiskit.quantum_info.operators import Operator\n",
    "from qiskit.extensions import UnitaryGate\n",
    "from qiskit.tools.visualization import plot_histogram\n",
    "\n",
    "from qiskit.synthesis import MatrixExponential\n",
    "from qiskit.quantum_info import Operator\n",
    "from qiskit.quantum_info import SparsePauliOp\n",
    "from qiskit.opflow.list_ops import SummedOp\n",
    "from qiskit.circuit import Parameter\n",
    "from qiskit.opflow import I, X, Y, Z, H, CX, Zero, ListOp, PauliExpectation, PauliTrotterEvolution, CircuitSampler, MatrixEvolution, Suzuki, PauliSumOp"
   ]
  },
  {
   "cell_type": "code",
   "execution_count": 2,
   "id": "e5491ff4-93ba-439b-ae58-b02c8438e6e4",
   "metadata": {},
   "outputs": [],
   "source": [
    "example = 'example3'\n",
    "config = configparser.ConfigParser()\n",
    "config.read('config.ini')\n",
    "A = config[example]['A']\n",
    "x = config[example]['x']\n",
    "b = config[example]['b']\n",
    "A = np.array([[float(number) for number in list_.replace('[', '').replace(']', '').split(',')] for list_ in A.split(',]')]).flatten()\n",
    "A = A.reshape((int(np.sqrt(np.shape(A)[0])), int(np.sqrt(np.shape(A)[0])))).astype('complex')\n",
    "x = np.array([float(number) for number in x.replace('[', '').replace(']', '').split(',')]).flatten()\n",
    "b = np.array([float(number) for number in b.replace('[', '').replace(']', '').split(',')]).flatten()"
   ]
  },
  {
   "cell_type": "code",
   "execution_count": 3,
   "id": "4cb386b8-1929-451d-b11e-7a8d0baf3423",
   "metadata": {},
   "outputs": [],
   "source": [
    "# u, s, vh = np.linalg.svd(A, full_matrices=False)\n",
    "# b = np.array([np.sin(np.pi/4)**2, np.sin(np.pi/4)**2, np.sin(np.pi/4)**2, np.sin(np.pi/4)**2]).T\n",
    "# x = np.linalg.solve(A, b)\n",
    "# print(x)"
   ]
  },
  {
   "cell_type": "code",
   "execution_count": 15,
   "id": "2eaeb42d-f81c-47a4-9eba-76a926f9121d",
   "metadata": {},
   "outputs": [],
   "source": [
    "def get_gate(A, n):    \n",
    "    pauli_op = PauliSumOp(SparsePauliOp.from_operator(A))\n",
    "    phi = Parameter('ϕ')\n",
    "    evolution_op = (phi * pauli_op).exp_i() # exp(-iϕA)\n",
    "    trotterized_op = PauliTrotterEvolution(trotter_mode=Suzuki(order=2, reps=1)).convert(evolution_op).bind_parameters({phi: np.pi/n})\n",
    "    #----control---------\n",
    "    gate = trotterized_op.to_circuit()\n",
    "    gate.name = f\"e^(i*A*pi/{n})\"\n",
    "    gate.label = f\"e^(i*A*np.pi/{n})\"\n",
    "    gate = gate.to_gate().control()\n",
    "    #---------------------\n",
    "    return gate"
   ]
  },
  {
   "cell_type": "code",
   "execution_count": 5,
   "id": "84a782ad-2860-4ba9-aee3-dcc9f45da532",
   "metadata": {
    "tags": []
   },
   "outputs": [
    {
     "data": {
      "text/plain": [
       "<qiskit.circuit.instructionset.InstructionSet at 0x1de5ca9a550>"
      ]
     },
     "execution_count": 5,
     "metadata": {},
     "output_type": "execute_result"
    }
   ],
   "source": [
    "n_b = int(np.log2(len(b)))\n",
    "n_ = 9 #3 is an optimal\n",
    "n_ancilla = 1\n",
    "n_cl = n_b#+1\n",
    "# quantum circuit initialization\n",
    "b_x = QuantumRegister(n_b, 'b and x')\n",
    "eigs = QuantumRegister(n_, 'eigenvalues')\n",
    "ancilla = QuantumRegister(n_ancilla, 'ancilla')\n",
    "classical = ClassicalRegister(n_cl, 'classical')\n",
    "qc = QuantumCircuit(b_x, eigs, ancilla, classical)\n",
    "# b-vector state preparation\n",
    "# for i in range(n_b):\n",
    "#     qc.ry(np.pi/2, i)\n",
    "qc.initialize(b, b_x)\n",
    "qc.h(eigs)\n",
    "qc.x(ancilla)\n",
    "qc.barrier()\n",
    "# Matrix exponentiation\n",
    "for i in range(0, len(eigs)):\n",
    "    gate = get_gate(A, 2**(i+1))\n",
    "    qc.append(gate,[eigs[i], *b_x])\n",
    "qc.barrier()\n",
    "# Phase estimation\n",
    "for j in range(len(eigs)-1, 0, -1):\n",
    "    qc.h(eigs[j])\n",
    "    for m in range(j):\n",
    "        qc.crz(-np.pi/float(2**(j-m)), eigs[j], eigs[m])\n",
    "qc.barrier()\n",
    "# As I understood, we wncode ancilla qubit to be sure that result will be correct\n",
    "for j in range(1, 1+n_):\n",
    "    qc.cry(np.pi/(2**j), n_b+n_-j, n_b+n_)\n",
    "qc.barrier()\n",
    "# Inverse quantum Fourier transform\n",
    "for j in range(len(eigs)-1, 0, -1):\n",
    "    qc.h(eigs[j])\n",
    "    for m in range(j):\n",
    "        qc.crz(np.pi/float(2**(j-m)), eigs[j], eigs[m])\n",
    "qc.barrier()\n",
    "# Eigenvalues storing in the vecor b register\n",
    "for i in range(len(eigs), 0, -1):\n",
    "    gate = get_gate(A, -2**(i+1))\n",
    "    qc.append(gate,[eigs[i-1], *b_x])\n",
    "qc.barrier()\n",
    "# qubits measurement. I do not measure the ancilla qubit\n",
    "# qc.reverse_bits()\n",
    "qc.measure(b_x, classical)\n",
    "# qc.draw(output='mpl', style={'backgroundcolor': '#EEEEEE'})"
   ]
  },
  {
   "cell_type": "code",
   "execution_count": 6,
   "id": "82787b74-5d5e-4c12-b461-8c475f8c3f4c",
   "metadata": {},
   "outputs": [],
   "source": [
    "simulator = Aer.get_backend('qasm_simulator')\n",
    "circ = transpile(qc, simulator)\n",
    "shots = 2048\n",
    "result = execute(qc, backend=simulator, shots=shots).result()"
   ]
  },
  {
   "cell_type": "markdown",
   "id": "46892ff1-8051-4432-a95c-73aa0bdba1dd",
   "metadata": {},
   "source": [
    "# Calculated result"
   ]
  },
  {
   "cell_type": "code",
   "execution_count": 7,
   "id": "c0ac7ffe-5289-4bf9-b866-f1af332ac840",
   "metadata": {},
   "outputs": [],
   "source": [
    "counts = result.get_counts()\n",
    "probabilities = counts.copy()\n",
    "probs_upd = {}\n",
    "for k, v in probabilities.items():\n",
    "    value = v/shots\n",
    "    probabilities[k] = value"
   ]
  },
  {
   "cell_type": "markdown",
   "id": "d30f6275-7358-49f7-bed7-01538add2d6f",
   "metadata": {
    "tags": []
   },
   "source": [
    "# Result vector"
   ]
  },
  {
   "cell_type": "code",
   "execution_count": 8,
   "id": "9fb0905a-1998-4a80-b572-28c4db126ca5",
   "metadata": {},
   "outputs": [
    {
     "data": {
      "text/plain": [
       "array([0.0083 , 0.00928, 0.01367, 0.01514, 0.01807, 0.02295, 0.08545,\n",
       "       0.82715])"
      ]
     },
     "execution_count": 8,
     "metadata": {},
     "output_type": "execute_result"
    }
   ],
   "source": [
    "vect = np.array([v for k,v in probabilities.items()])\n",
    "vect.sort()\n",
    "np.round(vect, 5)"
   ]
  },
  {
   "cell_type": "markdown",
   "id": "2d6854a7-8154-4778-87c4-13bc622759d3",
   "metadata": {},
   "source": [
    "# Real normalized result"
   ]
  },
  {
   "cell_type": "code",
   "execution_count": 10,
   "id": "8a20f1a9-975e-4be4-93a6-95ddc53aa41f",
   "metadata": {},
   "outputs": [
    {
     "data": {
      "text/plain": [
       "array([0.     , 0.00109, 0.00182, 0.00634, 0.00844, 0.02139, 0.07319,\n",
       "       0.88773])"
      ]
     },
     "execution_count": 10,
     "metadata": {},
     "output_type": "execute_result"
    }
   ],
   "source": [
    "real_x_norm = (np.array(x) / np.linalg.norm(x))**2\n",
    "real_x_norm.sort()\n",
    "np.round(real_x_norm, 5)"
   ]
  },
  {
   "cell_type": "markdown",
   "id": "1222890f-8ec1-475b-bc0f-306eba42d589",
   "metadata": {
    "tags": []
   },
   "source": [
    "# Error"
   ]
  },
  {
   "cell_type": "code",
   "execution_count": 11,
   "id": "85055540-e5b7-458a-86b8-7f16103ac4de",
   "metadata": {},
   "outputs": [
    {
     "name": "stdout",
     "output_type": "stream",
     "text": [
      "0.000533631236082668\n",
      "502.7453264198555\n"
     ]
    }
   ],
   "source": [
    "mse = (np.square(vect - real_x_norm)).mean()\n",
    "print(mse)\n",
    "abs_err = np.mean([np.abs((v-r)/r) for v,r in zip(vect, real_x_norm)])\n",
    "print(abs_err)"
   ]
  }
 ],
 "metadata": {
  "kernelspec": {
   "display_name": "Q_school",
   "language": "python",
   "name": "q_school"
  },
  "language_info": {
   "codemirror_mode": {
    "name": "ipython",
    "version": 3
   },
   "file_extension": ".py",
   "mimetype": "text/x-python",
   "name": "python",
   "nbconvert_exporter": "python",
   "pygments_lexer": "ipython3",
   "version": "3.9.7"
  }
 },
 "nbformat": 4,
 "nbformat_minor": 5
}
