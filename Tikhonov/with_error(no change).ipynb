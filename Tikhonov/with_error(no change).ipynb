{
 "cells": [
  {
   "cell_type": "code",
   "execution_count": 1,
   "id": "615762e0-fd3a-4931-8d65-98af79992c0f",
   "metadata": {},
   "outputs": [],
   "source": [
    "# https://quantumcomputing.stackexchange.com/questions/24050/how-to-implement-a-exponential-of-a-hamiltonian-but-non-unitary-matrix-in-qisk\n",
    "\n",
    "# control gate: https://qiskit.org/documentation/stubs/qiskit.circuit.ControlledGate.html\n",
    "\n",
    "# circuit https://www.nature.com/articles/s41598-022-17660-8\n",
    "import numpy as np\n",
    "\n",
    "from qiskit.circuit import ControlledGate\n",
    "from qiskit import QuantumCircuit, ClassicalRegister, QuantumRegister, execute, Aer, transpile\n",
    "from qiskit.quantum_info.operators import Operator\n",
    "from qiskit.extensions import UnitaryGate\n",
    "from qiskit.tools.visualization import plot_histogram\n",
    "\n",
    "from qiskit.synthesis import MatrixExponential\n",
    "from qiskit.quantum_info import Operator"
   ]
  },
  {
   "cell_type": "code",
   "execution_count": 2,
   "id": "4cb386b8-1929-451d-b11e-7a8d0baf3423",
   "metadata": {},
   "outputs": [],
   "source": [
    "from qiskit.quantum_info import SparsePauliOp\n",
    "from qiskit.opflow.list_ops import SummedOp\n",
    "from qiskit.circuit import Parameter\n",
    "from qiskit.opflow import I, X, Y, Z, H, CX, Zero, ListOp, PauliExpectation, PauliTrotterEvolution, CircuitSampler, MatrixEvolution, Suzuki, PauliSumOp\n",
    "A = np.array([\n",
    "    [11, 5, -1, -1],\n",
    "    [5, 11, 1, 1],\n",
    "    [-1, 1, 11, -5],\n",
    "    [-1, 1, -5, 11],\n",
    "    ]).astype('complex')\n",
    "\n",
    "b = np.array([0, 0, 0, 1]).T"
   ]
  },
  {
   "cell_type": "code",
   "execution_count": 3,
   "id": "2eaeb42d-f81c-47a4-9eba-76a926f9121d",
   "metadata": {},
   "outputs": [],
   "source": [
    "def get_gate(A, n):    \n",
    "    pauli_op = PauliSumOp(SparsePauliOp.from_operator(A))\n",
    "    phi = Parameter('ϕ')\n",
    "    evolution_op = (phi * pauli_op).exp_i() # exp(-iϕA)\n",
    "    trotterized_op = PauliTrotterEvolution(trotter_mode=Suzuki(order=2, reps=1)).convert(evolution_op).bind_parameters({phi: np.pi/n})\n",
    "    #----control---------\n",
    "    gate = trotterized_op.to_circuit()\n",
    "    # print(gate)\n",
    "    gate.name = f\"e^(i*A*pi/{n})\"\n",
    "    gate.label = f\"e^(i*A*np.pi/{n})\"\n",
    "    gate = gate.to_gate().control()\n",
    "    #---------------------\n",
    "    return gate"
   ]
  },
  {
   "cell_type": "code",
   "execution_count": 4,
   "id": "84a782ad-2860-4ba9-aee3-dcc9f45da532",
   "metadata": {
    "tags": []
   },
   "outputs": [
    {
     "data": {
      "text/plain": [
       "<qiskit.circuit.instructionset.InstructionSet at 0x25dfb5b1940>"
      ]
     },
     "execution_count": 4,
     "metadata": {},
     "output_type": "execute_result"
    }
   ],
   "source": [
    "n_b = 2\n",
    "n_ = 3\n",
    "n_ancilla = 1\n",
    "n_cl = 3\n",
    "# quantum circuit initialization\n",
    "qc = QuantumCircuit(n_b + n_ + n_ancilla, n_cl)\n",
    "# b-vector state preparation\n",
    "for i in range(n_b):\n",
    "    qc.x(i)\n",
    "for i in range(n_b, n_b+n_):\n",
    "    qc.h(i)\n",
    "qc.x(-1)\n",
    "qc.barrier()\n",
    "# Matrix exponentiation\n",
    "for i in range(1, n_+1):\n",
    "    gate = get_gate(A, 2**(i))\n",
    "    qc.append(gate,[i+1, 0, 1])\n",
    "qc.barrier()\n",
    "# Phase estimation\n",
    "for j in range(n_b + n_ - 1, n_b, -1):\n",
    "    qc.h(j)\n",
    "    for m in range(j - n_b):\n",
    "        qc.crz(-np.pi/float(2**(j-m - n_b)), j, m+n_b)\n",
    "qc.h(j-1)\n",
    "qc.barrier()\n",
    "# As I understood, we wncode ancilla qubit to be sure that result will be correct\n",
    "for j in range(1, 1+n_):\n",
    "    qc.cry(np.pi/(2**j), n_b+n_-j, n_b+n_)\n",
    "qc.barrier()\n",
    "# Inverse quantum Fourier transform\n",
    "for j in range(n_b, n_b + n_):\n",
    "    for m in range(j - n_b):\n",
    "        qc.crz(np.pi/float(2**(j-m - n_b)), j, m+n_b)\n",
    "    qc.h(j)\n",
    "qc.h(n_b)\n",
    "qc.barrier()\n",
    "# Eigenvalues storing in the vecor b register\n",
    "for i in range(n_, 0, -1):\n",
    "    gate = get_gate(A, -(2**(i)))\n",
    "    qc.append(gate,[i+1, 0, 1], )\n",
    "qc.barrier()\n",
    "# qubits measurement. I do not measure the ancilla qubit\n",
    "# qc.measure(-1, 2)\n",
    "qc.measure(0, 0)\n",
    "qc.measure(1, 1)\n",
    "\n",
    "# qc.draw(output='mpl', style={'backgroundcolor': '#EEEEEE'})"
   ]
  },
  {
   "cell_type": "code",
   "execution_count": 5,
   "id": "82787b74-5d5e-4c12-b461-8c475f8c3f4c",
   "metadata": {},
   "outputs": [],
   "source": [
    "simulator = Aer.get_backend('qasm_simulator')\n",
    "circ = transpile(qc, simulator)\n",
    "shots = 2048\n",
    "result = execute(qc, backend=simulator, shots=shots).result()"
   ]
  },
  {
   "cell_type": "markdown",
   "id": "46892ff1-8051-4432-a95c-73aa0bdba1dd",
   "metadata": {},
   "source": [
    "# Calculated result"
   ]
  },
  {
   "cell_type": "code",
   "execution_count": 6,
   "id": "c0ac7ffe-5289-4bf9-b866-f1af332ac840",
   "metadata": {},
   "outputs": [
    {
     "data": {
      "text/plain": [
       "{'011': 0.75634765625,\n",
       " '010': 0.21044921875,\n",
       " '000': 0.0146484375,\n",
       " '001': 0.0185546875}"
      ]
     },
     "execution_count": 6,
     "metadata": {},
     "output_type": "execute_result"
    }
   ],
   "source": [
    "counts = result.get_counts()\n",
    "probabilities = counts.copy()\n",
    "for k, v in probabilities.items():\n",
    "    probabilities[k] = v/shots\n",
    "probabilities"
   ]
  },
  {
   "cell_type": "markdown",
   "id": "7ee779bb-601b-4c22-8f28-dd976205ad4a",
   "metadata": {},
   "source": [
    "# Real x-vector result"
   ]
  },
  {
   "cell_type": "code",
   "execution_count": 7,
   "id": "e5daaadf-f098-43ca-807f-5d757f45ab90",
   "metadata": {},
   "outputs": [
    {
     "name": "stdout",
     "output_type": "stream",
     "text": [
      "real is 0.03125 -0.03125 0.0625 0.125\n"
     ]
    }
   ],
   "source": [
    "print(\n",
    "    'real is',\n",
    "    1/32,\n",
    "    -1/32,\n",
    "    1/16,\n",
    "    1/8\n",
    ")"
   ]
  },
  {
   "cell_type": "markdown",
   "id": "cb096793-2b15-41ba-8f3d-069e25b927a8",
   "metadata": {},
   "source": [
    "# Result x-vector from paper"
   ]
  },
  {
   "cell_type": "code",
   "execution_count": 41,
   "id": "87af8043-8bec-4bab-9926-2d13585023f0",
   "metadata": {},
   "outputs": [
    {
     "name": "stdout",
     "output_type": "stream",
     "text": [
      "0.2133072900770154 0.2133072900770154 0.42638011210655685 0.8527602242131137\n"
     ]
    }
   ],
   "source": [
    "print(\n",
    "    np.sqrt(0.0455),\n",
    "    np.sqrt(0.0455),\n",
    "    np.sqrt(0.1818),\n",
    "    np.sqrt(0.7272)\n",
    ")"
   ]
  },
  {
   "cell_type": "code",
   "execution_count": 42,
   "id": "27eda4fd-ca55-4988-9416-960aae0fb06a",
   "metadata": {},
   "outputs": [
    {
     "data": {
      "text/plain": [
       "1.0"
      ]
     },
     "execution_count": 42,
     "metadata": {},
     "output_type": "execute_result"
    }
   ],
   "source": [
    "0.0455+0.0455+0.1818+0.7272"
   ]
  },
  {
   "cell_type": "markdown",
   "id": "9657c85c-90e9-475d-9216-4026c5843e13",
   "metadata": {},
   "source": [
    "# Normalization of real x-vector result"
   ]
  },
  {
   "cell_type": "code",
   "execution_count": 43,
   "id": "c80df458-d820-4106-8f1d-3cf094faea21",
   "metadata": {},
   "outputs": [
    {
     "data": {
      "text/plain": [
       "array([0.04545455, 0.04545455, 0.18181818, 0.72727273])"
      ]
     },
     "execution_count": 43,
     "metadata": {},
     "output_type": "execute_result"
    }
   ],
   "source": [
    "a = [0.03125, -0.03125, 0.0625, 0.125]\n",
    "\n",
    "from sklearn.preprocessing import normalize\n",
    "norm1 = np.array(a) / np.linalg.norm(a)\n",
    "norm1**2"
   ]
  },
  {
   "cell_type": "markdown",
   "id": "9a2e3318-42db-45f8-bab3-3dcf4482686b",
   "metadata": {},
   "source": [
    "# Conditional number"
   ]
  },
  {
   "cell_type": "code",
   "execution_count": null,
   "id": "cf5413bf-f2e5-424d-b4d4-55c30664031d",
   "metadata": {},
   "outputs": [],
   "source": []
  }
 ],
 "metadata": {
  "kernelspec": {
   "display_name": "Q_school",
   "language": "python",
   "name": "q_school"
  },
  "language_info": {
   "codemirror_mode": {
    "name": "ipython",
    "version": 3
   },
   "file_extension": ".py",
   "mimetype": "text/x-python",
   "name": "python",
   "nbconvert_exporter": "python",
   "pygments_lexer": "ipython3",
   "version": "3.9.7"
  }
 },
 "nbformat": 4,
 "nbformat_minor": 5
}
