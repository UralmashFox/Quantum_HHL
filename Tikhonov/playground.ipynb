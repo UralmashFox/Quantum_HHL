{
 "cells": [
  {
   "cell_type": "code",
   "execution_count": 8,
   "id": "6f14ff52-6e7c-4431-93b6-2551d5852fcc",
   "metadata": {},
   "outputs": [],
   "source": [
    "# https://quantumcomputing.stackexchange.com/questions/24050/how-to-implement-a-exponential-of-a-hamiltonian-but-non-unitary-matrix-in-qisk\n",
    "\n",
    "# control gate: https://qiskit.org/documentation/stubs/qiskit.circuit.ControlledGate.html\n",
    "\n",
    "# circuit https://www.nature.com/articles/s41598-022-17660-8\n",
    "import numpy as np\n",
    "from numpy.linalg import eig, svd\n",
    "\n",
    "A = np.array([\n",
    "    [11, 5, -1, -1],\n",
    "    [5, 11, 1, 1],\n",
    "    [-1, 1, 11, -5],\n",
    "    [-1, 1, -5, 11],\n",
    "    ]).astype('complex')"
   ]
  },
  {
   "cell_type": "code",
   "execution_count": 7,
   "id": "65e7a0cc-6295-4767-a2ff-d93343336356",
   "metadata": {},
   "outputs": [
    {
     "name": "stdout",
     "output_type": "stream",
     "text": [
      "E-value: [16.+0.j  8.+0.j  4.+0.j 16.+0.j]\n"
     ]
    }
   ],
   "source": [
    "vals,vecs=eig(A)\n",
    "print('E-value:', vals)\n",
    "# print('E-vector', v)"
   ]
  },
  {
   "cell_type": "code",
   "execution_count": 14,
   "id": "72da7752-b88c-4d86-b47d-42aaa9d83bc9",
   "metadata": {},
   "outputs": [
    {
     "data": {
      "text/plain": [
       "array([16., 16.,  8.,  4.])"
      ]
     },
     "execution_count": 14,
     "metadata": {},
     "output_type": "execute_result"
    }
   ],
   "source": [
    "u, s, vh = np.linalg.svd(A, full_matrices=False)\n",
    "s"
   ]
  },
  {
   "cell_type": "markdown",
   "id": "d02dcc85-7b23-478c-9a43-1bac22602f48",
   "metadata": {},
   "source": [
    "# \"Our algorithms will generally assume that the singular values of A lie between 1/κ and 1; equivalently κ−2I ≤ A†A ≤ I\"\n",
    "\n",
    "https://arxiv.org/pdf/0811.3171\n",
    "\n",
    "but in our case k = 16/4 = 2 => all the eigenvalues are out of the scope\n",
    "\n",
    "*original* - how the algorithm works itself;\n",
    "\n",
    "*with_error* - experiments with error"
   ]
  },
  {
   "cell_type": "code",
   "execution_count": null,
   "id": "d215f4ec-7a2c-4259-9bee-c84eea87bf53",
   "metadata": {},
   "outputs": [],
   "source": []
  }
 ],
 "metadata": {
  "kernelspec": {
   "display_name": "quantum",
   "language": "python",
   "name": "quantum"
  },
  "language_info": {
   "codemirror_mode": {
    "name": "ipython",
    "version": 3
   },
   "file_extension": ".py",
   "mimetype": "text/x-python",
   "name": "python",
   "nbconvert_exporter": "python",
   "pygments_lexer": "ipython3",
   "version": "3.8.13"
  }
 },
 "nbformat": 4,
 "nbformat_minor": 5
}
