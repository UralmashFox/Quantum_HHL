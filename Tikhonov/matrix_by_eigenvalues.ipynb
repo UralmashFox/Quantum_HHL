{
 "cells": [
  {
   "cell_type": "code",
   "execution_count": 24,
   "id": "434aa4fb-5bcc-4a22-803e-cd507822e95c",
   "metadata": {},
   "outputs": [
    {
     "data": {
      "text/plain": [
       "array([[ 3.04313777,  0.16896332, -0.58841705, -0.18873254, -0.65786091,\n",
       "         0.04109569,  0.39929401,  0.19672738],\n",
       "       [ 0.16896332,  1.84231511, -0.14307008, -0.19669476,  0.21163139,\n",
       "        -0.45028287,  0.23598275,  0.45964747],\n",
       "       [-0.58841705, -0.14307008,  2.7530816 ,  0.2473049 ,  0.01719994,\n",
       "         0.08320825,  1.04013684,  0.31936236],\n",
       "       [-0.18873254, -0.19669476,  0.2473049 ,  2.94778362,  0.15801049,\n",
       "        -0.48716297, -0.65380314,  0.0746298 ],\n",
       "       [-0.65786091,  0.21163139,  0.01719994,  0.15801049,  2.92036224,\n",
       "        -0.28445308,  0.08783862, -0.020264  ],\n",
       "       [ 0.04109569, -0.45028287,  0.08320825, -0.48716297, -0.28445308,\n",
       "         2.0887696 , -0.42825227,  0.08418105],\n",
       "       [ 0.39929401,  0.23598275,  1.04013684, -0.65380314,  0.08783862,\n",
       "        -0.42825227,  2.8268508 ,  0.09232105],\n",
       "       [ 0.19672738,  0.45964747,  0.31936236,  0.0746298 , -0.020264  ,\n",
       "         0.08418105,  0.09232105,  1.57769925]])"
      ]
     },
     "execution_count": 24,
     "metadata": {},
     "output_type": "execute_result"
    }
   ],
   "source": [
    "import numpy as np\n",
    "import scipy.linalg as la\n",
    "des = [1, 2, 3, 4, 1, 2, 3, 4,]\n",
    "n = len(des)\n",
    "s = np.diag(des)\n",
    "q, _ = la.qr(np.random.rand(n, n))\n",
    "A = q.T @ s @ q\n",
    "# np.linalg.eigvalsh(semidef)\n",
    "A"
   ]
  },
  {
   "cell_type": "code",
   "execution_count": 25,
   "id": "ab74facc-c431-4f62-9ab2-820bcf90fb0c",
   "metadata": {},
   "outputs": [
    {
     "name": "stdout",
     "output_type": "stream",
     "text": [
      "[4. 4. 3. 3. 2. 2. 1. 1.]\n"
     ]
    }
   ],
   "source": [
    "u, s, vh = np.linalg.svd(A, full_matrices=False)\n",
    "print(s)"
   ]
  },
  {
   "cell_type": "code",
   "execution_count": 27,
   "id": "1858d6dd-0024-4bf0-a3f4-6d9348503a0e",
   "metadata": {},
   "outputs": [
    {
     "name": "stdout",
     "output_type": "stream",
     "text": [
      "[-0.06161176 -0.2094146  -0.11320481 -0.0330275   0.00111423 -0.07112364\n",
      "  0.02557131  0.72931826]\n"
     ]
    }
   ],
   "source": [
    "b = np.array([0, 0, 0, 0, 0, 0, 0, 1])\n",
    "x = np.linalg.solve(A, b)\n",
    "print(x)"
   ]
  },
  {
   "cell_type": "code",
   "execution_count": null,
   "id": "43663747-0432-46dd-8528-79457ad8ea92",
   "metadata": {},
   "outputs": [],
   "source": []
  }
 ],
 "metadata": {
  "kernelspec": {
   "display_name": "quantum",
   "language": "python",
   "name": "quantum"
  },
  "language_info": {
   "codemirror_mode": {
    "name": "ipython",
    "version": 3
   },
   "file_extension": ".py",
   "mimetype": "text/x-python",
   "name": "python",
   "nbconvert_exporter": "python",
   "pygments_lexer": "ipython3",
   "version": "3.8.13"
  }
 },
 "nbformat": 4,
 "nbformat_minor": 5
}
