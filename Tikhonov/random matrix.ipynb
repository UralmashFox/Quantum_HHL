{
 "cells": [
  {
   "cell_type": "code",
   "execution_count": 1,
   "id": "615762e0-fd3a-4931-8d65-98af79992c0f",
   "metadata": {},
   "outputs": [],
   "source": [
    "# https://quantumcomputing.stackexchange.com/questions/24050/how-to-implement-a-exponential-of-a-hamiltonian-but-non-unitary-matrix-in-qisk\n",
    "\n",
    "# control gate: https://qiskit.org/documentation/stubs/qiskit.circuit.ControlledGate.html\n",
    "\n",
    "# circuit https://www.nature.com/articles/s41598-022-17660-8\n",
    "import numpy as np\n",
    "import configparser\n",
    "from sklearn.preprocessing import normalize\n",
    "import collections\n",
    "import json\n",
    "from tqdm import trange\n",
    "import scipy\n",
    "from scipy import stats\n",
    "from numpy.random import default_rng\n",
    "import random\n",
    "\n",
    "from qiskit.circuit import ControlledGate\n",
    "from qiskit import QuantumCircuit, ClassicalRegister, QuantumRegister, execute, Aer, transpile\n",
    "from qiskit.quantum_info.operators import Operator\n",
    "from qiskit.extensions import UnitaryGate\n",
    "from qiskit.tools.visualization import plot_histogram\n",
    "\n",
    "from qiskit.synthesis import MatrixExponential\n",
    "from qiskit.quantum_info import Operator\n",
    "from qiskit.quantum_info import SparsePauliOp\n",
    "from qiskit.opflow.list_ops import SummedOp\n",
    "from qiskit.circuit import Parameter\n",
    "from qiskit.opflow import I, X, Y, Z, H, CX, Zero, ListOp, PauliExpectation, PauliTrotterEvolution, CircuitSampler, MatrixEvolution, Suzuki, PauliSumOp"
   ]
  },
  {
   "cell_type": "code",
   "execution_count": 2,
   "id": "2eaeb42d-f81c-47a4-9eba-76a926f9121d",
   "metadata": {},
   "outputs": [],
   "source": [
    "def get_gate(A, n):    \n",
    "    pauli_op = PauliSumOp(SparsePauliOp.from_operator(A))\n",
    "    phi = Parameter('ϕ')\n",
    "    evolution_op = (phi * pauli_op).exp_i() # exp(-iϕA)\n",
    "    trotterized_op = PauliTrotterEvolution(trotter_mode=Suzuki(order=2, reps=1)).convert(evolution_op).bind_parameters({phi: np.pi/n})\n",
    "    #----control---------\n",
    "    gate = trotterized_op.to_circuit()\n",
    "    gate.name = f\"e^(i*A*pi/{n})\"\n",
    "    gate.label = f\"e^(i*A*np.pi/{n})\"\n",
    "    gate = gate.to_gate().control()\n",
    "    #---------------------\n",
    "    return gate"
   ]
  },
  {
   "cell_type": "code",
   "execution_count": 3,
   "id": "84a782ad-2860-4ba9-aee3-dcc9f45da532",
   "metadata": {
    "tags": []
   },
   "outputs": [],
   "source": [
    "def get_circuit(A, b, eigns_qub_num=2):    \n",
    "    n_b = int(np.log2(len(b)))\n",
    "    n_ = eigns_qub_num #3 is an optimal\n",
    "    n_ancilla = 1\n",
    "    n_cl = n_b#+1\n",
    "    # quantum circuit initialization\n",
    "    b_x = QuantumRegister(n_b, 'b and x')\n",
    "    eigs = QuantumRegister(n_, 'eigenvalues')\n",
    "    ancilla = QuantumRegister(n_ancilla, 'ancilla')\n",
    "    classical = ClassicalRegister(n_cl, 'classical')\n",
    "    qc = QuantumCircuit(b_x, eigs, ancilla, classical)\n",
    "    # b-vector state preparation\n",
    "    qc.initialize(b, b_x)\n",
    "    qc.h(eigs)\n",
    "    qc.x(ancilla)\n",
    "    # qc.barrier()\n",
    "    # Matrix exponentiation\n",
    "    for i in range(0, len(eigs)):\n",
    "        gate = get_gate(A, 2**(i+1))\n",
    "        qc.append(gate,[eigs[i], *b_x])\n",
    "    qc.barrier()\n",
    "    # Phase estimation\n",
    "    for j in range(len(eigs)-1, 0, -1):\n",
    "        qc.h(eigs[j])\n",
    "        for m in range(j):\n",
    "            qc.crz(-np.pi/float(2**(j-m)), eigs[j], eigs[m])\n",
    "    # qc.barrier()\n",
    "    # As I understood, we wncode ancilla qubit to be sure that result will be correct\n",
    "    for j in range(1, 1+n_):\n",
    "        qc.cry(np.pi/(2**j), n_b+n_-j, n_b+n_)\n",
    "    # qc.barrier()\n",
    "    # Inverse quantum Fourier transform\n",
    "    for j in range(len(eigs)-1, 0, -1):\n",
    "        qc.h(eigs[j])\n",
    "        for m in range(j):\n",
    "            qc.crz(np.pi/float(2**(j-m)), eigs[j], eigs[m])\n",
    "    # qc.barrier()\n",
    "    # Eigenvalues storing in the vecor b register\n",
    "    for i in range(len(eigs), 0, -1):\n",
    "        gate = get_gate(A, -2**(i+1))\n",
    "        qc.append(gate,[eigs[i-1], *b_x])\n",
    "    # qc.barrier()\n",
    "    # qubits measurement. I do not measure the ancilla qubit\n",
    "    qc.measure(b_x, classical)\n",
    "    return qc"
   ]
  },
  {
   "cell_type": "code",
   "execution_count": 4,
   "id": "82787b74-5d5e-4c12-b461-8c475f8c3f4c",
   "metadata": {},
   "outputs": [],
   "source": [
    "def execute_circ(qc, shots = 2048):    \n",
    "    simulator = Aer.get_backend('qasm_simulator')\n",
    "    circ = transpile(qc, simulator)\n",
    "    result = execute(qc, backend=simulator, shots=shots).result()\n",
    "    return result, sum(circ.count_ops().values())"
   ]
  },
  {
   "cell_type": "markdown",
   "id": "46892ff1-8051-4432-a95c-73aa0bdba1dd",
   "metadata": {},
   "source": [
    "# Calculated result"
   ]
  },
  {
   "cell_type": "code",
   "execution_count": 5,
   "id": "c0ac7ffe-5289-4bf9-b866-f1af332ac840",
   "metadata": {},
   "outputs": [],
   "source": [
    "def get_solution(result, shots = 2048):\n",
    "    counts = result.get_counts()\n",
    "    probabilities = counts.copy()\n",
    "    probs_upd = {}\n",
    "    for k, v in probabilities.items():\n",
    "        value = v/shots\n",
    "        probabilities[k] = value\n",
    "    vect = np.array([v for k,v in probabilities.items()])\n",
    "    vect.sort()\n",
    "    return vect"
   ]
  },
  {
   "cell_type": "markdown",
   "id": "2d6854a7-8154-4778-87c4-13bc622759d3",
   "metadata": {},
   "source": [
    "# Real normalized result"
   ]
  },
  {
   "cell_type": "code",
   "execution_count": 6,
   "id": "8a20f1a9-975e-4be4-93a6-95ddc53aa41f",
   "metadata": {},
   "outputs": [],
   "source": [
    "def get_real_solution(x):\n",
    "    real_x_norm = (np.array(x) / np.linalg.norm(x))**2\n",
    "    real_x_norm.sort()\n",
    "    return real_x_norm\n",
    "# np.round(real_x_norm, 5)"
   ]
  },
  {
   "cell_type": "markdown",
   "id": "1222890f-8ec1-475b-bc0f-306eba42d589",
   "metadata": {
    "tags": []
   },
   "source": [
    "# Error"
   ]
  },
  {
   "cell_type": "code",
   "execution_count": 7,
   "id": "85055540-e5b7-458a-86b8-7f16103ac4de",
   "metadata": {},
   "outputs": [],
   "source": [
    "def get_error(vect, real_x_norm):\n",
    "    mse = (np.square(vect - real_x_norm)).mean()\n",
    "    abs_err = np.mean([np.abs((v-r)/r) for v,r in zip(vect, real_x_norm)])\n",
    "    return mse, abs_err"
   ]
  },
  {
   "cell_type": "code",
   "execution_count": 8,
   "id": "bae30294-be64-4a3f-8138-7ff7db91aa9a",
   "metadata": {},
   "outputs": [],
   "source": [
    "import scipy.linalg as la\n",
    "def get_data():    \n",
    "    fail = True\n",
    "    while fail:\n",
    "        try:\n",
    "            size = random.choice([2, 4, 8, 16])\n",
    "            des = np.random.uniform(low=0, high=1, size=size)\n",
    "            n = len(des)\n",
    "            s = np.diag(des)\n",
    "            q, _ = la.qr(np.random.rand(n, n))\n",
    "            A = q.T @ s @ q\n",
    "            \n",
    "            v = np.random.rand(size)\n",
    "            b = v / np.linalg.norm(v)\n",
    "            \n",
    "            x = np.linalg.solve(A, b)\n",
    "            fail = False\n",
    "        except np.linalg.LinAlgError:\n",
    "            fail = True\n",
    "    return A, b, x"
   ]
  },
  {
   "cell_type": "code",
   "execution_count": 9,
   "id": "cfbde34e-5d27-4338-9418-76fe7eb6a791",
   "metadata": {},
   "outputs": [],
   "source": [
    "def save_data(example, A, b, x):\n",
    "    config = configparser.ConfigParser()\n",
    "    config[example] = {'A': A,\n",
    "                       'b': b,\n",
    "                       'x': x,\n",
    "                      }\n",
    "    with open(\"random_config.ini\",\"a+\") as configfile:\n",
    "        config.write(configfile)"
   ]
  },
  {
   "cell_type": "code",
   "execution_count": null,
   "id": "009c1ac0-5b84-4af5-943e-234c0251cd1e",
   "metadata": {},
   "outputs": [
    {
     "name": "stdout",
     "output_type": "stream",
     "text": [
      "====== example 0 ========\n"
     ]
    },
    {
     "name": "stderr",
     "output_type": "stream",
     "text": [
      "100%|██████████████████████████████████████████████████████████████████████████████████| 19/19 [00:42<00:00,  2.22s/it]\n"
     ]
    },
    {
     "name": "stdout",
     "output_type": "stream",
     "text": [
      "====== example 1 ========\n"
     ]
    },
    {
     "name": "stderr",
     "output_type": "stream",
     "text": [
      "100%|██████████████████████████████████████████████████████████████████████████████████| 19/19 [02:38<00:00,  8.32s/it]\n"
     ]
    },
    {
     "name": "stdout",
     "output_type": "stream",
     "text": [
      "====== example 2 ========\n"
     ]
    },
    {
     "name": "stderr",
     "output_type": "stream",
     "text": [
      "100%|██████████████████████████████████████████████████████████████████████████████████| 19/19 [12:36<00:00, 39.81s/it]\n"
     ]
    },
    {
     "name": "stdout",
     "output_type": "stream",
     "text": [
      "====== example 3 ========\n"
     ]
    },
    {
     "name": "stderr",
     "output_type": "stream",
     "text": [
      "100%|██████████████████████████████████████████████████████████████████████████████████| 19/19 [03:08<00:00,  9.93s/it]\n"
     ]
    },
    {
     "name": "stdout",
     "output_type": "stream",
     "text": [
      "====== example 4 ========\n"
     ]
    },
    {
     "name": "stderr",
     "output_type": "stream",
     "text": [
      "100%|██████████████████████████████████████████████████████████████████████████████████| 19/19 [03:11<00:00, 10.10s/it]\n"
     ]
    },
    {
     "name": "stdout",
     "output_type": "stream",
     "text": [
      "====== example 5 ========\n"
     ]
    },
    {
     "name": "stderr",
     "output_type": "stream",
     "text": [
      "100%|█████████████████████████████████████████████████████████████████████████████████| 19/19 [56:41<00:00, 179.04s/it]\n"
     ]
    },
    {
     "name": "stdout",
     "output_type": "stream",
     "text": [
      "====== example 6 ========\n"
     ]
    },
    {
     "name": "stderr",
     "output_type": "stream",
     "text": [
      "100%|██████████████████████████████████████████████████████████████████████████████████| 19/19 [02:48<00:00,  8.88s/it]\n"
     ]
    },
    {
     "name": "stdout",
     "output_type": "stream",
     "text": [
      "====== example 7 ========\n"
     ]
    },
    {
     "name": "stderr",
     "output_type": "stream",
     "text": [
      "100%|██████████████████████████████████████████████████████████████████████████████████| 19/19 [12:03<00:00, 38.09s/it]\n"
     ]
    },
    {
     "name": "stdout",
     "output_type": "stream",
     "text": [
      "====== example 8 ========\n"
     ]
    },
    {
     "name": "stderr",
     "output_type": "stream",
     "text": [
      "100%|██████████████████████████████████████████████████████████████████████████████████| 19/19 [00:41<00:00,  2.20s/it]\n"
     ]
    },
    {
     "name": "stdout",
     "output_type": "stream",
     "text": [
      "====== example 9 ========\n"
     ]
    },
    {
     "name": "stderr",
     "output_type": "stream",
     "text": [
      "100%|█████████████████████████████████████████████████████████████████████████████████| 19/19 [50:14<00:00, 158.65s/it]\n"
     ]
    },
    {
     "name": "stdout",
     "output_type": "stream",
     "text": [
      "====== example 10 ========\n"
     ]
    },
    {
     "name": "stderr",
     "output_type": "stream",
     "text": [
      "100%|██████████████████████████████████████████████████████████████████████████████████| 19/19 [11:16<00:00, 35.59s/it]\n"
     ]
    },
    {
     "name": "stdout",
     "output_type": "stream",
     "text": [
      "====== example 11 ========\n"
     ]
    },
    {
     "name": "stderr",
     "output_type": "stream",
     "text": [
      "100%|██████████████████████████████████████████████████████████████████████████████████| 19/19 [00:39<00:00,  2.10s/it]\n"
     ]
    },
    {
     "name": "stdout",
     "output_type": "stream",
     "text": [
      "====== example 12 ========\n"
     ]
    },
    {
     "name": "stderr",
     "output_type": "stream",
     "text": [
      "100%|██████████████████████████████████████████████████████████████████████████████████| 19/19 [00:39<00:00,  2.10s/it]\n"
     ]
    },
    {
     "name": "stdout",
     "output_type": "stream",
     "text": [
      "====== example 13 ========\n"
     ]
    },
    {
     "name": "stderr",
     "output_type": "stream",
     "text": [
      "100%|█████████████████████████████████████████████████████████████████████████████████| 19/19 [49:40<00:00, 156.88s/it]\n"
     ]
    },
    {
     "name": "stdout",
     "output_type": "stream",
     "text": [
      "====== example 14 ========\n"
     ]
    },
    {
     "name": "stderr",
     "output_type": "stream",
     "text": [
      "100%|██████████████████████████████████████████████████████████████████████████████████| 19/19 [02:36<00:00,  8.23s/it]\n"
     ]
    },
    {
     "name": "stdout",
     "output_type": "stream",
     "text": [
      "====== example 15 ========\n"
     ]
    },
    {
     "name": "stderr",
     "output_type": "stream",
     "text": [
      "100%|█████████████████████████████████████████████████████████████████████████████████| 19/19 [49:48<00:00, 157.28s/it]\n"
     ]
    },
    {
     "name": "stdout",
     "output_type": "stream",
     "text": [
      "====== example 16 ========\n"
     ]
    },
    {
     "name": "stderr",
     "output_type": "stream",
     "text": [
      "100%|██████████████████████████████████████████████████████████████████████████████████| 19/19 [00:39<00:00,  2.08s/it]\n"
     ]
    },
    {
     "name": "stdout",
     "output_type": "stream",
     "text": [
      "====== example 17 ========\n"
     ]
    },
    {
     "name": "stderr",
     "output_type": "stream",
     "text": [
      "100%|██████████████████████████████████████████████████████████████████████████████████| 19/19 [11:13<00:00, 35.47s/it]\n"
     ]
    },
    {
     "name": "stdout",
     "output_type": "stream",
     "text": [
      "====== example 18 ========\n"
     ]
    },
    {
     "name": "stderr",
     "output_type": "stream",
     "text": [
      "100%|██████████████████████████████████████████████████████████████████████████████████| 19/19 [02:36<00:00,  8.21s/it]\n"
     ]
    },
    {
     "name": "stdout",
     "output_type": "stream",
     "text": [
      "====== example 19 ========\n"
     ]
    },
    {
     "name": "stderr",
     "output_type": "stream",
     "text": [
      "100%|██████████████████████████████████████████████████████████████████████████████████| 19/19 [00:39<00:00,  2.10s/it]\n"
     ]
    },
    {
     "name": "stdout",
     "output_type": "stream",
     "text": [
      "====== example 20 ========\n"
     ]
    },
    {
     "name": "stderr",
     "output_type": "stream",
     "text": [
      "100%|██████████████████████████████████████████████████████████████████████████████████| 19/19 [00:40<00:00,  2.11s/it]\n"
     ]
    },
    {
     "name": "stdout",
     "output_type": "stream",
     "text": [
      "====== example 21 ========\n"
     ]
    },
    {
     "name": "stderr",
     "output_type": "stream",
     "text": [
      "100%|██████████████████████████████████████████████████████████████████████████████████| 19/19 [02:36<00:00,  8.23s/it]\n"
     ]
    },
    {
     "name": "stdout",
     "output_type": "stream",
     "text": [
      "====== example 22 ========\n"
     ]
    },
    {
     "name": "stderr",
     "output_type": "stream",
     "text": [
      "100%|██████████████████████████████████████████████████████████████████████████████████| 19/19 [02:36<00:00,  8.23s/it]\n"
     ]
    },
    {
     "name": "stdout",
     "output_type": "stream",
     "text": [
      "====== example 23 ========\n"
     ]
    },
    {
     "name": "stderr",
     "output_type": "stream",
     "text": [
      "100%|██████████████████████████████████████████████████████████████████████████████████| 19/19 [00:40<00:00,  2.11s/it]\n"
     ]
    },
    {
     "name": "stdout",
     "output_type": "stream",
     "text": [
      "====== example 24 ========\n"
     ]
    },
    {
     "name": "stderr",
     "output_type": "stream",
     "text": [
      "100%|██████████████████████████████████████████████████████████████████████████████████| 19/19 [11:14<00:00, 35.51s/it]\n"
     ]
    },
    {
     "name": "stdout",
     "output_type": "stream",
     "text": [
      "====== example 25 ========\n"
     ]
    },
    {
     "name": "stderr",
     "output_type": "stream",
     "text": [
      "100%|██████████████████████████████████████████████████████████████████████████████████| 19/19 [11:15<00:00, 35.55s/it]\n"
     ]
    },
    {
     "name": "stdout",
     "output_type": "stream",
     "text": [
      "====== example 26 ========\n"
     ]
    },
    {
     "name": "stderr",
     "output_type": "stream",
     "text": [
      "100%|██████████████████████████████████████████████████████████████████████████████████| 19/19 [11:12<00:00, 35.41s/it]\n"
     ]
    },
    {
     "name": "stdout",
     "output_type": "stream",
     "text": [
      "====== example 27 ========\n"
     ]
    },
    {
     "name": "stderr",
     "output_type": "stream",
     "text": [
      "100%|█████████████████████████████████████████████████████████████████████████████████| 19/19 [49:48<00:00, 157.27s/it]\n"
     ]
    },
    {
     "name": "stdout",
     "output_type": "stream",
     "text": [
      "====== example 28 ========\n"
     ]
    },
    {
     "name": "stderr",
     "output_type": "stream",
     "text": [
      "100%|██████████████████████████████████████████████████████████████████████████████████| 19/19 [02:36<00:00,  8.22s/it]\n"
     ]
    },
    {
     "name": "stdout",
     "output_type": "stream",
     "text": [
      "====== example 29 ========\n"
     ]
    },
    {
     "name": "stderr",
     "output_type": "stream",
     "text": [
      "100%|██████████████████████████████████████████████████████████████████████████████████| 19/19 [02:36<00:00,  8.22s/it]\n"
     ]
    },
    {
     "name": "stdout",
     "output_type": "stream",
     "text": [
      "====== example 30 ========\n"
     ]
    },
    {
     "name": "stderr",
     "output_type": "stream",
     "text": [
      "100%|██████████████████████████████████████████████████████████████████████████████████| 19/19 [00:39<00:00,  2.08s/it]\n"
     ]
    },
    {
     "name": "stdout",
     "output_type": "stream",
     "text": [
      "====== example 31 ========\n"
     ]
    },
    {
     "name": "stderr",
     "output_type": "stream",
     "text": [
      "100%|██████████████████████████████████████████████████████████████████████████████████| 19/19 [02:36<00:00,  8.24s/it]\n"
     ]
    },
    {
     "name": "stdout",
     "output_type": "stream",
     "text": [
      "====== example 32 ========\n"
     ]
    },
    {
     "name": "stderr",
     "output_type": "stream",
     "text": [
      "100%|██████████████████████████████████████████████████████████████████████████████████| 19/19 [02:36<00:00,  8.23s/it]\n"
     ]
    },
    {
     "name": "stdout",
     "output_type": "stream",
     "text": [
      "====== example 33 ========\n"
     ]
    },
    {
     "name": "stderr",
     "output_type": "stream",
     "text": [
      "100%|█████████████████████████████████████████████████████████████████████████████████| 19/19 [49:44<00:00, 157.07s/it]\n"
     ]
    },
    {
     "name": "stdout",
     "output_type": "stream",
     "text": [
      "====== example 34 ========\n"
     ]
    },
    {
     "name": "stderr",
     "output_type": "stream",
     "text": [
      "100%|██████████████████████████████████████████████████████████████████████████████████| 19/19 [11:12<00:00, 35.40s/it]\n"
     ]
    },
    {
     "name": "stdout",
     "output_type": "stream",
     "text": [
      "====== example 35 ========\n"
     ]
    },
    {
     "name": "stderr",
     "output_type": "stream",
     "text": [
      "100%|██████████████████████████████████████████████████████████████████████████████████| 19/19 [00:39<00:00,  2.09s/it]\n"
     ]
    },
    {
     "name": "stdout",
     "output_type": "stream",
     "text": [
      "====== example 36 ========\n"
     ]
    },
    {
     "name": "stderr",
     "output_type": "stream",
     "text": [
      "100%|██████████████████████████████████████████████████████████████████████████████████| 19/19 [02:36<00:00,  8.23s/it]\n"
     ]
    },
    {
     "name": "stdout",
     "output_type": "stream",
     "text": [
      "====== example 37 ========\n"
     ]
    },
    {
     "name": "stderr",
     "output_type": "stream",
     "text": [
      "100%|██████████████████████████████████████████████████████████████████████████████████| 19/19 [00:39<00:00,  2.09s/it]\n"
     ]
    },
    {
     "name": "stdout",
     "output_type": "stream",
     "text": [
      "====== example 38 ========\n"
     ]
    },
    {
     "name": "stderr",
     "output_type": "stream",
     "text": [
      "100%|██████████████████████████████████████████████████████████████████████████████████| 19/19 [02:36<00:00,  8.21s/it]\n"
     ]
    },
    {
     "name": "stdout",
     "output_type": "stream",
     "text": [
      "====== example 39 ========\n"
     ]
    },
    {
     "name": "stderr",
     "output_type": "stream",
     "text": [
      "100%|██████████████████████████████████████████████████████████████████████████████████| 19/19 [02:36<00:00,  8.22s/it]\n"
     ]
    },
    {
     "name": "stdout",
     "output_type": "stream",
     "text": [
      "====== example 40 ========\n"
     ]
    },
    {
     "name": "stderr",
     "output_type": "stream",
     "text": [
      "100%|█████████████████████████████████████████████████████████████████████████████████| 19/19 [49:40<00:00, 156.87s/it]\n"
     ]
    },
    {
     "name": "stdout",
     "output_type": "stream",
     "text": [
      "====== example 41 ========\n"
     ]
    },
    {
     "name": "stderr",
     "output_type": "stream",
     "text": [
      "100%|██████████████████████████████████████████████████████████████████████████████████| 19/19 [02:35<00:00,  8.19s/it]\n"
     ]
    },
    {
     "name": "stdout",
     "output_type": "stream",
     "text": [
      "====== example 42 ========\n"
     ]
    },
    {
     "name": "stderr",
     "output_type": "stream",
     "text": [
      "100%|██████████████████████████████████████████████████████████████████████████████████| 19/19 [00:39<00:00,  2.09s/it]\n"
     ]
    },
    {
     "name": "stdout",
     "output_type": "stream",
     "text": [
      "====== example 43 ========\n"
     ]
    },
    {
     "name": "stderr",
     "output_type": "stream",
     "text": [
      "100%|██████████████████████████████████████████████████████████████████████████████████| 19/19 [00:39<00:00,  2.08s/it]\n"
     ]
    },
    {
     "name": "stdout",
     "output_type": "stream",
     "text": [
      "====== example 44 ========\n"
     ]
    },
    {
     "name": "stderr",
     "output_type": "stream",
     "text": [
      "100%|██████████████████████████████████████████████████████████████████████████████████| 19/19 [02:36<00:00,  8.22s/it]\n"
     ]
    },
    {
     "name": "stdout",
     "output_type": "stream",
     "text": [
      "====== example 45 ========\n"
     ]
    },
    {
     "name": "stderr",
     "output_type": "stream",
     "text": [
      "100%|██████████████████████████████████████████████████████████████████████████████████| 19/19 [02:35<00:00,  8.20s/it]\n"
     ]
    },
    {
     "name": "stdout",
     "output_type": "stream",
     "text": [
      "====== example 46 ========\n"
     ]
    },
    {
     "name": "stderr",
     "output_type": "stream",
     "text": [
      "100%|██████████████████████████████████████████████████████████████████████████████████| 19/19 [02:37<00:00,  8.26s/it]\n"
     ]
    },
    {
     "name": "stdout",
     "output_type": "stream",
     "text": [
      "====== example 47 ========\n"
     ]
    },
    {
     "name": "stderr",
     "output_type": "stream",
     "text": [
      "100%|██████████████████████████████████████████████████████████████████████████████████| 19/19 [11:12<00:00, 35.38s/it]\n"
     ]
    },
    {
     "name": "stdout",
     "output_type": "stream",
     "text": [
      "====== example 48 ========\n"
     ]
    },
    {
     "name": "stderr",
     "output_type": "stream",
     "text": [
      "100%|██████████████████████████████████████████████████████████████████████████████████| 19/19 [00:39<00:00,  2.08s/it]\n"
     ]
    },
    {
     "name": "stdout",
     "output_type": "stream",
     "text": [
      "====== example 49 ========\n"
     ]
    },
    {
     "name": "stderr",
     "output_type": "stream",
     "text": [
      "100%|██████████████████████████████████████████████████████████████████████████████████| 19/19 [00:39<00:00,  2.09s/it]\n"
     ]
    },
    {
     "name": "stdout",
     "output_type": "stream",
     "text": [
      "====== example 50 ========\n"
     ]
    },
    {
     "name": "stderr",
     "output_type": "stream",
     "text": [
      "100%|█████████████████████████████████████████████████████████████████████████████████| 19/19 [49:29<00:00, 156.29s/it]\n"
     ]
    },
    {
     "name": "stdout",
     "output_type": "stream",
     "text": [
      "====== example 51 ========\n"
     ]
    },
    {
     "name": "stderr",
     "output_type": "stream",
     "text": [
      "100%|█████████████████████████████████████████████████████████████████████████████████| 19/19 [49:45<00:00, 157.11s/it]\n"
     ]
    },
    {
     "name": "stdout",
     "output_type": "stream",
     "text": [
      "====== example 52 ========\n"
     ]
    },
    {
     "name": "stderr",
     "output_type": "stream",
     "text": [
      "100%|██████████████████████████████████████████████████████████████████████████████████| 19/19 [02:35<00:00,  8.21s/it]\n"
     ]
    },
    {
     "name": "stdout",
     "output_type": "stream",
     "text": [
      "====== example 53 ========\n"
     ]
    },
    {
     "name": "stderr",
     "output_type": "stream",
     "text": [
      "100%|██████████████████████████████████████████████████████████████████████████████████| 19/19 [11:14<00:00, 35.48s/it]\n"
     ]
    },
    {
     "name": "stdout",
     "output_type": "stream",
     "text": [
      "====== example 54 ========\n"
     ]
    },
    {
     "name": "stderr",
     "output_type": "stream",
     "text": [
      "100%|█████████████████████████████████████████████████████████████████████████████████| 19/19 [49:41<00:00, 156.91s/it]\n"
     ]
    },
    {
     "name": "stdout",
     "output_type": "stream",
     "text": [
      "====== example 55 ========\n"
     ]
    },
    {
     "name": "stderr",
     "output_type": "stream",
     "text": [
      "100%|██████████████████████████████████████████████████████████████████████████████████| 19/19 [00:39<00:00,  2.07s/it]\n"
     ]
    },
    {
     "name": "stdout",
     "output_type": "stream",
     "text": [
      "====== example 56 ========\n"
     ]
    },
    {
     "name": "stderr",
     "output_type": "stream",
     "text": [
      "100%|██████████████████████████████████████████████████████████████████████████████████| 19/19 [11:11<00:00, 35.37s/it]\n"
     ]
    },
    {
     "name": "stdout",
     "output_type": "stream",
     "text": [
      "====== example 57 ========\n"
     ]
    },
    {
     "name": "stderr",
     "output_type": "stream",
     "text": [
      "100%|██████████████████████████████████████████████████████████████████████████████████| 19/19 [00:39<00:00,  2.09s/it]\n"
     ]
    },
    {
     "name": "stdout",
     "output_type": "stream",
     "text": [
      "====== example 58 ========\n"
     ]
    },
    {
     "name": "stderr",
     "output_type": "stream",
     "text": [
      " 84%|█████████████████████████████████████████████████████████████████████             | 16/19 [01:45<00:32, 10.80s/it]"
     ]
    }
   ],
   "source": [
    "with open('random_data.json', 'a+') as fp:\n",
    "            json.dump({}, fp)\n",
    "for example in range(201):\n",
    "    error_data = {}\n",
    "    error_data['example '+str(example)] = {}\n",
    "    A, b, x = get_data()\n",
    "    save_data(example, A, b, x)\n",
    "    print(f\"====== example {example} ========\")\n",
    "    for i in trange(2, 21):    \n",
    "        circ = get_circuit(A, b, i)\n",
    "        result, op_num = execute_circ(circ)\n",
    "        x_prime_norm = get_solution(result)\n",
    "        x_norm = get_real_solution(x)\n",
    "        if len(np.zeros(len(x_norm) - len(x_prime_norm))) > 0:\n",
    "            x_prime_norm = np.concatenate((x_prime_norm, np.zeros(len(x_norm) - len(x_prime_norm))))\n",
    "        mse, abs_err = get_error(x_prime_norm, x_norm)\n",
    "        # print(f\"mse {np.round(mse, 4)}, abs {np.round(abs_err, 4)}, depth {circ.depth()}, number of operators {circ.num_qubits} \"\n",
    "        #       f\"amount of operations is {op_num} for {i} eigenvalues qubits\", '\\n')\n",
    "        error_data['example '+ str(example)][i] = {\n",
    "            'mse': mse,\n",
    "            'abs': abs_err,\n",
    "            'depth': circ.depth(),\n",
    "            'op_num': op_num,\n",
    "             }\n",
    "    # with open('random_data.json', 'a+') as fp:\n",
    "    #     json.dump(error_data, fp)\n",
    "        \n",
    "    with open('random_data.json') as json_data_file:\n",
    "        data = json.load(json_data_file)\n",
    "\n",
    "    data.update(error_data)\n",
    "    with open('random_data.json', 'w+') as fp:\n",
    "        json.dump(data, fp)"
   ]
  },
  {
   "cell_type": "code",
   "execution_count": 87,
   "id": "b1c70cf6-c17e-467c-a625-2dc5e59cb488",
   "metadata": {},
   "outputs": [],
   "source": [
    "# with open('random_data.json', 'w') as fp:\n",
    "#     json.dump(error_data, fp)"
   ]
  },
  {
   "cell_type": "code",
   "execution_count": null,
   "id": "9b0d9182-f75e-4d16-8d3d-73ee6db0802f",
   "metadata": {},
   "outputs": [],
   "source": []
  }
 ],
 "metadata": {
  "kernelspec": {
   "display_name": "Q_school",
   "language": "python",
   "name": "q_school"
  },
  "language_info": {
   "codemirror_mode": {
    "name": "ipython",
    "version": 3
   },
   "file_extension": ".py",
   "mimetype": "text/x-python",
   "name": "python",
   "nbconvert_exporter": "python",
   "pygments_lexer": "ipython3",
   "version": "3.9.7"
  }
 },
 "nbformat": 4,
 "nbformat_minor": 5
}
