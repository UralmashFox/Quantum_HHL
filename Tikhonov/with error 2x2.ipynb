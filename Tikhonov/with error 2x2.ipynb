{
 "cells": [
  {
   "cell_type": "code",
   "execution_count": 1,
   "id": "615762e0-fd3a-4931-8d65-98af79992c0f",
   "metadata": {},
   "outputs": [],
   "source": [
    "# https://quantumcomputing.stackexchange.com/questions/24050/how-to-implement-a-exponential-of-a-hamiltonian-but-non-unitary-matrix-in-qisk\n",
    "\n",
    "# control gate: https://qiskit.org/documentation/stubs/qiskit.circuit.ControlledGate.html\n",
    "\n",
    "# circuit https://www.nature.com/articles/s41598-022-17660-8\n",
    "import numpy as np\n",
    "\n",
    "from qiskit.circuit import ControlledGate\n",
    "from qiskit import QuantumCircuit, ClassicalRegister, QuantumRegister, execute, Aer, transpile\n",
    "from qiskit.quantum_info.operators import Operator\n",
    "from qiskit.extensions import UnitaryGate\n",
    "from qiskit.tools.visualization import plot_histogram\n",
    "\n",
    "from qiskit.synthesis import MatrixExponential\n",
    "from qiskit.quantum_info import Operator\n",
    "from sklearn.preprocessing import normalize"
   ]
  },
  {
   "cell_type": "code",
   "execution_count": 2,
   "id": "4cb386b8-1929-451d-b11e-7a8d0baf3423",
   "metadata": {},
   "outputs": [],
   "source": [
    "from qiskit.quantum_info import SparsePauliOp\n",
    "from qiskit.opflow.list_ops import SummedOp\n",
    "from qiskit.circuit import Parameter\n",
    "from qiskit.opflow import I, X, Y, Z, H, CX, Zero, ListOp, PauliExpectation, PauliTrotterEvolution, CircuitSampler, MatrixEvolution, Suzuki, PauliSumOp\n",
    "\n",
    "shots = 2048\n",
    "def get_data(noise_mu=0, noise_std=0):\n",
    "    A = np.array([\n",
    "    [1.5, 0.5],\n",
    "    [0.5, 1.5],\n",
    "    ]).astype('complex')\n",
    "    \n",
    "    noise = np.random.normal(noise_mu, noise_std, A.shape)\n",
    "    A = (A + noise).astype('complex')\n",
    "    b = np.array([0, 1]).T\n",
    "    noise = np.random.normal(noise_mu, noise_std, b.shape)\n",
    "    b = b + noise\n",
    "    return A, b"
   ]
  },
  {
   "cell_type": "code",
   "execution_count": 3,
   "id": "2eaeb42d-f81c-47a4-9eba-76a926f9121d",
   "metadata": {},
   "outputs": [],
   "source": [
    "def get_gate(A, n):    \n",
    "    pauli_op = PauliSumOp(SparsePauliOp.from_operator(A))\n",
    "    phi = Parameter('ϕ')\n",
    "    evolution_op = (phi * pauli_op).exp_i() # exp(-iϕA)\n",
    "    trotterized_op = PauliTrotterEvolution(trotter_mode=Suzuki(order=2, reps=1)).convert(evolution_op).bind_parameters({phi: np.pi/n})\n",
    "    #----control---------\n",
    "    gate = trotterized_op.to_circuit()\n",
    "    # print(gate)\n",
    "    gate.name = f\"e^(i*A*pi/{n})\"\n",
    "    gate.label = f\"e^(i*A*np.pi/{n})\"\n",
    "    gate = gate.to_gate().control()\n",
    "    #---------------------\n",
    "    return gate"
   ]
  },
  {
   "cell_type": "code",
   "execution_count": 4,
   "id": "84a782ad-2860-4ba9-aee3-dcc9f45da532",
   "metadata": {
    "tags": []
   },
   "outputs": [],
   "source": [
    "def do_circuit(A, n_fourier_modes=3):    \n",
    "    n_b = 1\n",
    "    n_ = n_fourier_modes\n",
    "    n_ancilla = 1\n",
    "    n_cl = 1\n",
    "    # quantum circuit initialization\n",
    "    qc = QuantumCircuit(n_b + n_ + n_ancilla, n_cl)\n",
    "    # b-vector state preparation\n",
    "    for i in range(n_b):\n",
    "        qc.x(i)\n",
    "    for i in range(n_b, n_b+n_):\n",
    "        qc.h(i)\n",
    "    qc.barrier()\n",
    "    # Matrix exponentiation\n",
    "    for i in range(0, n_):\n",
    "        gate = get_gate(A, 2**(i+1))\n",
    "        qc.append(gate,[i+1, 0])\n",
    "    qc.barrier()\n",
    "    # # # Phase estimation\n",
    "    for j in range(n_b + n_ - 1, n_b, -1):\n",
    "        qc.h(j)\n",
    "        for m in range(j - n_b):\n",
    "            qc.crz(-np.pi/float(2**(j-m - n_b)), j, m+n_b)\n",
    "    qc.h(j-1)\n",
    "    qc.barrier()\n",
    "    # # As I understood, we wncode ancilla qubit to be sure that result will be correct\n",
    "    for j in range(1, 1+n_):\n",
    "        qc.cry(np.pi/(2**j), n_b+n_-j, n_b+n_)\n",
    "    qc.barrier()\n",
    "    # # Inverse quantum Fourier transform\n",
    "    for j in range(n_b, n_b + n_):\n",
    "        for m in range(j - n_b):\n",
    "            qc.crz(np.pi/float(2**(j-m - n_b)), j, m+n_b)\n",
    "        qc.h(j)\n",
    "    qc.h(n_b)\n",
    "    qc.barrier()\n",
    "    # # Eigenvalues storing in the vecor b register\n",
    "    for i in range(n_, 0, -1):\n",
    "        gate = get_gate(A, -(2**(i)))\n",
    "        qc.append(gate,[i, 0])\n",
    "    qc.barrier()\n",
    "    qc.measure(0, 0)\n",
    "    # qc.measure(-1, 1)\n",
    "    # print(qc)\n",
    "    return qc"
   ]
  },
  {
   "cell_type": "code",
   "execution_count": 5,
   "id": "6cffc794-dd93-4cdf-b96f-57defaf4c961",
   "metadata": {},
   "outputs": [],
   "source": [
    "from qiskit.providers.aer.noise import NoiseModel\n",
    "from qiskit.providers.aer.noise import depolarizing_error\n",
    "def get_noise_model():\n",
    "    # Create an empty noise model\n",
    "    noise_model = NoiseModel()\n",
    "\n",
    "    # Add depolarizing error to all single qubit u1, u2, u3 gates\n",
    "    error = depolarizing_error(0.001, 1)\n",
    "    noise_model.add_all_qubit_quantum_error(error, ['id', 'u1', 'u2', 'u3', 'rz', 'sx'])\n",
    "    error = depolarizing_error(0.05, 2)\n",
    "    noise_model.add_all_qubit_quantum_error(error, ['cx', 'cry', 'crz', 'cp'])\n",
    "    return noise_model"
   ]
  },
  {
   "cell_type": "code",
   "execution_count": 6,
   "id": "82787b74-5d5e-4c12-b461-8c475f8c3f4c",
   "metadata": {},
   "outputs": [],
   "source": [
    "def simulate(qc, noise):    \n",
    "    simulator = Aer.get_backend('qasm_simulator')\n",
    "    circ = transpile(qc, simulator)\n",
    "    result = execute(qc, backend=simulator, shots=shots, noise_model=noise).result()\n",
    "    result = execute(qc, backend=simulator, shots=shots).result()\n",
    "    return result"
   ]
  },
  {
   "cell_type": "markdown",
   "id": "46892ff1-8051-4432-a95c-73aa0bdba1dd",
   "metadata": {},
   "source": [
    "# Calculated result"
   ]
  },
  {
   "cell_type": "code",
   "execution_count": 7,
   "id": "c0ac7ffe-5289-4bf9-b866-f1af332ac840",
   "metadata": {},
   "outputs": [],
   "source": [
    "def get_probabilities(result):    \n",
    "    counts = result.get_counts()\n",
    "    probabilities = counts.copy()\n",
    "    for k, v in probabilities.items():\n",
    "        probabilities[k] = v/shots\n",
    "    return probabilities"
   ]
  },
  {
   "cell_type": "markdown",
   "id": "d30f6275-7358-49f7-bed7-01538add2d6f",
   "metadata": {
    "tags": []
   },
   "source": [
    "# Result vector"
   ]
  },
  {
   "cell_type": "code",
   "execution_count": 8,
   "id": "9fb0905a-1998-4a80-b572-28c4db126ca5",
   "metadata": {},
   "outputs": [],
   "source": [
    "def get_vector(probabilities):    \n",
    "    vect = np.array([v for k,v in probabilities.items()])\n",
    "    vect.sort()\n",
    "    return vect"
   ]
  },
  {
   "cell_type": "markdown",
   "id": "2d6854a7-8154-4778-87c4-13bc622759d3",
   "metadata": {},
   "source": [
    "# Real normalized result"
   ]
  },
  {
   "cell_type": "code",
   "execution_count": 15,
   "id": "8a20f1a9-975e-4be4-93a6-95ddc53aa41f",
   "metadata": {},
   "outputs": [],
   "source": [
    "def get_real():    \n",
    "    real_x_norm = [0.25, 0.75] #should be [-0.25, 0.75]\n",
    "    # real_x_norm = (np.array(a) / np.linalg.norm(a))**2\n",
    "    real_x_norm.sort()\n",
    "    return real_x_norm"
   ]
  },
  {
   "cell_type": "markdown",
   "id": "1222890f-8ec1-475b-bc0f-306eba42d589",
   "metadata": {},
   "source": [
    "# Error"
   ]
  },
  {
   "cell_type": "code",
   "execution_count": 16,
   "id": "85055540-e5b7-458a-86b8-7f16103ac4de",
   "metadata": {},
   "outputs": [],
   "source": [
    "def get_mse(vect, real_x_norm):\n",
    "    mse = (np.square(vect - real_x_norm)).mean()\n",
    "    return mse"
   ]
  },
  {
   "cell_type": "code",
   "execution_count": 19,
   "id": "4c1daa47-fbfa-4769-b33e-f5be30612734",
   "metadata": {},
   "outputs": [
    {
     "name": "stdout",
     "output_type": "stream",
     "text": [
      "eigenvalues: [2. 1.]\n",
      "[0.27294922 0.72705078] [0.25, 0.75]\n",
      "0.0005266666412353516\n"
     ]
    }
   ],
   "source": [
    "A, b = get_data()\n",
    "u, s, vh = np.linalg.svd(A, full_matrices=False)\n",
    "print(f\"eigenvalues: {s}\")\n",
    "qc = do_circuit(A, n_fourier_modes=2)\n",
    "noise=get_noise_model()\n",
    "result = simulate(qc, noise)\n",
    "probs = get_probabilities(result)\n",
    "vect = get_vector(probs)\n",
    "real_x_norm = get_real()\n",
    "print(vect, real_x_norm)\n",
    "mse = get_mse(vect, real_x_norm)\n",
    "print(mse)"
   ]
  },
  {
   "cell_type": "code",
   "execution_count": null,
   "id": "cf17255d-769b-4928-b601-3541e3390129",
   "metadata": {},
   "outputs": [],
   "source": []
  },
  {
   "cell_type": "code",
   "execution_count": null,
   "id": "ff77284e-e21c-4d94-a419-7bd427d5383b",
   "metadata": {},
   "outputs": [],
   "source": []
  }
 ],
 "metadata": {
  "kernelspec": {
   "display_name": "quantum",
   "language": "python",
   "name": "quantum"
  },
  "language_info": {
   "codemirror_mode": {
    "name": "ipython",
    "version": 3
   },
   "file_extension": ".py",
   "mimetype": "text/x-python",
   "name": "python",
   "nbconvert_exporter": "python",
   "pygments_lexer": "ipython3",
   "version": "3.8.13"
  }
 },
 "nbformat": 4,
 "nbformat_minor": 5
}
