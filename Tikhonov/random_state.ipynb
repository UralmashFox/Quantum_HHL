{
 "cells": [
  {
   "cell_type": "code",
   "execution_count": 9,
   "id": "9119cf04-a455-4334-9218-0226890e1584",
   "metadata": {},
   "outputs": [],
   "source": [
    "# https://quantumcomputing.stackexchange.com/questions/24050/how-to-implement-a-exponential-of-a-hamiltonian-but-non-unitary-matrix-in-qisk\n",
    "\n",
    "# control gate: https://qiskit.org/documentation/stubs/qiskit.circuit.ControlledGate.html\n",
    "\n",
    "# circuit https://www.nature.com/articles/s41598-022-17660-8\n",
    "import numpy as np\n",
    "\n",
    "from qiskit.circuit import ControlledGate\n",
    "from qiskit import QuantumCircuit, ClassicalRegister, QuantumRegister, execute, Aer, transpile\n",
    "from qiskit.quantum_info.operators import Operator\n",
    "from qiskit.extensions import UnitaryGate\n",
    "from qiskit.tools.visualization import plot_histogram\n",
    "\n",
    "from qiskit.synthesis import MatrixExponential\n",
    "from qiskit.quantum_info import Operator\n",
    "from qiskit.quantum_info import SparsePauliOp\n",
    "from qiskit.opflow.list_ops import SummedOp\n",
    "from qiskit.circuit import Parameter\n",
    "from qiskit.opflow import I, X, Y, Z, H, CX, Zero, ListOp, PauliExpectation, PauliTrotterEvolution, CircuitSampler, MatrixEvolution, Suzuki, PauliSumOp"
   ]
  },
  {
   "cell_type": "code",
   "execution_count": 5,
   "id": "74c0ae74-c995-4f36-8ed5-d797cdb3ac1e",
   "metadata": {},
   "outputs": [
    {
     "name": "stdout",
     "output_type": "stream",
     "text": [
      "[-0.13618659+0.j  0.02853499+0.j  0.05535159+0.j  0.35011484+0.j]\n"
     ]
    }
   ],
   "source": [
    "# A = np.array([\n",
    "#     [11, 5, -1, -1],\n",
    "#     [5, 11, 1, 1],\n",
    "#     [-1, 1, 11, -5],\n",
    "#     [-1, 1, -5, 11],\n",
    "#     ]).astype('complex')\n",
    "\n",
    "# A = np.array([[ 0.6201803 , -0.0884858 ,  0.06018728, -0.47339672],\n",
    "#               [-0.0884858 ,  0.97938565,  0.0140217 , -0.11028624],\n",
    "#               [ 0.06018728,  0.0140217 ,  0.99046256,  0.07501575],\n",
    "#               [-0.47339672, -0.11028624,  0.07501575,  0.4099715 ]]).astype('complex')\n",
    "A = np.array([[ 1.20061653,  0.37361167,  0.2394791 ,  0.39870151],\n",
    "              [ 0.37361167,  2.43936584,  0.75247403, -0.17244919],\n",
    "              [ 0.2394791 ,  0.75247403,  3.25826483, -0.48329325],\n",
    "              [ 0.39870151, -0.17244919, -0.48329325,  3.1017528 ]]).astype('complex')\n",
    "# u, s, vh = np.linalg.svd(A, full_matrices=False)\n",
    "# print(s)\n",
    "\n",
    "b = np.array([0, 0, 0, 1]).T\n",
    "x = np.linalg.solve(A, b)\n",
    "print(x)"
   ]
  },
  {
   "cell_type": "code",
   "execution_count": 6,
   "id": "0c0c2f4e-9106-478d-8c92-056b59b0995c",
   "metadata": {},
   "outputs": [],
   "source": [
    "def get_gate(A, n):    \n",
    "    pauli_op = PauliSumOp(SparsePauliOp.from_operator(A))\n",
    "    phi = Parameter('ϕ')\n",
    "    evolution_op = (phi * pauli_op).exp_i() # exp(-iϕA)\n",
    "    trotterized_op = PauliTrotterEvolution(trotter_mode=Suzuki(order=2, reps=1)).convert(evolution_op).bind_parameters({phi: np.pi/n})\n",
    "    #----control---------\n",
    "    gate = trotterized_op.to_circuit()\n",
    "    # print(gate)\n",
    "    gate.name = f\"e^(i*A*pi/{n})\"\n",
    "    gate.label = f\"e^(i*A*np.pi/{n})\"\n",
    "    gate = gate.to_gate().control()\n",
    "    #---------------------\n",
    "    return gate"
   ]
  },
  {
   "cell_type": "code",
   "execution_count": 7,
   "id": "0771e3c3-bd16-4e12-bc87-66eb8c15267c",
   "metadata": {},
   "outputs": [
    {
     "data": {
      "text/plain": [
       "<qiskit.circuit.instructionset.InstructionSet at 0x15cdfd02d00>"
      ]
     },
     "execution_count": 7,
     "metadata": {},
     "output_type": "execute_result"
    }
   ],
   "source": [
    "n_b = 2\n",
    "n_ = 20 #3 is an optimal\n",
    "n_ancilla = 1\n",
    "n_cl = 3\n",
    "# quantum circuit initialization\n",
    "qc = QuantumCircuit(n_b + n_ + n_ancilla, n_cl)\n",
    "# b-vector state preparation\n",
    "for i in range(n_b):\n",
    "    qc.ry(np.pi/4, i)\n",
    "for i in range(n_b, n_b+n_):\n",
    "    qc.h(i)\n",
    "qc.x(-1)\n",
    "qc.barrier()\n",
    "# Matrix exponentiation\n",
    "for i in range(1, n_+1):\n",
    "    gate = get_gate(A, 2**(i))\n",
    "    qc.append(gate,[i+1, 0, 1])\n",
    "qc.barrier()\n",
    "# Phase estimation\n",
    "for j in range(n_b + n_ - 1, n_b, -1):\n",
    "    qc.h(j)\n",
    "    for m in range(j - n_b):\n",
    "        qc.crz(-np.pi/float(2**(j-m - n_b)), j, m+n_b)\n",
    "qc.h(j-1)\n",
    "qc.barrier()\n",
    "# As I understood, we wncode ancilla qubit to be sure that result will be correct\n",
    "for j in range(1, 1+n_):\n",
    "    qc.cry(np.pi/(2**j), n_b+n_-j, n_b+n_)\n",
    "qc.barrier()\n",
    "# Inverse quantum Fourier transform\n",
    "for j in range(n_b, n_b + n_):\n",
    "    for m in range(j - n_b):\n",
    "        qc.crz(np.pi/float(2**(j-m - n_b)), j, m+n_b)\n",
    "    qc.h(j)\n",
    "qc.h(n_b)\n",
    "qc.barrier()\n",
    "# Eigenvalues storing in the vecor b register\n",
    "for i in range(n_, 0, -1):\n",
    "    gate = get_gate(A, -(2**(i)))\n",
    "    qc.append(gate,[i+1, 0, 1], )\n",
    "qc.barrier()\n",
    "# qubits measurement. I do not measure the ancilla qubit\n",
    "qc.measure(-1, 2)\n",
    "qc.measure(0, 0)\n",
    "qc.measure(1, 1)\n",
    "\n",
    "# qc.draw(output='mpl', style={'backgroundcolor': '#EEEEEE'})"
   ]
  },
  {
   "cell_type": "code",
   "execution_count": null,
   "id": "0733e774-28b6-43a2-85ac-1f31a9f824d9",
   "metadata": {},
   "outputs": [],
   "source": [
    "simulator = Aer.get_backend('qasm_simulator')\n",
    "circ = transpile(qc, simulator)\n",
    "shots = 2048\n",
    "result = execute(qc, backend=simulator, shots=shots).result()\n"
   ]
  },
  {
   "cell_type": "code",
   "execution_count": 21,
   "id": "aea5420e-ad00-4668-bed7-7fb4cc484c4f",
   "metadata": {},
   "outputs": [
    {
     "data": {
      "text/plain": [
       "0.0625"
      ]
     },
     "execution_count": 21,
     "metadata": {},
     "output_type": "execute_result"
    }
   ],
   "source": [
    "# np.sqrt(4 * (np.pi/4 ** 2)\n",
    "(1/4)**2"
   ]
  },
  {
   "cell_type": "code",
   "execution_count": 22,
   "id": "b11ae9b5-88a1-4aec-afb6-c79d888bc543",
   "metadata": {},
   "outputs": [
    {
     "data": {
      "text/plain": [
       "0.25"
      ]
     },
     "execution_count": 22,
     "metadata": {},
     "output_type": "execute_result"
    }
   ],
   "source": [
    "np.sqrt(0.0625)"
   ]
  },
  {
   "cell_type": "code",
   "execution_count": 25,
   "id": "f18d0b39-eb97-4f42-9fba-f0ad3badf969",
   "metadata": {},
   "outputs": [
    {
     "data": {
      "text/plain": [
       "1.318116071652818"
      ]
     },
     "execution_count": 25,
     "metadata": {},
     "output_type": "execute_result"
    }
   ],
   "source": [
    "np.arccos(0.25)"
   ]
  },
  {
   "cell_type": "code",
   "execution_count": 26,
   "id": "9a738ba5-56fc-454d-88e9-807655fd591f",
   "metadata": {},
   "outputs": [
    {
     "data": {
      "text/plain": [
       "0.7071067811865476"
      ]
     },
     "execution_count": 26,
     "metadata": {},
     "output_type": "execute_result"
    }
   ],
   "source": [
    "val = np.cos(np.pi/4)"
   ]
  },
  {
   "cell_type": "code",
   "execution_count": null,
   "id": "6bf4e1e5-105d-43d3-976f-76723200a901",
   "metadata": {},
   "outputs": [],
   "source": [
    "#for each element in tensor:\n",
    "el = val*val\n",
    "#when reading:\n",
    "out_val = np.sqrt(val)\n",
    "#each tensor element of one qubit:\n",
    "#[cos^2(alpha), sin^2(alpha)]\n",
    "#then we have to do an sqrt and devide over 4 in case of two qubits (4 tensored elements)"
   ]
  }
 ],
 "metadata": {
  "kernelspec": {
   "display_name": "quantum",
   "language": "python",
   "name": "quantum"
  },
  "language_info": {
   "codemirror_mode": {
    "name": "ipython",
    "version": 3
   },
   "file_extension": ".py",
   "mimetype": "text/x-python",
   "name": "python",
   "nbconvert_exporter": "python",
   "pygments_lexer": "ipython3",
   "version": "3.8.13"
  }
 },
 "nbformat": 4,
 "nbformat_minor": 5
}
