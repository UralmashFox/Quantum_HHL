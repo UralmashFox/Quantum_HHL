{
 "cells": [
  {
   "cell_type": "code",
   "execution_count": 188,
   "id": "f77f1a42-e579-4c06-8cf5-3a538ff79c28",
   "metadata": {},
   "outputs": [],
   "source": [
    "import numpy as np\n",
    "from scipy.linalg import expm, sinm, cosm\n",
    "import qiskit.quantum_info as qi"
   ]
  },
  {
   "cell_type": "code",
   "execution_count": 189,
   "id": "22db9629-bb42-41a8-ad2f-1799b3c0f3be",
   "metadata": {},
   "outputs": [],
   "source": [
    "A = np.array([\n",
    "    [1.5, 0.5],\n",
    "    [0.5, 1.5],\n",
    "    ]).astype('complex')\n",
    "\n",
    "b = np.array([0, 1]).T"
   ]
  },
  {
   "cell_type": "code",
   "execution_count": 219,
   "id": "74c70bcf-243e-4795-a7ef-7abee541b648",
   "metadata": {},
   "outputs": [
    {
     "name": "stdout",
     "output_type": "stream",
     "text": [
      "[[1. 0.]\n",
      " [0. 0.]]\n",
      "[[0. 0.]\n",
      " [0. 1.]]\n"
     ]
    }
   ],
   "source": [
    "#states\n",
    "state_zero = np.array([[1.0],[0.0]])\n",
    "state_one = np.array([[0.0],[1.0]])\n",
    "#projectors\n",
    "P0 = np.dot(state_zero, state_zero.T)\n",
    "P1 = np.dot(state_one, state_one.T)\n",
    "print(P0)\n",
    "print(P1)"
   ]
  },
  {
   "cell_type": "code",
   "execution_count": 302,
   "id": "c7079f66-b052-4cea-97f1-dc7cd7126c91",
   "metadata": {},
   "outputs": [],
   "source": [
    "def multi_kron(*args):\n",
    "    ret = np.array([[1.0]]).astype('complex')\n",
    "    for q in args:\n",
    "        ret = np.kron(ret, q)\n",
    "    return ret\n",
    "\n",
    "def multi_dot(*args):\n",
    "    ret = np.eye(np.shape(args[0])[0]).astype('complex')\n",
    "    for q in args:\n",
    "        ret = np.dot(ret, q)\n",
    "    return ret"
   ]
  },
  {
   "cell_type": "code",
   "execution_count": 321,
   "id": "a61ae1ad-7749-4cf5-ab9c-24041ef99e81",
   "metadata": {},
   "outputs": [],
   "source": [
    "def U(A, phi):\n",
    "    return expm(-1j*A*phi).astype('complex')\n",
    "\n",
    "def H():\n",
    "    return 1/np.sqrt(2) * np.array([[1, 1],\n",
    "                                    [1, -1]]).astype('complex')\n",
    "def X():\n",
    "    return np.array([[0, 1],\n",
    "                     [1, 0]]).astype('complex')\n",
    "def Rz(phi):\n",
    "    return np.array([[np.exp(-1j*phi/2), 0],\n",
    "                     [0, np.exp(1j*phi/2)]]).astype('complex')\n",
    "def Ry(theta):\n",
    "    return np.array([[np.cos(theta/2), -np.sin(theta/2)],\n",
    "                     [np.sin(theta/2), np.cos(theta/2)]]).astype('complex')\n",
    "def I():\n",
    "    return np.array([[1, 0],\n",
    "                     [0, 1]]).astype('complex')\n",
    "\n",
    "#for some reson CONTROL and TARGET are changed\n",
    "def control(control_q, target_q, n_of_qubits, operator):\n",
    "    list_of_ops_left = []\n",
    "    list_of_ops_right = []\n",
    "    for i in range(n_of_qubits):\n",
    "        if i == control_q:\n",
    "            list_of_ops_left.append(P0)\n",
    "            list_of_ops_right.append(P1)\n",
    "        elif i == target_q:\n",
    "            list_of_ops_left.append(I())\n",
    "            list_of_ops_right.append(operator)\n",
    "        else:\n",
    "            list_of_ops_left.append(I())\n",
    "            list_of_ops_right.append(I())\n",
    "    return multi_kron(*list_of_ops_left) + multi_kron(*list_of_ops_right).astype('complex')"
   ]
  },
  {
   "cell_type": "code",
   "execution_count": 322,
   "id": "44c7b28c-b85d-4294-9b43-6d02df8f639d",
   "metadata": {},
   "outputs": [],
   "source": [
    "# orders of qubits changed at all\n",
    "# one = multi_kron(I(), Ry(np.pi/3))\n",
    "# two = np.round(control(control_q=1,\n",
    "#                  target_q=10,\n",
    "#                  n_of_qubits=2,\n",
    "#                  operator=U(A, np.pi/4)), 3)\n",
    "# print(np.round(np.dot(two, one), 3))"
   ]
  },
  {
   "cell_type": "markdown",
   "id": "476d0733-d1ff-4db8-9486-da21f82c7724",
   "metadata": {},
   "source": [
    "# Now real example"
   ]
  },
  {
   "cell_type": "code",
   "execution_count": 352,
   "id": "94c672c0-36c7-49e7-84e5-c75e31d85637",
   "metadata": {},
   "outputs": [],
   "source": [
    "#state preparation\n",
    "state = multi_kron(I(), H(), H(), H(), X())\n",
    "np.round(state, 3)\n",
    "#eigenvalues to phases\n",
    "etp_one = control(control_q=3,\n",
    "                  target_q=4,\n",
    "                  n_of_qubits=5,\n",
    "                  operator=U(A, np.pi/2))\n",
    "etp_two = control(control_q=2,\n",
    "                  target_q=4,\n",
    "                  n_of_qubits=5,\n",
    "                  operator=U(A, np.pi/4))\n",
    "etp_three = control(control_q=1,\n",
    "                  target_q=4,\n",
    "                  n_of_qubits=5,\n",
    "                  operator=U(A, np.pi/8))\n",
    "# print(np.round(multi_dot(state, etp_one, etp_two, etp_three), 3))\n",
    "#Fourier transform\n",
    "ft_one = multi_kron(I(), H(), I(), I(), I())\n",
    "ft_two = control(control_q=1,\n",
    "                 target_q=3,\n",
    "                 n_of_qubits=5,\n",
    "                 operator=Rz(-np.pi/4))\n",
    "ft_three = control(control_q=1,\n",
    "                   target_q=2,\n",
    "                   n_of_qubits=5,\n",
    "                   operator=Rz(-np.pi/2))\n",
    "ft_four = multi_kron(I(), I(), H(), I(), I())\n",
    "ft_five = control(control_q=2,\n",
    "                  target_q=3,\n",
    "                  n_of_qubits=5,\n",
    "                  operator=Rz(-np.pi/2))\n",
    "ft_six = multi_kron(I(), I(), I(), H(), I())\n",
    "# print(np.round(multi_dot(state,\n",
    "#                          etp_one, etp_two, etp_three,\n",
    "#                          ft_one, ft_two, ft_three, ft_four, ft_five, ft_six), 3))\n",
    "# #Ancilla qubit\n",
    "aq_one = control(control_q=1,\n",
    "                 target_q=0,\n",
    "                 n_of_qubits=5,\n",
    "                 operator=Ry(np.pi/2)) \n",
    "aq_two = control(control_q=2,\n",
    "                 target_q=0,\n",
    "                 n_of_qubits=5,\n",
    "                 operator=Ry(np.pi/4))\n",
    "aq_three = control(control_q=3,\n",
    "                   target_q=0,\n",
    "                   n_of_qubits=5,\n",
    "                   operator=Ry(np.pi/8)) \n",
    "# print(np.round(multi_dot(\n",
    "#     aq_three, aq_two, aq_one,\n",
    "#     ft_six, ft_five, ft_four, ft_three, ft_two, ft_one,\n",
    "#     etp_three, etp_two, etp_one,\n",
    "#     state), 3))\n",
    "# #inverse_fourier\n",
    "if_one = multi_kron(I(), I(), I(), H(), I())\n",
    "if_two = control(\n",
    "    control_q=2,\n",
    "    target_q=3,\n",
    "    n_of_qubits=5,\n",
    "    operator=Rz(np.pi/2))\n",
    "if_three = multi_kron(I(), I(), H(), I(), I())\n",
    "if_four = control(control_q=1,\n",
    "                  target_q=3,\n",
    "                  n_of_qubits=5,\n",
    "                  operator=Rz(np.pi/4))\n",
    "if_five = control(control_q=1,\n",
    "                  target_q=2,\n",
    "                  n_of_qubits=5,\n",
    "                  operator=Rz(np.pi/2))\n",
    "if_six = multi_kron(I(), I(), I(), H(), I())\n",
    "if_seven = multi_kron(I(), H(), I(), I(), I())\n",
    "# print(np.round(multi_dot(\n",
    "#     if_seven, if_six, if_five, if_four, if_three, if_two, if_one,\n",
    "#     aq_three, aq_two, aq_one,\n",
    "#     ft_six, ft_five, ft_four, ft_three, ft_two, ft_one,\n",
    "#     etp_three, etp_two, etp_one,\n",
    "#     state), 3))\n",
    "# #phases to eigenvalues\n",
    "pte_one = control(control_q=1,\n",
    "                  target_q=4,\n",
    "                  n_of_qubits=5,\n",
    "                  operator=U(A, -np.pi/8))\n",
    "pte_two = control(control_q=2,\n",
    "                  target_q=4,\n",
    "                  n_of_qubits=5,\n",
    "                  operator=U(A, -np.pi/4))\n",
    "pte_three = control(control_q=3,\n",
    "                    target_q=4,\n",
    "                    n_of_qubits=5,\n",
    "                    operator=U(A, -np.pi/2))\n",
    "final_u = multi_dot(\n",
    "    pte_three, pte_two, pte_one,\n",
    "    if_seven, if_six, if_five, if_four, if_three, if_two, if_one,\n",
    "    aq_three, aq_two, aq_one,\n",
    "    ft_six, ft_five, ft_four, ft_three, ft_two, ft_one,\n",
    "    etp_three, etp_two, etp_one,\n",
    "    state)\n",
    "# print(np.round(final_u, 3))"
   ]
  },
  {
   "cell_type": "code",
   "execution_count": 427,
   "id": "0e38b61b-d49e-4c61-917a-0c23aa2f4287",
   "metadata": {},
   "outputs": [
    {
     "name": "stdout",
     "output_type": "stream",
     "text": [
      "[[-0.01363-0.03243j  0.01251+0.02775j  0.02368-0.00929j ...\n",
      "   0.0155 +0.00241j  0.00954-0.01902j -0.01093-0.03465j]\n",
      " [ 0.01251+0.02775j -0.01144-0.02372j -0.02028+0.00856j ...\n",
      "  -0.01346-0.00174j -0.00783+0.01666j  0.01023+0.02973j]\n",
      " [ 0.02368-0.00929j -0.02028+0.00856j  0.0063 +0.01728j ...\n",
      "  -0.00201+0.01116j  0.01358+0.00723j  0.02524-0.0073j ]\n",
      " ...\n",
      " [ 0.0155 +0.00241j -0.01346-0.00174j -0.00201+0.01116j ...\n",
      "  -0.00454+0.00532j  0.00499+0.00807j  0.01571+0.00395j]\n",
      " [ 0.00954-0.01902j -0.00783+0.01666j  0.01358+0.00723j ...\n",
      "   0.00499+0.00807j  0.01249-0.0031j   0.01162-0.01865j]\n",
      " [-0.01093-0.03465j  0.01023+0.02973j  0.02524-0.0073j  ...\n",
      "   0.01571+0.00395j  0.01162-0.01865j -0.00795-0.03668j]]\n"
     ]
    }
   ],
   "source": [
    "prime_state = multi_kron(state_zero, state_zero, state_zero, state_zero, state_zero)\n",
    "final_state = np.dot(final_u, prime_state)\n",
    "from sklearn.preprocessing import normalize\n",
    "final_state = final_state / np.linalg.norm(final_state)\n",
    "# norm2 = normalize(final_state[:,np.newaxis], axis=0).ravel()\n",
    "rho = np.dot(final_state, final_state.T)\n",
    "\n",
    "# print(np.round(final_state,2))\n",
    "print(np.round(rho, 5))\n",
    "\n",
    "row_sums = rho.sum(axis=1)\n",
    "rho = rho / row_sums[:, np.newaxis]\n",
    "# new_matrix"
   ]
  },
  {
   "cell_type": "code",
   "execution_count": 424,
   "id": "0367c62b-4213-4b1f-bf05-499a9a78ebc8",
   "metadata": {},
   "outputs": [
    {
     "data": {
      "text/plain": [
       "(0.5288657755275488-0.02934457121413475j)"
      ]
     },
     "execution_count": 424,
     "metadata": {},
     "output_type": "execute_result"
    }
   ],
   "source": [
    "prob0 = np.trace(np.dot(multi_kron(I(), I(), I(), I(), P1), rho))\n",
    "prob0"
   ]
  },
  {
   "cell_type": "code",
   "execution_count": 344,
   "id": "a4bebf0e-dad9-4f11-a49a-0c6d12b2286f",
   "metadata": {},
   "outputs": [],
   "source": [
    "# Simulate\n",
    "def simulate(n, shots):\n",
    "    ret = 0\n",
    "    for shot in range(shots):\n",
    "        if np.random.rand() < prob0:\n",
    "            ret += 0\n",
    "            state_ret = np.dot(multi_kron(P0, gate_I), state)\n",
    "        else:\n",
    "            ret = 1\n",
    "            state_ret = np.dot(multi_kron(P1, gate_I), state) \n",
    "    return state_ret/n"
   ]
  },
  {
   "cell_type": "code",
   "execution_count": 178,
   "id": "9db5010f-3b75-40be-80ab-f6fdb639d4e6",
   "metadata": {},
   "outputs": [],
   "source": [
    "#density matrix\n",
    "rho = DensityMatrix.from_instruction(qc).data\n",
    "state = Statevector.from_instruction(qc).data"
   ]
  },
  {
   "cell_type": "code",
   "execution_count": null,
   "id": "d293e3f9-4634-474c-a83f-b1d0d9cb3a7e",
   "metadata": {},
   "outputs": [],
   "source": [
    "# Normalize\n",
    "from scipy import linalg\n",
    "prob0_0 = np.trace(np.dot(multi_kron(P0, P1), rho))\n",
    "print(prob0_0)"
   ]
  },
  {
   "cell_type": "code",
   "execution_count": 230,
   "id": "614becfb-d56e-47f5-bd28-462d6c1f86e0",
   "metadata": {},
   "outputs": [],
   "source": [
    "from qiskit.quantum_info import SparsePauliOp, DensityMatrix, Statevector\n",
    "from qiskit.opflow.list_ops import SummedOp\n",
    "from qiskit.circuit import Parameter\n",
    "from qiskit.opflow import I, X, Y, Z, H, CX, Zero, ListOp, PauliExpectation, PauliTrotterEvolution, CircuitSampler, MatrixEvolution, Suzuki, PauliSumOp\n",
    "from qiskit.circuit import ControlledGate\n",
    "from qiskit import QuantumCircuit, ClassicalRegister, QuantumRegister, execute, Aer, transpile\n",
    "from qiskit.quantum_info.operators import Operator\n",
    "from qiskit.extensions import UnitaryGate\n",
    "from qiskit.tools.visualization import plot_histogram\n",
    "\n",
    "from qiskit.synthesis import MatrixExponential\n",
    "from qiskit.quantum_info import Operator"
   ]
  },
  {
   "cell_type": "code",
   "execution_count": 96,
   "id": "ed0474c4-63bb-4404-8277-0aff991e126d",
   "metadata": {},
   "outputs": [],
   "source": [
    "n=4\n",
    "pauli_op = PauliSumOp(SparsePauliOp.from_operator(A))\n",
    "phi = Parameter('ϕ')\n",
    "evolution_op = (phi * pauli_op).exp_i() # exp(-iϕA)\n",
    "trotterized_op = PauliTrotterEvolution(trotter_mode=Suzuki(order=2, reps=1)).convert(evolution_op).bind_parameters({phi: np.pi/n})\n",
    "trotterized_op.to_matrix()\n",
    "gate = trotterized_op.to_circuit()\n",
    "gate.name = f\"e^(i*A*pi/{n})\"\n",
    "gate.label = f\"e^(i*A*np.pi/{n})\"\n",
    "gate = gate.to_gate().control()"
   ]
  },
  {
   "cell_type": "code",
   "execution_count": 187,
   "id": "051b41a6-8af9-4c5c-81b3-70874e27f33b",
   "metadata": {},
   "outputs": [
    {
     "name": "stdout",
     "output_type": "stream",
     "text": [
      "     ┌─────────┐     \n",
      "q_0: ┤ Ry(π/3) ├──■──\n",
      "     └──┬───┬──┘┌─┴─┐\n",
      "q_1: ───┤ H ├───┤ X ├\n",
      "        └───┘   └───┘\n",
      "c: 2/════════════════\n",
      "                     \n",
      "[[ 0.61237244+0.j -0.35355339+0.j  0.61237244+0.j -0.35355339+0.j]\n",
      " [ 0.35355339+0.j  0.61237244+0.j -0.35355339+0.j -0.61237244+0.j]\n",
      " [ 0.61237244+0.j -0.35355339+0.j -0.61237244+0.j  0.35355339+0.j]\n",
      " [ 0.35355339+0.j  0.61237244+0.j  0.35355339+0.j  0.61237244+0.j]]\n"
     ]
    }
   ],
   "source": [
    "n_b = 1\n",
    "n_ = 0\n",
    "n_ancilla = 1\n",
    "n_cl = 2\n",
    "\n",
    "qc = QuantumCircuit(n_b + n_ + n_ancilla, n_cl)\n",
    "# Matrix exponentiation\n",
    "qc.ry(np.pi/3, 0)\n",
    "qc.h(1)\n",
    "# qc.cry(np.pi/4, 0, 1)\n",
    "qc.cx(0,1)\n",
    "print(qc)\n",
    "op = qi.Operator(qc).data\n",
    "print(op)\n",
    "# np.round(op, 2)"
   ]
  },
  {
   "cell_type": "code",
   "execution_count": 179,
   "id": "4e8e0b76-5d8b-412f-9029-da11a790a025",
   "metadata": {},
   "outputs": [
    {
     "name": "stdout",
     "output_type": "stream",
     "text": [
      "11: 0.126953125\n",
      "00: 0.3623046875\n",
      "01: 0.13671875\n",
      "10: 0.3740234375\n"
     ]
    }
   ],
   "source": [
    "qc.measure([0,1], [0,1])\n",
    "simulator = Aer.get_backend('aer_simulator')\n",
    "qc = transpile(qc, simulator)\n",
    "# Run and get counts\n",
    "shots=1024\n",
    "result = simulator.run(qc, shots=shots).result()\n",
    "counts = result.get_counts(qc)\n",
    "for k, v in counts.items():\n",
    "    print(f'{k}: {v/1024}')"
   ]
  },
  {
   "cell_type": "code",
   "execution_count": 180,
   "id": "46d80f48-f353-4b8a-bb4d-b186a46d10a4",
   "metadata": {},
   "outputs": [],
   "source": []
  },
  {
   "cell_type": "code",
   "execution_count": 181,
   "id": "73ae0469-0f01-4da2-b7bf-9a906fd3666e",
   "metadata": {},
   "outputs": [],
   "source": [
    "#probabilities\n",
    "def multi_kron(*args):\n",
    "    ret = np.array([[1.0]])\n",
    "    for q in args:\n",
    "        ret = np.kron(ret, q)\n",
    "    return ret\n",
    "\n",
    "gate_I = np.array([[1, 0],[1, 0]])"
   ]
  },
  {
   "cell_type": "code",
   "execution_count": 182,
   "id": "fac9cdcf-d403-44b9-831b-d0d04b0276a1",
   "metadata": {},
   "outputs": [],
   "source": []
  },
  {
   "cell_type": "code",
   "execution_count": 186,
   "id": "68760391-3acd-4590-aff4-f73c9d1008d7",
   "metadata": {},
   "outputs": [
    {
     "name": "stdout",
     "output_type": "stream",
     "text": [
      "(0.12499999999999996+0j)\n"
     ]
    }
   ],
   "source": []
  },
  {
   "cell_type": "code",
   "execution_count": null,
   "id": "551c19a3-3516-4d73-ab5b-b833f5091437",
   "metadata": {},
   "outputs": [],
   "source": []
  }
 ],
 "metadata": {
  "kernelspec": {
   "display_name": "Q_school",
   "language": "python",
   "name": "q_school"
  },
  "language_info": {
   "codemirror_mode": {
    "name": "ipython",
    "version": 3
   },
   "file_extension": ".py",
   "mimetype": "text/x-python",
   "name": "python",
   "nbconvert_exporter": "python",
   "pygments_lexer": "ipython3",
   "version": "3.9.7"
  }
 },
 "nbformat": 4,
 "nbformat_minor": 5
}
