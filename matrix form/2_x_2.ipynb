{
 "cells": [
  {
   "cell_type": "code",
   "execution_count": 3,
   "id": "f77f1a42-e579-4c06-8cf5-3a538ff79c28",
   "metadata": {},
   "outputs": [],
   "source": [
    "import numpy as np\n",
    "from scipy.linalg import expm, sinm, cosm"
   ]
  },
  {
   "cell_type": "code",
   "execution_count": 44,
   "id": "22db9629-bb42-41a8-ad2f-1799b3c0f3be",
   "metadata": {},
   "outputs": [],
   "source": [
    "A = np.array([\n",
    "    [1.5, 0.5],\n",
    "    [0.5, 1.5],\n",
    "    ]).astype('complex')\n",
    "\n",
    "b = np.array([0, 1]).T"
   ]
  },
  {
   "cell_type": "code",
   "execution_count": 51,
   "id": "a61ae1ad-7749-4cf5-ab9c-24041ef99e81",
   "metadata": {},
   "outputs": [
    {
     "data": {
      "text/plain": [
       "array([[ 0.35355339-0.85355339j, -0.35355339-0.14644661j],\n",
       "       [-0.35355339-0.14644661j,  0.35355339-0.85355339j]])"
      ]
     },
     "execution_count": 51,
     "metadata": {},
     "output_type": "execute_result"
    }
   ],
   "source": [
    "expm(-1j*A*np.pi/4)"
   ]
  },
  {
   "cell_type": "code",
   "execution_count": 49,
   "id": "614becfb-d56e-47f5-bd28-462d6c1f86e0",
   "metadata": {},
   "outputs": [],
   "source": [
    "from qiskit.quantum_info import SparsePauliOp\n",
    "from qiskit.opflow.list_ops import SummedOp\n",
    "from qiskit.circuit import Parameter\n",
    "from qiskit.opflow import I, X, Y, Z, H, CX, Zero, ListOp, PauliExpectation, PauliTrotterEvolution, CircuitSampler, MatrixEvolution, Suzuki, PauliSumOp\n",
    "from qiskit.circuit import ControlledGate\n",
    "from qiskit import QuantumCircuit, ClassicalRegister, QuantumRegister, execute, Aer, transpile\n",
    "from qiskit.quantum_info.operators import Operator\n",
    "from qiskit.extensions import UnitaryGate\n",
    "from qiskit.tools.visualization import plot_histogram\n",
    "\n",
    "from qiskit.synthesis import MatrixExponential\n",
    "from qiskit.quantum_info import Operator"
   ]
  },
  {
   "cell_type": "code",
   "execution_count": 52,
   "id": "ed0474c4-63bb-4404-8277-0aff991e126d",
   "metadata": {},
   "outputs": [
    {
     "data": {
      "text/plain": [
       "array([[ 0.35355339-0.85355339j, -0.35355339-0.14644661j],\n",
       "       [-0.35355339-0.14644661j,  0.35355339-0.85355339j]])"
      ]
     },
     "execution_count": 52,
     "metadata": {},
     "output_type": "execute_result"
    }
   ],
   "source": [
    "n=4\n",
    "pauli_op = PauliSumOp(SparsePauliOp.from_operator(A))\n",
    "phi = Parameter('ϕ')\n",
    "evolution_op = (phi * pauli_op).exp_i() # exp(-iϕA)\n",
    "trotterized_op = PauliTrotterEvolution(trotter_mode=Suzuki(order=2, reps=1)).convert(evolution_op).bind_parameters({phi: np.pi/n})\n",
    "trotterized_op.to_matrix()"
   ]
  },
  {
   "cell_type": "code",
   "execution_count": null,
   "id": "051b41a6-8af9-4c5c-81b3-70874e27f33b",
   "metadata": {},
   "outputs": [],
   "source": []
  }
 ],
 "metadata": {
  "kernelspec": {
   "display_name": "Q_school",
   "language": "python",
   "name": "q_school"
  },
  "language_info": {
   "codemirror_mode": {
    "name": "ipython",
    "version": 3
   },
   "file_extension": ".py",
   "mimetype": "text/x-python",
   "name": "python",
   "nbconvert_exporter": "python",
   "pygments_lexer": "ipython3",
   "version": "3.9.7"
  }
 },
 "nbformat": 4,
 "nbformat_minor": 5
}
