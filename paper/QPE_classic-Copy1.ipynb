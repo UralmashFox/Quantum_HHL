{
 "cells": [
  {
   "cell_type": "code",
   "execution_count": 1,
   "id": "2b6d6b56-4207-4e95-b8e8-512ad7598d1b",
   "metadata": {
    "tags": [],
    "ExecuteTime": {
     "end_time": "2023-11-28T19:46:53.628428500Z",
     "start_time": "2023-11-28T19:46:52.276807100Z"
    }
   },
   "outputs": [],
   "source": [
    "import numpy as np\n",
    "import scipy.linalg as la"
   ]
  },
  {
   "cell_type": "code",
   "execution_count": 2,
   "id": "1b67046d-7f64-4116-b993-49db3c2008c1",
   "metadata": {
    "ExecuteTime": {
     "end_time": "2023-11-28T19:46:53.644043700Z",
     "start_time": "2023-11-28T19:46:53.628428500Z"
    }
   },
   "outputs": [
    {
     "name": "stdout",
     "output_type": "stream",
     "text": [
      "[-0.70710678+1.73472348e-16j  0.70710678+3.33066907e-16j]\n"
     ]
    }
   ],
   "source": [
    "A = np.array([\n",
    "    [1.5, 0.5],\n",
    "    [0.5, 1.5],\n",
    "    ]).astype('complex')\n",
    "U = la.expm(1j*A)\n",
    "eigs_u, vecs_u = np.linalg.eig(U)\n",
    "print(vecs_u[1])"
   ]
  },
  {
   "cell_type": "code",
   "execution_count": 3,
   "id": "279ac6b6-9031-40e8-a908-dde77ec0d2a5",
   "metadata": {
    "ExecuteTime": {
     "end_time": "2023-11-28T19:46:58.911879200Z",
     "start_time": "2023-11-28T19:46:58.898152500Z"
    }
   },
   "outputs": [],
   "source": [
    "#states\n",
    "state_zero = np.array([[1.0],[0.0]])\n",
    "state_one = np.array([[0.0],[1.0]])\n",
    "#projectors\n",
    "P0 = np.dot(state_zero, state_zero.T)\n",
    "P1 = np.dot(state_one, state_one.T)"
   ]
  },
  {
   "cell_type": "code",
   "execution_count": 4,
   "id": "d66edea0-7fb1-4f06-8b6c-7960923fd890",
   "metadata": {
    "ExecuteTime": {
     "end_time": "2023-11-28T19:47:06.699998400Z",
     "start_time": "2023-11-28T19:47:06.684396300Z"
    }
   },
   "outputs": [],
   "source": [
    "def multi_kron(*args):\n",
    "    ret = np.array([[1.0]]).astype('complex')\n",
    "    for q in args:\n",
    "        ret = np.kron(ret, q)\n",
    "    return ret\n",
    "\n",
    "def multi_dot(*args):\n",
    "    ret = np.eye(np.shape(args[0])[0]).astype('complex')\n",
    "    for q in args:\n",
    "        ret = np.dot(ret, q)\n",
    "    return ret"
   ]
  },
  {
   "cell_type": "code",
   "execution_count": 5,
   "id": "23ca9b91-948b-4061-9416-1aaa2f212325",
   "metadata": {
    "ExecuteTime": {
     "end_time": "2023-11-28T19:47:07.882087Z",
     "start_time": "2023-11-28T19:47:07.850779500Z"
    }
   },
   "outputs": [],
   "source": [
    "def H():\n",
    "    return 1/np.sqrt(2) * np.array([[1, 1],\n",
    "                                    [1, -1]]).astype('complex')\n",
    "def X():\n",
    "    return np.array([[0, 1],\n",
    "                     [1, 0]]).astype('complex')\n",
    "def Rz(phi):\n",
    "    return np.array([[np.exp(-1j*phi/2), 0],\n",
    "                     [0, np.exp(1j*phi/2)]]).astype('complex')\n",
    "def P(phi):\n",
    "    return np.array([[1, 0],\n",
    "                     [0, np.exp(1j*phi)]]).astype('complex')\n",
    "def Ry(theta):\n",
    "    return np.array([[np.cos(theta/2), -np.sin(theta/2)],\n",
    "                     [np.sin(theta/2), np.cos(theta/2)]]).astype('complex')\n",
    "def I():\n",
    "    return np.array([[1, 0],\n",
    "                     [0, 1]]).astype('complex')\n",
    "\n",
    "#for some reson CONTROL and TARGET are changed\n",
    "def control(control_q, target_q, n_of_qubits, operator):\n",
    "    list_of_ops_left = []\n",
    "    list_of_ops_right = []\n",
    "    for i in range(n_of_qubits):\n",
    "        if i == control_q:\n",
    "            list_of_ops_left.append(P0)\n",
    "            list_of_ops_right.append(P1)\n",
    "        elif i == target_q:\n",
    "            list_of_ops_left.append(I())\n",
    "            list_of_ops_right.append(operator)\n",
    "        else:\n",
    "            list_of_ops_left.append(I())\n",
    "            list_of_ops_right.append(I())\n",
    "    return multi_kron(*list_of_ops_left) + multi_kron(*list_of_ops_right).astype('complex')"
   ]
  },
  {
   "cell_type": "code",
   "execution_count": 6,
   "id": "d132e360-6413-47dd-be25-1fdcf1aa5e1d",
   "metadata": {
    "ExecuteTime": {
     "end_time": "2023-11-28T19:47:08.930981800Z",
     "start_time": "2023-11-28T19:47:08.899298900Z"
    }
   },
   "outputs": [],
   "source": [
    "prime_state = multi_kron(np.array([[el] for el in vecs_u[1]]), state_zero, state_zero,\n",
    "                         state_zero)"
   ]
  },
  {
   "cell_type": "code",
   "execution_count": 7,
   "id": "90b96afa-01f2-400f-a847-bc46a7587c82",
   "metadata": {
    "ExecuteTime": {
     "end_time": "2023-11-28T19:47:10.561779600Z",
     "start_time": "2023-11-28T19:47:10.530483Z"
    }
   },
   "outputs": [],
   "source": [
    "#state preparation\n",
    "state_prep = multi_kron(I(), H(), H(), H())\n",
    "# prime_state = np.dot(state, prime_state)\n",
    "# print(prime_state)"
   ]
  },
  {
   "cell_type": "code",
   "execution_count": 22,
   "id": "bbe27a0c-55e2-43c9-839c-9117bfee933d",
   "metadata": {
    "ExecuteTime": {
     "end_time": "2023-11-28T22:01:33.979343400Z",
     "start_time": "2023-11-28T22:01:33.916416Z"
    }
   },
   "outputs": [
    {
     "data": {
      "text/plain": "array([[ 1.   +0.j   ,  0.   +0.j   ,  0.   +0.j   ,  0.   +0.j   ,\n         0.   +0.j   ,  0.   +0.j   ,  0.   +0.j   ,  0.   +0.j   ,\n         0.   +0.j   ,  0.   +0.j   ,  0.   +0.j   ,  0.   +0.j   ,\n         0.   +0.j   ,  0.   +0.j   ,  0.   +0.j   ,  0.   +0.j   ],\n       [ 0.   +0.j   ,  0.062+0.875j,  0.   +0.j   ,  0.   +0.j   ,\n         0.   +0.j   ,  0.   +0.j   ,  0.   +0.j   ,  0.   +0.j   ,\n         0.   +0.j   , -0.478+0.034j,  0.   +0.j   ,  0.   +0.j   ,\n         0.   +0.j   ,  0.   +0.j   ,  0.   +0.j   ,  0.   +0.j   ],\n       [ 0.   +0.j   ,  0.   +0.j   , -0.535+0.076j,  0.   +0.j   ,\n         0.   +0.j   ,  0.   +0.j   ,  0.   +0.j   ,  0.   +0.j   ,\n         0.   +0.j   ,  0.   +0.j   , -0.119-0.833j,  0.   +0.j   ,\n         0.   +0.j   ,  0.   +0.j   ,  0.   +0.j   ,  0.   +0.j   ],\n       [ 0.   +0.j   ,  0.   +0.j   ,  0.   +0.j   , -0.015-0.069j,\n         0.   +0.j   ,  0.   +0.j   ,  0.   +0.j   ,  0.   +0.j   ,\n         0.   +0.j   ,  0.   +0.j   ,  0.   +0.j   ,  0.975-0.21j ,\n         0.   +0.j   ,  0.   +0.j   ,  0.   +0.j   ,  0.   +0.j   ],\n       [ 0.   +0.j   ,  0.   +0.j   ,  0.   +0.j   ,  0.   +0.j   ,\n        -0.4  +0.116j,  0.   +0.j   ,  0.   +0.j   ,  0.   +0.j   ,\n         0.   +0.j   ,  0.   +0.j   ,  0.   +0.j   ,  0.   +0.j   ,\n         0.254+0.873j,  0.   +0.j   ,  0.   +0.j   ,  0.   +0.j   ],\n       [ 0.   +0.j   ,  0.   +0.j   ,  0.   +0.j   ,  0.   +0.j   ,\n         0.   +0.j   , -0.278-0.751j,  0.   +0.j   ,  0.   +0.j   ,\n         0.   +0.j   ,  0.   +0.j   ,  0.   +0.j   ,  0.   +0.j   ,\n         0.   +0.j   , -0.561+0.207j,  0.   +0.j   ,  0.   +0.j   ],\n       [ 0.   +0.j   ,  0.   +0.j   ,  0.   +0.j   ,  0.   +0.j   ,\n         0.   +0.j   ,  0.   +0.j   ,  0.902-0.408j,  0.   +0.j   ,\n         0.   +0.j   ,  0.   +0.j   ,  0.   +0.j   ,  0.   +0.j   ,\n         0.   +0.j   ,  0.   +0.j   , -0.058-0.129j,  0.   +0.j   ],\n       [ 0.   +0.j   ,  0.   +0.j   ,  0.   +0.j   ,  0.   +0.j   ,\n         0.   +0.j   ,  0.   +0.j   ,  0.   +0.j   ,  0.445+0.824j,\n         0.   +0.j   ,  0.   +0.j   ,  0.   +0.j   ,  0.   +0.j   ,\n         0.   +0.j   ,  0.   +0.j   ,  0.   +0.j   , -0.309+0.167j],\n       [ 0.   +0.j   ,  0.   +0.j   ,  0.   +0.j   ,  0.   +0.j   ,\n         0.   +0.j   ,  0.   +0.j   ,  0.   +0.j   ,  0.   +0.j   ,\n         1.   +0.j   ,  0.   +0.j   ,  0.   +0.j   ,  0.   +0.j   ,\n         0.   +0.j   ,  0.   +0.j   ,  0.   +0.j   ,  0.   +0.j   ],\n       [ 0.   +0.j   , -0.478+0.034j,  0.   +0.j   ,  0.   +0.j   ,\n         0.   +0.j   ,  0.   +0.j   ,  0.   +0.j   ,  0.   +0.j   ,\n         0.   +0.j   ,  0.062+0.875j,  0.   +0.j   ,  0.   +0.j   ,\n         0.   +0.j   ,  0.   +0.j   ,  0.   +0.j   ,  0.   +0.j   ],\n       [ 0.   +0.j   ,  0.   +0.j   , -0.119-0.833j,  0.   +0.j   ,\n         0.   +0.j   ,  0.   +0.j   ,  0.   +0.j   ,  0.   +0.j   ,\n         0.   +0.j   ,  0.   +0.j   , -0.535+0.076j,  0.   +0.j   ,\n         0.   +0.j   ,  0.   +0.j   ,  0.   +0.j   ,  0.   +0.j   ],\n       [ 0.   +0.j   ,  0.   +0.j   ,  0.   +0.j   ,  0.975-0.21j ,\n         0.   +0.j   ,  0.   +0.j   ,  0.   +0.j   ,  0.   +0.j   ,\n         0.   +0.j   ,  0.   +0.j   ,  0.   +0.j   , -0.015-0.069j,\n         0.   +0.j   ,  0.   +0.j   ,  0.   +0.j   ,  0.   +0.j   ],\n       [ 0.   +0.j   ,  0.   +0.j   ,  0.   +0.j   ,  0.   +0.j   ,\n         0.254+0.873j,  0.   +0.j   ,  0.   +0.j   ,  0.   +0.j   ,\n         0.   +0.j   ,  0.   +0.j   ,  0.   +0.j   ,  0.   +0.j   ,\n        -0.4  +0.116j,  0.   +0.j   ,  0.   +0.j   ,  0.   +0.j   ],\n       [ 0.   +0.j   ,  0.   +0.j   ,  0.   +0.j   ,  0.   +0.j   ,\n         0.   +0.j   , -0.561+0.207j,  0.   +0.j   ,  0.   +0.j   ,\n         0.   +0.j   ,  0.   +0.j   ,  0.   +0.j   ,  0.   +0.j   ,\n         0.   +0.j   , -0.278-0.751j,  0.   +0.j   ,  0.   +0.j   ],\n       [ 0.   +0.j   ,  0.   +0.j   ,  0.   +0.j   ,  0.   +0.j   ,\n         0.   +0.j   ,  0.   +0.j   , -0.058-0.129j,  0.   +0.j   ,\n         0.   +0.j   ,  0.   +0.j   ,  0.   +0.j   ,  0.   +0.j   ,\n         0.   +0.j   ,  0.   +0.j   ,  0.902-0.408j,  0.   +0.j   ],\n       [ 0.   +0.j   ,  0.   +0.j   ,  0.   +0.j   ,  0.   +0.j   ,\n         0.   +0.j   ,  0.   +0.j   ,  0.   +0.j   , -0.309+0.167j,\n         0.   +0.j   ,  0.   +0.j   ,  0.   +0.j   ,  0.   +0.j   ,\n         0.   +0.j   ,  0.   +0.j   ,  0.   +0.j   ,  0.445+0.824j]])"
     },
     "execution_count": 22,
     "metadata": {},
     "output_type": "execute_result"
    }
   ],
   "source": [
    "#eigenvalues to phases\n",
    "etp_one = control(control_q=1,\n",
    "                  target_q=0,\n",
    "                  n_of_qubits=4,\n",
    "                  operator=U**1) #4\n",
    "etp_two = control(control_q=2,\n",
    "                  target_q=0,\n",
    "                  n_of_qubits=4,\n",
    "                  operator=U**1) #2\n",
    "etp_three = control(control_q=3,\n",
    "                  target_q=0,\n",
    "                  n_of_qubits=4,\n",
    "                  operator=U**1) #1\n",
    "\n",
    "\n",
    "eigs_to_phases = multi_dot(etp_three, etp_two, etp_two, etp_one, etp_one, etp_one, etp_one)\n",
    "\n",
    "# prime_state = np.dot(final_u, prime_state)\n",
    "# print(final_u.shape)\n",
    "eigs_to_phases.round(3)\n",
    "# print(U)"
   ]
  },
  {
   "cell_type": "code",
   "execution_count": 10,
   "outputs": [],
   "source": [
    "from qiskit import QuantumCircuit, Aer, execute\n",
    "def swap(n_of_qubs):\n",
    "    \"\"\"n-qubit QFTdagger the first n qubits in circ\"\"\"\n",
    "    # Don't forget the Swaps!\n",
    "    qc = QuantumCircuit(n_of_qubs+1)\n",
    "    for qubit in range(n_of_qubs//2): #n//2\n",
    "        qc.swap(qubit, n_of_qubs-qubit-1)\n",
    "    backend = Aer.get_backend('unitary_simulator')\n",
    "    job = execute(qc, backend)\n",
    "    result = job.result()\n",
    "    op = result.get_unitary(qc).data\n",
    "    return op"
   ],
   "metadata": {
    "collapsed": false,
    "ExecuteTime": {
     "end_time": "2023-11-28T19:50:21.686314200Z",
     "start_time": "2023-11-28T19:50:18.819888300Z"
    }
   },
   "id": "4d8fded3e10abe90"
  },
  {
   "cell_type": "code",
   "execution_count": 11,
   "id": "a8172a33-3efb-460f-9f79-6248eb66b937",
   "metadata": {
    "ExecuteTime": {
     "end_time": "2023-11-28T19:50:23.827518900Z",
     "start_time": "2023-11-28T19:50:23.598127400Z"
    }
   },
   "outputs": [
    {
     "name": "stdout",
     "output_type": "stream",
     "text": [
      "(16, 16)\n",
      "[[ 0.354+0.j     0.354+0.j     0.354+0.j     0.354+0.j     0.354+0.j\n",
      "   0.354+0.j     0.354+0.j     0.354+0.j     0.   +0.j     0.   +0.j\n",
      "   0.   +0.j     0.   +0.j     0.   +0.j     0.   +0.j     0.   +0.j\n",
      "   0.   +0.j   ]\n",
      " [ 0.354+0.j     0.25 -0.25j   0.   -0.354j -0.25 -0.25j  -0.354+0.j\n",
      "  -0.25 +0.25j  -0.   +0.354j  0.25 +0.25j   0.   +0.j     0.   +0.j\n",
      "   0.   +0.j     0.   +0.j     0.   +0.j     0.   +0.j     0.   +0.j\n",
      "   0.   +0.j   ]\n",
      " [ 0.354+0.j     0.   -0.354j -0.354+0.j    -0.   +0.354j  0.354+0.j\n",
      "   0.   -0.354j -0.354+0.j    -0.   +0.354j  0.   +0.j     0.   +0.j\n",
      "   0.   +0.j     0.   +0.j     0.   +0.j     0.   +0.j     0.   +0.j\n",
      "   0.   +0.j   ]\n",
      " [ 0.354+0.j    -0.25 -0.25j  -0.   +0.354j  0.25 -0.25j  -0.354+0.j\n",
      "   0.25 +0.25j   0.   -0.354j -0.25 +0.25j   0.   +0.j     0.   +0.j\n",
      "   0.   +0.j     0.   +0.j     0.   +0.j     0.   +0.j     0.   +0.j\n",
      "   0.   +0.j   ]\n",
      " [ 0.354+0.j    -0.354+0.j     0.354+0.j    -0.354+0.j     0.354+0.j\n",
      "  -0.354+0.j     0.354+0.j    -0.354+0.j     0.   +0.j     0.   +0.j\n",
      "   0.   +0.j     0.   +0.j     0.   +0.j     0.   +0.j     0.   +0.j\n",
      "   0.   +0.j   ]\n",
      " [ 0.354+0.j    -0.25 +0.25j   0.   -0.354j  0.25 +0.25j  -0.354+0.j\n",
      "   0.25 -0.25j  -0.   +0.354j -0.25 -0.25j   0.   +0.j     0.   +0.j\n",
      "   0.   +0.j     0.   +0.j     0.   +0.j     0.   +0.j     0.   +0.j\n",
      "   0.   +0.j   ]\n",
      " [ 0.354+0.j    -0.   +0.354j -0.354+0.j     0.   -0.354j  0.354+0.j\n",
      "  -0.   +0.354j -0.354+0.j     0.   -0.354j  0.   +0.j     0.   +0.j\n",
      "   0.   +0.j     0.   +0.j     0.   +0.j     0.   +0.j     0.   +0.j\n",
      "   0.   +0.j   ]\n",
      " [ 0.354+0.j     0.25 +0.25j  -0.   +0.354j -0.25 +0.25j  -0.354+0.j\n",
      "  -0.25 -0.25j   0.   -0.354j  0.25 -0.25j   0.   +0.j     0.   +0.j\n",
      "   0.   +0.j     0.   +0.j     0.   +0.j     0.   +0.j     0.   +0.j\n",
      "   0.   +0.j   ]\n",
      " [ 0.   +0.j     0.   +0.j     0.   +0.j     0.   +0.j     0.   +0.j\n",
      "   0.   +0.j     0.   +0.j     0.   +0.j     0.354+0.j     0.354+0.j\n",
      "   0.354+0.j     0.354+0.j     0.354+0.j     0.354+0.j     0.354+0.j\n",
      "   0.354+0.j   ]\n",
      " [ 0.   +0.j     0.   +0.j     0.   +0.j     0.   +0.j     0.   +0.j\n",
      "   0.   +0.j     0.   +0.j     0.   +0.j     0.354+0.j     0.25 -0.25j\n",
      "   0.   -0.354j -0.25 -0.25j  -0.354+0.j    -0.25 +0.25j  -0.   +0.354j\n",
      "   0.25 +0.25j ]\n",
      " [ 0.   +0.j     0.   +0.j     0.   +0.j     0.   +0.j     0.   +0.j\n",
      "   0.   +0.j     0.   +0.j     0.   +0.j     0.354+0.j     0.   -0.354j\n",
      "  -0.354+0.j    -0.   +0.354j  0.354+0.j     0.   -0.354j -0.354+0.j\n",
      "  -0.   +0.354j]\n",
      " [ 0.   +0.j     0.   +0.j     0.   +0.j     0.   +0.j     0.   +0.j\n",
      "   0.   +0.j     0.   +0.j     0.   +0.j     0.354+0.j    -0.25 -0.25j\n",
      "  -0.   +0.354j  0.25 -0.25j  -0.354+0.j     0.25 +0.25j   0.   -0.354j\n",
      "  -0.25 +0.25j ]\n",
      " [ 0.   +0.j     0.   +0.j     0.   +0.j     0.   +0.j     0.   +0.j\n",
      "   0.   +0.j     0.   +0.j     0.   +0.j     0.354+0.j    -0.354+0.j\n",
      "   0.354+0.j    -0.354+0.j     0.354+0.j    -0.354+0.j     0.354+0.j\n",
      "  -0.354+0.j   ]\n",
      " [ 0.   +0.j     0.   +0.j     0.   +0.j     0.   +0.j     0.   +0.j\n",
      "   0.   +0.j     0.   +0.j     0.   +0.j     0.354+0.j    -0.25 +0.25j\n",
      "   0.   -0.354j  0.25 +0.25j  -0.354+0.j     0.25 -0.25j  -0.   +0.354j\n",
      "  -0.25 -0.25j ]\n",
      " [ 0.   +0.j     0.   +0.j     0.   +0.j     0.   +0.j     0.   +0.j\n",
      "   0.   +0.j     0.   +0.j     0.   +0.j     0.354+0.j    -0.   +0.354j\n",
      "  -0.354+0.j     0.   -0.354j  0.354+0.j    -0.   +0.354j -0.354+0.j\n",
      "   0.   -0.354j]\n",
      " [ 0.   +0.j     0.   +0.j     0.   +0.j     0.   +0.j     0.   +0.j\n",
      "   0.   +0.j     0.   +0.j     0.   +0.j     0.354+0.j     0.25 +0.25j\n",
      "  -0.   +0.354j -0.25 +0.25j  -0.354+0.j    -0.25 -0.25j   0.   -0.354j\n",
      "   0.25 -0.25j ]]\n"
     ]
    }
   ],
   "source": [
    "#inverse_fourier\n",
    "if_one = multi_kron(I(), I(), I(), H())\n",
    "if_two = control(\n",
    "    control_q=3,\n",
    "    target_q=2,\n",
    "    n_of_qubits=4,\n",
    "    operator=P(-np.pi/2))\n",
    "\n",
    "if_three = multi_kron(I(), I(), H(), I())\n",
    "if_four = control(control_q=3,\n",
    "                  target_q=1,\n",
    "                  n_of_qubits=4,\n",
    "                  operator=P(-np.pi/4))\n",
    "if_five = control(control_q=2,\n",
    "                  target_q=1,\n",
    "                  n_of_qubits=4,\n",
    "                  operator=P(-np.pi/2))\n",
    "if_six = multi_kron(I(), H(), I(), I())\n",
    "\n",
    "ift = multi_dot(swap(3), if_one, if_two, if_three, if_four, if_five, if_six)\n",
    "print(ift.shape)\n",
    "print(ift.round(3))"
   ]
  },
  {
   "cell_type": "code",
   "execution_count": 12,
   "id": "6528c06c-5e30-40fe-aa45-460dbfb4df9b",
   "metadata": {
    "ExecuteTime": {
     "end_time": "2023-11-28T19:50:31.511138500Z",
     "start_time": "2023-11-28T19:50:31.463155300Z"
    }
   },
   "outputs": [],
   "source": [
    "final_u = multi_dot(ift, eigs_to_phases, state_prep)"
   ]
  },
  {
   "cell_type": "code",
   "execution_count": 17,
   "id": "af7afe30-3925-43bf-8989-fdf38a8ee848",
   "metadata": {
    "ExecuteTime": {
     "end_time": "2023-11-28T19:52:27.656713600Z",
     "start_time": "2023-11-28T19:52:27.625801700Z"
    }
   },
   "outputs": [
    {
     "name": "stdout",
     "output_type": "stream",
     "text": [
      "[[ 0.019+0.j     0.081-0.033j -0.023+0.023j -0.006+0.014j -0.   +0.011j\n",
      "   0.004+0.009j  0.007+0.007j  0.011+0.005j -0.019+0.j    -0.081+0.033j\n",
      "   0.023-0.023j  0.006-0.014j -0.   -0.011j -0.004-0.009j -0.007-0.007j\n",
      "  -0.011-0.005j]\n",
      " [ 0.081+0.033j  0.39 -0.j    -0.137+0.057j -0.047+0.047j -0.018+0.044j\n",
      "  -0.   +0.042j  0.017+0.04j   0.038+0.038j -0.081-0.033j -0.39 +0.j\n",
      "   0.137-0.057j  0.047-0.047j  0.018-0.044j -0.   -0.042j -0.017-0.04j\n",
      "  -0.038-0.038j]\n",
      " [-0.023-0.023j -0.137-0.057j  0.056-0.j     0.023-0.01j   0.013-0.013j\n",
      "   0.006-0.015j  0.   -0.017j -0.008-0.019j  0.023+0.023j  0.137+0.057j\n",
      "  -0.056-0.j    -0.023+0.01j  -0.013+0.013j -0.006+0.015j -0.   +0.017j\n",
      "   0.008+0.019j]\n",
      " [-0.006-0.014j -0.047-0.047j  0.023+0.01j   0.011+0.j     0.008-0.003j\n",
      "   0.005-0.005j  0.003-0.007j -0.   -0.009j  0.006+0.014j  0.047+0.047j\n",
      "  -0.023-0.01j  -0.011+0.j    -0.008+0.003j -0.005+0.005j -0.003+0.007j\n",
      "   0.   +0.009j]\n",
      " [-0.   -0.011j -0.018-0.044j  0.013+0.013j  0.008+0.003j  0.006-0.j\n",
      "   0.005-0.002j  0.004-0.004j  0.003-0.006j  0.   +0.011j  0.018+0.044j\n",
      "  -0.013-0.013j -0.008-0.003j -0.006+0.j    -0.005+0.002j -0.004+0.004j\n",
      "  -0.003+0.006j]\n",
      " [ 0.004-0.009j -0.   -0.042j  0.006+0.015j  0.005+0.005j  0.005+0.002j\n",
      "   0.005+0.j     0.004-0.002j  0.004-0.004j -0.004+0.009j  0.   +0.042j\n",
      "  -0.006-0.015j -0.005-0.005j -0.005-0.002j -0.005+0.j    -0.004+0.002j\n",
      "  -0.004+0.004j]\n",
      " [ 0.007-0.007j  0.017-0.04j   0.   +0.017j  0.003+0.007j  0.004+0.004j\n",
      "   0.004+0.002j  0.005-0.j     0.006-0.002j -0.007+0.007j -0.017+0.04j\n",
      "   0.   -0.017j -0.003-0.007j -0.004-0.004j -0.004-0.002j -0.005+0.j\n",
      "  -0.006+0.002j]\n",
      " [ 0.011-0.005j  0.038-0.038j -0.008+0.019j -0.   +0.009j  0.003+0.006j\n",
      "   0.004+0.004j  0.006+0.002j  0.007+0.j    -0.011+0.005j -0.038+0.038j\n",
      "   0.008-0.019j -0.   -0.009j -0.003-0.006j -0.004-0.004j -0.006-0.002j\n",
      "  -0.007+0.j   ]\n",
      " [-0.019-0.j    -0.081+0.033j  0.023-0.023j  0.006-0.014j  0.   -0.011j\n",
      "  -0.004-0.009j -0.007-0.007j -0.011-0.005j  0.019-0.j     0.081-0.033j\n",
      "  -0.023+0.023j -0.006+0.014j  0.   +0.011j  0.004+0.009j  0.007+0.007j\n",
      "   0.011+0.005j]\n",
      " [-0.081-0.033j -0.39 -0.j     0.137-0.057j  0.047-0.047j  0.018-0.044j\n",
      "   0.   -0.042j -0.017-0.04j  -0.038-0.038j  0.081+0.033j  0.39 -0.j\n",
      "  -0.137+0.057j -0.047+0.047j -0.018+0.044j  0.   +0.042j  0.017+0.04j\n",
      "   0.038+0.038j]\n",
      " [ 0.023+0.023j  0.137+0.057j -0.056+0.j    -0.023+0.01j  -0.013+0.013j\n",
      "  -0.006+0.015j  0.   +0.017j  0.008+0.019j -0.023-0.023j -0.137-0.057j\n",
      "   0.056+0.j     0.023-0.01j   0.013-0.013j  0.006-0.015j -0.   -0.017j\n",
      "  -0.008-0.019j]\n",
      " [ 0.006+0.014j  0.047+0.047j -0.023-0.01j  -0.011-0.j    -0.008+0.003j\n",
      "  -0.005+0.005j -0.003+0.007j -0.   +0.009j -0.006-0.014j -0.047-0.047j\n",
      "   0.023+0.01j   0.011+0.j     0.008-0.003j  0.005-0.005j  0.003-0.007j\n",
      "   0.   -0.009j]\n",
      " [-0.   +0.011j  0.018+0.044j -0.013-0.013j -0.008-0.003j -0.006-0.j\n",
      "  -0.005+0.002j -0.004+0.004j -0.003+0.006j  0.   -0.011j -0.018-0.044j\n",
      "   0.013+0.013j  0.008+0.003j  0.006+0.j     0.005-0.002j  0.004-0.004j\n",
      "   0.003-0.006j]\n",
      " [-0.004+0.009j -0.   +0.042j -0.006-0.015j -0.005-0.005j -0.005-0.002j\n",
      "  -0.005-0.j    -0.004+0.002j -0.004+0.004j  0.004-0.009j  0.   -0.042j\n",
      "   0.006+0.015j  0.005+0.005j  0.005+0.002j  0.005+0.j     0.004-0.002j\n",
      "   0.004-0.004j]\n",
      " [-0.007+0.007j -0.017+0.04j  -0.   -0.017j -0.003-0.007j -0.004-0.004j\n",
      "  -0.004-0.002j -0.005-0.j    -0.006+0.002j  0.007-0.007j  0.017-0.04j\n",
      "  -0.   +0.017j  0.003+0.007j  0.004+0.004j  0.004+0.002j  0.005+0.j\n",
      "   0.006-0.002j]\n",
      " [-0.011+0.005j -0.038+0.038j  0.008-0.019j  0.   -0.009j -0.003-0.006j\n",
      "  -0.004-0.004j -0.006-0.002j -0.007-0.j     0.011-0.005j  0.038-0.038j\n",
      "  -0.008+0.019j  0.   +0.009j  0.003+0.006j  0.004+0.004j  0.006+0.002j\n",
      "   0.007+0.j   ]] \n"
     ]
    }
   ],
   "source": [
    "# prime_state = multi_kron(state_zero, state_zero, state_zero, vecs_u[1])\n",
    "final_state = np.dot(final_u, prime_state)\n",
    "rho = np.dot(final_state, np.conj(final_state).T)\n",
    "print(np.round(rho, 3), '\\n')"
   ]
  },
  {
   "cell_type": "code",
   "execution_count": 51,
   "id": "1fde2c16-b3a4-464e-bf97-0cfef40db010",
   "metadata": {
    "collapsed": true,
    "jupyter": {
     "outputs_hidden": true
    },
    "tags": [],
    "ExecuteTime": {
     "end_time": "2023-11-27T12:47:07.775189800Z",
     "start_time": "2023-11-27T12:47:07.683263100Z"
    }
   },
   "outputs": [
    {
     "name": "stdout",
     "output_type": "stream",
     "text": [
      "(0.115+0j)\n",
      "(0.385-0j)\n",
      "(0.115-0j)\n",
      "(0.385+0j)\n"
     ]
    }
   ],
   "source": [
    "proj = multi_kron(P0, I(), I(), P1)\n",
    "prob = np.trace(np.dot(proj, rho))\n",
    "print(np.round(prob, 3))\n",
    "proj = multi_kron(P0, I(), I(), P0)\n",
    "prob = np.trace(np.dot(proj, rho))\n",
    "print(np.round(prob, 3))\n",
    "proj = multi_kron(P1, I(), I(), P1)\n",
    "prob = np.trace(np.dot(proj, rho))\n",
    "print(np.round(prob, 3))\n",
    "proj = multi_kron(P1, I(), I(), P0)\n",
    "prob = np.trace(np.dot(proj, rho))\n",
    "print(np.round(prob, 3))"
   ]
  },
  {
   "cell_type": "code",
   "execution_count": 86,
   "outputs": [
    {
     "name": "stdout",
     "output_type": "stream",
     "text": [
      "(0.7803-0j)\n",
      "0.79052734375\n"
     ]
    }
   ],
   "source": [
    "proj = multi_kron(I(), P0, P0, P1)\n",
    "prob = np.trace(np.dot(proj, rho))\n",
    "print(np.round(prob, 4))\n",
    "print(1619/2048)"
   ],
   "metadata": {
    "collapsed": false,
    "ExecuteTime": {
     "end_time": "2023-11-28T00:14:56.812659700Z",
     "start_time": "2023-11-28T00:14:56.740107900Z"
    }
   },
   "id": "77e84101c2c31c00"
  },
  {
   "cell_type": "code",
   "execution_count": 53,
   "id": "eb205498-8d1b-4a68-9e17-e082abbaf5f6",
   "metadata": {
    "collapsed": true,
    "jupyter": {
     "outputs_hidden": true
    },
    "tags": [],
    "ExecuteTime": {
     "end_time": "2023-11-27T12:47:24.293642600Z",
     "start_time": "2023-11-27T12:47:24.213887700Z"
    }
   },
   "outputs": [
    {
     "data": {
      "text/plain": "(0.22984884706592987+5.302664910800047e-19j)"
     },
     "execution_count": 53,
     "metadata": {},
     "output_type": "execute_result"
    }
   ],
   "source": [
    "prob0 = np.trace(np.dot(multi_kron(I(), I(), I(), P1), rho))\n",
    "prob0"
   ]
  },
  {
   "cell_type": "code",
   "execution_count": null,
   "id": "0e80c1b9-38d0-4677-873f-146459d9785b",
   "metadata": {},
   "outputs": [],
   "source": []
  }
 ],
 "metadata": {
  "kernelspec": {
   "display_name": "Python (quantum)",
   "language": "python",
   "name": "quantum"
  },
  "language_info": {
   "codemirror_mode": {
    "name": "ipython",
    "version": 3
   },
   "file_extension": ".py",
   "mimetype": "text/x-python",
   "name": "python",
   "nbconvert_exporter": "python",
   "pygments_lexer": "ipython3",
   "version": "3.9.18"
  }
 },
 "nbformat": 4,
 "nbformat_minor": 5
}
