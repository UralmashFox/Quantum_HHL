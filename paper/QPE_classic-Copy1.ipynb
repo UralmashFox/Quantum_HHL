{
 "cells": [
  {
   "cell_type": "code",
   "execution_count": 16,
   "id": "2b6d6b56-4207-4e95-b8e8-512ad7598d1b",
   "metadata": {},
   "outputs": [],
   "source": [
    "import numpy as np\n",
    "from scipy.linalg import expm, sinm, cosm\n",
    "import qiskit.quantum_info as qi\n",
    "import scipy.linalg as la"
   ]
  },
  {
   "cell_type": "code",
   "execution_count": 19,
   "id": "1b67046d-7f64-4116-b993-49db3c2008c1",
   "metadata": {},
   "outputs": [
    {
     "name": "stdout",
     "output_type": "stream",
     "text": [
      "[-0.70710678+1.73472348e-16j  0.70710678+3.33066907e-16j]\n"
     ]
    }
   ],
   "source": [
    "A = np.array([\n",
    "    [1.5, 0.5],\n",
    "    [0.5, 1.5],\n",
    "    ]).astype('complex')\n",
    "U = la.expm(1j*A)\n",
    "eigs_u, vecs_u = np.linalg.eig(U)\n",
    "print(vecs_u[1])"
   ]
  },
  {
   "cell_type": "code",
   "execution_count": 3,
   "id": "279ac6b6-9031-40e8-a908-dde77ec0d2a5",
   "metadata": {},
   "outputs": [],
   "source": [
    "#states\n",
    "state_zero = np.array([[1.0],[0.0]])\n",
    "state_one = np.array([[0.0],[1.0]])\n",
    "#projectors\n",
    "P0 = np.dot(state_zero, state_zero.T)\n",
    "P1 = np.dot(state_one, state_one.T)"
   ]
  },
  {
   "cell_type": "code",
   "execution_count": 4,
   "id": "d66edea0-7fb1-4f06-8b6c-7960923fd890",
   "metadata": {},
   "outputs": [],
   "source": [
    "def multi_kron(*args):\n",
    "    ret = np.array([[1.0]]).astype('complex')\n",
    "    for q in args:\n",
    "        ret = np.kron(ret, q)\n",
    "    return ret\n",
    "\n",
    "def multi_dot(*args):\n",
    "    ret = np.eye(np.shape(args[0])[0]).astype('complex')\n",
    "    for q in args:\n",
    "        ret = np.dot(ret, q)\n",
    "    return ret"
   ]
  },
  {
   "cell_type": "code",
   "execution_count": 223,
   "id": "23ca9b91-948b-4061-9416-1aaa2f212325",
   "metadata": {},
   "outputs": [],
   "source": [
    "# def U(A, phi):\n",
    "#     return expm(-1j*A*phi).astype('complex')\n",
    "\n",
    "def H():\n",
    "    return 1/np.sqrt(2) * np.array([[1, 1],\n",
    "                                    [1, -1]]).astype('complex')\n",
    "def X():\n",
    "    return np.array([[0, 1],\n",
    "                     [1, 0]]).astype('complex')\n",
    "def Rz(phi):\n",
    "    return np.array([[np.exp(-1j*phi/2), 0],\n",
    "                     [0, np.exp(1j*phi/2)]]).astype('complex')\n",
    "def Ry(theta):\n",
    "    return np.array([[np.cos(theta/2), -np.sin(theta/2)],\n",
    "                     [np.sin(theta/2), np.cos(theta/2)]]).astype('complex')\n",
    "def I():\n",
    "    return np.array([[1, 0],\n",
    "                     [0, 1]]).astype('complex')\n",
    "\n",
    "#for some reson CONTROL and TARGET are changed\n",
    "def control(control_q, target_q, n_of_qubits, operator):\n",
    "    list_of_ops_left = []\n",
    "    list_of_ops_right = []\n",
    "    for i in range(n_of_qubits):\n",
    "        if i == control_q:\n",
    "            list_of_ops_left.append(P0)\n",
    "            list_of_ops_right.append(P1)\n",
    "        elif i == target_q:\n",
    "            list_of_ops_left.append(I())\n",
    "            list_of_ops_right.append(operator)\n",
    "        else:\n",
    "            list_of_ops_left.append(I())\n",
    "            list_of_ops_right.append(I())\n",
    "    return multi_kron(*list_of_ops_left) + multi_kron(*list_of_ops_right).astype('complex')"
   ]
  },
  {
   "cell_type": "code",
   "execution_count": 224,
   "id": "d132e360-6413-47dd-be25-1fdcf1aa5e1d",
   "metadata": {},
   "outputs": [],
   "source": [
    "prime_state = multi_kron(np.array([[el] for el in vecs_u[1]]), state_zero, state_zero,\n",
    "                         state_zero)\n",
    "# prime_state = multi_kron(state_zero, state_zero, state_zero,\n",
    "#                          state_zero)\n",
    "# print(prime_state)"
   ]
  },
  {
   "cell_type": "code",
   "execution_count": 225,
   "id": "90b96afa-01f2-400f-a847-bc46a7587c82",
   "metadata": {},
   "outputs": [],
   "source": [
    "#state preparation\n",
    "state = multi_kron(I(), H(), H(), H())\n",
    "# prime_state = np.dot(state, prime_state)\n",
    "# print(prime_state)"
   ]
  },
  {
   "cell_type": "code",
   "execution_count": 226,
   "id": "bbe27a0c-55e2-43c9-839c-9117bfee933d",
   "metadata": {},
   "outputs": [],
   "source": [
    "\n",
    "#eigenvalues to phases\n",
    "etp_one = control(control_q=1,\n",
    "                  target_q=0,\n",
    "                  n_of_qubits=4,\n",
    "                  operator=U**1) #4\n",
    "etp_two = control(control_q=2,\n",
    "                  target_q=0,\n",
    "                  n_of_qubits=4,\n",
    "                  operator=U**1) #2\n",
    "etp_three = control(control_q=3,\n",
    "                  target_q=0,\n",
    "                  n_of_qubits=4,\n",
    "                  operator=U**1) #1\n",
    "# etp_four = control(control_q=3,\n",
    "#                   target_q=4,\n",
    "#                   n_of_qubits=4,\n",
    "#                   operator=U**8)\n",
    "\n",
    "etp_u = multi_dot(etp_three, etp_two, etp_two, etp_one, etp_one, etp_one, etp_one)\n",
    "\n",
    "# prime_state = np.dot(final_u, prime_state)\n",
    "# print(final_u.shape)\n",
    "# print(final_u.round(3))\n",
    "# print(U)"
   ]
  },
  {
   "cell_type": "code",
   "execution_count": 323,
   "id": "a8172a33-3efb-460f-9f79-6248eb66b937",
   "metadata": {},
   "outputs": [
    {
     "name": "stdout",
     "output_type": "stream",
     "text": [
      "(16, 16)\n",
      "[[1.   +0.j    0.   +0.j    0.   +0.j    0.   +0.j   ]\n",
      " [0.   +0.j    0.707-0.707j 0.   +0.j    0.   +0.j   ]\n",
      " [0.   +0.j    0.   +0.j    1.   +0.j    0.   +0.j   ]\n",
      " [0.   +0.j    0.   +0.j    0.   +0.j    0.707+0.707j]]\n"
     ]
    }
   ],
   "source": [
    "# #inverse_fourier\n",
    "if_one = multi_kron(I(), H(), I(), I())\n",
    "if_two = control(\n",
    "    control_q=1,\n",
    "    target_q=0,\n",
    "    n_of_qubits=2,\n",
    "    operator=Rz(np.pi/2))\n",
    "\n",
    "# if_three = multi_kron(I(), I(), H(), I())\n",
    "# if_four = control(control_q=1,\n",
    "#                   target_q=3,\n",
    "#                   n_of_qubits=4,\n",
    "#                   operator=Rz(-np.pi))\n",
    "# if_five = control(control_q=1,\n",
    "#                   target_q=2,\n",
    "#                   n_of_qubits=4,\n",
    "#                   operator=Rz(-np.pi))\n",
    "# if_six = multi_kron(I(), H(), I(), I())\n",
    "\n",
    "# etp_ifft = multi_dot(if_six, if_five, if_four, if_three, if_two, if_one)\n",
    "# etp_ifft = multi_dot(if_three, if_two, if_one)\n",
    "\n",
    "print(etp_ifft.shape)\n",
    "print(if_two.round(3))"
   ]
  },
  {
   "cell_type": "code",
   "execution_count": 128,
   "id": "6528c06c-5e30-40fe-aa45-460dbfb4df9b",
   "metadata": {},
   "outputs": [
    {
     "name": "stdout",
     "output_type": "stream",
     "text": [
      "(16, 16)\n",
      "[[ 0.354+0.j     0.135-0.327j  0.25 -0.25j  -0.135-0.327j  0.354+0.j\n",
      "   0.135-0.327j  0.25 -0.25j  -0.135-0.327j  0.   +0.j     0.   +0.j\n",
      "   0.   +0.j     0.   +0.j     0.   +0.j     0.   +0.j     0.   +0.j\n",
      "   0.   +0.j   ]\n",
      " [ 0.354+0.j    -0.135+0.327j  0.25 -0.25j   0.135+0.327j  0.354+0.j\n",
      "  -0.135+0.327j  0.25 -0.25j   0.135+0.327j  0.   +0.j     0.   +0.j\n",
      "   0.   +0.j     0.   +0.j     0.   +0.j     0.   +0.j     0.   +0.j\n",
      "   0.   +0.j   ]\n",
      " [ 0.354+0.j     0.327+0.135j -0.25 +0.25j  -0.327+0.135j  0.354+0.j\n",
      "   0.327+0.135j -0.25 +0.25j  -0.327+0.135j  0.   +0.j     0.   +0.j\n",
      "   0.   +0.j     0.   +0.j     0.   +0.j     0.   +0.j     0.   +0.j\n",
      "   0.   +0.j   ]\n",
      " [ 0.354+0.j    -0.327-0.135j -0.25 +0.25j   0.327-0.135j  0.354+0.j\n",
      "  -0.327-0.135j -0.25 +0.25j   0.327-0.135j  0.   +0.j     0.   +0.j\n",
      "   0.   +0.j     0.   +0.j     0.   +0.j     0.   +0.j     0.   +0.j\n",
      "   0.   +0.j   ]\n",
      " [ 0.354+0.j     0.327-0.135j  0.25 +0.25j   0.327+0.135j -0.354+0.j\n",
      "  -0.327+0.135j -0.25 -0.25j  -0.327-0.135j  0.   +0.j     0.   +0.j\n",
      "   0.   +0.j     0.   +0.j     0.   +0.j     0.   +0.j     0.   +0.j\n",
      "   0.   +0.j   ]\n",
      " [ 0.354+0.j    -0.327+0.135j  0.25 +0.25j  -0.327-0.135j -0.354+0.j\n",
      "   0.327-0.135j -0.25 -0.25j   0.327+0.135j  0.   +0.j     0.   +0.j\n",
      "   0.   +0.j     0.   +0.j     0.   +0.j     0.   +0.j     0.   +0.j\n",
      "   0.   +0.j   ]\n",
      " [ 0.354+0.j     0.135+0.327j -0.25 -0.25j   0.135-0.327j -0.354+0.j\n",
      "  -0.135-0.327j  0.25 +0.25j  -0.135+0.327j  0.   +0.j     0.   +0.j\n",
      "   0.   +0.j     0.   +0.j     0.   +0.j     0.   +0.j     0.   +0.j\n",
      "   0.   +0.j   ]\n",
      " [ 0.354+0.j    -0.135-0.327j -0.25 -0.25j  -0.135+0.327j -0.354+0.j\n",
      "   0.135+0.327j  0.25 +0.25j   0.135-0.327j  0.   +0.j     0.   +0.j\n",
      "   0.   +0.j     0.   +0.j     0.   +0.j     0.   +0.j     0.   +0.j\n",
      "   0.   +0.j   ]\n",
      " [ 0.   +0.j     0.   +0.j     0.   +0.j     0.   +0.j     0.   +0.j\n",
      "   0.   +0.j     0.   +0.j     0.   +0.j     0.354+0.j     0.135-0.327j\n",
      "   0.25 -0.25j  -0.135-0.327j  0.354+0.j     0.135-0.327j  0.25 -0.25j\n",
      "  -0.135-0.327j]\n",
      " [ 0.   +0.j     0.   +0.j     0.   +0.j     0.   +0.j     0.   +0.j\n",
      "   0.   +0.j     0.   +0.j     0.   +0.j     0.354+0.j    -0.135+0.327j\n",
      "   0.25 -0.25j   0.135+0.327j  0.354+0.j    -0.135+0.327j  0.25 -0.25j\n",
      "   0.135+0.327j]\n",
      " [ 0.   +0.j     0.   +0.j     0.   +0.j     0.   +0.j     0.   +0.j\n",
      "   0.   +0.j     0.   +0.j     0.   +0.j     0.354+0.j     0.327+0.135j\n",
      "  -0.25 +0.25j  -0.327+0.135j  0.354+0.j     0.327+0.135j -0.25 +0.25j\n",
      "  -0.327+0.135j]\n",
      " [ 0.   +0.j     0.   +0.j     0.   +0.j     0.   +0.j     0.   +0.j\n",
      "   0.   +0.j     0.   +0.j     0.   +0.j     0.354+0.j    -0.327-0.135j\n",
      "  -0.25 +0.25j   0.327-0.135j  0.354+0.j    -0.327-0.135j -0.25 +0.25j\n",
      "   0.327-0.135j]\n",
      " [ 0.   +0.j     0.   +0.j     0.   +0.j     0.   +0.j     0.   +0.j\n",
      "   0.   +0.j     0.   +0.j     0.   +0.j     0.354+0.j     0.327-0.135j\n",
      "   0.25 +0.25j   0.327+0.135j -0.354+0.j    -0.327+0.135j -0.25 -0.25j\n",
      "  -0.327-0.135j]\n",
      " [ 0.   +0.j     0.   +0.j     0.   +0.j     0.   +0.j     0.   +0.j\n",
      "   0.   +0.j     0.   +0.j     0.   +0.j     0.354+0.j    -0.327+0.135j\n",
      "   0.25 +0.25j  -0.327-0.135j -0.354+0.j     0.327-0.135j -0.25 -0.25j\n",
      "   0.327+0.135j]\n",
      " [ 0.   +0.j     0.   +0.j     0.   +0.j     0.   +0.j     0.   +0.j\n",
      "   0.   +0.j     0.   +0.j     0.   +0.j     0.354+0.j     0.135+0.327j\n",
      "  -0.25 -0.25j   0.135-0.327j -0.354+0.j    -0.135-0.327j  0.25 +0.25j\n",
      "  -0.135+0.327j]\n",
      " [ 0.   +0.j     0.   +0.j     0.   +0.j     0.   +0.j     0.   +0.j\n",
      "   0.   +0.j     0.   +0.j     0.   +0.j     0.354+0.j    -0.135-0.327j\n",
      "  -0.25 -0.25j  -0.135+0.327j -0.354+0.j     0.135+0.327j  0.25 +0.25j\n",
      "   0.135-0.327j]]\n"
     ]
    },
    {
     "data": {
      "text/plain": [
       "'\\n# #phases to eigenvalues\\npte_one = control(control_q=1,\\n                  target_q=4,\\n                  n_of_qubits=5,\\n                  operator=U(A, -np.pi/8))\\npte_two = control(control_q=2,\\n                  target_q=4,\\n                  n_of_qubits=5,\\n                  operator=U(A, -np.pi/4))\\npte_three = control(control_q=3,\\n                    target_q=4,\\n                    n_of_qubits=5,\\n                    operator=U(A, -np.pi/2))\\n\\nfinal_u = multi_dot(\\n    if_seven, if_six, if_five, if_four, if_three, if_two, if_one,\\n    etp_three, etp_two, etp_one,\\n    state)\\n    '"
      ]
     },
     "execution_count": 128,
     "metadata": {},
     "output_type": "execute_result"
    }
   ],
   "source": [
    "\n",
    "\n",
    "# print(np.round(multi_dot(state, etp_one, etp_two, etp_three), 3))\n",
    "#Fourier transform\n",
    "# ft_one = multi_kron(I(), H(), I(), I(), I())\n",
    "# ft_two = control(control_q=1,\n",
    "#                  target_q=3,\n",
    "#                  n_of_qubits=5,\n",
    "#                  operator=Rz(-np.pi/4))\n",
    "# ft_three = control(control_q=1,\n",
    "#                    target_q=2,\n",
    "#                    n_of_qubits=5,\n",
    "#                    operator=Rz(-np.pi/2))\n",
    "# ft_four = multi_kron(I(), I(), H(), I(), I())\n",
    "# ft_five = control(control_q=2,\n",
    "#                   target_q=3,\n",
    "#                   n_of_qubits=5,\n",
    "#                   operator=Rz(-np.pi/2))\n",
    "# ft_six = multi_kron(I(), I(), I(), H(), I())\n",
    "# print(np.round(multi_dot(state,\n",
    "#                          etp_one, etp_two, etp_three,\n",
    "#                          ft_one, ft_two, ft_three, ft_four, ft_five, ft_six), 3))\n",
    "'''\n",
    "# #Ancilla qubit\n",
    "aq_one = control(control_q=1,\n",
    "                 target_q=0,\n",
    "                 n_of_qubits=5,\n",
    "                 operator=Ry(np.pi/2)) \n",
    "aq_two = control(control_q=2,\n",
    "                 target_q=0,\n",
    "                 n_of_qubits=5,\n",
    "                 operator=Ry(np.pi/4))\n",
    "aq_three = control(control_q=3,\n",
    "                   target_q=0,\n",
    "                   n_of_qubits=5,\n",
    "                   operator=Ry(np.pi/8)) \n",
    "# print(np.round(multi_dot(\n",
    "#     aq_three, aq_two, aq_one,\n",
    "#     ft_six, ft_five, ft_four, ft_three, ft_two, ft_one,\n",
    "#     etp_three, etp_two, etp_one,\n",
    "#     state), 3))\n",
    "'''\n",
    "\n",
    "# print(np.round(multi_dot(\n",
    "#     if_seven, if_six, if_five, if_four, if_three, if_two, if_one,\n",
    "#     aq_three, aq_two, aq_one,\n",
    "#     ft_six, ft_five, ft_four, ft_three, ft_two, ft_one,\n",
    "#     etp_three, etp_two, etp_one,\n",
    "#     state), 3))\n",
    "'''\n",
    "# #phases to eigenvalues\n",
    "pte_one = control(control_q=1,\n",
    "                  target_q=4,\n",
    "                  n_of_qubits=5,\n",
    "                  operator=U(A, -np.pi/8))\n",
    "pte_two = control(control_q=2,\n",
    "                  target_q=4,\n",
    "                  n_of_qubits=5,\n",
    "                  operator=U(A, -np.pi/4))\n",
    "pte_three = control(control_q=3,\n",
    "                    target_q=4,\n",
    "                    n_of_qubits=5,\n",
    "                    operator=U(A, -np.pi/2))\n",
    "\n",
    "final_u = multi_dot(\n",
    "    if_seven, if_six, if_five, if_four, if_three, if_two, if_one,\n",
    "    etp_three, etp_two, etp_one,\n",
    "    state)\n",
    "    '''\n",
    "# print(np.round(final_u, 3))\n"
   ]
  },
  {
   "cell_type": "code",
   "execution_count": 7,
   "id": "af7afe30-3925-43bf-8989-fdf38a8ee848",
   "metadata": {},
   "outputs": [
    {
     "name": "stdout",
     "output_type": "stream",
     "text": [
      "[[ 0.12711+0.j       0.05814+0.05646j -0.13596+0.08869j ...\n",
      "   0.     +0.j       0.     +0.j       0.     +0.j     ]\n",
      " [ 0.05814-0.05646j  0.05167-0.j      -0.02279+0.10095j ...\n",
      "   0.     +0.j       0.     +0.j       0.     +0.j     ]\n",
      " [-0.13596-0.08869j -0.02279-0.10095j  0.20731+0.j      ...\n",
      "   0.     +0.j       0.     +0.j       0.     +0.j     ]\n",
      " ...\n",
      " [ 0.     +0.j       0.     +0.j       0.     +0.j      ...\n",
      "   0.     +0.j       0.     +0.j       0.     +0.j     ]\n",
      " [ 0.     +0.j       0.     +0.j       0.     +0.j      ...\n",
      "   0.     +0.j       0.     +0.j       0.     +0.j     ]\n",
      " [ 0.     +0.j       0.     +0.j       0.     +0.j      ...\n",
      "   0.     +0.j       0.     +0.j       0.     +0.j     ]] \n",
      "\n"
     ]
    }
   ],
   "source": [
    "prime_state = multi_kron(state_zero, state_zero, state_zero, vecs_u[1])\n",
    "final_state = np.dot(final_u, prime_state)\n",
    "rho = np.dot(final_state, np.conj(final_state).T)\n",
    "print(np.round(rho, 5), '\\n')"
   ]
  },
  {
   "cell_type": "code",
   "execution_count": 8,
   "id": "1fde2c16-b3a4-464e-bf97-0cfef40db010",
   "metadata": {
    "collapsed": true,
    "jupyter": {
     "outputs_hidden": true
    },
    "tags": []
   },
   "outputs": [
    {
     "name": "stdout",
     "output_type": "stream",
     "text": [
      "(0.437-0j)\n",
      "(0.562+0j)\n",
      "0j\n",
      "0j\n"
     ]
    }
   ],
   "source": [
    "proj = multi_kron(P0, I(), I(), I(), P1)\n",
    "prob = np.trace(np.dot(proj, rho))\n",
    "print(np.round(prob, 3))\n",
    "proj = multi_kron(P0, I(), I(), I(), P0)\n",
    "prob = np.trace(np.dot(proj, rho))\n",
    "print(np.round(prob, 3))\n",
    "proj = multi_kron(P1, I(), I(), I(), P1)\n",
    "prob = np.trace(np.dot(proj, rho))\n",
    "print(np.round(prob, 3))\n",
    "proj = multi_kron(P1, I(), I(), I(), P0)\n",
    "prob = np.trace(np.dot(proj, rho))\n",
    "print(np.round(prob, 3))"
   ]
  },
  {
   "cell_type": "code",
   "execution_count": 9,
   "id": "eb205498-8d1b-4a68-9e17-e082abbaf5f6",
   "metadata": {
    "collapsed": true,
    "jupyter": {
     "outputs_hidden": true
    },
    "tags": []
   },
   "outputs": [
    {
     "data": {
      "text/plain": [
       "(0.4374999999999996-2.977195965426708e-18j)"
      ]
     },
     "execution_count": 9,
     "metadata": {},
     "output_type": "execute_result"
    }
   ],
   "source": [
    "prob0 = np.trace(np.dot(multi_kron(I(), I(), I(), I(), P1), rho))\n",
    "prob0"
   ]
  },
  {
   "cell_type": "code",
   "execution_count": null,
   "id": "0e80c1b9-38d0-4677-873f-146459d9785b",
   "metadata": {},
   "outputs": [],
   "source": []
  }
 ],
 "metadata": {
  "kernelspec": {
   "display_name": "Python 3 (ipykernel)",
   "language": "python",
   "name": "python3"
  },
  "language_info": {
   "codemirror_mode": {
    "name": "ipython",
    "version": 3
   },
   "file_extension": ".py",
   "mimetype": "text/x-python",
   "name": "python",
   "nbconvert_exporter": "python",
   "pygments_lexer": "ipython3",
   "version": "3.10.9"
  }
 },
 "nbformat": 4,
 "nbformat_minor": 5
}
