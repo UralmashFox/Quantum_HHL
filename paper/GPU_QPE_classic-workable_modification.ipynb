{
 "cells": [
  {
   "cell_type": "code",
   "execution_count": 1,
   "id": "2b6d6b56-4207-4e95-b8e8-512ad7598d1b",
   "metadata": {
    "tags": [],
    "ExecuteTime": {
     "end_time": "2023-11-30T19:30:21.521194700Z",
     "start_time": "2023-11-30T19:30:20.876565300Z"
    }
   },
   "outputs": [],
   "source": [
    "# from os import environ\n",
    "# environ['OMP_NUM_THREADS'] = '12'\n",
    "import cupy as cp\n",
    "import numpy as np\n",
    "import scipy.linalg as la"
   ]
  },
  {
   "cell_type": "code",
   "execution_count": 2,
   "id": "1b67046d-7f64-4116-b993-49db3c2008c1",
   "metadata": {
    "ExecuteTime": {
     "end_time": "2023-11-30T19:30:21.756917200Z",
     "start_time": "2023-11-30T19:30:21.550337900Z"
    }
   },
   "outputs": [
    {
     "name": "stdout",
     "output_type": "stream",
     "text": [
      "[-0.70710678+1.73472348e-16j  0.70710678+3.33066907e-16j]\n"
     ]
    }
   ],
   "source": [
    "A = np.array([\n",
    "    [1.5, 0.5],\n",
    "    [0.5, 1.5],\n",
    "    ]).astype('complex')\n",
    "U = np.array(la.expm(1j*A))\n",
    "eigs_u, vecs_u = np.linalg.eig(U)\n",
    "U = cp.array(la.expm(1j*A))\n",
    "print(vecs_u[1])"
   ]
  },
  {
   "cell_type": "code",
   "execution_count": 3,
   "id": "279ac6b6-9031-40e8-a908-dde77ec0d2a5",
   "metadata": {
    "ExecuteTime": {
     "end_time": "2023-11-30T19:30:21.835426500Z",
     "start_time": "2023-11-30T19:30:21.756917200Z"
    }
   },
   "outputs": [],
   "source": [
    "#states\n",
    "state_zero = cp.array([[1.0],[0.0]])\n",
    "state_one = cp.array([[0.0],[1.0]])\n",
    "#projectors\n",
    "P0 = cp.dot(state_zero, state_zero.T)\n",
    "P1 = cp.dot(state_one, state_one.T)"
   ]
  },
  {
   "cell_type": "code",
   "execution_count": 4,
   "id": "d66edea0-7fb1-4f06-8b6c-7960923fd890",
   "metadata": {
    "ExecuteTime": {
     "end_time": "2023-11-30T19:30:21.851060600Z",
     "start_time": "2023-11-30T19:30:21.821918100Z"
    }
   },
   "outputs": [],
   "source": [
    "def multi_kron(*args):\n",
    "    ret = cp.array([[1.0]]).astype('complex')\n",
    "    for q in args:\n",
    "        ret = cp.kron(ret, q)\n",
    "    return ret\n",
    "\n",
    "def multi_dot(*args):\n",
    "    ret = cp.eye(cp.shape(args[0])[0]).astype('complex')\n",
    "    for q in args:\n",
    "        ret = cp.dot(ret, q)\n",
    "    return ret"
   ]
  },
  {
   "cell_type": "code",
   "execution_count": 5,
   "id": "23ca9b91-948b-4061-9416-1aaa2f212325",
   "metadata": {
    "ExecuteTime": {
     "end_time": "2023-11-30T19:30:21.851060600Z",
     "start_time": "2023-11-30T19:30:21.835426500Z"
    }
   },
   "outputs": [],
   "source": [
    "def H():\n",
    "    return 1/cp.sqrt(2) * cp.array([[1, 1],\n",
    "                                    [1, -1]]).astype('complex')\n",
    "def X():\n",
    "    return cp.array([[0, 1],\n",
    "                     [1, 0]]).astype('complex')\n",
    "def Rz(phi):\n",
    "    return cp.array([[cp.exp(-1j*phi/2), 0],\n",
    "                     [0, cp.exp(1j*phi/2)]]).astype('complex')\n",
    "def P(phi):\n",
    "    return cp.array([[1, 0],\n",
    "                     [0, np.exp(1j*phi)]]).astype('complex')\n",
    "def Ry(theta):\n",
    "    return cp.array([[cp.cos(theta/2), -cp.sin(theta/2)],\n",
    "                     [cp.sin(theta/2), cp.cos(theta/2)]]).astype('complex')\n",
    "def I():\n",
    "    return cp.array([[1, 0],\n",
    "                     [0, 1]]).astype('complex')\n",
    "\n",
    "#for some reson CONTROL and TARGET are changed\n",
    "def control(control_q, target_q, n_of_qubits, operator):\n",
    "    list_of_ops_left = []\n",
    "    list_of_ops_right = []\n",
    "    for i in range(n_of_qubits):\n",
    "        if i == control_q:\n",
    "            list_of_ops_left.append(P0)\n",
    "            list_of_ops_right.append(P1)\n",
    "        elif i == target_q:\n",
    "            list_of_ops_left.append(I())\n",
    "            list_of_ops_right.append(operator)\n",
    "        else:\n",
    "            list_of_ops_left.append(I())\n",
    "            list_of_ops_right.append(I())\n",
    "    return (multi_kron(*list_of_ops_left) +\n",
    "            multi_kron(*list_of_ops_right).astype('complex'))"
   ]
  },
  {
   "cell_type": "code",
   "execution_count": 6,
   "outputs": [
    {
     "data": {
      "text/plain": "array([[1. +0.j       , 0. +0.j       ],\n       [0. +0.j       , 0.5+0.8660254j]])"
     },
     "execution_count": 6,
     "metadata": {},
     "output_type": "execute_result"
    }
   ],
   "source": [
    "phi = np.pi/3\n",
    "cp.array([[1, 0],\n",
    "          [0, np.exp(1j*phi)]]).astype('complex')"
   ],
   "metadata": {
    "collapsed": false,
    "ExecuteTime": {
     "end_time": "2023-11-30T19:30:21.945241800Z",
     "start_time": "2023-11-30T19:30:21.851060600Z"
    }
   },
   "id": "223cebe4803132e1"
  },
  {
   "cell_type": "code",
   "execution_count": 7,
   "id": "bbe27a0c-55e2-43c9-839c-9117bfee933d",
   "metadata": {
    "ExecuteTime": {
     "end_time": "2023-11-30T19:30:21.976495800Z",
     "start_time": "2023-11-30T19:30:21.945241800Z"
    }
   },
   "outputs": [],
   "source": [
    "#eigenvalues to phases\n",
    "def eigenvalues_to_phases(n, u):\n",
    "    repetitions = 1\n",
    "    ops = []\n",
    "    for i in range(0, n):\n",
    "        for _ in range(repetitions):\n",
    "            ops.append(control(control_q=n-i,\n",
    "                               target_q=0,\n",
    "                               n_of_qubits=n+1,\n",
    "                               operator=u**1))\n",
    "        repetitions *= 2\n",
    "    return multi_dot(*ops)"
   ]
  },
  {
   "cell_type": "code",
   "execution_count": 8,
   "outputs": [],
   "source": [
    "from qiskit import QuantumCircuit, Aer, execute\n",
    "def swap(n_of_qubs):\n",
    "    \"\"\"n-qubit QFTdagger the first n qubits in circ\"\"\"\n",
    "    # Don't forget the Swaps!\n",
    "    qc = QuantumCircuit(n_of_qubs+1)\n",
    "    for qubit in range(n_of_qubs//2): #n//2\n",
    "        qc.swap(qubit, n_of_qubs-qubit-1)\n",
    "    backend = Aer.get_backend('unitary_simulator')\n",
    "    job = execute(qc, backend)\n",
    "    result = job.result()\n",
    "    op = result.get_unitary(qc).data\n",
    "    return cp.array(op)\n",
    "\n",
    "def iqft(n):\n",
    "    ops = []\n",
    "    hadamards = cp.array([I() for _ in range(n+1)])\n",
    "    for j in range(n): #n\n",
    "        for m in range(j):\n",
    "            ops.append(\n",
    "                control(\n",
    "                control_q=n-m,\n",
    "                target_q=n-j,\n",
    "                n_of_qubits=n+1,\n",
    "                operator=P(-cp.pi/float(2**(j-m)))\n",
    "                )\n",
    "            )\n",
    "        hadamards_ = hadamards.copy()\n",
    "        hadamards_[n-j] = H()\n",
    "        ops.append(multi_kron(*hadamards_))\n",
    "    return multi_dot(*ops)"
   ],
   "metadata": {
    "collapsed": false,
    "ExecuteTime": {
     "end_time": "2023-11-30T19:30:23.542882400Z",
     "start_time": "2023-11-30T19:30:21.960863900Z"
    }
   },
   "id": "4d8fded3e10abe90"
  },
  {
   "cell_type": "code",
   "execution_count": null,
   "id": "6528c06c-5e30-40fe-aa45-460dbfb4df9b",
   "metadata": {
    "is_executing": true,
    "ExecuteTime": {
     "start_time": "2023-11-30T19:30:23.542882400Z"
    }
   },
   "outputs": [],
   "source": [
    "# import pydevd_pycharm\n",
    "# pydevd_pycharm.settrace('localhost', port=1234, stdoutToServer=True, stderrToServer=True)\n",
    "qubit_num = 9\n",
    "prime_state = multi_kron(\n",
    "    cp.array([[el] for el in vecs_u[1]]),\n",
    "    state_zero, state_zero, state_zero,\n",
    "    state_zero, state_zero, state_zero, state_zero, state_zero,\n",
    "    state_zero)\n",
    "#state preparation\n",
    "state_prep = multi_kron(I(), *[H() for _ in range(qubit_num)] )\n",
    "#calculations\n",
    "eigs_to_phases = eigenvalues_to_phases(qubit_num, U)\n",
    "iqft_matrix = iqft(qubit_num)\n",
    "ift = multi_dot(swap(qubit_num), iqft_matrix)\n",
    "final_u = multi_dot(ift, eigs_to_phases, state_prep)\n",
    "final_state = cp.dot(final_u, prime_state)\n",
    "rho = cp.dot(final_state, cp.conj(final_state).T)"
   ]
  },
  {
   "cell_type": "code",
   "execution_count": null,
   "outputs": [],
   "source": [
    "max_num = 2**qubit_num\n",
    "max_prob = 0\n",
    "eigenvalue = -9999\n",
    "for i in range(max_num):\n",
    "    ops = [I()]\n",
    "    bin_int = \"{0:b}\".format(i).zfill(qubit_num)\n",
    "    ops.extend([P0 if bit == '0' else P1 for bit in bin_int])\n",
    "    proj = multi_kron(*ops)\n",
    "    prob = np.trace(np.dot(proj, rho))\n",
    "    if prob > max_prob:\n",
    "        max_prob = prob\n",
    "        eigenvalue = la.expm(1j*2*np.pi*i/(2**qubit_num))\n",
    "print(f'calculated eigenvalue is {np.round(eigenvalue, 3)[0]}')\n",
    "print(f'real eigenvalus are {np.round(eigs_u, 3)}')"
   ],
   "metadata": {
    "collapsed": false,
    "is_executing": true
   },
   "id": "77e84101c2c31c00"
  }
 ],
 "metadata": {
  "kernelspec": {
   "display_name": "Python (quantum)",
   "language": "python",
   "name": "quantum"
  },
  "language_info": {
   "codemirror_mode": {
    "name": "ipython",
    "version": 3
   },
   "file_extension": ".py",
   "mimetype": "text/x-python",
   "name": "python",
   "nbconvert_exporter": "python",
   "pygments_lexer": "ipython3",
   "version": "3.9.18"
  }
 },
 "nbformat": 4,
 "nbformat_minor": 5
}
