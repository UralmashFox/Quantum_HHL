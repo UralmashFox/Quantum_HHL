{
 "cells": [
  {
   "cell_type": "code",
   "execution_count": 1,
   "id": "d6584dbf-d452-4f42-b130-f28ad508166a",
   "metadata": {
    "ExecuteTime": {
     "end_time": "2024-01-24T13:14:30.417981Z",
     "start_time": "2024-01-24T13:14:27.408306900Z"
    }
   },
   "outputs": [],
   "source": [
    "#initialization\n",
    "import matplotlib.pyplot as plt\n",
    "import math\n",
    "\n",
    "# importing Qiskit\n",
    "from qiskit import Aer, transpile, assemble\n",
    "from qiskit import QuantumCircuit, execute\n",
    "\n",
    "# import basic plot tools\n",
    "from qiskit.visualization import plot_histogram\n",
    "\n",
    "# importing Qiskit\n",
    "from qiskit.quantum_info import DensityMatrix\n",
    "from qiskit.extensions import UnitaryGate"
   ]
  },
  {
   "cell_type": "code",
   "execution_count": 29,
   "id": "020f6754-9d84-4cec-9015-e2167fbb6fcd",
   "metadata": {
    "ExecuteTime": {
     "end_time": "2024-01-24T13:42:34.927948200Z",
     "start_time": "2024-01-24T13:42:34.880708900Z"
    }
   },
   "outputs": [],
   "source": [
    "import numpy as np\n",
    "import scipy.linalg as la\n",
    "hermitian_eigs = [-3.5920975212346135e-09+0.9817477054782923j,\n",
    "                  -3.5920975212346135e-09+0.9817477054782923j,\n",
    "                  -3.5920975212346135e-09+0.9817477054782923j,\n",
    "                  -3.5920975212346135e-09+0.9817477054782923j]\n",
    "A = np.diag(hermitian_eigs).astype('complex')\n",
    "eigs_h, vecs_h = np.linalg.eig(A)\n",
    "RESULTS = []\n",
    "# print(eigs_h)"
   ]
  },
  {
   "cell_type": "code",
   "execution_count": 30,
   "id": "7bdb80a0-7dbb-465e-96b9-064d9a67c4fb",
   "metadata": {
    "ExecuteTime": {
     "end_time": "2024-01-24T13:42:35.649863600Z",
     "start_time": "2024-01-24T13:42:35.633874300Z"
    }
   },
   "outputs": [],
   "source": [
    "ERROR = 0.0\n",
    "def add_noise_to_gate(U):\n",
    "    noise = np.random.uniform(-ERROR,ERROR,U.shape)\n",
    "    noise = noise + noise.conj().T\n",
    "    U_noise = la.expm(1j*(noise.T))\n",
    "    U = np.dot(U_noise, U)\n",
    "    return U"
   ]
  },
  {
   "cell_type": "code",
   "execution_count": 31,
   "id": "bf25a576-6f66-4689-bcb8-13f4880ab943",
   "metadata": {
    "ExecuteTime": {
     "end_time": "2024-01-24T13:42:37.067883600Z",
     "start_time": "2024-01-24T13:42:37.049790800Z"
    }
   },
   "outputs": [],
   "source": [
    "U = la.expm(1*A)\n",
    "# check on unitarnyness\n",
    "UnitaryGate(U)\n",
    "eigs_u, vecs_u = np.linalg.eig(U)"
   ]
  },
  {
   "cell_type": "code",
   "execution_count": 32,
   "id": "3ab8cdd5-8358-4252-8a50-eb3721b4aa11",
   "metadata": {
    "ExecuteTime": {
     "end_time": "2024-01-24T13:42:45.208239100Z",
     "start_time": "2024-01-24T13:42:45.172279200Z"
    }
   },
   "outputs": [
    {
     "data": {
      "text/plain": "<qiskit.circuit.instructionset.InstructionSet at 0x2651370e070>"
     },
     "execution_count": 32,
     "metadata": {},
     "output_type": "execute_result"
    }
   ],
   "source": [
    "n_of_qubs = 5\n",
    "qpe = QuantumCircuit(n_of_qubs+2, n_of_qubs)\n",
    "qpe.initialize(vecs_u[1], [-2, -1])\n",
    "# vecs_u[1]"
   ]
  },
  {
   "cell_type": "code",
   "execution_count": 33,
   "outputs": [],
   "source": [
    "qpe_clear = QuantumCircuit(n_of_qubs+2)\n",
    "for qubit in range(n_of_qubs):\n",
    "    qpe_clear.h(qubit)\n",
    "# print(qpe_clear)"
   ],
   "metadata": {
    "collapsed": false,
    "ExecuteTime": {
     "end_time": "2024-01-24T13:42:46.738595400Z",
     "start_time": "2024-01-24T13:42:46.723247900Z"
    }
   },
   "id": "44f93fd9f8858b0c"
  },
  {
   "cell_type": "code",
   "execution_count": 34,
   "id": "542650bd-5fca-4608-8654-042d97f0a899",
   "metadata": {
    "ExecuteTime": {
     "end_time": "2024-01-24T13:42:47.923370700Z",
     "start_time": "2024-01-24T13:42:47.879555300Z"
    }
   },
   "outputs": [
    {
     "data": {
      "text/plain": "(128, 128)"
     },
     "execution_count": 34,
     "metadata": {},
     "output_type": "execute_result"
    }
   ],
   "source": [
    "backend = Aer.get_backend('unitary_simulator')\n",
    "job = execute(qpe_clear, backend)\n",
    "result = job.result()\n",
    "op = result.get_unitary(qpe_clear).data\n",
    "# op = add_noise_to_gate(op)\n",
    "U_h = UnitaryGate(op)\n",
    "np.shape(U_h)"
   ]
  },
  {
   "cell_type": "code",
   "execution_count": 35,
   "outputs": [
    {
     "data": {
      "text/plain": "<qiskit.circuit.instructionset.InstructionSet at 0x2651b8f6c10>"
     },
     "execution_count": 35,
     "metadata": {},
     "output_type": "execute_result"
    }
   ],
   "source": [
    "qpe.append(U_h, range(n_of_qubs+2))    \n",
    "# qpe.draw()"
   ],
   "metadata": {
    "collapsed": false,
    "ExecuteTime": {
     "end_time": "2024-01-24T13:42:48.848059700Z",
     "start_time": "2024-01-24T13:42:48.824209300Z"
    }
   },
   "id": "81972f10d522c1b2"
  },
  {
   "cell_type": "code",
   "execution_count": 36,
   "id": "7da4ab9e-0f53-468b-bba3-5371c3308db6",
   "metadata": {
    "tags": [],
    "ExecuteTime": {
     "end_time": "2024-01-24T13:42:49.732023800Z",
     "start_time": "2024-01-24T13:42:49.531663700Z"
    }
   },
   "outputs": [],
   "source": [
    "from qiskit.circuit.library import UnitaryGate\n",
    "repetitions = 1\n",
    "for i in range(n_of_qubs):\n",
    "    for rep in range(repetitions):\n",
    "        qpe.append(UnitaryGate(U).control(1), [i, -2, -1])\n",
    "    repetitions *= 2\n",
    "\n",
    "# qpe.draw()"
   ]
  },
  {
   "cell_type": "code",
   "execution_count": 37,
   "outputs": [],
   "source": [
    "# circ = QuantumCircuit(n_of_qubs+2, n_of_qubs)\n",
    "# from qiskit.circuit.library import UnitaryGate\n",
    "# repetitions = 1\n",
    "# for i in range(n_of_qubs):\n",
    "#     for rep in range(repetitions):\n",
    "#         circ.append(UnitaryGate(U).control(1), [i, -2, -1])\n",
    "#     repetitions *= 2\n",
    "# backend = Aer.get_backend('unitary_simulator')\n",
    "# job = execute(circ, backend)\n",
    "# result = job.result()\n",
    "# op = result.get_unitary(circ).data\n",
    "# # op = add_noise_to_gate(op)\n",
    "# # U_h = UnitaryGate(op)\n",
    "# np.set_printoptions(threshold=np.inf)\n",
    "# np.shape(op)\n",
    "# np.round(op,2)\n",
    "# qpe.draw()"
   ],
   "metadata": {
    "collapsed": false,
    "ExecuteTime": {
     "end_time": "2024-01-24T13:42:50.414104300Z",
     "start_time": "2024-01-24T13:42:50.380116100Z"
    }
   },
   "id": "e99d8497359ce70b"
  },
  {
   "cell_type": "code",
   "execution_count": 38,
   "id": "b1a787ed-2da0-4050-8940-2c8ad6a69a1e",
   "metadata": {
    "ExecuteTime": {
     "end_time": "2024-01-24T13:42:51.039939800Z",
     "start_time": "2024-01-24T13:42:51.024269Z"
    }
   },
   "outputs": [],
   "source": [
    "def qft_dagger(qc, n):\n",
    "    \"\"\"n-qubit QFTdagger the first n qubits in circ\"\"\"\n",
    "    # Don't forget the Swaps!\n",
    "    for qubit in range(n//2): #n//2\n",
    "        qc.swap(qubit, n-qubit-1)\n",
    "    for j in range(n): #n\n",
    "        for m in range(j):\n",
    "            qc.cp(-math.pi/float(2**(j-m)), m, j)\n",
    "        qc.h(j)"
   ]
  },
  {
   "cell_type": "code",
   "execution_count": 39,
   "outputs": [],
   "source": [
    "# del\n",
    "# qpe_clear = QuantumCircuit(n_of_qubs)\n",
    "# qft_dagger(qpe_clear, n_of_qubs)\n",
    "# backend = Aer.get_backend('unitary_simulator')\n",
    "# job = execute(qpe_clear, backend)\n",
    "# result = job.result()\n",
    "# op = result.get_unitary(qpe_clear).data\n",
    "# # np.round(op, 2)\n",
    "# \n",
    "# U_h = UnitaryGate(op)\n",
    "# qpe_clear = QuantumCircuit(n_of_qubs+2)\n",
    "# qpe_clear.append(U_h, range(n_of_qubs))\n",
    "# backend = Aer.get_backend('unitary_simulator')\n",
    "# job = execute(qpe_clear, backend)\n",
    "# result = job.result()\n",
    "# op = result.get_unitary(qpe_clear).data\n",
    "# np.round(op, 3)"
   ],
   "metadata": {
    "collapsed": false,
    "ExecuteTime": {
     "end_time": "2024-01-24T13:42:51.628147200Z",
     "start_time": "2024-01-24T13:42:51.608200100Z"
    }
   },
   "id": "fca747794a58be98"
  },
  {
   "cell_type": "code",
   "execution_count": 40,
   "id": "c5a1dab3-182e-4bea-8982-25bf4e8841c5",
   "metadata": {
    "tags": [],
    "ExecuteTime": {
     "end_time": "2024-01-24T13:42:52.388477800Z",
     "start_time": "2024-01-24T13:42:52.348377900Z"
    }
   },
   "outputs": [],
   "source": [
    "# # Apply inverse QFT\n",
    "qpe_clear = QuantumCircuit(n_of_qubs)\n",
    "qft_dagger(qpe_clear, n_of_qubs)\n",
    "backend = Aer.get_backend('unitary_simulator')\n",
    "job = execute(qpe_clear, backend)\n",
    "result = job.result()\n",
    "op = result.get_unitary(qpe_clear).data\n",
    "# print(qpe_clear)"
   ]
  },
  {
   "cell_type": "code",
   "execution_count": 41,
   "outputs": [
    {
     "data": {
      "text/plain": "<qiskit.circuit.instructionset.InstructionSet at 0x2651bb80070>"
     },
     "execution_count": 41,
     "metadata": {},
     "output_type": "execute_result"
    }
   ],
   "source": [
    "U_h = UnitaryGate(op)\n",
    "qpe.append(U_h, range(n_of_qubs))"
   ],
   "metadata": {
    "collapsed": false,
    "ExecuteTime": {
     "end_time": "2024-01-24T13:42:53.214396200Z",
     "start_time": "2024-01-24T13:42:53.188398800Z"
    }
   },
   "id": "b8d68e16fade7bd9"
  },
  {
   "cell_type": "code",
   "execution_count": 42,
   "outputs": [
    {
     "data": {
      "text/plain": "array([[0.+0.j, 0.+0.j, 0.+0.j, ..., 0.+0.j, 0.+0.j, 0.+0.j],\n       [0.+0.j, 0.+0.j, 0.+0.j, ..., 0.+0.j, 0.+0.j, 0.+0.j],\n       [0.+0.j, 0.+0.j, 0.+0.j, ..., 0.+0.j, 0.+0.j, 0.+0.j],\n       ...,\n       [0.+0.j, 0.+0.j, 0.+0.j, ..., 0.+0.j, 0.+0.j, 0.+0.j],\n       [0.+0.j, 0.+0.j, 0.+0.j, ..., 0.+0.j, 0.+0.j, 0.+0.j],\n       [0.+0.j, 0.+0.j, 0.+0.j, ..., 0.+0.j, 0.+0.j, 0.+0.j]])"
     },
     "execution_count": 42,
     "metadata": {},
     "output_type": "execute_result"
    }
   ],
   "source": [
    "np.round(DensityMatrix(qpe), 3)"
   ],
   "metadata": {
    "collapsed": false,
    "ExecuteTime": {
     "end_time": "2024-01-24T13:42:54.248614300Z",
     "start_time": "2024-01-24T13:42:54.048412400Z"
    }
   },
   "id": "95ef15e9c05e4434"
  },
  {
   "cell_type": "code",
   "execution_count": 43,
   "outputs": [],
   "source": [
    "# print(qpe.draw())"
   ],
   "metadata": {
    "collapsed": false,
    "ExecuteTime": {
     "end_time": "2024-01-24T13:42:56.050653Z",
     "start_time": "2024-01-24T13:42:56.028560500Z"
    }
   },
   "id": "2ad157ae683703c2"
  },
  {
   "cell_type": "code",
   "execution_count": 44,
   "id": "717f78fa-d6e3-44e2-aa7b-0bf18d108091",
   "metadata": {
    "ExecuteTime": {
     "end_time": "2024-01-24T13:42:57.269452800Z",
     "start_time": "2024-01-24T13:42:56.658632900Z"
    }
   },
   "outputs": [
    {
     "name": "stderr",
     "output_type": "stream",
     "text": [
      "C:\\Users\\lisis\\AppData\\Local\\Temp\\ipykernel_17268\\4287731533.py:7: DeprecationWarning: Using a qobj for run() is deprecated as of qiskit-aer 0.9.0 and will be removed no sooner than 3 months from that release date. Transpiled circuits should now be passed directly using `backend.run(circuits, **run_options).\n",
      "  results = aer_sim.run(qobj).result()\n"
     ]
    },
    {
     "data": {
      "text/plain": "<Figure size 700x500 with 1 Axes>",
      "image/png": "[encoded data removed]"
     },
     "execution_count": 44,
     "metadata": {},
     "output_type": "execute_result"
    }
   ],
   "source": [
    "for n in range(n_of_qubs):\n",
    "    qpe.measure(n,n)\n",
    "aer_sim = Aer.get_backend('aer_simulator')\n",
    "shots = 2048\n",
    "t_qpe = transpile(qpe, aer_sim)\n",
    "qobj = assemble(t_qpe, shots=shots)\n",
    "results = aer_sim.run(qobj).result()\n",
    "answer = results.get_counts()\n",
    "answer_to_plot = answer.copy()\n",
    "answer = sorted(answer.items(), key=lambda x:x[1])\n",
    "new_ans = []\n",
    "for pair in answer:\n",
    "    new_ans.append((int(pair[0],2), pair[1]))\n",
    "answer = new_ans\n",
    "plot_histogram(answer_to_plot)"
   ]
  },
  {
   "cell_type": "markdown",
   "source": [
    "### Реальные значения искомых собственных значений унитарной матрицы:"
   ],
   "metadata": {
    "collapsed": false
   },
   "id": "bc9adcfbc8da3bd8"
  },
  {
   "cell_type": "code",
   "execution_count": 45,
   "id": "22326b07-35a1-47fb-b11f-e79159ddebac",
   "metadata": {
    "ExecuteTime": {
     "end_time": "2024-01-24T13:43:01.253873500Z",
     "start_time": "2024-01-24T13:43:01.231374900Z"
    }
   },
   "outputs": [
    {
     "data": {
      "text/plain": "array([0.55557023+0.83146961j, 0.55557023+0.83146961j,\n       0.55557023+0.83146961j, 0.55557023+0.83146961j])"
     },
     "execution_count": 45,
     "metadata": {},
     "output_type": "execute_result"
    }
   ],
   "source": [
    "eigs_u"
   ]
  },
  {
   "cell_type": "markdown",
   "source": [
    "### Распределение полученных ответов по типу $[(n_1, n_{shots}), (n_2, n_{shots}), (n_3, n_{shots}), ..., (n_n, n_{shots})]$,\n",
    "### где $n_n$ - десятичное измеренное число, $n_{shots}$ - число измерений"
   ],
   "metadata": {
    "collapsed": false
   },
   "id": "432879ab496d1f69"
  },
  {
   "cell_type": "code",
   "execution_count": 46,
   "outputs": [
    {
     "name": "stdout",
     "output_type": "stream",
     "text": [
      "[(5, 2048)]\n"
     ]
    }
   ],
   "source": [
    "print(answer)"
   ],
   "metadata": {
    "collapsed": false,
    "ExecuteTime": {
     "end_time": "2024-01-24T13:43:02.902757600Z",
     "start_time": "2024-01-24T13:43:02.854811800Z"
    }
   },
   "id": "73792f7b-8c84-4c49-8ec9-78b2a7f76f93"
  },
  {
   "cell_type": "markdown",
   "source": [
    "### Формула, по которой можно расчитать собственное значение выглядит как $e^{j\\cdot 2\\cdot \\pi \\cdot n/(2^{n_{qubs}})}$,\n",
    "### где $n$ - десятичное измеренное число, $n_{qubs}$ - число кубитов (ниже используется как n_of_qubs)"
   ],
   "metadata": {
    "collapsed": false
   },
   "id": "2132f9333dd16b4f"
  },
  {
   "cell_type": "code",
   "execution_count": 48,
   "outputs": [
    {
     "name": "stdout",
     "output_type": "stream",
     "text": [
      "[[6.123234e-17+1.j]]\n"
     ]
    }
   ],
   "source": [
    "import scipy.linalg as la\n",
    "print(la.expm(1j*2*np.pi*1/(2**n_of_qubs)))"
   ],
   "metadata": {
    "collapsed": false,
    "ExecuteTime": {
     "end_time": "2024-01-24T13:05:19.183679Z",
     "start_time": "2024-01-24T13:05:19.160027800Z"
    }
   },
   "id": "d0b90053-92da-4529-b0f7-e5505e8f34d0"
  },
  {
   "cell_type": "markdown",
   "source": [
    "### Подстановка желаемого числа кубитов и желаемого измеренного десятичного числа позволяет искусственно сгенерировать желаемые собственные значения.\n",
    "### Например, пусть мы имеем 4 кубита и хотим иметь 3 и 1 как результат десятичного измеренного числа. Тогда собственные числа $eig_u$ унитарной матрицы могут быть посчитаны следующим образом:\n",
    "```\n",
    "print(la.expm(1j*2*np.pi*3/(2**4)))\n",
    "print(la.expm(1j*2*np.pi*1/(2**4)))\n",
    "```\n",
    "```\n",
    "out:\n",
    "[[0.38268343+0.92387953j]]\n",
    "[[0.92387953+0.38268343j]]\n",
    "```"
   ],
   "metadata": {
    "collapsed": false
   },
   "id": "8f468031ccb13483"
  },
  {
   "cell_type": "code",
   "execution_count": 48,
   "outputs": [
    {
     "name": "stdout",
     "output_type": "stream",
     "text": [
      "[[0.98078528+0.19509032j]]\n",
      "[[0.92387953+0.38268343j]]\n",
      "[[0.83146961+0.55557023j]]\n",
      "[[0.70710678+0.70710678j]]\n"
     ]
    }
   ],
   "source": [
    "print(la.expm(1j*2*np.pi*1/(2**5)))\n",
    "print(la.expm(1j*2*np.pi*2/(2**5)))\n",
    "print(la.expm(1j*2*np.pi*3/(2**5)))\n",
    "print(la.expm(1j*2*np.pi*4/(2**5)))"
   ],
   "metadata": {
    "collapsed": false,
    "ExecuteTime": {
     "end_time": "2024-01-24T14:23:00.675541300Z",
     "start_time": "2024-01-24T14:23:00.635716300Z"
    }
   },
   "id": "e7a2467953d3dd84"
  },
  {
   "cell_type": "markdown",
   "source": [
    "### Тогда диагональные элементы эрмитовой матрицы имеют вид $log(eig_u)$:\n",
    "```\n",
    "print(np.log(0.92387953+0.38268343j))\n",
    "```\n",
    "```\n",
    "out:\n",
    "(-3.225207111789145e-09+0.39269908047469393j)\n",
    "```"
   ],
   "metadata": {
    "collapsed": false
   },
   "id": "92df85802213f022"
  },
  {
   "cell_type": "code",
   "execution_count": 49,
   "outputs": [
    {
     "name": "stdout",
     "output_type": "stream",
     "text": [
      "(-7.888096189406186e-10+0.19634953895063953j)\n",
      "(-3.225207111789145e-09+0.39269908047469393j)\n",
      "(-3.5920975212346135e-09+0.5890486213166044j)\n",
      "(-1.6780315776190748e-09+0.7853981633974483j)\n"
     ]
    }
   ],
   "source": [
    "print(np.log(0.98078528+0.19509032j))\n",
    "print(np.log(0.92387953+0.38268343j))\n",
    "print(np.log(0.83146961+0.55557023j))\n",
    "print(np.log(0.70710678+0.70710678j))"
   ],
   "metadata": {
    "collapsed": false,
    "ExecuteTime": {
     "end_time": "2024-01-24T14:24:37.097583500Z",
     "start_time": "2024-01-24T14:24:37.050113400Z"
    }
   },
   "id": "2b27d41d57514f99"
  },
  {
   "cell_type": "code",
   "execution_count": 19,
   "outputs": [],
   "source": [
    "# circ = QuantumCircuit(5)\n",
    "# circ.append(UnitaryGate(U).control(1), [1, -2, -1])\n",
    "# backend = Aer.get_backend('unitary_simulator')\n",
    "# job = execute(circ, backend)\n",
    "# result = job.result()\n",
    "# op = result.get_unitary(circ).data\n",
    "# np.round(op, 3)"
   ],
   "metadata": {
    "collapsed": false,
    "ExecuteTime": {
     "end_time": "2024-01-19T13:35:53.854445700Z",
     "start_time": "2024-01-19T13:35:53.835371200Z"
    }
   },
   "id": "b6549cc29b9023f1"
  }
 ],
 "metadata": {
  "kernelspec": {
   "display_name": "Python (quantum)",
   "language": "python",
   "name": "quantum"
  },
  "language_info": {
   "codemirror_mode": {
    "name": "ipython",
    "version": 3
   },
   "file_extension": ".py",
   "mimetype": "text/x-python",
   "name": "python",
   "nbconvert_exporter": "python",
   "pygments_lexer": "ipython3",
   "version": "3.9.18"
  }
 },
 "nbformat": 4,
 "nbformat_minor": 5
}
