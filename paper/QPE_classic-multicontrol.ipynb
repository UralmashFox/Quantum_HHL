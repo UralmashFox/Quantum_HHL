{
 "cells": [
  {
   "cell_type": "code",
   "execution_count": 1,
   "id": "2b6d6b56-4207-4e95-b8e8-512ad7598d1b",
   "metadata": {
    "tags": [],
    "ExecuteTime": {
     "end_time": "2024-10-10T13:33:35.480099600Z",
     "start_time": "2024-10-10T13:33:32.759168300Z"
    }
   },
   "outputs": [
    {
     "name": "stderr",
     "output_type": "stream",
     "text": [
      "C:\\Users\\lisis\\AppData\\Local\\Temp\\ipykernel_7740\\2437713394.py:6: DeprecationWarning: The qiskit.extensions module is deprecated since Qiskit 0.46.0. It will be removed in the Qiskit 1.0 release.\n",
      "  from qiskit.extensions import UnitaryGate\n"
     ]
    }
   ],
   "source": [
    "from os import environ\n",
    "environ['OMP_NUM_THREADS'] = '12'\n",
    "import numpy as np\n",
    "import scipy.linalg as la\n",
    "from qiskit import QuantumCircuit, Aer, execute\n",
    "from qiskit.extensions import UnitaryGate\n",
    "import matplotlib.pyplot as plt"
   ]
  },
  {
   "cell_type": "code",
   "execution_count": 55,
   "id": "1b67046d-7f64-4116-b993-49db3c2008c1",
   "metadata": {
    "ExecuteTime": {
     "end_time": "2024-10-10T13:36:27.912613400Z",
     "start_time": "2024-10-10T13:36:27.855990900Z"
    }
   },
   "outputs": [
    {
     "name": "stdout",
     "output_type": "stream",
     "text": [
      "[[ 0.70710678  0.70710678]\n",
      " [-0.70710678  0.70710678]]\n",
      "[[ 0.70710678  0.70710678]\n",
      " [-0.70710678  0.70710678]]\n"
     ]
    }
   ],
   "source": [
    "qubit_num = 3 #число кубитов для вычисления собственного значения\n",
    "# real_unitary_eigs = np.repeat(\n",
    "#     a=[la.expm(1j*2*np.pi*(1)/(2**qubit_num)) for _ in range(2**qubit_num)],\n",
    "#     repeats=1)\n",
    "\n",
    "alpha = np.pi/4#np.arccos(np.pi/4) #np.pi/4\n",
    "# alpha = 0\n",
    "# U = la.expm(np.matrix([[0,-alpha,0,0],[alpha,0,0,0],[0,0,1j,0],[0,0,0,1j]]))\n",
    "# U = la.expm(np.matrix([[np.cos(alpha),np.sin(alpha),0,0],[-np.sin(alpha),np.cos(alpha), 0,0],[0,0,1j,0],[0,0,0,1j]]))\n",
    "# U = np.array([[np.cos(alpha),np.sin(alpha),0,0],[-np.sin(alpha),np.cos(alpha), 0,0],[0,0,1,0],[0,0,0,1]])\n",
    "U = np.array([[np.cos(alpha),np.sin(alpha)],[-np.sin(alpha),np.cos(alpha)]])\n",
    "print(U)\n",
    "UnitaryGate(U)\n",
    "# alpha = np.arccos(np.pi/4 + 0.0001)\n",
    "alpha = np.pi/4 #+ 0.2#+0.04#0 + 1/4\n",
    "# alpha = 0 #+ 0.2\n",
    "# # U_noised = la.expm(np.matrix([[0,-alpha,0,0],[alpha,0,0,0],[0,0,1j,0],[0,0,0,1j]]))\n",
    "# U_noised = np.array([[np.cos(alpha),np.sin(alpha)],[-np.sin(alpha),np.cos(alpha)]])\n",
    "U_noised = U + \n",
    "\n",
    "print(U_noised)\n",
    "# UnitaryGate(U_noised)\n",
    "\n",
    "# real_unitary_eigs[1] = la.expm(1j*2*np.pi*1/(2**qubit_num))\n",
    "# real_unitary_eigs[2] = la.expm(1j*2*np.pi*1/(2**qubit_num))\n",
    "# real_unitary_eigs[3] = la.expm(1j*2*np.pi*1/(2**qubit_num))\n",
    "# real_unitary_eigs[4] = la.expm(1j*2*np.pi*1/(2**qubit_num))\n",
    "# real_hermitian_eigs = [np.log(i) for i in real_unitary_eigs]\n",
    "# real_A = np.diag(real_hermitian_eigs).astype('complex')\n",
    "# real_U = la.expm(1*real_A)\n",
    "# # np.round(real_U,2)\n",
    "# real_eigs_u, real_vecs_u = np.linalg.eig(real_U)\n",
    "# eigs_u, vecs_u = real_eigs_u, real_vecs_u\n",
    "# U = real_U\n",
    "eigs_u, vecs_u = np.linalg.eig(U)\n",
    "# U = U.astype('complex')\n",
    "U = U_noised\n",
    "# print(U)\n",
    "# print(U + [[-0.01, 0.01], [0.01, -0.01]])\n",
    "# vector = vecs_u[:,1]\n",
    "# print(vector.shape)\n",
    "# print(np.linalg.eig(U_noised)[1])\n",
    "# print(np.shape(U))\n",
    "# print([np.arctan(eig.imag/eig.real)/(2*np.pi) for eig in eigs_u])\n",
    "# print(np.sin(alpha))\n",
    "# np.round(real_U,2)\n",
    "# eigs_u = real_eigs_u\n",
    "# print(np.arccos(3/4))"
   ]
  },
  {
   "cell_type": "code",
   "execution_count": 56,
   "outputs": [
    {
     "name": "stdout",
     "output_type": "stream",
     "text": [
      "[0.70710678+0.70710678j 0.70710678-0.70710678j]\n",
      "[1.0000000000000002, -1.0000000000000002]\n",
      "[0.12500000000000003, -0.12500000000000003]\n"
     ]
    }
   ],
   "source": [
    "print(eigs_u)\n",
    "print([eig.imag/eig.real for eig in eigs_u])\n",
    "print([np.arctan(eig.imag/eig.real)/(2*np.pi) for eig in eigs_u])"
   ],
   "metadata": {
    "collapsed": false,
    "ExecuteTime": {
     "end_time": "2024-10-10T13:36:28.051377300Z",
     "start_time": "2024-10-10T13:36:28.018239200Z"
    }
   },
   "id": "650abcccca26e2df"
  },
  {
   "cell_type": "code",
   "execution_count": 57,
   "outputs": [],
   "source": [
    "# np.tan(0.125*(2*np.pi))*0.2"
   ],
   "metadata": {
    "collapsed": false,
    "ExecuteTime": {
     "end_time": "2024-10-10T13:36:28.224801300Z",
     "start_time": "2024-10-10T13:36:28.187029300Z"
    }
   },
   "id": "fd46a3f63642757c"
  },
  {
   "cell_type": "code",
   "execution_count": 58,
   "outputs": [],
   "source": [
    "def noise_val():\n",
    "    return np.random.normal(0,0.1,1)[0] #+  1.j*np.random.normal(0,0.3,1)[0]\n",
    "    # return 0.1#+0.1j"
   ],
   "metadata": {
    "collapsed": false,
    "ExecuteTime": {
     "end_time": "2024-10-10T13:36:28.386827300Z",
     "start_time": "2024-10-10T13:36:28.356840400Z"
    }
   },
   "id": "28850411cf11ddb9"
  },
  {
   "cell_type": "code",
   "execution_count": 59,
   "outputs": [],
   "source": [
    "# noised_unitary_eigs = np.repeat(\n",
    "#     a=[la.expm(1j*2*np.pi*(1+noise_val())/(2**qubit_num)) for _ in range(2**qubit_num)],\n",
    "#     repeats=1)\n",
    "# # noised_unitary_eigs[1] = la.expm(1j*2*np.pi*(2+noise_val())/(2**qubit_num))\n",
    "# # noised_unitary_eigs[2] = la.expm(1j*2*np.pi*(3+noise_val())/(2**qubit_num))\n",
    "# # noised_unitary_eigs[3] = la.expm(1j*2*np.pi*(4+noise_val())/(2**qubit_num))\n",
    "# # noised_unitary_eigs[4] = la.expm(1j*2*np.pi*(5+noise_val())/(2**qubit_num))\n",
    "# noised_hermitian_eigs = [np.log(i) for i in noised_unitary_eigs]\n",
    "# noised_A = np.diag(noised_hermitian_eigs).astype('complex')\n",
    "# noised_U = la.expm(1*noised_A)\n",
    "# from qiskit.extensions import UnitaryGate\n",
    "# UnitaryGate(noised_U)\n",
    "# U = noised_U\n",
    "# print(U)\n",
    "# noised_eigs_u, noised_vecs_u = np.linalg.eig(noised_U)\n",
    "# vecs_u = noised_vecs_u"
   ],
   "metadata": {
    "collapsed": false,
    "ExecuteTime": {
     "end_time": "2024-10-10T13:36:28.563132400Z",
     "start_time": "2024-10-10T13:36:28.531497100Z"
    }
   },
   "id": "dd5d407d0bb4a157"
  },
  {
   "cell_type": "code",
   "execution_count": 60,
   "outputs": [],
   "source": [
    "# U"
   ],
   "metadata": {
    "collapsed": false,
    "ExecuteTime": {
     "end_time": "2024-10-10T13:36:28.724485800Z",
     "start_time": "2024-10-10T13:36:28.701547600Z"
    }
   },
   "id": "c14caba5adfc7d2b"
  },
  {
   "cell_type": "code",
   "execution_count": 61,
   "outputs": [],
   "source": [
    "# print(real_hermitian_eigs)\n",
    "# print(noised_hermitian_eigs)"
   ],
   "metadata": {
    "collapsed": false,
    "ExecuteTime": {
     "end_time": "2024-10-10T13:36:28.933411300Z",
     "start_time": "2024-10-10T13:36:28.904848Z"
    }
   },
   "id": "ddbe6c516387e761"
  },
  {
   "cell_type": "code",
   "execution_count": 62,
   "outputs": [],
   "source": [
    "# eig = la.expm(1j*2*np.pi*(1+1/32)/(2**qubit_num))\n",
    "# phase = np.log(eig) * 2** qubit_num / (1j*2*np.pi)\n",
    "# print(f\"real phase {1+1/32} and calculated {phase}\")"
   ],
   "metadata": {
    "collapsed": false,
    "ExecuteTime": {
     "end_time": "2024-10-10T13:36:29.171452800Z",
     "start_time": "2024-10-10T13:36:29.145033300Z"
    }
   },
   "id": "7a5240e5290b424b"
  },
  {
   "cell_type": "code",
   "execution_count": 63,
   "outputs": [],
   "source": [
    "# U = np.load('matrix.npy')\n",
    "# eigs_u, vecs_u = np.linalg.eig(U)\n",
    "# print(eigs_u[0])\n",
    "# (np.arctan(0.835716070437315/0.5491617699847768))"
   ],
   "metadata": {
    "collapsed": false,
    "ExecuteTime": {
     "end_time": "2024-10-10T13:36:29.374921100Z",
     "start_time": "2024-10-10T13:36:29.343745500Z"
    }
   },
   "id": "380a302f6a567c08"
  },
  {
   "cell_type": "code",
   "execution_count": 64,
   "id": "279ac6b6-9031-40e8-a908-dde77ec0d2a5",
   "metadata": {
    "ExecuteTime": {
     "end_time": "2024-10-10T13:36:29.591648700Z",
     "start_time": "2024-10-10T13:36:29.558098300Z"
    }
   },
   "outputs": [],
   "source": [
    "#states\n",
    "state_zero = np.array([[1.0],[0.0]])\n",
    "state_one = np.array([[0.0],[1.0]])\n",
    "#projectors\n",
    "P0 = np.dot(state_zero, state_zero.T)\n",
    "P1 = np.dot(state_one, state_one.T)"
   ]
  },
  {
   "cell_type": "code",
   "execution_count": 65,
   "id": "d66edea0-7fb1-4f06-8b6c-7960923fd890",
   "metadata": {
    "ExecuteTime": {
     "end_time": "2024-10-10T13:36:29.874853600Z",
     "start_time": "2024-10-10T13:36:29.850413900Z"
    }
   },
   "outputs": [],
   "source": [
    "def multi_kron(*args):\n",
    "    ret = np.array([[1.0]]).astype('complex')\n",
    "    for q in args: \n",
    "        ret = np.kron(ret, q)\n",
    "    return ret\n",
    "\n",
    "def multi_dot(*args):\n",
    "    ret = np.eye(np.shape(args[0])[0]).astype('complex')\n",
    "    for q in args:\n",
    "        ret = np.dot(ret, q)\n",
    "    return ret"
   ]
  },
  {
   "cell_type": "code",
   "execution_count": 66,
   "id": "23ca9b91-948b-4061-9416-1aaa2f212325",
   "metadata": {
    "ExecuteTime": {
     "end_time": "2024-10-10T13:36:30.458194700Z",
     "start_time": "2024-10-10T13:36:30.432586500Z"
    }
   },
   "outputs": [],
   "source": [
    "def H():\n",
    "    return 1/np.sqrt(2) * np.array([[1, 1],\n",
    "                                    [1, -1]]).astype('complex')\n",
    "def X():\n",
    "    return np.array([[0, 1],\n",
    "                     [1, 0]]).astype('complex')\n",
    "def Rz(phi):\n",
    "    return np.array([[np.exp(-1j*phi/2), 0],\n",
    "                     [0, np.exp(1j*phi/2)]]).astype('complex')\n",
    "def P(phi):\n",
    "    return np.array([[1, 0],\n",
    "                     [0, np.exp(1j*phi)]]).astype('complex')\n",
    "def Ry(theta):\n",
    "    return np.array([[np.cos(theta/2), -np.sin(theta/2)],\n",
    "                     [np.sin(theta/2), np.cos(theta/2)]]).astype('complex')\n",
    "def I():\n",
    "    return np.array([[1, 0],\n",
    "                     [0, 1]]).astype('complex')\n",
    "\n",
    "#for some reson CONTROL and TARGET are changed\n",
    "def control(control_q, target_q, n_of_qubits, operator):\n",
    "    list_of_ops_left = []\n",
    "    list_of_ops_right = []\n",
    "    stop = False\n",
    "    for i in range(n_of_qubits):\n",
    "        if i in control_q:\n",
    "            list_of_ops_left.append(P0)\n",
    "            list_of_ops_right.append(P1)\n",
    "        elif i in target_q:\n",
    "            if np.shape(U) != (2, 2):\n",
    "                if not stop:\n",
    "                    for _ in range(len(target_q)):\n",
    "                        list_of_ops_left.append(I())\n",
    "                    list_of_ops_right.append(operator)\n",
    "                    stop = True\n",
    "            else:\n",
    "                list_of_ops_left.append(I())\n",
    "                list_of_ops_right.append(operator)\n",
    "        else:\n",
    "            list_of_ops_left.append(I())\n",
    "            list_of_ops_right.append(I())\n",
    "    return multi_kron(*list_of_ops_left) + multi_kron(*list_of_ops_right).astype('complex')"
   ]
  },
  {
   "cell_type": "code",
   "execution_count": 67,
   "id": "bbe27a0c-55e2-43c9-839c-9117bfee933d",
   "metadata": {
    "ExecuteTime": {
     "end_time": "2024-10-10T13:36:31.020693400Z",
     "start_time": "2024-10-10T13:36:30.978339Z"
    }
   },
   "outputs": [],
   "source": [
    "#eigenvalues to phases\n",
    "def eigenvalues_to_phases(n, u):\n",
    "    # print(n)\n",
    "    repetitions = 1#2**(n-1)\n",
    "    ops = []\n",
    "    target_qubits_amount = int(np.log2(u.shape[0]))\n",
    "    for i in range(0, n):\n",
    "        for _ in range(repetitions):\n",
    "            ops.append(control(control_q=[target_qubits_amount-1+n-i],\n",
    "                               target_q=[idx for idx in range(target_qubits_amount)],\n",
    "                               n_of_qubits=n+target_qubits_amount,\n",
    "                               operator=u**1\n",
    "                               ))\n",
    "        repetitions *= 2\n",
    "    return multi_dot(*ops)"
   ]
  },
  {
   "cell_type": "code",
   "execution_count": 78,
   "outputs": [],
   "source": [
    "\n",
    "def swap(n_of_qubs,u):\n",
    "    \"\"\"n-qubit QFTdagger the first n qubits in circ\"\"\"\n",
    "    # Don't forget the Swaps!\n",
    "    target_qubits_amount = int(np.log2(u.shape[0]))\n",
    "    qc = QuantumCircuit(n_of_qubs+target_qubits_amount)\n",
    "    for qubit in range(n_of_qubs//2): #n//2\n",
    "        qc.swap(qubit, n_of_qubs-qubit-1)\n",
    "    backend = Aer.get_backend('unitary_simulator')\n",
    "    job = execute(qc, backend)\n",
    "    result = job.result()\n",
    "    op = result.get_unitary(qc).data\n",
    "    return op\n",
    "\n",
    "def iqft(n, u):\n",
    "    ops = []\n",
    "    target_qubits_amount = int(np.log2(u.shape[1]))\n",
    "    hadamards = np.array([I() for _ in range(n+target_qubits_amount)])\n",
    "    for j in range(n): \n",
    "        print('next level')\n",
    "        print(target_qubits_amount - 1 + n - j)\n",
    "        for m in range(j):\n",
    "            print(f'control{target_qubits_amount - 1 + n - m} \\n target_q{target_qubits_amount - 1 + n - j}')\n",
    "            ops.append(\n",
    "                control(\n",
    "                control_q=[target_qubits_amount - 1 + n - m],\n",
    "                target_q=[target_qubits_amount - 1 + n - j],\n",
    "                n_of_qubits=n + target_qubits_amount,\n",
    "                operator=P(-np.pi/float(2**(j-m))),\n",
    "                )\n",
    "            )\n",
    "        hadamards_ = hadamards.copy()\n",
    "        print('hadamard here', target_qubits_amount - 1 + n - j)\n",
    "        hadamards_[target_qubits_amount - 1 + n - j] = H()\n",
    "        ops.append(multi_kron(*hadamards_))\n",
    "    return multi_dot(*ops)"
   ],
   "metadata": {
    "collapsed": false,
    "ExecuteTime": {
     "end_time": "2024-10-10T13:57:23.797039600Z",
     "start_time": "2024-10-10T13:57:23.744637100Z"
    }
   },
   "id": "4d8fded3e10abe90"
  },
  {
   "cell_type": "code",
   "execution_count": 79,
   "id": "6528c06c-5e30-40fe-aa45-460dbfb4df9b",
   "metadata": {
    "ExecuteTime": {
     "end_time": "2024-10-10T13:57:23.977068Z",
     "start_time": "2024-10-10T13:57:23.943216300Z"
    }
   },
   "outputs": [
    {
     "name": "stdout",
     "output_type": "stream",
     "text": [
      "next level\n",
      "2\n",
      "hadamard here 2\n",
      "next level\n",
      "1\n",
      "control2 \n",
      " target_q1\n",
      "hadamard here 1\n"
     ]
    },
    {
     "name": "stderr",
     "output_type": "stream",
     "text": [
      "C:\\Users\\lisis\\AppData\\Local\\Temp\\ipykernel_7740\\1926946112.py:9: DeprecationWarning: The function ``qiskit.execute_function.execute()`` is deprecated as of qiskit 0.46.0. It will be removed in the Qiskit 1.0 release. This function combines ``transpile`` and ``backend.run``, which is covered by ``Sampler`` :mod:`~qiskit.primitives`. Alternatively, you can also run :func:`.transpile` followed by ``backend.run()``.\n",
      "  job = execute(qc, backend)\n"
     ]
    }
   ],
   "source": [
    "prime_state = multi_kron(\n",
    "    np.array([[el] for el in vecs_u[:,0]]),\n",
    "    *[state_zero for _ in range(qubit_num)])\n",
    "\n",
    "\n",
    "# prime_state = multi_kron(\n",
    "#     np.array([[el] for el in [1,0,0,0]]),\n",
    "#     *[state_zero for _ in range(qubit_num)])\n",
    "#state preparation\n",
    "state_prep = multi_kron(*[I() for _ in range(int(np.log2(len(vecs_u[1]))))],\n",
    "                        *[H() for _ in range(qubit_num)])\n",
    "#calculations\n",
    "eigs_to_phases = eigenvalues_to_phases(qubit_num, U)\n",
    "iqft_matrix = iqft(qubit_num, U)\n",
    "ift = multi_dot(swap(qubit_num, U), iqft_matrix)\n",
    "final_u = multi_dot(ift, eigs_to_phases, state_prep)\n",
    "final_state = np.dot(final_u, prime_state)\n",
    "rho = np.dot(final_state, np.conj(final_state).T)\n",
    "# vecs_u"
   ]
  },
  {
   "cell_type": "code",
   "execution_count": 153,
   "outputs": [
    {
     "name": "stdout",
     "output_type": "stream",
     "text": [
      "calculated phase is 0.125\n",
      "true phases are [ 0.125 -0.125]\n",
      "all probabilitis [0.0, 1.051, 0.0, 0.0, 0.0, 0.0, 0.0, 0.0]\n",
      "for the potential phases [0.0, 0.125, 0.25, 0.375, 0.5, 0.625, 0.75, 0.875]\n"
     ]
    }
   ],
   "source": [
    "max_num = 2**qubit_num\n",
    "max_prob = 0\n",
    "eigenvalue = -9999\n",
    "probs = []\n",
    "potential_eigs = []\n",
    "max_bin = 0\n",
    "for i in range(max_num):\n",
    "    ops = [I() for _ in range(int(np.log2(len(vecs_u[1]))))]\n",
    "    bin_int = \"{0:b}\".format(i).zfill(qubit_num)\n",
    "    ops.extend([P0 if bit == '0' else P1 for bit in bin_int])\n",
    "    proj = multi_kron(*ops)\n",
    "    prob = np.sqrt(np.trace(np.dot(proj, rho))**2)\n",
    "    probs.append(np.round(prob,3))\n",
    "    # potential_eigs.append(la.expm(1j*2*np.pi*i/(2**qubit_num)))\n",
    "    potential_eigs.append(i/(2**qubit_num))\n",
    "    if prob > max_prob:\n",
    "        max_prob = prob\n",
    "        eigenvalue = i/(2**qubit_num)\n",
    "        max_bin = i\n",
    "probs = [prob.real for prob in probs]\n",
    "print(f'calculated phase is {np.round(eigenvalue, 3)}')\n",
    "print(f'true phases are {np.round([np.arctan(eig.imag/eig.real)/(2*np.pi) for eig in eigs_u], 3)}')\n",
    "print(f'all probabilitis {probs}')\n",
    "print(f'for the potential phases {potential_eigs}')\n",
    "# print(f'dispersion', np.std(probs))"
   ],
   "metadata": {
    "collapsed": false,
    "ExecuteTime": {
     "end_time": "2024-07-18T09:34:30.895037700Z",
     "start_time": "2024-07-18T09:34:30.849292Z"
    }
   },
   "id": "77e84101c2c31c00"
  },
  {
   "cell_type": "code",
   "execution_count": 113,
   "outputs": [],
   "source": [
    "# [np.arctan(eig.imag/eig.real) for eig in eigs_u]\n",
    "# [np.arctan(eig.real/eig.imagine for eig in eigs_u)]"
   ],
   "metadata": {
    "collapsed": false,
    "ExecuteTime": {
     "end_time": "2024-07-15T09:59:43.277347600Z",
     "start_time": "2024-07-15T09:59:43.241765800Z"
    }
   },
   "id": "927ad424cecd6247"
  },
  {
   "cell_type": "markdown",
   "source": [
    "## $\\sigma^2$ calculation"
   ],
   "metadata": {
    "collapsed": false
   },
   "id": "5c3cf6b4d3bd15e7"
  },
  {
   "cell_type": "code",
   "execution_count": 78,
   "outputs": [
    {
     "name": "stdout",
     "output_type": "stream",
     "text": [
      "sigma=1.10899526, math ex=0.31400000000000006, calculated eig_u from math ex=0.03925000000000001\n",
      "real 0.0\n"
     ]
    }
   ],
   "source": [
    "import statistics\n",
    "math_ex = 0\n",
    "for (prob, val) in zip(probs, np.arange(0,2**qubit_num-1)):\n",
    "    math_ex += prob.real*val\n",
    "sigma_2 = 0\n",
    "for (prob, val) in zip(probs, np.arange(0,2**qubit_num-1)):\n",
    "    sigma_2 += (val - math_ex)**2 * prob.real\n",
    "print(f'sigma={sigma_2}, math ex={math_ex}, calculated eig_u from math ex={math_ex / (2 ** qubit_num)}')\n",
    "print(f'real {np.arctan(eigs_u[1].imag/eigs_u[1].real)/(2*np.pi)}')\n",
    "# print(sigma_2, math_ex, la.expm(1j * 2 * np.pi * math_ex / (2 ** (qubit_num))))\n",
    "# print(la.expm(1j * 2 * np.pi * math_ex / (2 ** qubit_num)))"
   ],
   "metadata": {
    "collapsed": false,
    "ExecuteTime": {
     "end_time": "2024-07-15T09:53:11.512571Z",
     "start_time": "2024-07-15T09:53:11.484610200Z"
    }
   },
   "id": "9213184876d7a9ff"
  },
  {
   "cell_type": "code",
   "execution_count": 54,
   "outputs": [
    {
     "ename": "NameError",
     "evalue": "name 'probs_1' is not defined",
     "output_type": "error",
     "traceback": [
      "\u001B[1;31m---------------------------------------------------------------------------\u001B[0m",
      "\u001B[1;31mNameError\u001B[0m                                 Traceback (most recent call last)",
      "Cell \u001B[1;32mIn[54], line 2\u001B[0m\n\u001B[0;32m      1\u001B[0m \u001B[38;5;28;01mimport\u001B[39;00m \u001B[38;5;21;01mmatplotlib\u001B[39;00m\u001B[38;5;21;01m.\u001B[39;00m\u001B[38;5;21;01mpyplot\u001B[39;00m \u001B[38;5;28;01mas\u001B[39;00m \u001B[38;5;21;01mplt\u001B[39;00m\n\u001B[1;32m----> 2\u001B[0m plt\u001B[38;5;241m.\u001B[39mbar(np\u001B[38;5;241m.\u001B[39marange(\u001B[38;5;241m0\u001B[39m, \u001B[38;5;241m2\u001B[39m\u001B[38;5;241m*\u001B[39m\u001B[38;5;241m*\u001B[39mqubit_num), \u001B[43mprobs_1\u001B[49m, \u001B[38;5;241m0.25\u001B[39m, color\u001B[38;5;241m=\u001B[39m\u001B[38;5;124m'\u001B[39m\u001B[38;5;124mw\u001B[39m\u001B[38;5;124m'\u001B[39m, hatch\u001B[38;5;241m=\u001B[39m\u001B[38;5;124m'\u001B[39m\u001B[38;5;124m/\u001B[39m\u001B[38;5;124m'\u001B[39m, facecolor\u001B[38;5;241m=\u001B[39m\u001B[38;5;124m\"\u001B[39m\u001B[38;5;124mnone\u001B[39m\u001B[38;5;124m\"\u001B[39m, label\u001B[38;5;241m=\u001B[39m\u001B[38;5;124mr\u001B[39m\u001B[38;5;124m'\u001B[39m\u001B[38;5;124m$phase=1$\u001B[39m\u001B[38;5;124m'\u001B[39m)\n\u001B[0;32m      3\u001B[0m \u001B[38;5;66;03m# plt.bar(np.arange(0, 2**qubit_num), probs_1_8, 0.25, color='w', hatch='\\\\\\\\', facecolor=\"none\")#, width, bottom, align)\u001B[39;00m\n\u001B[0;32m      4\u001B[0m plt\u001B[38;5;241m.\u001B[39mbar(np\u001B[38;5;241m.\u001B[39marange(\u001B[38;5;241m0\u001B[39m, \u001B[38;5;241m2\u001B[39m\u001B[38;5;241m*\u001B[39m\u001B[38;5;241m*\u001B[39mqubit_num), probs_1_4, \u001B[38;5;241m0.25\u001B[39m, color\u001B[38;5;241m=\u001B[39m\u001B[38;5;124m'\u001B[39m\u001B[38;5;124mw\u001B[39m\u001B[38;5;124m'\u001B[39m, hatch\u001B[38;5;241m=\u001B[39m\u001B[38;5;124m'\u001B[39m\u001B[38;5;130;01m\\\\\u001B[39;00m\u001B[38;5;124m'\u001B[39m, facecolor\u001B[38;5;241m=\u001B[39m\u001B[38;5;124m\"\u001B[39m\u001B[38;5;124mnone\u001B[39m\u001B[38;5;124m\"\u001B[39m, label\u001B[38;5;241m=\u001B[39m\u001B[38;5;124mr\u001B[39m\u001B[38;5;124m'\u001B[39m\u001B[38;5;124m$phase=1+\u001B[39m\u001B[38;5;124m\\\u001B[39m\u001B[38;5;124mfrac\u001B[39m\u001B[38;5;132;01m{1}\u001B[39;00m\u001B[38;5;132;01m{4}\u001B[39;00m\u001B[38;5;124m$\u001B[39m\u001B[38;5;124m'\u001B[39m)\n",
      "\u001B[1;31mNameError\u001B[0m: name 'probs_1' is not defined"
     ]
    }
   ],
   "source": [
    "import matplotlib.pyplot as plt\n",
    "plt.bar(np.arange(0, 2**qubit_num), probs_1, 0.25, color='w', hatch='/', facecolor=\"none\", label=r'$phase=1$')\n",
    "# plt.bar(np.arange(0, 2**qubit_num), probs_1_8, 0.25, color='w', hatch='\\\\\\\\', facecolor=\"none\")#, width, bottom, align)\n",
    "plt.bar(np.arange(0, 2**qubit_num), probs_1_4, 0.25, color='w', hatch='\\\\', facecolor=\"none\", label=r'$phase=1+\\frac{1}{4}$')\n",
    "plt.bar(np.arange(0, 2**qubit_num), probs_1_2, 0.25, color='w', hatch='.', facecolor=\"none\", label=r'$phase=1+\\frac{1}{2}$')\n",
    "plt.legend(loc=\"upper left\", fontsize=\"20\")\n",
    "plt.xlabel(\"measured phases\", fontsize=\"20\")\n",
    "plt.ylabel(\"probabilities\", fontsize=\"20\")\n",
    "plt.ylim(0,1)\n",
    "plt.xticks(np.arange(0, 2**qubit_num), rotation=0, fontsize=\"20\")\n",
    "plt.yticks(fontsize=\"20\")\n",
    "plt.rcParams[\"figure.figsize\"] = (20,10)\n",
    "plt.savefig('3_in_1.png')\n",
    "plt.show()\n",
    "phase = np.log(eigs_u[0]) * 2** qubit_num / (1j*2*np.pi)\n",
    "print(phase, eigs_u[0])"
   ],
   "metadata": {
    "collapsed": false,
    "ExecuteTime": {
     "end_time": "2024-07-15T07:26:40.665938300Z",
     "start_time": "2024-07-15T07:26:39.901253400Z"
    }
   },
   "id": "7dda5d4a856eb4a3"
  },
  {
   "cell_type": "code",
   "execution_count": 340,
   "outputs": [
    {
     "data": {
      "text/plain": "<Figure size 1000x500 with 1 Axes>",
      "image/png": "[encoded data removed]"
     },
     "metadata": {},
     "output_type": "display_data"
    },
    {
     "name": "stdout",
     "output_type": "stream",
     "text": [
      "(0.6366197723675815+9.718361526694079e-17j) (0.9689124217106447+0.24740395925452296j)\n"
     ]
    }
   ],
   "source": [
    "import matplotlib.pyplot as plt\n",
    "probs_1_2 = probs\n",
    "plt.bar(np.arange(0, 2**qubit_num), probs, 0.25)#, width, bottom, align)\n",
    "plt.xlabel(\"measured values\")\n",
    "plt.ylabel(\"probabilities\")\n",
    "plt.ylim(0,1)\n",
    "plt.xticks(np.arange(0, 2**qubit_num), rotation=70)\n",
    "plt.rcParams[\"figure.figsize\"] = (10,5)\n",
    "plt.savefig('1.png')\n",
    "plt.show()\n",
    "phase = np.log(eigs_u[0]) * 2** qubit_num / (1j*2*np.pi)\n",
    "print(phase, eigs_u[0])"
   ],
   "metadata": {
    "collapsed": false,
    "ExecuteTime": {
     "end_time": "2024-04-19T20:15:50.636946700Z",
     "start_time": "2024-04-19T20:15:50.272109200Z"
    }
   },
   "id": "18685582ef9af9"
  },
  {
   "cell_type": "code",
   "execution_count": 98,
   "outputs": [
    {
     "data": {
      "text/plain": "<Figure size 2000x1000 with 1 Axes>",
      "image/png": "[encoded data removed]"
     },
     "metadata": {},
     "output_type": "display_data"
    },
    {
     "name": "stdout",
     "output_type": "stream",
     "text": [
      "(1.25+1.766974823035287e-17j) (-0.3826834323650897+0.9238795325112867j)\n"
     ]
    }
   ],
   "source": [
    "import matplotlib.pyplot as plt\n",
    "probs_1_4 = probs\n",
    "plt.bar(np.arange(0, 2**qubit_num), probs, 0.25)#, width, bottom, align)\n",
    "plt.xlabel(\"measured values\")\n",
    "plt.ylabel(\"probabilities\")\n",
    "plt.ylim(0,1)\n",
    "plt.xticks(np.arange(0, 2**qubit_num), rotation=70)\n",
    "plt.rcParams[\"figure.figsize\"] = (20,10)\n",
    "plt.savefig('1.png')\n",
    "plt.show()\n",
    "phase = np.log(eigs_u[0]) * 2** qubit_num / (1j*2*np.pi)\n",
    "print(phase, eigs_u[0])"
   ],
   "metadata": {
    "collapsed": false,
    "ExecuteTime": {
     "end_time": "2024-03-28T19:52:27.283108800Z",
     "start_time": "2024-03-28T19:52:26.971311800Z"
    }
   },
   "id": "945c9fba577b4998"
  },
  {
   "cell_type": "code",
   "execution_count": 84,
   "outputs": [
    {
     "data": {
      "text/plain": "<Figure size 2000x1000 with 1 Axes>",
      "image/png": "[encoded data removed]"
     },
     "metadata": {},
     "output_type": "display_data"
    },
    {
     "name": "stdout",
     "output_type": "stream",
     "text": [
      "(1.125+2.208718528794109e-17j) (-0.1950903220161282+0.9807852804032304j)\n"
     ]
    }
   ],
   "source": [
    "import matplotlib.pyplot as plt\n",
    "probs_1_8 = probs\n",
    "plt.bar(np.arange(0, 2**qubit_num), probs, 0.25)#, width, bottom, align)\n",
    "plt.xlabel(\"measured values\")\n",
    "plt.ylabel(\"probabilities\")\n",
    "plt.ylim(0,1)\n",
    "plt.xticks(np.arange(0, 2**qubit_num), rotation=70)\n",
    "plt.rcParams[\"figure.figsize\"] = (20,10)\n",
    "plt.savefig('1.png')\n",
    "plt.show()\n",
    "phase = np.log(eigs_u[0]) * 2** qubit_num / (1j*2*np.pi)\n",
    "print(phase, eigs_u[0])"
   ],
   "metadata": {
    "collapsed": false,
    "ExecuteTime": {
     "end_time": "2024-03-28T19:52:09.462671800Z",
     "start_time": "2024-03-28T19:52:09.213465900Z"
    }
   },
   "id": "7f31061e48bb8bcf"
  },
  {
   "cell_type": "code",
   "execution_count": 70,
   "outputs": [
    {
     "data": {
      "text/plain": "<Figure size 2000x1000 with 1 Axes>",
      "image/png": "[encoded data removed]"
     },
     "metadata": {},
     "output_type": "display_data"
    },
    {
     "name": "stdout",
     "output_type": "stream",
     "text": [
      "(1.0625-2.9817700138720473e-17j) (-0.09801714032956065+0.9951847266721969j)\n"
     ]
    }
   ],
   "source": [
    "import matplotlib.pyplot as plt\n",
    "probs_1_16 = probs\n",
    "plt.bar(np.arange(0, 2**qubit_num), probs, 0.25)#, width, bottom, align)\n",
    "plt.xlabel(\"measured values\")\n",
    "plt.ylabel(\"probabilities\")\n",
    "plt.ylim(0,1)\n",
    "plt.xticks(np.arange(0, 2**qubit_num), rotation=70)\n",
    "plt.rcParams[\"figure.figsize\"] = (20,10)\n",
    "plt.savefig('1.png')\n",
    "plt.show()\n",
    "phase = np.log(eigs_u[0]) * 2** qubit_num / (1j*2*np.pi)\n",
    "print(phase, eigs_u[0])"
   ],
   "metadata": {
    "collapsed": false,
    "ExecuteTime": {
     "end_time": "2024-03-28T19:51:37.151429100Z",
     "start_time": "2024-03-28T19:51:36.905027200Z"
    }
   },
   "id": "fac2be5c85e854fe"
  },
  {
   "cell_type": "code",
   "execution_count": 56,
   "outputs": [
    {
     "data": {
      "text/plain": "<Figure size 2000x1000 with 1 Axes>",
      "image/png": "[encoded data removed]"
     },
     "metadata": {},
     "output_type": "display_data"
    },
    {
     "name": "stdout",
     "output_type": "stream",
     "text": [
      "(1.03125-7.730514850779382e-18j) (-0.04906767432741801+0.9987954562051724j)\n"
     ]
    }
   ],
   "source": [
    "import matplotlib.pyplot as plt\n",
    "probs_1_32 = probs\n",
    "plt.bar(np.arange(0, 2**qubit_num), probs, 0.25)#, width, bottom, align)\n",
    "plt.xlabel(\"measured values\")\n",
    "plt.ylabel(\"probabilities\")\n",
    "plt.ylim(0,1)\n",
    "plt.xticks(np.arange(0, 2**qubit_num), rotation=70)\n",
    "plt.rcParams[\"figure.figsize\"] = (20,10)\n",
    "plt.savefig('1.png')\n",
    "plt.show()\n",
    "phase = np.log(eigs_u[0]) * 2** qubit_num / (1j*2*np.pi)\n",
    "print(phase, eigs_u[0])"
   ],
   "metadata": {
    "collapsed": false,
    "ExecuteTime": {
     "end_time": "2024-03-28T19:51:04.454903900Z",
     "start_time": "2024-03-28T19:51:04.208443700Z"
    }
   },
   "id": "17ca70dbc2e7b95b"
  },
  {
   "cell_type": "code",
   "execution_count": 27,
   "outputs": [
    {
     "data": {
      "text/plain": "<Figure size 2000x1000 with 1 Axes>",
      "image/png": "[encoded data removed]"
     },
     "metadata": {},
     "output_type": "display_data"
    },
    {
     "name": "stdout",
     "output_type": "stream",
     "text": [
      "(1-1.1934709143053064e-33j) (6.123233995736766e-17+1j)\n"
     ]
    }
   ],
   "source": [
    "import matplotlib.pyplot as plt\n",
    "probs_1 = probs\n",
    "plt.bar(np.arange(0, 2**qubit_num), probs, 0.25)#, width, bottom, align)\n",
    "plt.xlabel(\"measured values\")\n",
    "plt.ylabel(\"probabilities\")\n",
    "plt.ylim(0,1)\n",
    "plt.xticks(np.arange(0, 2**qubit_num), rotation=70)\n",
    "plt.rcParams[\"figure.figsize\"] = (20,10)\n",
    "plt.savefig('1.png')\n",
    "plt.show()\n",
    "phase = np.log(eigs_u[0]) * 2** qubit_num / (1j*2*np.pi)\n",
    "print(phase, eigs_u[0])"
   ],
   "metadata": {
    "collapsed": false,
    "ExecuteTime": {
     "end_time": "2024-03-28T19:48:41.536192400Z",
     "start_time": "2024-03-28T19:48:41.273551100Z"
    }
   },
   "id": "689c205eb927a11f"
  },
  {
   "cell_type": "code",
   "execution_count": 189,
   "outputs": [
    {
     "name": "stdout",
     "output_type": "stream",
     "text": [
      "[0.004, 0.007, 0.024, 0.875, 0.055, 0.011, 0.005, 0.003, 0.002, 0.001, 0.001, 0.001, 0.001, 0.001, 0.0, 0.0, 0.0, 0.0, 0.0, 0.0, 0.0, 0.0, 0.0, 0.0, 0.0, 0.0, 0.001, 0.001, 0.001, 0.001, 0.001, 0.002]\n"
     ]
    }
   ],
   "source": [
    "print(probs)\n"
   ],
   "metadata": {
    "collapsed": false,
    "ExecuteTime": {
     "end_time": "2024-03-19T21:38:06.385359200Z",
     "start_time": "2024-03-19T21:38:06.369472900Z"
    }
   },
   "id": "bb360f3cac8b45a7"
  },
  {
   "cell_type": "code",
   "execution_count": 190,
   "outputs": [
    {
     "data": {
      "text/plain": "<Figure size 2000x1000 with 1 Axes>",
      "image/png": "[encoded data removed]"
     },
     "metadata": {},
     "output_type": "display_data"
    }
   ],
   "source": [
    "import matplotlib.pyplot as plt\n",
    "plt.bar(np.arange(0, 2**qubit_num), probs, 0.25)#, width, bottom, align)\n",
    "plt.xlabel(\"measured values\")\n",
    "plt.ylabel(\"probabilities\")\n",
    "plt.ylim(0,1)\n",
    "plt.xticks(np.arange(0, 2**qubit_num), rotation=70)\n",
    "# plt.show()\n",
    "plt.savefig('1_1_16.png')"
   ],
   "metadata": {
    "collapsed": false,
    "ExecuteTime": {
     "end_time": "2024-03-19T21:38:06.875065300Z",
     "start_time": "2024-03-19T21:38:06.388361300Z"
    }
   },
   "id": "221d201da906c17b"
  },
  {
   "cell_type": "code",
   "execution_count": 133,
   "outputs": [
    {
     "name": "stdout",
     "output_type": "stream",
     "text": [
      "0.0453125\n",
      "0.4837812499999999\n"
     ]
    }
   ],
   "source": [
    "print((1+0.45)/(2**qubit_num))\n",
    "total_val = 0\n",
    "for (prob, val) in zip(probs, np.arange(0,2**qubit_num-1)):\n",
    "    total_val += prob*val\n",
    "print(total_val/(2**qubit_num))"
   ],
   "metadata": {
    "collapsed": false,
    "ExecuteTime": {
     "end_time": "2024-02-16T14:41:13.276629400Z",
     "start_time": "2024-02-16T14:41:13.257039400Z"
    }
   },
   "id": "864fd9c7bcae61b4"
  },
  {
   "cell_type": "code",
   "execution_count": 18,
   "outputs": [
    {
     "data": {
      "text/plain": "<Figure size 640x480 with 1 Axes>",
      "image/png": "[encoded data removed]"
     },
     "metadata": {},
     "output_type": "display_data"
    }
   ],
   "source": [
    "import matplotlib.pyplot as plt\n",
    "plt.bar(np.arange(0, 2**qubit_num), probs, 0.25)#, width, bottom, align)\n",
    "plt.xlabel(\"measured values\")\n",
    "plt.ylabel(\"probabilities\")\n",
    "plt.ylim(0,1)\n",
    "plt.xticks(np.arange(0, 2**qubit_num), rotation=70)\n",
    "# plt.show()\n",
    "plt.savefig('1_1_32.png')"
   ],
   "metadata": {
    "collapsed": false,
    "ExecuteTime": {
     "end_time": "2024-02-15T13:52:30.481421400Z",
     "start_time": "2024-02-15T13:52:30.194673300Z"
    }
   },
   "id": "48a28ba5048a04a9"
  },
  {
   "cell_type": "code",
   "execution_count": 60,
   "outputs": [],
   "source": [
    "np.save('matrix.npy', U)"
   ],
   "metadata": {
    "collapsed": false,
    "ExecuteTime": {
     "end_time": "2024-02-16T22:35:49.188879700Z",
     "start_time": "2024-02-16T22:35:49.149226200Z"
    }
   },
   "id": "55c8608ea90b88a3"
  },
  {
   "cell_type": "code",
   "execution_count": 63,
   "outputs": [
    {
     "data": {
      "text/plain": "array([[ 0.05433577+0.00054101j,  0.16093934-0.11270894j,\n        -0.04026455-0.02919778j, ..., -0.17420091-0.08746285j,\n         0.1206118 -0.03384695j,  0.13217655-0.02888537j],\n       [ 0.00480864-0.02069883j, -0.02821047-0.11836573j,\n        -0.03857152+0.03371295j, ...,  0.09308712-0.0788484j ,\n         0.02979492-0.08296977j, -0.15429781+0.03160163j],\n       [-0.12589495-0.07846468j, -0.14991248+0.04956598j,\n        -0.08261694-0.11963914j, ...,  0.1396407 +0.00340284j,\n        -0.1827524 +0.2575682j , -0.02784559+0.00107123j],\n       ...,\n       [-0.01202071+0.10127694j,  0.07181069+0.0947539j ,\n        -0.0517062 +0.07645306j, ...,  0.01359018+0.15944115j,\n         0.04282644+0.2678029j ,  0.193259  -0.05940786j],\n       [-0.16773428+0.12074372j, -0.0353468 -0.17712848j,\n        -0.08313475-0.16990683j, ...,  0.07049509-0.0818754j ,\n        -0.03602325+0.1180767j , -0.18650437-0.04306881j],\n       [-0.09903159+0.23558741j,  0.08994122+0.04587866j,\n         0.11869232+0.08333819j, ...,  0.16998294-0.10579259j,\n        -0.03190828-0.14773307j,  0.00960656-0.01083973j]])"
     },
     "execution_count": 63,
     "metadata": {},
     "output_type": "execute_result"
    }
   ],
   "source": [
    "np.load('matrix.npy')\n",
    "    # a = data['a']"
   ],
   "metadata": {
    "collapsed": false,
    "ExecuteTime": {
     "end_time": "2024-02-16T22:38:00.708606500Z",
     "start_time": "2024-02-16T22:38:00.678349700Z"
    }
   },
   "id": "f56bf5c4ed199ade"
  },
  {
   "cell_type": "code",
   "execution_count": 19,
   "outputs": [],
   "source": [
    "np.save('vector.npy', vecs_u[0])"
   ],
   "metadata": {
    "collapsed": false,
    "ExecuteTime": {
     "end_time": "2024-02-18T23:10:15.812492200Z",
     "start_time": "2024-02-18T23:10:15.793271900Z"
    }
   },
   "id": "f988e32ef05ac983"
  },
  {
   "cell_type": "code",
   "execution_count": 44,
   "outputs": [
    {
     "name": "stdout",
     "output_type": "stream",
     "text": [
      "[-0.16706059-0.05424573j -0.04086089+0.1395898j   0.3189946 +0.j\n",
      "  0.11596863-0.11472272j  0.22100911-0.03253754j  0.1553115 -0.08565592j\n",
      "  0.22248404+0.01413891j  0.09444091-0.01975712j -0.18977445-0.09029238j\n",
      "  0.00740171+0.15395839j -0.04295367-0.23451072j -0.02299969+0.12786178j\n",
      "  0.04416289+0.10639188j -0.23044963+0.05698477j -0.0933401 -0.13530579j\n",
      " -0.05779189+0.06075411j -0.02868067+0.09343493j  0.07756668-0.01830009j\n",
      " -0.01039309-0.19023336j  0.03353968+0.06191891j  0.13232957+0.23751739j\n",
      "  0.18112312+0.2310836j  -0.08576062+0.12596132j -0.16430147-0.07179138j\n",
      "  0.18182348-0.0155366j   0.05974665-0.10180688j  0.06965111-0.083652j\n",
      " -0.03110053+0.1450202j  -0.167722  -0.0510913j  -0.11481964+0.02212165j\n",
      " -0.01591718-0.18151657j  0.03216987-0.03928581j]\n",
      "[-0.16706059-5.42457283e-02j -0.17235516-9.69128553e-03j\n",
      " -0.04370883+1.74378639e-02j  0.09008942-1.53158658e-01j\n",
      "  0.30500648+0.00000000e+00j  0.05155226+4.79613577e-02j\n",
      " -0.12917805-1.13244823e-01j  0.02461763-1.76996772e-01j\n",
      " -0.10687037+2.80794777e-01j -0.05013745-2.84755982e-01j\n",
      "  0.05157145+2.65883934e-01j  0.01220396+1.32845036e-01j\n",
      "  0.09693163-6.21019128e-02j  0.21521194-1.21049627e-01j\n",
      " -0.0122359 -6.11695824e-02j  0.17065696-1.51038174e-01j\n",
      " -0.253136  -1.06780511e-01j  0.1261487 -1.90303126e-03j\n",
      " -0.05967895+7.36672256e-02j  0.1130382 -2.73987147e-02j\n",
      " -0.10146985+1.19811266e-01j -0.01220559-3.83526068e-02j\n",
      " -0.0691473 -6.46203635e-02j  0.15442398-1.20317418e-01j\n",
      " -0.02587093+1.08978674e-02j -0.22576653-1.11552289e-01j\n",
      " -0.00564549+1.69321814e-02j  0.12743747+2.68372349e-04j\n",
      " -0.17158203-8.57851740e-03j  0.0032221 -2.67906537e-02j\n",
      "  0.06352451-1.54213901e-01j -0.14617414-5.83818272e-02j]\n"
     ]
    }
   ],
   "source": [
    "vec_in_file = np.load('vector.npy')\n",
    "U = np.load('matrix.npy')\n",
    "# U = unitary_group.rvs(2**qubit_num)\n",
    "eigs_u, vecs_u = np.linalg.eig(U)\n",
    "print(vecs_u[0])\n",
    "print(vecs_u[:,0])\n",
    "\n"
   ],
   "metadata": {
    "collapsed": false,
    "ExecuteTime": {
     "end_time": "2024-02-19T09:34:41.448355300Z",
     "start_time": "2024-02-19T09:34:41.432722500Z"
    }
   },
   "id": "8c4193a80a3ff2f"
  },
  {
   "cell_type": "code",
   "execution_count": 236,
   "outputs": [
    {
     "name": "stdout",
     "output_type": "stream",
     "text": [
      "[[ 4.70506929e-05+4.68872443e-04j  5.27165615e-04-6.76829983e-04j\n",
      "   3.39050197e-05+2.01972529e-04j]\n",
      " [-4.58700757e-04+3.92075946e-04j -1.96363459e-04-1.39749342e-04j\n",
      "   5.80649510e-06-7.60097274e-04j]\n",
      " [ 3.20329475e-04+5.57856576e-04j  1.32090289e-05+4.53579788e-04j\n",
      "   6.16541563e-04+1.23477222e-05j]]\n"
     ]
    }
   ],
   "source": [
    "from scipy.stats import unitary_group\n",
    "\n",
    "x = unitary_group.rvs(3)*0.001\n",
    "print(x)\n"
   ],
   "metadata": {
    "collapsed": false,
    "ExecuteTime": {
     "end_time": "2024-03-03T19:18:42.566482300Z",
     "start_time": "2024-03-03T19:18:42.546489900Z"
    }
   },
   "id": "ae4c5c12566e522b"
  },
  {
   "cell_type": "code",
   "execution_count": 243,
   "outputs": [
    {
     "ename": "ValueError",
     "evalue": "Input matrix is not unitary.",
     "output_type": "error",
     "traceback": [
      "\u001B[1;31m---------------------------------------------------------------------------\u001B[0m",
      "\u001B[1;31mValueError\u001B[0m                                Traceback (most recent call last)",
      "Cell \u001B[1;32mIn[243], line 2\u001B[0m\n\u001B[0;32m      1\u001B[0m \u001B[38;5;28;01mfrom\u001B[39;00m \u001B[38;5;21;01mqiskit\u001B[39;00m\u001B[38;5;21;01m.\u001B[39;00m\u001B[38;5;21;01mextensions\u001B[39;00m \u001B[38;5;28;01mimport\u001B[39;00m UnitaryGate\n\u001B[1;32m----> 2\u001B[0m \u001B[43mUnitaryGate\u001B[49m\u001B[43m(\u001B[49m\u001B[43mx\u001B[49m\u001B[43m)\u001B[49m\n",
      "File \u001B[1;32m~\\.conda\\envs\\quantum\\lib\\site-packages\\qiskit\\circuit\\library\\generalized_gates\\unitary.py:102\u001B[0m, in \u001B[0;36mUnitaryGate.__init__\u001B[1;34m(self, data, label, check_input)\u001B[0m\n\u001B[0;32m     99\u001B[0m \u001B[38;5;28;01mif\u001B[39;00m check_input:\n\u001B[0;32m    100\u001B[0m     \u001B[38;5;66;03m# Check input is unitary\u001B[39;00m\n\u001B[0;32m    101\u001B[0m     \u001B[38;5;28;01mif\u001B[39;00m \u001B[38;5;129;01mnot\u001B[39;00m is_unitary_matrix(data):\n\u001B[1;32m--> 102\u001B[0m         \u001B[38;5;28;01mraise\u001B[39;00m \u001B[38;5;167;01mValueError\u001B[39;00m(\u001B[38;5;124m\"\u001B[39m\u001B[38;5;124mInput matrix is not unitary.\u001B[39m\u001B[38;5;124m\"\u001B[39m)\n\u001B[0;32m    103\u001B[0m     \u001B[38;5;66;03m# Check input is N-qubit matrix\u001B[39;00m\n\u001B[0;32m    104\u001B[0m     \u001B[38;5;28;01mif\u001B[39;00m input_dim \u001B[38;5;241m!=\u001B[39m output_dim \u001B[38;5;129;01mor\u001B[39;00m \u001B[38;5;241m2\u001B[39m\u001B[38;5;241m*\u001B[39m\u001B[38;5;241m*\u001B[39mnum_qubits \u001B[38;5;241m!=\u001B[39m input_dim:\n",
      "\u001B[1;31mValueError\u001B[0m: Input matrix is not unitary."
     ]
    }
   ],
   "source": [
    "from qiskit.extensions import UnitaryGate\n",
    "UnitaryGate(x)\n"
   ],
   "metadata": {
    "collapsed": false,
    "ExecuteTime": {
     "end_time": "2024-03-03T19:18:45.419286700Z",
     "start_time": "2024-03-03T19:18:45.376479600Z"
    }
   },
   "id": "b687cd4a53c3612d"
  }
 ],
 "metadata": {
  "kernelspec": {
   "display_name": "Python (quantum)",
   "language": "python",
   "name": "quantum"
  },
  "language_info": {
   "codemirror_mode": {
    "name": "ipython",
    "version": 3
   },
   "file_extension": ".py",
   "mimetype": "text/x-python",
   "name": "python",
   "nbconvert_exporter": "python",
   "pygments_lexer": "ipython3",
   "version": "3.9.18"
  }
 },
 "nbformat": 4,
 "nbformat_minor": 5
}
