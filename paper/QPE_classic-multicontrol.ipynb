{
 "cells": [
  {
   "cell_type": "code",
   "execution_count": 1,
   "id": "2b6d6b56-4207-4e95-b8e8-512ad7598d1b",
   "metadata": {
    "tags": [],
    "ExecuteTime": {
     "end_time": "2024-01-26T13:35:41.534625100Z",
     "start_time": "2024-01-26T13:35:40.829725200Z"
    }
   },
   "outputs": [],
   "source": [
    "from os import environ\n",
    "environ['OMP_NUM_THREADS'] = '12'\n",
    "import numpy as np\n",
    "import scipy.linalg as la"
   ]
  },
  {
   "cell_type": "code",
   "execution_count": 2,
   "id": "1b67046d-7f64-4116-b993-49db3c2008c1",
   "metadata": {
    "ExecuteTime": {
     "end_time": "2024-01-26T13:35:41.580763300Z",
     "start_time": "2024-01-26T13:35:41.536825400Z"
    }
   },
   "outputs": [],
   "source": [
    "qubit_num = 5 #число кубитов для вычисления собственного значения\n",
    "unitary_eigs = np.repeat(\n",
    "    a=[la.expm(1j*2*np.pi*i/(2**qubit_num)) for i in range(2**qubit_num)],\n",
    "    repeats=1)\n",
    "hermitian_eigs = [np.log(i) for i in unitary_eigs]\n",
    "A = np.diag(hermitian_eigs).astype('complex')\n",
    "U = la.expm(1*A)\n",
    "eigs_u, vecs_u = np.linalg.eig(U)"
   ]
  },
  {
   "cell_type": "code",
   "execution_count": 3,
   "id": "279ac6b6-9031-40e8-a908-dde77ec0d2a5",
   "metadata": {
    "ExecuteTime": {
     "end_time": "2024-01-26T13:35:41.595632200Z",
     "start_time": "2024-01-26T13:35:41.581761900Z"
    }
   },
   "outputs": [],
   "source": [
    "#states\n",
    "state_zero = np.array([[1.0],[0.0]])\n",
    "state_one = np.array([[0.0],[1.0]])\n",
    "#projectors\n",
    "P0 = np.dot(state_zero, state_zero.T)\n",
    "P1 = np.dot(state_one, state_one.T)"
   ]
  },
  {
   "cell_type": "code",
   "execution_count": 4,
   "id": "d66edea0-7fb1-4f06-8b6c-7960923fd890",
   "metadata": {
    "ExecuteTime": {
     "end_time": "2024-01-26T13:35:41.615741800Z",
     "start_time": "2024-01-26T13:35:41.596775400Z"
    }
   },
   "outputs": [],
   "source": [
    "def multi_kron(*args):\n",
    "    ret = np.array([[1.0]]).astype('complex')\n",
    "    for q in args: \n",
    "        ret = np.kron(ret, q)\n",
    "    return ret\n",
    "\n",
    "def multi_dot(*args):\n",
    "    ret = np.eye(np.shape(args[0])[0]).astype('complex')\n",
    "    for q in args:\n",
    "        ret = np.dot(ret, q)\n",
    "    return ret"
   ]
  },
  {
   "cell_type": "code",
   "execution_count": 5,
   "id": "23ca9b91-948b-4061-9416-1aaa2f212325",
   "metadata": {
    "ExecuteTime": {
     "end_time": "2024-01-26T13:35:41.628509Z",
     "start_time": "2024-01-26T13:35:41.618767300Z"
    }
   },
   "outputs": [],
   "source": [
    "def H():\n",
    "    return 1/np.sqrt(2) * np.array([[1, 1],\n",
    "                                    [1, -1]]).astype('complex')\n",
    "def X():\n",
    "    return np.array([[0, 1],\n",
    "                     [1, 0]]).astype('complex')\n",
    "def Rz(phi):\n",
    "    return np.array([[np.exp(-1j*phi/2), 0],\n",
    "                     [0, np.exp(1j*phi/2)]]).astype('complex')\n",
    "def P(phi):\n",
    "    return np.array([[1, 0],\n",
    "                     [0, np.exp(1j*phi)]]).astype('complex')\n",
    "def Ry(theta):\n",
    "    return np.array([[np.cos(theta/2), -np.sin(theta/2)],\n",
    "                     [np.sin(theta/2), np.cos(theta/2)]]).astype('complex')\n",
    "def I():\n",
    "    return np.array([[1, 0],\n",
    "                     [0, 1]]).astype('complex')\n",
    "\n",
    "#for some reson CONTROL and TARGET are changed\n",
    "def control(control_q, target_q, n_of_qubits, operator):\n",
    "    list_of_ops_left = []\n",
    "    list_of_ops_right = []\n",
    "    stop = False\n",
    "    for i in range(n_of_qubits):\n",
    "        if i in control_q:\n",
    "            list_of_ops_left.append(P0)\n",
    "            list_of_ops_right.append(P1)\n",
    "        elif i in target_q:\n",
    "            if np.shape(U) != (2, 2):\n",
    "                if not stop:\n",
    "                    for _ in range(len(target_q)):\n",
    "                        list_of_ops_left.append(I())\n",
    "                    list_of_ops_right.append(operator)\n",
    "                    stop = True\n",
    "            else:\n",
    "                list_of_ops_left.append(I())\n",
    "                list_of_ops_right.append(operator)\n",
    "        else:\n",
    "            list_of_ops_left.append(I())\n",
    "            list_of_ops_right.append(I())\n",
    "    return multi_kron(*list_of_ops_left) + multi_kron(*list_of_ops_right).astype('complex')"
   ]
  },
  {
   "cell_type": "code",
   "execution_count": 6,
   "id": "bbe27a0c-55e2-43c9-839c-9117bfee933d",
   "metadata": {
    "ExecuteTime": {
     "end_time": "2024-01-26T13:35:41.652938700Z",
     "start_time": "2024-01-26T13:35:41.629510Z"
    }
   },
   "outputs": [],
   "source": [
    "#eigenvalues to phases\n",
    "def eigenvalues_to_phases(n, u):\n",
    "    repetitions = 1\n",
    "    ops = []\n",
    "    target_qubits_amount = int(np.log2(u.shape[0]))\n",
    "    for i in range(0, n):\n",
    "        for _ in range(repetitions):\n",
    "            ops.append(control(control_q=[target_qubits_amount-1+n-i],\n",
    "                               target_q=[idx for idx in range(target_qubits_amount)],\n",
    "                               n_of_qubits=n+target_qubits_amount,\n",
    "                               operator=u**1\n",
    "                               ))\n",
    "        repetitions *= 2\n",
    "    return multi_dot(*ops)"
   ]
  },
  {
   "cell_type": "code",
   "execution_count": 7,
   "outputs": [],
   "source": [
    "from qiskit import QuantumCircuit, Aer, execute\n",
    "def swap(n_of_qubs,u):\n",
    "    \"\"\"n-qubit QFTdagger the first n qubits in circ\"\"\"\n",
    "    # Don't forget the Swaps!\n",
    "    target_qubits_amount = int(np.log2(u.shape[0]))\n",
    "    qc = QuantumCircuit(n_of_qubs+target_qubits_amount)\n",
    "    for qubit in range(n_of_qubs//2): #n//2\n",
    "        qc.swap(qubit, n_of_qubs-qubit-1)\n",
    "    backend = Aer.get_backend('unitary_simulator')\n",
    "    job = execute(qc, backend)\n",
    "    result = job.result()\n",
    "    op = result.get_unitary(qc).data\n",
    "    return op\n",
    "\n",
    "def iqft(n, u):\n",
    "    ops = []\n",
    "    target_qubits_amount = int(np.log2(u.shape[1]))\n",
    "    hadamards = np.array([I() for _ in range(n+target_qubits_amount)])\n",
    "    for j in range(n): \n",
    "        for m in range(j):\n",
    "            ops.append(\n",
    "                control(\n",
    "                control_q=[target_qubits_amount - 1 + n - m],\n",
    "                target_q=[target_qubits_amount - 1 + n - j],\n",
    "                n_of_qubits=n + target_qubits_amount,\n",
    "                operator=P(-np.pi/float(2**(j-m))),\n",
    "                )\n",
    "            )\n",
    "        hadamards_ = hadamards.copy()\n",
    "        hadamards_[target_qubits_amount - 1 + n - j] = H()\n",
    "        ops.append(multi_kron(*hadamards_))\n",
    "    return multi_dot(*ops)"
   ],
   "metadata": {
    "collapsed": false,
    "ExecuteTime": {
     "end_time": "2024-01-26T13:35:44.363626700Z",
     "start_time": "2024-01-26T13:35:41.642664700Z"
    }
   },
   "id": "4d8fded3e10abe90"
  },
  {
   "cell_type": "code",
   "execution_count": 8,
   "id": "6528c06c-5e30-40fe-aa45-460dbfb4df9b",
   "metadata": {
    "ExecuteTime": {
     "end_time": "2024-01-26T13:35:48.799550600Z",
     "start_time": "2024-01-26T13:35:44.365472600Z"
    }
   },
   "outputs": [],
   "source": [
    "prime_state = multi_kron(\n",
    "    np.array([[el] for el in vecs_u[0]]),\n",
    "    *[state_zero for _ in range(qubit_num)])\n",
    "#state preparation\n",
    "state_prep = multi_kron(*[I() for _ in range(int(np.log2(len(vecs_u[0]))))],\n",
    "                        *[H() for _ in range(qubit_num)])\n",
    "#calculations\n",
    "eigs_to_phases = eigenvalues_to_phases(qubit_num, U)\n",
    "iqft_matrix = iqft(qubit_num, U)\n",
    "ift = multi_dot(swap(qubit_num, U), iqft_matrix)\n",
    "final_u = multi_dot(ift, eigs_to_phases, state_prep)\n",
    "final_state = np.dot(final_u, prime_state)\n",
    "rho = np.dot(final_state, np.conj(final_state).T)\n",
    "# vecs_u"
   ]
  },
  {
   "cell_type": "code",
   "execution_count": 9,
   "outputs": [
    {
     "name": "stdout",
     "output_type": "stream",
     "text": [
      "calculated eigenvalue is [1.+0.j]\n",
      "real eigenvalus are [ 1.   +0.j     0.981+0.195j  0.924+0.383j  0.831+0.556j  0.707+0.707j\n",
      "  0.556+0.831j  0.383+0.924j  0.195+0.981j  0.   +1.j    -0.195+0.981j\n",
      " -0.383+0.924j -0.556+0.831j -0.707+0.707j -0.831+0.556j -0.924+0.383j\n",
      " -0.981+0.195j -1.   +0.j    -0.981-0.195j -0.924-0.383j -0.831-0.556j\n",
      " -0.707-0.707j -0.556-0.831j -0.383-0.924j -0.195-0.981j -0.   -1.j\n",
      "  0.195-0.981j  0.383-0.924j  0.556-0.831j  0.707-0.707j  0.831-0.556j\n",
      "  0.924-0.383j  0.981-0.195j]\n",
      "all probabilitis [(1+0j), -0j, -0j, 0j, -0j, 0j, -0j, -0j, 0j, 0j, 0j, -0j, -0j, -0j, -0j, -0j, 0j, -0j, -0j, 0j, 0j, 0j, 0j, 0j, 0j, 0j, 0j, -0j, -0j, -0j, -0j, 0j]\n"
     ]
    }
   ],
   "source": [
    "max_num = 2**qubit_num\n",
    "max_prob = 0\n",
    "eigenvalue = -9999\n",
    "probs = []\n",
    "for i in range(max_num):\n",
    "    ops = [I() for _ in range(int(np.log2(len(vecs_u[0]))))]\n",
    "    bin_int = \"{0:b}\".format(i).zfill(qubit_num)\n",
    "    ops.extend([P0 if bit == '0' else P1 for bit in bin_int])\n",
    "    proj = multi_kron(*ops)\n",
    "    prob = np.trace(np.dot(proj, rho))\n",
    "    probs.append(np.round(prob,3))\n",
    "    if prob > max_prob:\n",
    "        max_prob = prob\n",
    "        eigenvalue = la.expm(1j*2*np.pi*i/(2**qubit_num))\n",
    "print(f'calculated eigenvalue is {np.round(eigenvalue, 3)[0]}')\n",
    "print(f'real eigenvalus are {np.round(eigs_u, 3)}')\n",
    "print(f'all probabilitis {probs}')"
   ],
   "metadata": {
    "collapsed": false,
    "ExecuteTime": {
     "end_time": "2024-01-26T13:35:50.556754300Z",
     "start_time": "2024-01-26T13:35:48.801561700Z"
    }
   },
   "id": "77e84101c2c31c00"
  }
 ],
 "metadata": {
  "kernelspec": {
   "display_name": "Python (quantum)",
   "language": "python",
   "name": "quantum"
  },
  "language_info": {
   "codemirror_mode": {
    "name": "ipython",
    "version": 3
   },
   "file_extension": ".py",
   "mimetype": "text/x-python",
   "name": "python",
   "nbconvert_exporter": "python",
   "pygments_lexer": "ipython3",
   "version": "3.9.18"
  }
 },
 "nbformat": 4,
 "nbformat_minor": 5
}
