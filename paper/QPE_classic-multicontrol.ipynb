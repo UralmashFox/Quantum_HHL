{
 "cells": [
  {
   "cell_type": "code",
   "execution_count": 1,
   "id": "2b6d6b56-4207-4e95-b8e8-512ad7598d1b",
   "metadata": {
    "tags": [],
    "ExecuteTime": {
     "end_time": "2024-01-24T14:52:59.616916200Z",
     "start_time": "2024-01-24T14:52:59.383875700Z"
    }
   },
   "outputs": [],
   "source": [
    "from os import environ\n",
    "environ['OMP_NUM_THREADS'] = '12'\n",
    "import numpy as np\n",
    "import scipy.linalg as la"
   ]
  },
  {
   "cell_type": "code",
   "execution_count": 2,
   "id": "1b67046d-7f64-4116-b993-49db3c2008c1",
   "metadata": {
    "ExecuteTime": {
     "end_time": "2024-01-24T14:53:01.294822100Z",
     "start_time": "2024-01-24T14:53:01.279748200Z"
    }
   },
   "outputs": [],
   "source": [
    "hermitian_eigs = [-7.888096189406186e-10+0.19634953895063953j,\n",
    "                  -3.225207111789145e-09+0.39269908047469393j,\n",
    "                  -3.5920975212346135e-09+0.5890486213166044j,\n",
    "                  -1.6780315776190748e-09+0.7853981633974483j]\n",
    "\n",
    "\n",
    "A = np.diag(hermitian_eigs).astype('complex')\n",
    "U = la.expm(1*A)\n",
    "eigs_u, vecs_u = np.linalg.eig(U)"
   ]
  },
  {
   "cell_type": "code",
   "execution_count": 3,
   "id": "279ac6b6-9031-40e8-a908-dde77ec0d2a5",
   "metadata": {
    "ExecuteTime": {
     "end_time": "2024-01-24T14:53:01.896707600Z",
     "start_time": "2024-01-24T14:53:01.876798200Z"
    }
   },
   "outputs": [],
   "source": [
    "#states\n",
    "state_zero = np.array([[1.0],[0.0]])\n",
    "state_one = np.array([[0.0],[1.0]])\n",
    "#projectors\n",
    "P0 = np.dot(state_zero, state_zero.T)\n",
    "P1 = np.dot(state_one, state_one.T)"
   ]
  },
  {
   "cell_type": "code",
   "execution_count": 4,
   "id": "d66edea0-7fb1-4f06-8b6c-7960923fd890",
   "metadata": {
    "ExecuteTime": {
     "end_time": "2024-01-24T14:53:02.427270300Z",
     "start_time": "2024-01-24T14:53:02.406806900Z"
    }
   },
   "outputs": [],
   "source": [
    "def multi_kron(*args):\n",
    "    ret = np.array([[1.0]]).astype('complex')\n",
    "    for q in args: \n",
    "        ret = np.kron(ret, q)\n",
    "    return ret\n",
    "\n",
    "def multi_dot(*args):\n",
    "    ret = np.eye(np.shape(args[0])[0]).astype('complex')\n",
    "    for q in args:\n",
    "        ret = np.dot(ret, q)\n",
    "    return ret"
   ]
  },
  {
   "cell_type": "code",
   "execution_count": 5,
   "id": "23ca9b91-948b-4061-9416-1aaa2f212325",
   "metadata": {
    "ExecuteTime": {
     "end_time": "2024-01-24T14:53:02.861116Z",
     "start_time": "2024-01-24T14:53:02.842277100Z"
    }
   },
   "outputs": [],
   "source": [
    "def H():\n",
    "    return 1/np.sqrt(2) * np.array([[1, 1],\n",
    "                                    [1, -1]]).astype('complex')\n",
    "def X():\n",
    "    return np.array([[0, 1],\n",
    "                     [1, 0]]).astype('complex')\n",
    "def Rz(phi):\n",
    "    return np.array([[np.exp(-1j*phi/2), 0],\n",
    "                     [0, np.exp(1j*phi/2)]]).astype('complex')\n",
    "def P(phi):\n",
    "    return np.array([[1, 0],\n",
    "                     [0, np.exp(1j*phi)]]).astype('complex')\n",
    "def Ry(theta):\n",
    "    return np.array([[np.cos(theta/2), -np.sin(theta/2)],\n",
    "                     [np.sin(theta/2), np.cos(theta/2)]]).astype('complex')\n",
    "def I():\n",
    "    return np.array([[1, 0],\n",
    "                     [0, 1]]).astype('complex')\n",
    "\n",
    "#for some reson CONTROL and TARGET are changed\n",
    "def control(control_q, target_q, n_of_qubits, operator):\n",
    "    list_of_ops_left = []\n",
    "    list_of_ops_right = []\n",
    "    stop = False\n",
    "    for i in range(n_of_qubits):\n",
    "        if i in control_q:\n",
    "            list_of_ops_left.append(P0)\n",
    "            list_of_ops_right.append(P1)\n",
    "        elif i in target_q:\n",
    "            if np.shape(U) != (2, 2):\n",
    "                if not stop:\n",
    "                    for _ in range(len(target_q)):\n",
    "                        list_of_ops_left.append(I())\n",
    "                    list_of_ops_right.append(operator)\n",
    "                    stop = True\n",
    "            else:\n",
    "                list_of_ops_left.append(I())\n",
    "                list_of_ops_right.append(operator)\n",
    "        else:\n",
    "            list_of_ops_left.append(I())\n",
    "            list_of_ops_right.append(I())\n",
    "    return multi_kron(*list_of_ops_left) + multi_kron(*list_of_ops_right).astype('complex')"
   ]
  },
  {
   "cell_type": "code",
   "execution_count": 7,
   "id": "bbe27a0c-55e2-43c9-839c-9117bfee933d",
   "metadata": {
    "ExecuteTime": {
     "end_time": "2024-01-24T14:53:04.038270900Z",
     "start_time": "2024-01-24T14:53:04.029395700Z"
    }
   },
   "outputs": [],
   "source": [
    "#eigenvalues to phases\n",
    "def eigenvalues_to_phases(n, u):\n",
    "    repetitions = 1\n",
    "    ops = []\n",
    "    for i in range(0, n):\n",
    "        for _ in range(repetitions):\n",
    "            ops.append(control(control_q=[int(np.log2(u.shape[0])-1)+n-i],\n",
    "                               target_q=[0, 1],\n",
    "                               n_of_qubits=n+2,\n",
    "                               operator=u**1\n",
    "                               ))\n",
    "        repetitions *= 2\n",
    "    return multi_dot(*ops)"
   ]
  },
  {
   "cell_type": "code",
   "execution_count": 8,
   "outputs": [],
   "source": [
    "from qiskit import QuantumCircuit, Aer, execute\n",
    "def swap(n_of_qubs):\n",
    "    \"\"\"n-qubit QFTdagger the first n qubits in circ\"\"\"\n",
    "    # Don't forget the Swaps!\n",
    "    qc = QuantumCircuit(n_of_qubs+2)\n",
    "    for qubit in range(n_of_qubs//2): #n//2\n",
    "        qc.swap(qubit, n_of_qubs-qubit-1)\n",
    "    backend = Aer.get_backend('unitary_simulator')\n",
    "    job = execute(qc, backend)\n",
    "    result = job.result()\n",
    "    op = result.get_unitary(qc).data\n",
    "    return op\n",
    "\n",
    "def iqft(n, u):\n",
    "    ops = []\n",
    "    hadamards = np.array([I() for _ in range(n+2)])\n",
    "    for j in range(n): #n\n",
    "        for m in range(j):\n",
    "            ops.append(\n",
    "                control(\n",
    "                control_q=[int(np.log2(u.shape[0])) + n - m - 1],\n",
    "                target_q=[int(np.log2(u.shape[0])) + n - j - 1],\n",
    "                n_of_qubits=n+2,\n",
    "                operator=P(-np.pi/float(2**(j-m))),\n",
    "                )\n",
    "            )\n",
    "        hadamards_ = hadamards.copy()\n",
    "        hadamards_[int(np.log2(u.shape[0])) + n - j - 1] = H()\n",
    "        ops.append(multi_kron(*hadamards_))\n",
    "    return multi_dot(*ops)"
   ],
   "metadata": {
    "collapsed": false,
    "ExecuteTime": {
     "end_time": "2024-01-24T14:53:06.288162Z",
     "start_time": "2024-01-24T14:53:04.820949Z"
    }
   },
   "id": "4d8fded3e10abe90"
  },
  {
   "cell_type": "code",
   "execution_count": 17,
   "id": "6528c06c-5e30-40fe-aa45-460dbfb4df9b",
   "metadata": {
    "ExecuteTime": {
     "end_time": "2024-01-24T14:53:47.668074100Z",
     "start_time": "2024-01-24T14:53:47.596103100Z"
    }
   },
   "outputs": [],
   "source": [
    "qubit_num = 5\n",
    "prime_state = multi_kron(\n",
    "    np.array([[el] for el in vecs_u[3]]),\n",
    "    *[state_zero for _ in range(qubit_num)])\n",
    "#state preparation\n",
    "state_prep = multi_kron(*[I() for _ in range(int(np.log2(len(vecs_u[0]))))],\n",
    "                        *[H() for _ in range(qubit_num)])\n",
    "#calculations\n",
    "eigs_to_phases = eigenvalues_to_phases(qubit_num, U)\n",
    "iqft_matrix = iqft(qubit_num, U)\n",
    "ift = multi_dot(swap(qubit_num), iqft_matrix)\n",
    "final_u = multi_dot(ift, eigs_to_phases, state_prep)\n",
    "final_state = np.dot(final_u, prime_state)\n",
    "rho = np.dot(final_state, np.conj(final_state).T)\n",
    "# np.round(rho,3)"
   ]
  },
  {
   "cell_type": "code",
   "execution_count": 18,
   "outputs": [
    {
     "name": "stdout",
     "output_type": "stream",
     "text": [
      "calculated eigenvalue is [0.707+0.707j]\n",
      "real eigenvalus are [0.981+0.195j 0.924+0.383j 0.831+0.556j 0.707+0.707j]\n"
     ]
    }
   ],
   "source": [
    "max_num = 2**qubit_num\n",
    "max_prob = 0\n",
    "eigenvalue = -9999\n",
    "for i in range(max_num):\n",
    "    ops = [I() for _ in range(int(np.log2(len(vecs_u[0]))))]\n",
    "    bin_int = \"{0:b}\".format(i).zfill(qubit_num)\n",
    "    ops.extend([P0 if bit == '0' else P1 for bit in bin_int])\n",
    "    proj = multi_kron(*ops)\n",
    "    prob = np.trace(np.dot(proj, rho))\n",
    "    if prob > max_prob:\n",
    "        max_prob = prob\n",
    "        eigenvalue = la.expm(1j*2*np.pi*i/(2**qubit_num))\n",
    "print(f'calculated eigenvalue is {np.round(eigenvalue, 3)[0]}')\n",
    "print(f'real eigenvalus are {np.round(eigs_u, 3)}')"
   ],
   "metadata": {
    "collapsed": false,
    "ExecuteTime": {
     "end_time": "2024-01-24T14:53:48.173554300Z",
     "start_time": "2024-01-24T14:53:48.115378600Z"
    }
   },
   "id": "77e84101c2c31c00"
  }
 ],
 "metadata": {
  "kernelspec": {
   "display_name": "Python (quantum)",
   "language": "python",
   "name": "quantum"
  },
  "language_info": {
   "codemirror_mode": {
    "name": "ipython",
    "version": 3
   },
   "file_extension": ".py",
   "mimetype": "text/x-python",
   "name": "python",
   "nbconvert_exporter": "python",
   "pygments_lexer": "ipython3",
   "version": "3.9.18"
  }
 },
 "nbformat": 4,
 "nbformat_minor": 5
}
