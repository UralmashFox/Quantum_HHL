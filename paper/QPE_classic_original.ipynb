{
 "cells": [
  {
   "cell_type": "code",
   "execution_count": 1,
   "id": "2b6d6b56-4207-4e95-b8e8-512ad7598d1b",
   "metadata": {},
   "outputs": [],
   "source": [
    "import numpy as np\n",
    "from scipy.linalg import expm, sinm, cosm\n",
    "import qiskit.quantum_info as qi"
   ]
  },
  {
   "cell_type": "code",
   "execution_count": 2,
   "id": "1b67046d-7f64-4116-b993-49db3c2008c1",
   "metadata": {},
   "outputs": [],
   "source": [
    "A = np.array([\n",
    "    [1.5, 0.5],\n",
    "    [0.5, 1.5],\n",
    "    ]).astype('complex')"
   ]
  },
  {
   "cell_type": "code",
   "execution_count": 3,
   "id": "279ac6b6-9031-40e8-a908-dde77ec0d2a5",
   "metadata": {},
   "outputs": [],
   "source": [
    "#states\n",
    "state_zero = np.array([[1.0],[0.0]])\n",
    "state_one = np.array([[0.0],[1.0]])\n",
    "#projectors\n",
    "P0 = np.dot(state_zero, state_zero.T)\n",
    "P1 = np.dot(state_one, state_one.T)"
   ]
  },
  {
   "cell_type": "code",
   "execution_count": 4,
   "id": "d66edea0-7fb1-4f06-8b6c-7960923fd890",
   "metadata": {},
   "outputs": [],
   "source": [
    "def multi_kron(*args):\n",
    "    ret = np.array([[1.0]]).astype('complex')\n",
    "    for q in args:\n",
    "        ret = np.kron(ret, q)\n",
    "    return ret\n",
    "\n",
    "def multi_dot(*args):\n",
    "    ret = np.eye(np.shape(args[0])[0]).astype('complex')\n",
    "    for q in args:\n",
    "        ret = np.dot(ret, q)\n",
    "    return ret"
   ]
  },
  {
   "cell_type": "code",
   "execution_count": 5,
   "id": "23ca9b91-948b-4061-9416-1aaa2f212325",
   "metadata": {},
   "outputs": [],
   "source": [
    "def U(A, phi):\n",
    "    return expm(-1j*A*phi).astype('complex')\n",
    "\n",
    "def H():\n",
    "    return 1/np.sqrt(2) * np.array([[1, 1],\n",
    "                                    [1, -1]]).astype('complex')\n",
    "def X():\n",
    "    return np.array([[0, 1],\n",
    "                     [1, 0]]).astype('complex')\n",
    "def Rz(phi):\n",
    "    return np.array([[np.exp(-1j*phi/2), 0],\n",
    "                     [0, np.exp(1j*phi/2)]]).astype('complex')\n",
    "def Ry(theta):\n",
    "    return np.array([[np.cos(theta/2), -np.sin(theta/2)],\n",
    "                     [np.sin(theta/2), np.cos(theta/2)]]).astype('complex')\n",
    "def I():\n",
    "    return np.array([[1, 0],\n",
    "                     [0, 1]]).astype('complex')\n",
    "\n",
    "#for some reson CONTROL and TARGET are changed\n",
    "def control(control_q, target_q, n_of_qubits, operator):\n",
    "    list_of_ops_left = []\n",
    "    list_of_ops_right = []\n",
    "    for i in range(n_of_qubits):\n",
    "        if i == control_q:\n",
    "            list_of_ops_left.append(P0)\n",
    "            list_of_ops_right.append(P1)\n",
    "        elif i == target_q:\n",
    "            list_of_ops_left.append(I())\n",
    "            list_of_ops_right.append(operator)\n",
    "        else:\n",
    "            list_of_ops_left.append(I())\n",
    "            list_of_ops_right.append(I())\n",
    "    return multi_kron(*list_of_ops_left) + multi_kron(*list_of_ops_right).astype('complex')"
   ]
  },
  {
   "cell_type": "code",
   "execution_count": 6,
   "id": "d132e360-6413-47dd-be25-1fdcf1aa5e1d",
   "metadata": {},
   "outputs": [],
   "source": [
    "#state preparation\n",
    "state = multi_kron(I(), H(), H(), H(), X())\n",
    "np.round(state, 3)\n",
    "#eigenvalues to phases\n",
    "etp_one = control(control_q=3,\n",
    "                  target_q=4,\n",
    "                  n_of_qubits=5,\n",
    "                  operator=U(A, np.pi/2))\n",
    "etp_two = control(control_q=2,\n",
    "                  target_q=4,\n",
    "                  n_of_qubits=5,\n",
    "                  operator=U(A, np.pi/4))\n",
    "etp_three = control(control_q=1,\n",
    "                  target_q=4,\n",
    "                  n_of_qubits=5,\n",
    "                  operator=U(A, np.pi/8))\n",
    "# print(np.round(multi_dot(state, etp_one, etp_two, etp_three), 3))\n",
    "#Fourier transform\n",
    "ft_one = multi_kron(I(), H(), I(), I(), I())\n",
    "ft_two = control(control_q=1,\n",
    "                 target_q=3,\n",
    "                 n_of_qubits=5,\n",
    "                 operator=Rz(-np.pi/4))\n",
    "ft_three = control(control_q=1,\n",
    "                   target_q=2,\n",
    "                   n_of_qubits=5,\n",
    "                   operator=Rz(-np.pi/2))\n",
    "ft_four = multi_kron(I(), I(), H(), I(), I())\n",
    "ft_five = control(control_q=2,\n",
    "                  target_q=3,\n",
    "                  n_of_qubits=5,\n",
    "                  operator=Rz(-np.pi/2))\n",
    "ft_six = multi_kron(I(), I(), I(), H(), I())\n",
    "# print(np.round(multi_dot(state,\n",
    "#                          etp_one, etp_two, etp_three,\n",
    "#                          ft_one, ft_two, ft_three, ft_four, ft_five, ft_six), 3))\n",
    "# #Ancilla qubit\n",
    "aq_one = control(control_q=1,\n",
    "                 target_q=0,\n",
    "                 n_of_qubits=5,\n",
    "                 operator=Ry(np.pi/2)) \n",
    "aq_two = control(control_q=2,\n",
    "                 target_q=0,\n",
    "                 n_of_qubits=5,\n",
    "                 operator=Ry(np.pi/4))\n",
    "aq_three = control(control_q=3,\n",
    "                   target_q=0,\n",
    "                   n_of_qubits=5,\n",
    "                   operator=Ry(np.pi/8)) \n",
    "# print(np.round(multi_dot(\n",
    "#     aq_three, aq_two, aq_one,\n",
    "#     ft_six, ft_five, ft_four, ft_three, ft_two, ft_one,\n",
    "#     etp_three, etp_two, etp_one,\n",
    "#     state), 3))\n",
    "# #inverse_fourier\n",
    "if_one = multi_kron(I(), I(), I(), H(), I())\n",
    "if_two = control(\n",
    "    control_q=2,\n",
    "    target_q=3,\n",
    "    n_of_qubits=5,\n",
    "    operator=Rz(np.pi/2))\n",
    "if_three = multi_kron(I(), I(), H(), I(), I())\n",
    "if_four = control(control_q=1,\n",
    "                  target_q=3,\n",
    "                  n_of_qubits=5,\n",
    "                  operator=Rz(np.pi/4))\n",
    "if_five = control(control_q=1,\n",
    "                  target_q=2,\n",
    "                  n_of_qubits=5,\n",
    "                  operator=Rz(np.pi/2))\n",
    "if_six = multi_kron(I(), I(), I(), H(), I())\n",
    "if_seven = multi_kron(I(), H(), I(), I(), I())\n",
    "# print(np.round(multi_dot(\n",
    "#     if_seven, if_six, if_five, if_four, if_three, if_two, if_one,\n",
    "#     aq_three, aq_two, aq_one,\n",
    "#     ft_six, ft_five, ft_four, ft_three, ft_two, ft_one,\n",
    "#     etp_three, etp_two, etp_one,\n",
    "#     state), 3))\n",
    "# #phases to eigenvalues\n",
    "pte_one = control(control_q=1,\n",
    "                  target_q=4,\n",
    "                  n_of_qubits=5,\n",
    "                  operator=U(A, -np.pi/8))\n",
    "pte_two = control(control_q=2,\n",
    "                  target_q=4,\n",
    "                  n_of_qubits=5,\n",
    "                  operator=U(A, -np.pi/4))\n",
    "pte_three = control(control_q=3,\n",
    "                    target_q=4,\n",
    "                    n_of_qubits=5,\n",
    "                    operator=U(A, -np.pi/2))\n",
    "final_u = multi_dot(\n",
    "    pte_three, pte_two, pte_one,\n",
    "    if_seven, if_six, if_five, if_four, if_three, if_two, if_one,\n",
    "    aq_three, aq_two, aq_one,\n",
    "    ft_six, ft_five, ft_four, ft_three, ft_two, ft_one,\n",
    "    etp_three, etp_two, etp_one,\n",
    "    state)\n",
    "# print(np.round(final_u, 3))"
   ]
  },
  {
   "cell_type": "code",
   "execution_count": 7,
   "id": "af7afe30-3925-43bf-8989-fdf38a8ee848",
   "metadata": {},
   "outputs": [
    {
     "name": "stdout",
     "output_type": "stream",
     "text": [
      "[[ 0.03518-0.j      -0.03043-0.00078j -0.00062-0.02543j ...\n",
      "  -0.00823-0.01336j  0.01384-0.01616j  0.03618-0.00335j]\n",
      " [-0.03043+0.00078j  0.02634+0.j       0.0011 +0.02198j ...\n",
      "   0.00741+0.01137j -0.01161+0.01429j -0.03122+0.0037j ]\n",
      " [-0.00062+0.02543j  0.0011 -0.02198j  0.01839+0.j      ...\n",
      "   0.0098 -0.00571j  0.01144+0.01029j  0.00179+0.02621j]\n",
      " ...\n",
      " [-0.00823+0.01336j  0.00741-0.01137j  0.0098 +0.00571j ...\n",
      "   0.00699-0.j       0.0029 +0.00903j -0.00719+0.01452j]\n",
      " [ 0.01384+0.01616j -0.01161-0.01429j  0.01144-0.01029j ...\n",
      "   0.0029 -0.00903j  0.01287+0.j       0.01577+0.0153j ]\n",
      " [ 0.03618+0.00335j -0.03122-0.0037j   0.00179-0.02621j ...\n",
      "  -0.00719-0.01452j  0.01577-0.0153j   0.03753+0.j     ]] \n",
      "\n"
     ]
    }
   ],
   "source": [
    "prime_state = multi_kron(state_zero, state_zero, state_zero, state_zero, state_zero)\n",
    "final_state = np.dot(final_u, prime_state)\n",
    "rho = np.dot(final_state, np.conj(final_state).T)\n",
    "print(np.round(rho, 5), '\\n')"
   ]
  },
  {
   "cell_type": "code",
   "execution_count": 8,
   "id": "1fde2c16-b3a4-464e-bf97-0cfef40db010",
   "metadata": {},
   "outputs": [
    {
     "name": "stdout",
     "output_type": "stream",
     "text": [
      "(0.615+0j)\n",
      "(0.218+0j)\n",
      "(0.126-0j)\n",
      "(0.041+0j)\n"
     ]
    }
   ],
   "source": [
    "proj = multi_kron(P0, I(), I(), I(), P1)\n",
    "prob = np.trace(np.dot(proj, rho))\n",
    "print(np.round(prob, 3))\n",
    "proj = multi_kron(P0, I(), I(), I(), P0)\n",
    "prob = np.trace(np.dot(proj, rho))\n",
    "print(np.round(prob, 3))\n",
    "proj = multi_kron(P1, I(), I(), I(), P1)\n",
    "prob = np.trace(np.dot(proj, rho))\n",
    "print(np.round(prob, 3))\n",
    "proj = multi_kron(P1, I(), I(), I(), P0)\n",
    "prob = np.trace(np.dot(proj, rho))\n",
    "print(np.round(prob, 3))"
   ]
  },
  {
   "cell_type": "code",
   "execution_count": 9,
   "id": "eb205498-8d1b-4a68-9e17-e082abbaf5f6",
   "metadata": {},
   "outputs": [
    {
     "data": {
      "text/plain": [
       "(0.740381092169176+1.0923814357674336e-18j)"
      ]
     },
     "execution_count": 9,
     "metadata": {},
     "output_type": "execute_result"
    }
   ],
   "source": [
    "prob0 = np.trace(np.dot(multi_kron(I(), I(), I(), I(), P1), rho))\n",
    "prob0"
   ]
  },
  {
   "cell_type": "code",
   "execution_count": null,
   "id": "0e80c1b9-38d0-4677-873f-146459d9785b",
   "metadata": {},
   "outputs": [],
   "source": []
  }
 ],
 "metadata": {
  "kernelspec": {
   "display_name": "Python 3 (ipykernel)",
   "language": "python",
   "name": "python3"
  },
  "language_info": {
   "codemirror_mode": {
    "name": "ipython",
    "version": 3
   },
   "file_extension": ".py",
   "mimetype": "text/x-python",
   "name": "python",
   "nbconvert_exporter": "python",
   "pygments_lexer": "ipython3",
   "version": "3.10.9"
  }
 },
 "nbformat": 4,
 "nbformat_minor": 5
}
